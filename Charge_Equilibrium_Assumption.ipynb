{
 "cells": [
  {
   "cell_type": "code",
   "execution_count": 116,
   "metadata": {
    "collapsed": false
   },
   "outputs": [
    {
     "name": "stdout",
     "output_type": "stream",
     "text": [
      "Loading the charge distribution for 500 and 1000 Angstrom grains\n"
     ]
    }
   ],
   "source": [
    "import pickle\n",
    "import numpy as np\n",
    "import matplotlib.pyplot as plt\n",
    "from   matplotlib.colors import LogNorm\n",
    "\n",
    "import compute_charge_dist as fz\n",
    "\n",
    "from scipy.optimize import curve_fit\n",
    "\n",
    "import time\n",
    "\n",
    "%matplotlib inline\n",
    "\n",
    "\n",
    "#grain_type = \"silicate\"\n",
    "grain_type = \"carbonaceous\"\n",
    "pcent      = 1\n",
    "\n",
    "include_500_1000 = True\n",
    "\n",
    "########################################################################################\n",
    "\n",
    "grain_size = 3\n",
    "\n",
    "save_dir = \"/home/jcibanezm/Dropbox/codes/run/ChargeStatisticsAnalysis/Daikaiju\"\n",
    "filename = \"fz_%.4iAA_%s_CR_True_%i_pcent.pkl\"%(grain_size, grain_type, pcent) \n",
    "\n",
    "pkl_file    = open(\"%s/%s\"%(save_dir, filename), \"rb\")\n",
    "cdist_3AA = pickle.load(pkl_file)\n",
    "pkl_file.close\n",
    "\n",
    "########################################################################################\n",
    "\n",
    "grain_size = 5\n",
    "\n",
    "save_dir = \"/home/jcibanezm/Dropbox/codes/run/ChargeStatisticsAnalysis/Daikaiju\"\n",
    "filename = \"fz_%.4iAA_%s_CR_True_%i_pcent.pkl\"%(grain_size, grain_type, pcent) \n",
    "\n",
    "pkl_file    = open(\"%s/%s\"%(save_dir, filename), \"rb\")\n",
    "cdist_5AA = pickle.load(pkl_file)\n",
    "pkl_file.close\n",
    "\n",
    "########################################################################################\n",
    "\n",
    "grain_size = 10\n",
    "\n",
    "save_dir = \"/home/jcibanezm/Dropbox/codes/run/ChargeStatisticsAnalysis/Daikaiju\"\n",
    "filename = \"fz_%.4iAA_%s_CR_True_%i_pcent.pkl\"%(grain_size, grain_type, pcent) \n",
    "\n",
    "pkl_file    = open(\"%s/%s\"%(save_dir, filename), \"rb\")\n",
    "cdist_10AA = pickle.load(pkl_file)\n",
    "pkl_file.close\n",
    "\n",
    "########################################################################################\n",
    "\n",
    "grain_size = 50\n",
    "\n",
    "save_dir = \"/home/jcibanezm/Dropbox/codes/run/ChargeStatisticsAnalysis/Daikaiju\"\n",
    "filename = \"fz_%.4iAA_%s_CR_True_%i_pcent.pkl\"%(grain_size, grain_type, pcent) \n",
    "\n",
    "pkl_file    = open(\"%s/%s\"%(save_dir, filename), \"rb\")\n",
    "cdist_50AA = pickle.load(pkl_file)\n",
    "pkl_file.close\n",
    "\n",
    "########################################################################################\n",
    "\n",
    "grain_size = 100\n",
    "\n",
    "save_dir = \"/home/jcibanezm/Dropbox/codes/run/ChargeStatisticsAnalysis/Daikaiju\"\n",
    "filename = \"fz_%.4iAA_%s_CR_True_%i_pcent.pkl\"%(grain_size, grain_type, pcent) \n",
    "\n",
    "pkl_file    = open(\"%s/%s\"%(save_dir, filename), \"rb\")\n",
    "cdist_100AA = pickle.load(pkl_file)\n",
    "pkl_file.close\n",
    "\n",
    "########################################################################################\n",
    "\n",
    "if include_500_1000 == True:\n",
    "    print(\"Loading the charge distribution for 500 and 1000 Angstrom grains\")\n",
    "    grain_size = 500\n",
    "    pcent      = 0.1\n",
    "\n",
    "    save_dir = \"/home/jcibanezm/Dropbox/codes/run/ChargeStatisticsAnalysis/Daikaiju\"\n",
    "    filename = \"fz_%.4iAA_%s_CR_True_%i_pcent.pkl\"%(grain_size, grain_type, pcent) \n",
    "\n",
    "    pkl_file    = open(\"%s/%s\"%(save_dir, filename), \"rb\")\n",
    "    cdist_500AA = pickle.load(pkl_file)\n",
    "    pkl_file.close\n",
    "\n",
    "    ########################################################################################\n",
    "\n",
    "    grain_size = 1000\n",
    "\n",
    "    save_dir = \"/home/jcibanezm/Dropbox/codes/run/ChargeStatisticsAnalysis/Daikaiju\"\n",
    "    filename = \"fz_%.4iAA_%s_CR_True_%i_pcent.pkl\"%(grain_size, grain_type, pcent) \n",
    "\n",
    "    pkl_file    = open(\"%s/%s\"%(save_dir, filename), \"rb\")\n",
    "    cdist_1000AA = pickle.load(pkl_file)\n",
    "    pkl_file.close\n"
   ]
  },
  {
   "cell_type": "code",
   "execution_count": 117,
   "metadata": {
    "collapsed": false
   },
   "outputs": [
    {
     "name": "stderr",
     "output_type": "stream",
     "text": [
      "yt : [INFO     ] 2018-11-08 16:05:53,535 Particle file found: NL99_R8_cf_hdf5_chk_0028\n",
      "yt : [INFO     ] 2018-11-08 16:05:53,541 integer runtime parameter checkpointfilenumber overwrites a simulation scalar of the same name\n",
      "yt : [INFO     ] 2018-11-08 16:05:53,542 integer runtime parameter forcedplotfilenumber overwrites a simulation scalar of the same name\n",
      "yt : [INFO     ] 2018-11-08 16:05:53,543 integer runtime parameter nbegin overwrites a simulation scalar of the same name\n",
      "yt : [INFO     ] 2018-11-08 16:05:53,543 integer runtime parameter plotfilenumber overwrites a simulation scalar of the same name\n",
      "yt : [INFO     ] 2018-11-08 16:05:53,560 Parameters: current_time              = 5.68049127342e+14\n",
      "yt : [INFO     ] 2018-11-08 16:05:53,561 Parameters: domain_dimensions         = [32  8  8]\n",
      "yt : [INFO     ] 2018-11-08 16:05:53,562 Parameters: domain_left_edge          = [ -1.97478400e+20  -4.93696000e+19  -4.93696000e+19]\n",
      "yt : [INFO     ] 2018-11-08 16:05:53,563 Parameters: domain_right_edge         = [  1.97478400e+20   4.93696000e+19   4.93696000e+19]\n",
      "yt : [INFO     ] 2018-11-08 16:05:53,564 Parameters: cosmological_simulation   = 0.0\n"
     ]
    }
   ],
   "source": [
    "import yt\n",
    "\n",
    "# Input variables.\n",
    "data_dir   = \"/home/jcibanezm/codes/run/Silcc/CF_Prabesh\"\n",
    "filename   = data_dir + \"/NL99_R8_cf_hdf5_chk_0028\"\n",
    "\n",
    "pf = yt.load(\"%s\"%(filename))\n",
    "\n",
    "c  = [0,0,0]\n",
    "le = [-4.93696000e+19, -4.93696000e+19, -4.93696000e+19]\n",
    "re = [ 4.93696000e+19,  4.93696000e+19,  4.93696000e+19]\n",
    "\n",
    "box = pf.box(le, re)"
   ]
  },
  {
   "cell_type": "code",
   "execution_count": 118,
   "metadata": {
    "collapsed": false
   },
   "outputs": [],
   "source": [
    "np.random.seed(1)\n",
    "#np.random.seed(2)\n",
    "\n",
    "ncells = len(box[\"dens\"])\n",
    "n5     = np.int(ncells * 0.01)\n",
    "#n5 = int(1.0e3)\n",
    "rand_index = np.random.randint(0, ncells, n5)"
   ]
  },
  {
   "cell_type": "code",
   "execution_count": 119,
   "metadata": {
    "collapsed": false
   },
   "outputs": [
    {
     "name": "stdout",
     "output_type": "stream",
     "text": [
      "85949\n"
     ]
    }
   ],
   "source": [
    "print(n5)"
   ]
  },
  {
   "cell_type": "code",
   "execution_count": 120,
   "metadata": {
    "collapsed": false
   },
   "outputs": [
    {
     "name": "stdout",
     "output_type": "stream",
     "text": [
      "85943\n"
     ]
    }
   ],
   "source": [
    "print(len(cdist_5AA[\"nH\"]))"
   ]
  },
  {
   "cell_type": "code",
   "execution_count": 121,
   "metadata": {
    "collapsed": true
   },
   "outputs": [],
   "source": [
    "to_del = []\n",
    "for i in range(6):\n",
    "    to_del.append(n5 - (i+1))\n",
    "to_del = np.array(to_del)\n",
    "\n",
    "rand_index = np.delete(rand_index, to_del)"
   ]
  },
  {
   "cell_type": "code",
   "execution_count": 122,
   "metadata": {
    "collapsed": true
   },
   "outputs": [],
   "source": [
    "cfl_time  = np.array(box[\"courant_time_step\"][rand_index])"
   ]
  },
  {
   "cell_type": "code",
   "execution_count": 123,
   "metadata": {
    "collapsed": true
   },
   "outputs": [],
   "source": [
    "n1     = np.int(ncells * 0.001)"
   ]
  },
  {
   "cell_type": "code",
   "execution_count": 124,
   "metadata": {
    "collapsed": false
   },
   "outputs": [
    {
     "name": "stdout",
     "output_type": "stream",
     "text": [
      "8594\n"
     ]
    }
   ],
   "source": [
    "print(n1)"
   ]
  },
  {
   "cell_type": "code",
   "execution_count": 125,
   "metadata": {
    "collapsed": false
   },
   "outputs": [
    {
     "name": "stdout",
     "output_type": "stream",
     "text": [
      "8591\n",
      "8579\n"
     ]
    }
   ],
   "source": [
    "print(len(cdist_500AA[\"nH\"]))\n",
    "print(len(cdist_1000AA[\"nH\"]))"
   ]
  },
  {
   "cell_type": "code",
   "execution_count": 126,
   "metadata": {
    "collapsed": true
   },
   "outputs": [],
   "source": [
    "# For the 500 and 1000 grain size.\n",
    "\n",
    "n1     = np.int(ncells * 0.001)\n",
    "rand_index1 = np.random.randint(0, ncells, n1)\n",
    "\n",
    "# For the 500 and 1000 grain sizes.\n",
    "to_del1 = []\n",
    "to_del2 = []\n",
    "if grain_type == \"carbonaceous\": delnum = 14\n",
    "if grain_type == \"silicate\": delnum1, delnum2 = 3, 15\n",
    "for i in range(delnum1):\n",
    "    to_del1.append(n1 - (i+1))\n",
    "to_del1 = np.array(to_del1)\n",
    "for i in range(delnum2):\n",
    "    to_del2.append(n1 - (i+1))\n",
    "to_del2 = np.array(to_del2)\n",
    "\n",
    "rand_index500 = np.delete(rand_index1, to_del1)\n",
    "rand_index1000 = np.delete(rand_index1, to_del2)"
   ]
  },
  {
   "cell_type": "code",
   "execution_count": 127,
   "metadata": {
    "collapsed": true
   },
   "outputs": [],
   "source": [
    "cfl_time_500   = np.array(box[\"courant_time_step\"][rand_index500])\n",
    "cfl_time_1000  = np.array(box[\"courant_time_step\"][rand_index1000])"
   ]
  },
  {
   "cell_type": "code",
   "execution_count": 128,
   "metadata": {
    "collapsed": false
   },
   "outputs": [],
   "source": [
    "if grain_type == \"carbonaceous\":\n",
    "    ii = 0\n",
    "    for key in cdist_1000AA.keys():\n",
    "        #arrs.append(0)\n",
    "        if key!=\"Qabs_mean\" and key!=\"grain_size\" and key!=\"grain_type\" and key!=\"MPI\" and key!=\"fdist\" and key!=\"info\" and key!=\"zminmax\" and key!=\"ZZ\":\n",
    "            #print(key)\n",
    "            cdist_1000AA[key] = np.delete(cdist_1000AA[key], [8581, 8580])\n",
    "        #ii +=1"
   ]
  },
  {
   "cell_type": "code",
   "execution_count": 129,
   "metadata": {
    "collapsed": false
   },
   "outputs": [],
   "source": [
    "tauz_dyntime_3AA   = cdist_3AA[\"tauz\"]/cfl_time\n",
    "tauz_dyntime_5AA   = cdist_5AA[\"tauz\"]/cfl_time\n",
    "tauz_dyntime_10AA  = cdist_10AA[\"tauz\"]/cfl_time\n",
    "tauz_dyntime_50AA  = cdist_50AA[\"tauz\"]/cfl_time\n",
    "tauz_dyntime_100AA = cdist_100AA[\"tauz\"]/cfl_time\n",
    "if include_500_1000 == True:\n",
    "    tauz_dyntime_500AA  = cdist_500AA[\"tauz\"]/cfl_time_500\n",
    "    tauz_dyntime_1000AA = cdist_1000AA[\"tauz\"]/cfl_time_1000"
   ]
  },
  {
   "cell_type": "code",
   "execution_count": 130,
   "metadata": {
    "collapsed": true
   },
   "outputs": [],
   "source": [
    "if include_500_1000 == True:\n",
    "    size = np.concatenate((np.zeros_like(rand_index)+3.5, np.zeros_like(rand_index)+5, np.zeros_like(rand_index)+10, np.zeros_like(rand_index)+50, np.zeros_like(rand_index)+100, np.zeros_like(rand_index500)+500, np.zeros_like(rand_index1000)+1000))\n",
    "    tt = np.concatenate((tauz_dyntime_3AA, tauz_dyntime_5AA, tauz_dyntime_10AA,  tauz_dyntime_50AA,  tauz_dyntime_100AA, tauz_dyntime_500AA, tauz_dyntime_1000AA))\n",
    "else:\n",
    "    size = np.concatenate((np.zeros_like(rand_index)+3.5, np.zeros_like(rand_index)+5, np.zeros_like(rand_index)+10, np.zeros_like(rand_index)+50, np.zeros_like(rand_index)+100))\n",
    "    tt = np.concatenate((tauz_dyntime_3AA, tauz_dyntime_5AA, tauz_dyntime_10AA,  tauz_dyntime_50AA,  tauz_dyntime_100AA))\n"
   ]
  },
  {
   "cell_type": "code",
   "execution_count": 131,
   "metadata": {
    "collapsed": false
   },
   "outputs": [],
   "source": [
    "import pandas as pd\n",
    "import seaborn as sns"
   ]
  },
  {
   "cell_type": "code",
   "execution_count": 132,
   "metadata": {
    "collapsed": false
   },
   "outputs": [],
   "source": [
    "df = pd.DataFrame({\"size\":size, \"timescale\":tt, \"log_timescale\":np.log10(tt)})"
   ]
  },
  {
   "cell_type": "code",
   "execution_count": 133,
   "metadata": {
    "collapsed": false
   },
   "outputs": [
    {
     "name": "stdout",
     "output_type": "stream",
     "text": [
      "[u'seaborn-darkgrid', u'seaborn-notebook', u'classic', u'seaborn-ticks', u'grayscale', u'bmh', u'seaborn-talk', u'dark_background', u'ggplot', u'fivethirtyeight', u'seaborn-colorblind', u'seaborn-deep', u'seaborn-whitegrid', u'seaborn-bright', u'seaborn-poster', u'seaborn-muted', u'seaborn-paper', u'seaborn-white', u'seaborn-pastel', u'seaborn-dark', u'seaborn-dark-palette']\n"
     ]
    }
   ],
   "source": [
    "print(plt.style.available)"
   ]
  },
  {
   "cell_type": "code",
   "execution_count": 134,
   "metadata": {
    "collapsed": false
   },
   "outputs": [
    {
     "data": {
      "image/png": "[encoded data removed]",
      "text/plain": [
       "<matplotlib.figure.Figure at 0x7fc011069b90>"
      ]
     },
     "metadata": {},
     "output_type": "display_data"
    }
   ],
   "source": [
    "#plt.style.use('seaborn-notebook')\n",
    "#sns.reset_orig()\n",
    "#sns.reset_defaults()\n",
    "fig = plt.figure(figsize=(10,8))\n",
    "\n",
    "#ax = fig.add_subplot(111)\n",
    "\n",
    "# Formatting tick labels in log scale.\n",
    "def format_func(value, tick_number):\n",
    "    return \"10$^{%i}$\"%value\n",
    "\n",
    "def format_func2(value, tick_number):\n",
    "    sizehere = [\"3.5\", \"5\", \"10\", \"50\", \"100\", \"500\", \"1000\"]\n",
    "    return \"$%s$\"%sizehere[value]\n",
    "\n",
    "#ax = fig.add_axes([0.13, 0.11, 0.86, 0.84])\n",
    "ax = fig.add_axes([0.13, 0.11, 0.86, 0.84], axisbg='white')\n",
    "\n",
    "#sns.set_style(\"whitegrid\")\n",
    "sns.violinplot(ax=ax, x=\"size\", y=\"log_timescale\", data=df, palette=sns.color_palette(\"Set2\"), saturation=1.0, linewidth=1.5)\n",
    "\n",
    "ax.set_ylabel(\"$\\\\tau_{f_{Z}} / t_{\\mathrm{cfl}}$\", fontsize=25)\n",
    "ax.set_xlabel(\"Size [$\\AA$]\", fontsize=25)\n",
    "\n",
    "ax.tick_params(axis='both', which='major', labelsize=20)\n",
    "ax.tick_params(axis='both', which='minor', labelsize=20)\n",
    "\n",
    "ax.grid(\"on\", which=\"major\", axis=\"y\", color=\"black\")\n",
    "\n",
    "ax.yaxis.set_major_formatter(plt.FuncFormatter(format_func))\n",
    "ax.xaxis.set_major_formatter(plt.FuncFormatter(format_func2))\n",
    "\n",
    "\n",
    "fig.show()\n",
    "\n",
    "fig.savefig(\"/home/jcibanezm/Dropbox/Projects/Papers/In_Progress/ChargeDist_Dust/Figures/Charge_eq_%s.pdf\"%grain_type, format=\"pdf\", transparent=True)"
   ]
  },
  {
   "cell_type": "code",
   "execution_count": 41,
   "metadata": {
    "collapsed": false
   },
   "outputs": [
    {
     "name": "stdout",
     "output_type": "stream",
     "text": [
      "------------------------\n",
      "('3.5', 4.8841305215000791e-05)\n",
      "('5', 2.8671579610466211e-05)\n",
      "('10', 9.2234307198469735e-06)\n",
      "('50', 5.5427497954143977e-07)\n",
      "('100', 2.3226811814508386e-07)\n",
      "('500', 4.8540246765728149e-08)\n",
      "('1000', 2.6561403405938609e-08)\n"
     ]
    }
   ],
   "source": [
    "print(\"------------------------\")\n",
    "print(\"3.5\", np.median(tauz_dyntime_3AA))\n",
    "print(\"5\", np.median(tauz_dyntime_5AA))\n",
    "print(\"10\", np.median(tauz_dyntime_10AA))\n",
    "print(\"50\", np.median(tauz_dyntime_50AA))\n",
    "print(\"100\", np.median(tauz_dyntime_100AA))\n",
    "if include_500_1000:\n",
    "    print(\"500\", np.median(tauz_dyntime_500AA))\n",
    "    print(\"1000\", np.median(tauz_dyntime_1000AA))"
   ]
  },
  {
   "cell_type": "code",
   "execution_count": 42,
   "metadata": {
    "collapsed": false
   },
   "outputs": [
    {
     "data": {
      "text/plain": [
       "0.00020898732560799811"
      ]
     },
     "execution_count": 42,
     "metadata": {},
     "output_type": "execute_result"
    }
   ],
   "source": [
    "np.percentile(tauz_dyntime_3AA, 95)"
   ]
  },
  {
   "cell_type": "code",
   "execution_count": null,
   "metadata": {
    "collapsed": true
   },
   "outputs": [],
   "source": []
  }
 ],
 "metadata": {
  "anaconda-cloud": {},
  "kernelspec": {
   "display_name": "Python [conda root]",
   "language": "python",
   "name": "conda-root-py"
  },
  "language_info": {
   "codemirror_mode": {
    "name": "ipython",
    "version": 2
   },
   "file_extension": ".py",
   "mimetype": "text/x-python",
   "name": "python",
   "nbconvert_exporter": "python",
   "pygments_lexer": "ipython2",
   "version": "2.7.15"
  }
 },
 "nbformat": 4,
 "nbformat_minor": 2
}
