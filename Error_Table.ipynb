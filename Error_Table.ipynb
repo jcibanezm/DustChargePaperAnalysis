{
 "cells": [
  {
   "cell_type": "code",
   "execution_count": 26,
   "metadata": {},
   "outputs": [
    {
     "name": "stdout",
     "output_type": "stream",
     "text": [
      "Loading the charge distribution for 500 and 1000 Angstrom grains\n"
     ]
    }
   ],
   "source": [
    "import pickle\n",
    "import numpy as np\n",
    "import matplotlib.pyplot as plt\n",
    "from   matplotlib.colors import LogNorm\n",
    "\n",
    "import compute_charge_dist as fz\n",
    "\n",
    "from scipy.optimize import curve_fit\n",
    "\n",
    "import time\n",
    "\n",
    "%matplotlib inline\n",
    "\n",
    "\n",
    "grain_type = \"silicate\"\n",
    "#grain_type = \"carbonaceous\"\n",
    "pcent      = 1\n",
    "\n",
    "include_500_1000 = True\n",
    "\n",
    "########################################################################################\n",
    "\n",
    "grain_size = 3\n",
    "\n",
    "save_dir = \"/home/jcibanezm/Dropbox/codes/run/ChargeStatisticsAnalysis/Daikaiju\"\n",
    "filename = \"fz_%.4iAA_%s_CR_True_%i_pcent.pkl\"%(grain_size, grain_type, pcent) \n",
    "\n",
    "pkl_file    = open(\"%s/%s\"%(save_dir, filename), \"rb\")\n",
    "cdist_3AA = pickle.load(pkl_file)\n",
    "pkl_file.close\n",
    "\n",
    "########################################################################################\n",
    "\n",
    "grain_size = 5\n",
    "\n",
    "save_dir = \"/home/jcibanezm/Dropbox/codes/run/ChargeStatisticsAnalysis/Daikaiju\"\n",
    "filename = \"fz_%.4iAA_%s_CR_True_%i_pcent.pkl\"%(grain_size, grain_type, pcent) \n",
    "\n",
    "pkl_file    = open(\"%s/%s\"%(save_dir, filename), \"rb\")\n",
    "cdist_5AA = pickle.load(pkl_file)\n",
    "pkl_file.close\n",
    "\n",
    "########################################################################################\n",
    "\n",
    "grain_size = 10\n",
    "\n",
    "save_dir = \"/home/jcibanezm/Dropbox/codes/run/ChargeStatisticsAnalysis/Daikaiju\"\n",
    "filename = \"fz_%.4iAA_%s_CR_True_%i_pcent.pkl\"%(grain_size, grain_type, pcent) \n",
    "\n",
    "pkl_file    = open(\"%s/%s\"%(save_dir, filename), \"rb\")\n",
    "cdist_10AA = pickle.load(pkl_file)\n",
    "pkl_file.close\n",
    "\n",
    "########################################################################################\n",
    "\n",
    "grain_size = 50\n",
    "\n",
    "save_dir = \"/home/jcibanezm/Dropbox/codes/run/ChargeStatisticsAnalysis/Daikaiju\"\n",
    "filename = \"fz_%.4iAA_%s_CR_True_%i_pcent.pkl\"%(grain_size, grain_type, pcent) \n",
    "\n",
    "pkl_file    = open(\"%s/%s\"%(save_dir, filename), \"rb\")\n",
    "cdist_50AA = pickle.load(pkl_file)\n",
    "pkl_file.close\n",
    "\n",
    "########################################################################################\n",
    "\n",
    "grain_size = 100\n",
    "\n",
    "save_dir = \"/home/jcibanezm/Dropbox/codes/run/ChargeStatisticsAnalysis/Daikaiju\"\n",
    "filename = \"fz_%.4iAA_%s_CR_True_%i_pcent.pkl\"%(grain_size, grain_type, pcent) \n",
    "\n",
    "pkl_file    = open(\"%s/%s\"%(save_dir, filename), \"rb\")\n",
    "cdist_100AA = pickle.load(pkl_file)\n",
    "pkl_file.close\n",
    "\n",
    "########################################################################################\n",
    "\n",
    "if include_500_1000 == True:\n",
    "    print(\"Loading the charge distribution for 500 and 1000 Angstrom grains\")\n",
    "    grain_size = 500\n",
    "    pcent      = 0.1\n",
    "\n",
    "    save_dir = \"/home/jcibanezm/Dropbox/codes/run/ChargeStatisticsAnalysis/Daikaiju\"\n",
    "    filename = \"fz_%.4iAA_%s_CR_True_%i_pcent.pkl\"%(grain_size, grain_type, pcent) \n",
    "\n",
    "    pkl_file    = open(\"%s/%s\"%(save_dir, filename), \"rb\")\n",
    "    cdist_500AA = pickle.load(pkl_file)\n",
    "    pkl_file.close\n",
    "\n",
    "    ########################################################################################\n",
    "\n",
    "    grain_size = 1000\n",
    "\n",
    "    save_dir = \"/home/jcibanezm/Dropbox/codes/run/ChargeStatisticsAnalysis/Daikaiju\"\n",
    "    filename = \"fz_%.4iAA_%s_CR_True_%i_pcent.pkl\"%(grain_size, grain_type, pcent) \n",
    "\n",
    "    pkl_file    = open(\"%s/%s\"%(save_dir, filename), \"rb\")\n",
    "    cdist_1000AA = pickle.load(pkl_file)\n",
    "    pkl_file.close\n"
   ]
  },
  {
   "cell_type": "code",
   "execution_count": 27,
   "metadata": {
    "collapsed": true
   },
   "outputs": [],
   "source": [
    "too_high = np.where(cdist_3AA[\"nH\"] > 2.0e4)\n",
    "if include_500_1000 == True:\n",
    "    too_high_500 = np.where(cdist_500AA[\"nH\"] > 2.0e4)\n",
    "    too_high_1000 = np.where(cdist_1000AA[\"nH\"] > 2.0e4)\n",
    "    \n",
    "ii = 0\n",
    "for key in cdist_3AA.keys():\n",
    "    #arrs.append(0)\n",
    "    if key!=\"Qabs_mean\" and key!=\"grain_size\" and key!=\"grain_type\" and key!=\"MPI\" and key!=\"fdist\" and key!=\"info\" and key!=\"zminmax\" and key!=\"ZZ\":\n",
    "        #print(key)\n",
    "        cdist_3AA[key]    = np.delete(cdist_3AA[key],    too_high)\n",
    "        cdist_5AA[key]    = np.delete(cdist_5AA[key],    too_high)\n",
    "        cdist_10AA[key]   = np.delete(cdist_10AA[key],   too_high)\n",
    "        cdist_50AA[key]   = np.delete(cdist_50AA[key],   too_high)\n",
    "        cdist_100AA[key]  = np.delete(cdist_100AA[key],  too_high)\n",
    "        if include_500_1000 == True:\n",
    "            cdist_500AA[key]  = np.delete(cdist_500AA[key],  too_high_500)\n",
    "            cdist_1000AA[key] = np.delete(cdist_1000AA[key], too_high_1000)\n",
    "    #ii +=1"
   ]
  },
  {
   "cell_type": "code",
   "execution_count": 28,
   "metadata": {
    "collapsed": true
   },
   "outputs": [],
   "source": [
    "GTn_3AA    = (cdist_3AA[\"G\"]  +cdist_3AA[\"G_CR\"])  * np.sqrt(cdist_3AA[\"temp\"])   / cdist_3AA[\"new_ne\"] \n",
    "GTn_5AA    = (cdist_5AA[\"G\"]  +cdist_5AA[\"G_CR\"])  * np.sqrt(cdist_5AA[\"temp\"])   / cdist_5AA[\"new_ne\"] \n",
    "GTn_10AA   = (cdist_10AA[\"G\"] +cdist_10AA[\"G_CR\"]) * np.sqrt(cdist_10AA[\"temp\"])  / cdist_10AA[\"new_ne\"] \n",
    "GTn_50AA   = (cdist_50AA[\"G\"] +cdist_50AA[\"G_CR\"]) * np.sqrt(cdist_50AA[\"temp\"])  / cdist_50AA[\"new_ne\"] \n",
    "GTn_100AA  = (cdist_100AA[\"G\"]+cdist_100AA[\"G_CR\"])* np.sqrt(cdist_100AA[\"temp\"]) / cdist_100AA[\"new_ne\"] \n",
    "\n",
    "if include_500_1000 == True:\n",
    "    GTn_500AA  = (cdist_500AA[\"G\"] +cdist_500AA[\"G_CR\"])  * np.sqrt(cdist_500AA[\"temp\"])  / cdist_500AA[\"new_ne\"] \n",
    "    GTn_1000AA = (cdist_1000AA[\"G\"]+cdist_1000AA[\"G_CR\"]) * np.sqrt(cdist_1000AA[\"temp\"]) / cdist_1000AA[\"new_ne\"] "
   ]
  },
  {
   "cell_type": "code",
   "execution_count": 29,
   "metadata": {
    "collapsed": true
   },
   "outputs": [],
   "source": [
    "# New function like a press schechter like, combining a power law and an exponential growth.\n",
    "\n",
    "# New function including powers between -3, 3\n",
    "# def function(x,alpha1, beta1, gamma1, alpha2, beta2, gamma2):\n",
    "def function(x, alpha, aa, bb, hh):\n",
    "\n",
    "    Zcent = aa * (x[:])**alpha * (1.0 - np.exp(-x[:]/hh)) + bb\n",
    "    \n",
    "    return Zcent"
   ]
  },
  {
   "cell_type": "code",
   "execution_count": 54,
   "metadata": {},
   "outputs": [],
   "source": [
    "Zparam_3AA   = function(GTn_3AA, 0.3263, 0.0149, -0.1212, 57. )\n",
    "Zparam_5AA   = function(GTn_5AA, 0.3141, 0.0372, -0.3043, 86.)\n",
    "Zparam_10AA  = function(GTn_10AA, 0.3535, 0.0494, -0.4865, 73.)\n",
    "Zparam_50AA  = function(GTn_50AA, 0.5220, 0.0713, -0.6221, 12.8305)\n",
    "#Zparam_50AA  = function(GTn_50AA, 0.4820, 0.0913, -0.6221, 10.8305)\n",
    "#Zparam_100AA = function(GTn_100AA, 0.3525, 0.6591, -0.1649, 384.)\n",
    "Zparam_100AA = function(GTn_100AA, 2.88641830e-01,   1.24494490e+00,  -1.34919127e-01,   6.56732059e+02)\n",
    "\n",
    "Zparam_500AA  = function(GTn_500AA, 0.3643, 2.6283, 0.5217, 345.)\n",
    "Zparam_1000AA = function(GTn_1000AA, 0.3927, 3.6493, 0.8389, 372.)"
   ]
  },
  {
   "cell_type": "code",
   "execution_count": 42,
   "metadata": {
    "collapsed": true
   },
   "outputs": [],
   "source": [
    "Zparam_3AA   = function(GTn_3AA, 0.3265, 0.0149, -0.1212, 56.9630)\n",
    "Zparam_5AA   = function(GTn_5AA, 0.3141, 0.0372, -0.3043, 85.6275)\n",
    "Zparam_10AA  = function(GTn_10AA, 0.3535, 0.0494, -0.4865, 72.7797 )\n",
    "Zparam_50AA  = function(GTn_50AA, 0.5220, 0.0713, -0.6221, 12.8305)\n",
    "Zparam_100AA = function(GTn_100AA, 0.3682, 0.5717, -0.4038, 290.1160)\n",
    "Zparam_500AA  = function(GTn_500AA, 0.3672, 2.5551, -0.1326, 301.3965)\n",
    "Zparam_1000AA = function(GTn_1000AA, 0.3965, 3.5180, -0.0333, 331.4851)"
   ]
  },
  {
   "cell_type": "code",
   "execution_count": 58,
   "metadata": {
    "collapsed": true
   },
   "outputs": [],
   "source": [
    "# GTn small = 1\n",
    "Zparam_3AA   = function(GTn_3AA, 0.4100,0.0068, -0.0944, 108.6085)\n",
    "Zparam_5AA   = function(GTn_5AA, 0.3698, 0.0215, -0.2475, 161.6249 )\n",
    "Zparam_10AA  = function(GTn_10AA,0.3751, 0.0391, -0.4352, 111.1735  )\n",
    "Zparam_50AA  = function(GTn_50AA, 0.5097, 0.0801, -0.6877, 5.9270 )\n",
    "Zparam_100AA = function(GTn_100AA, 0.3844, 0.5007, -0.5433, 234.8363 )\n",
    "Zparam_500AA  = function(GTn_500AA, 0.3699, 2.4956, -0.4780, 278.6272 )\n",
    "Zparam_1000AA = function(GTn_1000AA, 0.3989, 3.4420, -0.4416, 312.4704 )"
   ]
  },
  {
   "cell_type": "code",
   "execution_count": 62,
   "metadata": {},
   "outputs": [
    {
     "name": "stdout",
     "output_type": "stream",
     "text": [
      "                SILICATE \n",
      "===============================================\n",
      "Error\n",
      "size \t 25% \t 50% \t 75%  \n",
      "3.5 &\t 6.5 &\t 15.768693 &\t 27.579963 \\\n",
      "5.0 &\t 7.2 &\t 11.222284 &\t 19.185754 \\\n",
      "10.0 &\t 1.8 &\t 5.098720 &\t 10.453573 \\\n",
      "50.0 &\t 5.8 &\t 11.992466 &\t 17.007911 \\\n",
      "100.0 &\t 4.3 &\t 10.217937 &\t 48.153776 \\\n",
      "500.0 &\t 2.4 &\t 7.018643 &\t 28.763797 \\\n",
      "1000 &\t 2.4 &\t 7.145655 &\t 27.497203 \\\n"
     ]
    }
   ],
   "source": [
    "print(\"                SILICATE \")\n",
    "print(\"===============================================\")\n",
    "print(\"Error\")\n",
    "print(\"size \\t 25% \\t 50% \\t 75%  \")\n",
    "print(\"%.1f &\\t %.1f &\\t %f &\\t %f \\\\\"%(3.5, percentile_3AA[0], percentile_3AA[1], percentile_3AA[2]))\n",
    "print(\"%.1f &\\t %.1f &\\t %f &\\t %f \\\\\"%(5,percentile_5AA[0], percentile_5AA[1], percentile_5AA[2]))\n",
    "print(\"%.1f &\\t %.1f &\\t %f &\\t %f \\\\\"%(10,percentile_10AA[0], percentile_10AA[1], percentile_10AA[2]))\n",
    "print(\"%.1f &\\t %.1f &\\t %f &\\t %f \\\\\"%(50,percentile_50AA[0], percentile_50AA[1], percentile_50AA[2]))\n",
    "print(\"%.1f &\\t %.1f &\\t %f &\\t %f \\\\\"%(100,percentile_100AA[0], percentile_100AA[1], percentile_100AA[2]))\n",
    "print(\"%.1f &\\t %.1f &\\t %f &\\t %f \\\\\"%(500,percentile_500AA[0], percentile_500AA[1], percentile_500AA[2]))\n",
    "print(\"%.0f &\\t %.1f &\\t %f &\\t %f \\\\\"%(1000, percentile_1000AA[0], percentile_1000AA[1], percentile_1000AA[2]))"
   ]
  },
  {
   "cell_type": "code",
   "execution_count": 63,
   "metadata": {
    "collapsed": true
   },
   "outputs": [],
   "source": [
    "# GTn small = 10\n",
    "Zparam_3AA   = function(GTn_3AA, 0.3265, 0.0149, -0.1212, 56.9630 )\n",
    "Zparam_5AA   = function(GTn_5AA, 0.3141, 0.0372, -0.3043, 85.6275)\n",
    "Zparam_10AA  = function(GTn_10AA,0.3535, 0.0494, -0.4865, 72.7797 )\n",
    "Zparam_50AA  = function(GTn_50AA, 0.5220, 0.0713, -0.6221, 12.8305 )\n",
    "Zparam_100AA = function(GTn_100AA, 0.3682, 0.5717, -0.4038, 290.1160 )\n",
    "Zparam_500AA  = function(GTn_500AA, 0.3672, 2.5551, -0.1326, 301.3965 )\n",
    "Zparam_1000AA = function(GTn_1000AA, 0.3965, 3.5180, -0.0333, 331.4851 )"
   ]
  },
  {
   "cell_type": "code",
   "execution_count": 66,
   "metadata": {},
   "outputs": [
    {
     "name": "stdout",
     "output_type": "stream",
     "text": [
      "                SILICATE \n",
      "===============================================\n",
      "Error\n",
      "size \t 25% \t 50% \t 75%  \n",
      "3.5 &\t 5.4 &\t 13.088541 &\t 20.128156 \\\n",
      "5.0 &\t 2.4 &\t 4.411067 &\t 9.144792 \\\n",
      "10.0 &\t 1.3 &\t 3.878859 &\t 7.739508 \\\n",
      "50.0 &\t 6.0 &\t 13.174081 &\t 18.283164 \\\n",
      "100.0 &\t 3.9 &\t 9.147263 &\t 33.151210 \\\n",
      "500.0 &\t 2.1 &\t 6.383438 &\t 20.390748 \\\n",
      "1000 &\t 2.2 &\t 6.563527 &\t 18.525792 \\\n"
     ]
    }
   ],
   "source": [
    "print(\"                SILICATE \")\n",
    "print(\"===============================================\")\n",
    "print(\"Error\")\n",
    "print(\"size \\t 25% \\t 50% \\t 75%  \")\n",
    "print(\"%.1f &\\t %.1f &\\t %f &\\t %f \\\\\"%(3.5, percentile_3AA[0], percentile_3AA[1], percentile_3AA[2]))\n",
    "print(\"%.1f &\\t %.1f &\\t %f &\\t %f \\\\\"%(5,percentile_5AA[0], percentile_5AA[1], percentile_5AA[2]))\n",
    "print(\"%.1f &\\t %.1f &\\t %f &\\t %f \\\\\"%(10,percentile_10AA[0], percentile_10AA[1], percentile_10AA[2]))\n",
    "print(\"%.1f &\\t %.1f &\\t %f &\\t %f \\\\\"%(50,percentile_50AA[0], percentile_50AA[1], percentile_50AA[2]))\n",
    "print(\"%.1f &\\t %.1f &\\t %f &\\t %f \\\\\"%(100,percentile_100AA[0], percentile_100AA[1], percentile_100AA[2]))\n",
    "print(\"%.1f &\\t %.1f &\\t %f &\\t %f \\\\\"%(500,percentile_500AA[0], percentile_500AA[1], percentile_500AA[2]))\n",
    "print(\"%.0f &\\t %.1f &\\t %f &\\t %f \\\\\"%(1000, percentile_1000AA[0], percentile_1000AA[1], percentile_1000AA[2]))"
   ]
  },
  {
   "cell_type": "code",
   "execution_count": 67,
   "metadata": {
    "collapsed": true
   },
   "outputs": [],
   "source": [
    "# GTn small = =50\n",
    "Zparam_3AA   = function(GTn_3AA, 0.3263, 0.0149, -0.1212, 57.1367)\n",
    "Zparam_5AA   = function(GTn_5AA, 0.3141, 0.0372 , -0.3043, 85.6420  )\n",
    "Zparam_10AA  = function(GTn_10AA,0.3535, 0.0494, -0.4865, 72.7792 )\n",
    "Zparam_50AA  = function(GTn_50AA, 0.5115, 0.0717, -0.4106, 107.5547 )\n",
    "Zparam_100AA = function(GTn_100AA, 0.3525, 0.6591, -0.1649, 383.8483 )\n",
    "Zparam_500AA  = function(GTn_500AA, 0.3643, 2.6284, 0.5217, 344.8246 )\n",
    "Zparam_1000AA = function(GTn_1000AA,  0.3927, 3.6494, 0.8389, 372.4563)"
   ]
  },
  {
   "cell_type": "code",
   "execution_count": 70,
   "metadata": {},
   "outputs": [
    {
     "name": "stdout",
     "output_type": "stream",
     "text": [
      "                SILICATE \n",
      "===============================================\n",
      "Error\n",
      "size \t 25% \t 50% \t 75%  \n",
      "3.5 &\t 5.4 &\t 13.162389 &\t 20.048709 \\\n",
      "5.0 &\t 2.4 &\t 4.410871 &\t 9.144820 \\\n",
      "10.0 &\t 1.3 &\t 3.878859 &\t 7.739358 \\\n",
      "50.0 &\t 7.8 &\t 14.263777 &\t 21.677842 \\\n",
      "100.0 &\t 2.6 &\t 7.557571 &\t 32.809872 \\\n",
      "500.0 &\t 1.5 &\t 3.667941 &\t 9.425229 \\\n",
      "1000 &\t 1.5 &\t 4.063206 &\t 9.738040 \\\n"
     ]
    }
   ],
   "source": [
    "print(\"                SILICATE \")\n",
    "print(\"===============================================\")\n",
    "print(\"Error\")\n",
    "print(\"size \\t 25% \\t 50% \\t 75%  \")\n",
    "print(\"%.1f &\\t %.1f &\\t %f &\\t %f \\\\\"%(3.5, percentile_3AA[0], percentile_3AA[1], percentile_3AA[2]))\n",
    "print(\"%.1f &\\t %.1f &\\t %f &\\t %f \\\\\"%(5,percentile_5AA[0], percentile_5AA[1], percentile_5AA[2]))\n",
    "print(\"%.1f &\\t %.1f &\\t %f &\\t %f \\\\\"%(10,percentile_10AA[0], percentile_10AA[1], percentile_10AA[2]))\n",
    "print(\"%.1f &\\t %.1f &\\t %f &\\t %f \\\\\"%(50,percentile_50AA[0], percentile_50AA[1], percentile_50AA[2]))\n",
    "print(\"%.1f &\\t %.1f &\\t %f &\\t %f \\\\\"%(100,percentile_100AA[0], percentile_100AA[1], percentile_100AA[2]))\n",
    "print(\"%.1f &\\t %.1f &\\t %f &\\t %f \\\\\"%(500,percentile_500AA[0], percentile_500AA[1], percentile_500AA[2]))\n",
    "print(\"%.0f &\\t %.1f &\\t %f &\\t %f \\\\\"%(1000, percentile_1000AA[0], percentile_1000AA[1], percentile_1000AA[2]))"
   ]
  },
  {
   "cell_type": "code",
   "execution_count": 71,
   "metadata": {
    "collapsed": true
   },
   "outputs": [],
   "source": [
    "# no GTNsmall\n",
    "Zparam_3AA   = function(GTn_3AA, 0.3264, 0.0149, -0.1212, 57.0676 )\n",
    "Zparam_5AA   = function(GTn_5AA, 0.3141, 0.0372, -0.3043, 85.6226  )\n",
    "Zparam_10AA  = function(GTn_10AA,0.3535, 0.0494, -0.4865, 72.7794 )\n",
    "Zparam_50AA  = function(GTn_50AA, 0.4815, 0.1025, -0.8035, 0.0029)\n",
    "Zparam_100AA = function(GTn_100AA, 0.3527, 0.6577, -0.1703, 381.7488 )\n",
    "Zparam_500AA  = function(GTn_500AA, 0.3652, 2.6048, 0.2545, 327.0657  )\n",
    "Zparam_1000AA = function(GTn_1000AA, 0.3938, 3.6093, 0.5418, 358.4490 )"
   ]
  },
  {
   "cell_type": "code",
   "execution_count": 74,
   "metadata": {},
   "outputs": [
    {
     "name": "stdout",
     "output_type": "stream",
     "text": [
      "                SILICATE \n",
      "===============================================\n",
      "Error\n",
      "size \t 25% \t 50% \t 75%  \n",
      "3.5 &\t 5.4 &\t 13.127212 &\t 20.075687 \\\n",
      "5.0 &\t 2.4 &\t 4.410919 &\t 9.145244 \\\n",
      "10.0 &\t 1.3 &\t 3.878859 &\t 7.739418 \\\n",
      "50.0 &\t 5.8 &\t 11.678939 &\t 16.214881 \\\n",
      "100.0 &\t 2.6 &\t 7.587660 &\t 32.811236 \\\n",
      "500.0 &\t 1.6 &\t 4.470797 &\t 8.880890 \\\n",
      "1000 &\t 1.7 &\t 4.536687 &\t 9.244090 \\\n"
     ]
    }
   ],
   "source": [
    "print(\"                SILICATE \")\n",
    "print(\"===============================================\")\n",
    "print(\"Error\")\n",
    "print(\"size \\t 25% \\t 50% \\t 75%  \")\n",
    "print(\"%.1f &\\t %.1f &\\t %f &\\t %f \\\\\"%(3.5, percentile_3AA[0], percentile_3AA[1], percentile_3AA[2]))\n",
    "print(\"%.1f &\\t %.1f &\\t %f &\\t %f \\\\\"%(5,percentile_5AA[0], percentile_5AA[1], percentile_5AA[2]))\n",
    "print(\"%.1f &\\t %.1f &\\t %f &\\t %f \\\\\"%(10,percentile_10AA[0], percentile_10AA[1], percentile_10AA[2]))\n",
    "print(\"%.1f &\\t %.1f &\\t %f &\\t %f \\\\\"%(50,percentile_50AA[0], percentile_50AA[1], percentile_50AA[2]))\n",
    "print(\"%.1f &\\t %.1f &\\t %f &\\t %f \\\\\"%(100,percentile_100AA[0], percentile_100AA[1], percentile_100AA[2]))\n",
    "print(\"%.1f &\\t %.1f &\\t %f &\\t %f \\\\\"%(500,percentile_500AA[0], percentile_500AA[1], percentile_500AA[2]))\n",
    "print(\"%.0f &\\t %.1f &\\t %f &\\t %f \\\\\"%(1000, percentile_1000AA[0], percentile_1000AA[1], percentile_1000AA[2]))"
   ]
  },
  {
   "cell_type": "markdown",
   "metadata": {},
   "source": [
    "##### Final combination of parameters."
   ]
  },
  {
   "cell_type": "code",
   "execution_count": 103,
   "metadata": {
    "collapsed": true
   },
   "outputs": [],
   "source": [
    "# no GTNsmall\n",
    "Zparam_3AA   = function(GTn_3AA, 0.3265, 0.0149, -0.1212, 56.9630)\n",
    "Zparam_5AA   = function(GTn_5AA, 0.3141, 0.0372 , -0.3043, 85.6420)\n",
    "Zparam_10AA  = function(GTn_10AA,0.3535, 0.0494, -0.4865, 72.7797 ) \n",
    "Zparam_50AA  = function(GTn_50AA, 0.5115, 0.0717, -0.4106, 107.5547)\n",
    "Zparam_100AA = function(GTn_100AA, 0.3525, 0.6591, -0.1649, 383.8483)\n",
    "Zparam_500AA  = function(GTn_500AA, 0.3643, 2.6284, 0.5217, 344.8246)\n",
    "Zparam_1000AA = function(GTn_1000AA,  0.3927, 3.6494, 0.8389, 372.4563)"
   ]
  },
  {
   "cell_type": "code",
   "execution_count": 104,
   "metadata": {},
   "outputs": [],
   "source": [
    "rel_error_3AA    = abs(Zparam_3AA    - cdist_3AA[\"zmean\"])/abs(cdist_3AA[\"zmean\"])\n",
    "rel_error_5AA    = abs(Zparam_5AA    - cdist_5AA[\"zmean\"])/abs(cdist_5AA[\"zmean\"])\n",
    "rel_error_10AA   = abs(Zparam_10AA   - cdist_10AA[\"zmean\"])/abs(cdist_10AA[\"zmean\"])\n",
    "rel_error_50AA   = abs(Zparam_50AA   - cdist_50AA[\"zmean\"])/abs(cdist_50AA[\"zmean\"])\n",
    "rel_error_100AA  = abs(Zparam_100AA  - cdist_100AA[\"zmean\"])/abs(cdist_100AA[\"zmean\"])\n",
    "rel_error_500AA  = abs(Zparam_500AA  - cdist_500AA[\"zmean\"])/abs(cdist_500AA[\"zmean\"])\n",
    "rel_error_1000AA = abs(Zparam_1000AA - cdist_1000AA[\"zmean\"])/abs(cdist_1000AA[\"zmean\"])"
   ]
  },
  {
   "cell_type": "code",
   "execution_count": 105,
   "metadata": {},
   "outputs": [],
   "source": [
    "percentile_3AA = np.percentile(rel_error_3AA, [25, 50, 75])*100\n",
    "percentile_5AA = np.percentile(rel_error_5AA, [25, 50, 75])*100\n",
    "percentile_10AA = np.percentile(rel_error_10AA, [25, 50, 75])*100\n",
    "percentile_50AA = np.percentile(rel_error_50AA, [25, 50, 75])*100\n",
    "percentile_100AA = np.percentile(rel_error_100AA, [25, 50, 75])*100\n",
    "percentile_500AA = np.percentile(rel_error_500AA, [25, 50, 75])*100\n",
    "percentile_1000AA = np.percentile(rel_error_1000AA, [25, 50, 75])*100"
   ]
  },
  {
   "cell_type": "code",
   "execution_count": 106,
   "metadata": {},
   "outputs": [
    {
     "name": "stdout",
     "output_type": "stream",
     "text": [
      "                SILICATE \n",
      "===============================================\n",
      "Error\n",
      "size \t 25% \t 50% \t 75%  \n",
      "3.5 &\t 5.4 &\t 13.088541 &\t 20.128156 \\\n",
      "5.0 &\t 2.4 &\t 4.410871 &\t 9.144820 \\\n",
      "10.0 &\t 1.3 &\t 3.878859 &\t 7.739508 \\\n",
      "50.0 &\t 7.8 &\t 14.263777 &\t 21.677842 \\\n",
      "100.0 &\t 2.6 &\t 7.557571 &\t 32.809872 \\\n",
      "500.0 &\t 1.5 &\t 3.667941 &\t 9.425229 \\\n",
      "1000 &\t 1.5 &\t 4.063206 &\t 9.738040 \\\n"
     ]
    }
   ],
   "source": [
    "print(\"                SILICATE \")\n",
    "print(\"===============================================\")\n",
    "print(\"Error\")\n",
    "print(\"size \\t 25% \\t 50% \\t 75%  \")\n",
    "print(\"%.1f &\\t %.1f &\\t %f &\\t %f \\\\\"%(3.5, percentile_3AA[0], percentile_3AA[1], percentile_3AA[2]))\n",
    "print(\"%.1f &\\t %.1f &\\t %f &\\t %f \\\\\"%(5,percentile_5AA[0], percentile_5AA[1], percentile_5AA[2]))\n",
    "print(\"%.1f &\\t %.1f &\\t %f &\\t %f \\\\\"%(10,percentile_10AA[0], percentile_10AA[1], percentile_10AA[2]))\n",
    "print(\"%.1f &\\t %.1f &\\t %f &\\t %f \\\\\"%(50,percentile_50AA[0], percentile_50AA[1], percentile_50AA[2]))\n",
    "print(\"%.1f &\\t %.1f &\\t %f &\\t %f \\\\\"%(100,percentile_100AA[0], percentile_100AA[1], percentile_100AA[2]))\n",
    "print(\"%.1f &\\t %.1f &\\t %f &\\t %f \\\\\"%(500,percentile_500AA[0], percentile_500AA[1], percentile_500AA[2]))\n",
    "print(\"%.0f &\\t %.1f &\\t %f &\\t %f \\\\\"%(1000, percentile_1000AA[0], percentile_1000AA[1], percentile_1000AA[2]))"
   ]
  },
  {
   "cell_type": "markdown",
   "metadata": {},
   "source": [
    "---\n"
   ]
  },
  {
   "cell_type": "code",
   "execution_count": 109,
   "metadata": {},
   "outputs": [
    {
     "name": "stdout",
     "output_type": "stream",
     "text": [
      "Loading the charge distribution for 500 and 1000 Angstrom grains\n"
     ]
    }
   ],
   "source": [
    "#grain_type = \"silicate\"\n",
    "grain_type = \"carbonaceous\"\n",
    "pcent      = 1\n",
    "\n",
    "include_500_1000 = True\n",
    "\n",
    "########################################################################################\n",
    "\n",
    "grain_size = 3\n",
    "\n",
    "save_dir = \"/home/jcibanezm/Dropbox/codes/run/ChargeStatisticsAnalysis/Daikaiju\"\n",
    "filename = \"fz_%.4iAA_%s_CR_True_%i_pcent.pkl\"%(grain_size, grain_type, pcent) \n",
    "\n",
    "pkl_file    = open(\"%s/%s\"%(save_dir, filename), \"rb\")\n",
    "cdist_3AA = pickle.load(pkl_file)\n",
    "pkl_file.close\n",
    "\n",
    "########################################################################################\n",
    "\n",
    "grain_size = 5\n",
    "\n",
    "save_dir = \"/home/jcibanezm/Dropbox/codes/run/ChargeStatisticsAnalysis/Daikaiju\"\n",
    "filename = \"fz_%.4iAA_%s_CR_True_%i_pcent.pkl\"%(grain_size, grain_type, pcent) \n",
    "\n",
    "pkl_file    = open(\"%s/%s\"%(save_dir, filename), \"rb\")\n",
    "cdist_5AA = pickle.load(pkl_file)\n",
    "pkl_file.close\n",
    "\n",
    "########################################################################################\n",
    "\n",
    "grain_size = 10\n",
    "\n",
    "save_dir = \"/home/jcibanezm/Dropbox/codes/run/ChargeStatisticsAnalysis/Daikaiju\"\n",
    "filename = \"fz_%.4iAA_%s_CR_True_%i_pcent.pkl\"%(grain_size, grain_type, pcent) \n",
    "\n",
    "pkl_file    = open(\"%s/%s\"%(save_dir, filename), \"rb\")\n",
    "cdist_10AA = pickle.load(pkl_file)\n",
    "pkl_file.close\n",
    "\n",
    "########################################################################################\n",
    "\n",
    "grain_size = 50\n",
    "\n",
    "save_dir = \"/home/jcibanezm/Dropbox/codes/run/ChargeStatisticsAnalysis/Daikaiju\"\n",
    "filename = \"fz_%.4iAA_%s_CR_True_%i_pcent.pkl\"%(grain_size, grain_type, pcent) \n",
    "\n",
    "pkl_file    = open(\"%s/%s\"%(save_dir, filename), \"rb\")\n",
    "cdist_50AA = pickle.load(pkl_file)\n",
    "pkl_file.close\n",
    "\n",
    "########################################################################################\n",
    "\n",
    "grain_size = 100\n",
    "\n",
    "save_dir = \"/home/jcibanezm/Dropbox/codes/run/ChargeStatisticsAnalysis/Daikaiju\"\n",
    "filename = \"fz_%.4iAA_%s_CR_True_%i_pcent.pkl\"%(grain_size, grain_type, pcent) \n",
    "\n",
    "pkl_file    = open(\"%s/%s\"%(save_dir, filename), \"rb\")\n",
    "cdist_100AA = pickle.load(pkl_file)\n",
    "pkl_file.close\n",
    "\n",
    "########################################################################################\n",
    "\n",
    "if include_500_1000 == True:\n",
    "    print(\"Loading the charge distribution for 500 and 1000 Angstrom grains\")\n",
    "    grain_size = 500\n",
    "    pcent      = 0.1\n",
    "\n",
    "    save_dir = \"/home/jcibanezm/Dropbox/codes/run/ChargeStatisticsAnalysis/Daikaiju\"\n",
    "    filename = \"fz_%.4iAA_%s_CR_True_%i_pcent.pkl\"%(grain_size, grain_type, pcent) \n",
    "\n",
    "    pkl_file    = open(\"%s/%s\"%(save_dir, filename), \"rb\")\n",
    "    cdist_500AA = pickle.load(pkl_file)\n",
    "    pkl_file.close\n",
    "\n",
    "    ########################################################################################\n",
    "\n",
    "    grain_size = 1000\n",
    "\n",
    "    save_dir = \"/home/jcibanezm/Dropbox/codes/run/ChargeStatisticsAnalysis/Daikaiju\"\n",
    "    filename = \"fz_%.4iAA_%s_CR_True_%i_pcent.pkl\"%(grain_size, grain_type, pcent) \n",
    "\n",
    "    pkl_file    = open(\"%s/%s\"%(save_dir, filename), \"rb\")\n",
    "    cdist_1000AA = pickle.load(pkl_file)\n",
    "    pkl_file.close\n",
    "\n",
    "\n",
    "too_high = np.where(cdist_3AA[\"nH\"] > 2.0e4)\n",
    "if include_500_1000 == True:\n",
    "    too_high_500 = np.where(cdist_500AA[\"nH\"] > 2.0e4)\n",
    "    too_high_1000 = np.where(cdist_1000AA[\"nH\"] > 2.0e4)\n",
    "    \n",
    "ii = 0\n",
    "for key in cdist_3AA.keys():\n",
    "    #arrs.append(0)\n",
    "    if key!=\"Qabs_mean\" and key!=\"grain_size\" and key!=\"grain_type\" and key!=\"MPI\" and key!=\"fdist\" and key!=\"info\" and key!=\"zminmax\" and key!=\"ZZ\":\n",
    "        #print(key)\n",
    "        cdist_3AA[key]    = np.delete(cdist_3AA[key],    too_high)\n",
    "        cdist_5AA[key]    = np.delete(cdist_5AA[key],    too_high)\n",
    "        cdist_10AA[key]   = np.delete(cdist_10AA[key],   too_high)\n",
    "        cdist_50AA[key]   = np.delete(cdist_50AA[key],   too_high)\n",
    "        cdist_100AA[key]  = np.delete(cdist_100AA[key],  too_high)\n",
    "        if include_500_1000 == True:\n",
    "            cdist_500AA[key]  = np.delete(cdist_500AA[key],  too_high_500)\n",
    "            cdist_1000AA[key] = np.delete(cdist_1000AA[key], too_high_1000)\n",
    "    #ii +=1\n",
    "    \n",
    "\n",
    "        \n",
    "GTn_3AA    = (cdist_3AA[\"G\"]   + cdist_3AA[\"G_CR\"]) * np.sqrt(cdist_3AA[\"temp\"])   / cdist_3AA[\"new_ne\"] \n",
    "GTn_5AA    = (cdist_5AA[\"G\"]   + cdist_5AA[\"G_CR\"]) * np.sqrt(cdist_5AA[\"temp\"])   / cdist_5AA[\"new_ne\"] \n",
    "GTn_10AA   = (cdist_10AA[\"G\"]  + cdist_10AA[\"G_CR\"]) * np.sqrt(cdist_10AA[\"temp\"])  / cdist_10AA[\"new_ne\"] \n",
    "GTn_50AA   = (cdist_50AA[\"G\"]  + cdist_50AA[\"G_CR\"]) * np.sqrt(cdist_50AA[\"temp\"])  / cdist_50AA[\"new_ne\"] \n",
    "GTn_100AA  = (cdist_100AA[\"G\"] + cdist_100AA[\"G_CR\"]) * np.sqrt(cdist_100AA[\"temp\"]) / cdist_100AA[\"new_ne\"] \n",
    "\n",
    "if include_500_1000 == True:\n",
    "    GTn_500AA  = (cdist_500AA[\"G\"] + cdist_500AA[\"G_CR\"]) * np.sqrt(cdist_500AA[\"temp\"])  / cdist_500AA[\"new_ne\"] \n",
    "    GTn_1000AA = (cdist_1000AA[\"G\"]+ cdist_1000AA[\"G_CR\"]) * np.sqrt(cdist_1000AA[\"temp\"]) / cdist_1000AA[\"new_ne\"]\n"
   ]
  },
  {
   "cell_type": "code",
   "execution_count": 133,
   "metadata": {
    "collapsed": true
   },
   "outputs": [],
   "source": [
    "Zparam_3AA   = function(GTn_3AA, 0.4699, 0.0085, -0.1162, 48. )\n",
    "Zparam_5AA   = function(GTn_5AA, 0.4386, 0.0195, -0.3084, 95. )\n",
    "Zparam_10AA  = function(GTn_10AA,0.4994, 0.0199, -0.4959, 78. )\n",
    "Zparam_50AA  = function(GTn_50AA, 0.6009, 0.0523, -0.4092, 218.)\n",
    "Zparam_100AA = function(GTn_100AA, 0.1021, 14.0536, -0.2519, 2349. )\n",
    "Zparam_500AA  = function(GTn_500AA, 0.1897, 25.4864, 0.1528, 1974.)\n",
    "Zparam_1000AA = function(GTn_1000AA, 0.4601, 3.2625, 0.4184, 764.)"
   ]
  },
  {
   "cell_type": "code",
   "execution_count": 134,
   "metadata": {},
   "outputs": [],
   "source": [
    "rel_error_3AA    = abs(Zparam_3AA    - cdist_3AA[\"zmean\"])/abs(cdist_3AA[\"zmean\"])\n",
    "rel_error_5AA    = abs(Zparam_5AA    - cdist_5AA[\"zmean\"])/abs(cdist_5AA[\"zmean\"])\n",
    "rel_error_10AA   = abs(Zparam_10AA   - cdist_10AA[\"zmean\"])/abs(cdist_10AA[\"zmean\"])\n",
    "rel_error_50AA   = abs(Zparam_50AA   - cdist_50AA[\"zmean\"])/abs(cdist_50AA[\"zmean\"])\n",
    "rel_error_100AA  = abs(Zparam_100AA  - cdist_100AA[\"zmean\"])/abs(cdist_100AA[\"zmean\"])\n",
    "rel_error_500AA  = abs(Zparam_500AA  - cdist_500AA[\"zmean\"])/abs(cdist_500AA[\"zmean\"])\n",
    "rel_error_1000AA = abs(Zparam_1000AA - cdist_1000AA[\"zmean\"][0:8579])/abs(cdist_1000AA[\"zmean\"][0:8579])"
   ]
  },
  {
   "cell_type": "code",
   "execution_count": 135,
   "metadata": {
    "collapsed": true
   },
   "outputs": [],
   "source": [
    "percentile_3AA = np.percentile(rel_error_3AA, [25, 50, 75])*100\n",
    "percentile_5AA = np.percentile(rel_error_5AA, [25, 50, 75])*100\n",
    "percentile_10AA = np.percentile(rel_error_10AA, [25, 50, 75])*100\n",
    "percentile_50AA = np.percentile(rel_error_50AA, [25, 50, 75])*100\n",
    "percentile_100AA = np.percentile(rel_error_100AA, [25, 50, 75])*100\n",
    "percentile_500AA = np.percentile(rel_error_500AA, [25, 50, 75])*100\n",
    "percentile_1000AA = np.percentile(rel_error_1000AA, [25, 50, 75])*100"
   ]
  },
  {
   "cell_type": "code",
   "execution_count": 132,
   "metadata": {},
   "outputs": [
    {
     "name": "stdout",
     "output_type": "stream",
     "text": [
      "                Carbonaceous \n",
      "===============================================\n",
      "Error\n",
      "size \t 25% \t 50% \t 75%  \n",
      "3.5 &\t 2.0 &\t 5.326645 &\t 10.175194 \\\n",
      "5 &\t 2.1 &\t 5.329620 &\t 9.487776 \\\n",
      "10 &\t 1.6 &\t 3.969410 &\t 8.073490 \\\n",
      "50 &\t 5.9 &\t 14.827522 &\t 30.006682 \\\n",
      "100 &\t 1.1 &\t 3.095572 &\t 13.509870 \\\n",
      "500 &\t 1.1 &\t 2.770164 &\t 14.171434 \\\n",
      "1000 &\t 2.7 &\t 7.191845 &\t 16.321440 \\\n"
     ]
    }
   ],
   "source": [
    "print(\"                Carbonaceous \")\n",
    "print(\"===============================================\")\n",
    "print(\"Error\")\n",
    "print(\"size \\t 25% \\t 50% \\t 75%  \")\n",
    "print(\"%.1f &\\t %.1f &\\t %f &\\t %f \\\\\"%(3.5, percentile_3AA[0], percentile_3AA[1], percentile_3AA[2]))\n",
    "print(\"%.1i &\\t %.1f &\\t %f &\\t %f \\\\\"%(5,percentile_5AA[0], percentile_5AA[1], percentile_5AA[2]))\n",
    "print(\"%.1i &\\t %.1f &\\t %f &\\t %f \\\\\"%(10,percentile_10AA[0], percentile_10AA[1], percentile_10AA[2]))\n",
    "print(\"%.1i &\\t %.1f &\\t %f &\\t %f \\\\\"%(50,percentile_50AA[0], percentile_50AA[1], percentile_50AA[2]))\n",
    "print(\"%.1i &\\t %.1f &\\t %f &\\t %f \\\\\"%(100,percentile_100AA[0], percentile_100AA[1], percentile_100AA[2]))\n",
    "print(\"%.1i &\\t %.1f &\\t %f &\\t %f \\\\\"%(500,percentile_500AA[0], percentile_500AA[1], percentile_500AA[2]))\n",
    "print(\"%.1i &\\t %.1f &\\t %f &\\t %f \\\\\"%(1000, percentile_1000AA[0], percentile_1000AA[1], percentile_1000AA[2]))"
   ]
  },
  {
   "cell_type": "code",
   "execution_count": null,
   "metadata": {
    "collapsed": true
   },
   "outputs": [],
   "source": []
  }
 ],
 "metadata": {
  "anaconda-cloud": {},
  "kernelspec": {
   "display_name": "Python 2",
   "language": "python",
   "name": "python2"
  },
  "language_info": {
   "codemirror_mode": {
    "name": "ipython",
    "version": 2
   },
   "file_extension": ".py",
   "mimetype": "text/x-python",
   "name": "python",
   "nbconvert_exporter": "python",
   "pygments_lexer": "ipython2",
   "version": "2.7.15"
  }
 },
 "nbformat": 4,
 "nbformat_minor": 2
}
