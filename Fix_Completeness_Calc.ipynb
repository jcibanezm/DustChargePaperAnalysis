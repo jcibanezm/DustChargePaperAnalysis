{
 "cells": [
  {
   "cell_type": "code",
   "execution_count": 1,
   "metadata": {
    "collapsed": false
   },
   "outputs": [
    {
     "name": "stdout",
     "output_type": "stream",
     "text": [
      "Loading the library to compute the charge distribution of dust grains.\n"
     ]
    },
    {
     "data": {
      "text/plain": [
       "<function close>"
      ]
     },
     "execution_count": 1,
     "metadata": {},
     "output_type": "execute_result"
    }
   ],
   "source": [
    "import pickle\n",
    "import numpy as np\n",
    "import matplotlib.pyplot as plt\n",
    "from   matplotlib.colors import LogNorm\n",
    "\n",
    "import compute_charge_dist as fz\n",
    "\n",
    "from scipy.optimize import curve_fit\n",
    "\n",
    "import time\n",
    "\n",
    "%matplotlib inline\n",
    "\n",
    "\n",
    "grain_type = \"silicate\"\n",
    "#grain_type = \"carbonaceous\"\n",
    "pcent      = 50\n",
    "\n",
    "########################################################################################\n",
    "\n",
    "grain_size = 5\n",
    "\n",
    "save_dir = \"/home/jcibanezm/codes/run/ChargeStatisticsAnalysis/Daikaiju\"\n",
    "filename = \"fz_%.4iAA_%s_CR_True_%i_pcent.pkl\"%(grain_size, grain_type, pcent) \n",
    "\n",
    "pkl_file    = open(\"%s/%s\"%(save_dir, filename), \"rb\")\n",
    "cdist = pickle.load(pkl_file)\n",
    "pkl_file.close"
   ]
  },
  {
   "cell_type": "code",
   "execution_count": 12,
   "metadata": {
    "collapsed": false
   },
   "outputs": [],
   "source": [
    "# Computing the new fz and zminmax\n",
    "\n",
    "new_zminmax = np.zeros_like(cdist[\"zminmax\"])\n",
    "new_ffz = []\n",
    "\n",
    "cm = 0\n",
    "for i in range(len(cdist[\"zmean\"])):\n",
    "#for i in range(100):\n",
    "    new_zminmax[i*2]     = -1 \n",
    "    new_zminmax[i*2 + 1] = 2\n",
    "    \n",
    "    for k in range(4):\n",
    "        new_ffz.append(cdist[\"fdist\"][i*14 + k])\n",
    "        \n",
    "new_ffz = np.array(new_ffz)"
   ]
  },
  {
   "cell_type": "code",
   "execution_count": 13,
   "metadata": {
    "collapsed": true
   },
   "outputs": [],
   "source": [
    "# Compute new zmean and zstd\n",
    "\n",
    "new_zmean = np.zeros_like(cdist[\"zmean\"])\n",
    "new_zstd  = np.zeros_like(cdist[\"zstd\"])\n",
    "\n",
    "ZZ = np.array([-1, 0, 1, 2])\n",
    "\n",
    "for i in range(len(cdist[\"zmean\"])):\n",
    "#for i in range(100):\n",
    "    ffz = new_ffz[i*4:i*4+4]\n",
    "    new_zmean[i], new_zstd[i] = fz.weighted_avg_and_std(ZZ, ffz)"
   ]
  },
  {
   "cell_type": "code",
   "execution_count": 18,
   "metadata": {
    "collapsed": true
   },
   "outputs": [],
   "source": [
    "G_CR = np.zeros_like(cdist[\"Av\"])\n",
    "\n",
    "for ii in range(len(G_CR)):\n",
    "    if cdist[\"nH\"][ii] < 100:\n",
    "        G_CR[ii] = 1.0e-10\n",
    "    else:\n",
    "        G_CR[ii] = fz.get_G_CR(cdist[\"fH2shield\"][ii])"
   ]
  },
  {
   "cell_type": "code",
   "execution_count": 19,
   "metadata": {
    "collapsed": true
   },
   "outputs": [],
   "source": [
    "GTn   = (cdist[\"G\"] + G_CR) * np.sqrt(cdist[\"temp\"]) / cdist[\"ne\"] "
   ]
  },
  {
   "cell_type": "code",
   "execution_count": 26,
   "metadata": {
    "collapsed": true
   },
   "outputs": [],
   "source": [
    "ccdist = {\"info\":\"new dictionary with information\"}\n",
    "ccdist[\"zmean\"] = new_zmean\n",
    "ccdist[\"cstd\"] = new_zstd\n",
    "ccdist[\"fdist\"] = new_ffz\n",
    "ccdist[\"zminmax\"] = new_zminmax\n",
    "ccdist[\"G_CR\"] = G_CR"
   ]
  },
  {
   "cell_type": "code",
   "execution_count": 28,
   "metadata": {
    "collapsed": false
   },
   "outputs": [
    {
     "data": {
      "image/png": "[encoded data removed]",
      "text/plain": [
       "<matplotlib.figure.Figure at 0x7ff74adbf850>"
      ]
     },
     "metadata": {},
     "output_type": "display_data"
    }
   ],
   "source": [
    "xsize = 8\n",
    "ysize = 8.4\n",
    "\n",
    "nfigs_x = 1\n",
    "nfigs_y = 1\n",
    "\n",
    "fig = plt.figure(figsize=(xsize, ysize))\n",
    "\n",
    "hpad = 0.09\n",
    "wpad = 0.13\n",
    "\n",
    "xs_panel = 0.86 / nfigs_x \n",
    "ys_panel = 0.85 / nfigs_y \n",
    "\n",
    "############################################################################################################\n",
    "############################               5 Angstroms             #######################################\n",
    "############################################################################################################\n",
    "\n",
    "ii = 0\n",
    "jj = 0\n",
    "\n",
    "ax = fig.add_axes([wpad + ii*xs_panel+ii*wpad, hpad + jj*ys_panel, xs_panel, ys_panel])\n",
    "\n",
    "ax.hist2d(np.log10(GTn), ccdist[\"zmean\"], bins=50, norm=LogNorm(), normed=True, cmap=\"magma\", range=[[0.5, 4.5],[-0.4, 0.8]])\n",
    "\n",
    "GTn_arr = np.logspace(np.log10(np.min(GTn)), np.log10(np.max(GTn)))\n",
    "#NewPar  = function(GTn_arr, )\n",
    "\n",
    "#ax.plot(GTn_arr, NewPar, \"-k\", linewidth=2)\n",
    "\n",
    "ax.tick_params(axis='both', which='major', length=10, width=2,  labelsize=15, direction=\"in\")\n",
    "ax.tick_params(axis='both', which='minor', length=5, width=1.5, labelsize=15, direction=\"in\")\n",
    "\n",
    "ax.set_xlabel(\"$G\\\\sqrt{T} / n_{e}$\", fontsize=20)\n",
    "ax.set_ylabel(\"$\\\\langle Z \\\\rangle$\", fontsize=20)\n",
    "\n",
    "ax.grid(\"on\")\n",
    "\n",
    "ax.set_title(\"%i $\\\\AA$\"%grain_size, fontsize=25)\n",
    "fig.show()\n"
   ]
  },
  {
   "cell_type": "code",
   "execution_count": 29,
   "metadata": {
    "collapsed": true
   },
   "outputs": [],
   "source": [
    "# New function like a press schechter like, combining a power law and an exponential growth.\n",
    "\n",
    "# New function including powers between -3, 3\n",
    "# def function(x,alpha1, beta1, gamma1, alpha2, beta2, gamma2):\n",
    "def function(x, alpha, aa, bb, hh):\n",
    "\n",
    "    Zcent = aa * (x[:])**alpha * (1.0 - np.exp(-x[:]/hh)) + bb\n",
    "    \n",
    "    return Zcent"
   ]
  },
  {
   "cell_type": "code",
   "execution_count": 30,
   "metadata": {
    "collapsed": true
   },
   "outputs": [],
   "source": [
    "Zparam   = function(GTn, 0.3573 , 0.0219 , -0.2390 , 117.)"
   ]
  },
  {
   "cell_type": "code",
   "execution_count": 31,
   "metadata": {
    "collapsed": true
   },
   "outputs": [],
   "source": [
    "rel_error    = abs(Zparam    - cdist[\"zmean\"])/abs(cdist[\"zmean\"])"
   ]
  },
  {
   "cell_type": "code",
   "execution_count": 32,
   "metadata": {
    "collapsed": true
   },
   "outputs": [],
   "source": [
    "percentile = np.percentile(rel_error, [25, 50, 75])*100"
   ]
  },
  {
   "cell_type": "code",
   "execution_count": 33,
   "metadata": {
    "collapsed": false
   },
   "outputs": [
    {
     "name": "stdout",
     "output_type": "stream",
     "text": [
      "[ 1.3307893   4.1960359  10.35426509]\n"
     ]
    }
   ],
   "source": [
    "print(percentile)"
   ]
  },
  {
   "cell_type": "code",
   "execution_count": 83,
   "metadata": {
    "collapsed": false
   },
   "outputs": [
    {
     "name": "stderr",
     "output_type": "stream",
     "text": [
      "/home/jcibanezm/codes/libs/miniconda3/lib/python2.7/site-packages/ipykernel/__main__.py:1: VisibleDeprecationWarning: Passing `normed=True` on non-uniform bins has always been broken, and computes neither the probability density function nor the probability mass function. The result is only correct if the bins are uniform, when density=True will produce the same result anyway. The argument will be removed in a future version of numpy.\n",
      "  if __name__ == '__main__':\n"
     ]
    }
   ],
   "source": [
    "hst = np.histogram(rel_error, bins=bins, normed=True)"
   ]
  },
  {
   "cell_type": "code",
   "execution_count": 92,
   "metadata": {
    "collapsed": false
   },
   "outputs": [
    {
     "data": {
      "text/plain": [
       "array([4.87780585e-05, 1.11213973e-04, 1.81454378e-04, 2.71206005e-04,\n",
       "       4.44855894e-04, 7.02404042e-04, 1.11213973e-03, 1.81649490e-03,\n",
       "       2.94229249e-03, 4.58318638e-03, 7.35768234e-03, 1.19135530e-02,\n",
       "       1.87249211e-02, 3.07965150e-02, 4.83975896e-02, 7.80800138e-02,\n",
       "       1.26463946e-01, 2.01369483e-01, 3.54913056e-01, 1.03941750e+00,\n",
       "       6.48664280e-01, 8.67301196e-01, 1.03452994e+00, 1.08898381e+00,\n",
       "       1.06036085e+00, 8.32631703e-01, 4.36518748e-01, 2.08951545e-01,\n",
       "       1.12497812e-01, 6.46309275e-02, 3.82790692e-02, 2.32710361e-02,\n",
       "       1.42646554e-02, 9.03954980e-03, 5.78897998e-03, 3.56665164e-03,\n",
       "       2.04867846e-03, 1.42431931e-03, 8.89711787e-04, 5.28754154e-04,\n",
       "       3.74615489e-04, 1.99014479e-04, 1.44383053e-04, 8.97516276e-05,\n",
       "       7.02404042e-05, 3.12179574e-05, 7.80448936e-06, 2.14623457e-05,\n",
       "       5.85336702e-06, 7.80448936e-06, 3.90224468e-06, 3.90224468e-06,\n",
       "       0.00000000e+00, 0.00000000e+00, 0.00000000e+00, 0.00000000e+00,\n",
       "       0.00000000e+00, 0.00000000e+00, 0.00000000e+00])"
      ]
     },
     "execution_count": 92,
     "metadata": {},
     "output_type": "execute_result"
    }
   ],
   "source": [
    "hst[0]"
   ]
  },
  {
   "cell_type": "code",
   "execution_count": 89,
   "metadata": {
    "collapsed": false
   },
   "outputs": [
    {
     "data": {
      "text/plain": [
       "59"
      ]
     },
     "execution_count": 89,
     "metadata": {},
     "output_type": "execute_result"
    }
   ],
   "source": [
    "len(hst[0])"
   ]
  },
  {
   "cell_type": "code",
   "execution_count": 106,
   "metadata": {
    "collapsed": false
   },
   "outputs": [
    {
     "name": "stderr",
     "output_type": "stream",
     "text": [
      "/home/jcibanezm/codes/libs/miniconda3/lib/python2.7/site-packages/ipykernel/__main__.py:1: DeprecationWarning: Passing normed=False is deprecated, and has no effect. Consider passing the density argument instead.\n",
      "  if __name__ == '__main__':\n"
     ]
    }
   ],
   "source": [
    "hst = np.histogram(rel_error, bins=bins, normed=False)\n",
    "norm = np.max(hst[0])"
   ]
  },
  {
   "cell_type": "code",
   "execution_count": 111,
   "metadata": {
    "collapsed": false
   },
   "outputs": [
    {
     "name": "stdout",
     "output_type": "stream",
     "text": [
      "4297414\n"
     ]
    }
   ],
   "source": [
    "print(np.sum(hst[0]))"
   ]
  },
  {
   "cell_type": "code",
   "execution_count": 116,
   "metadata": {
    "collapsed": false
   },
   "outputs": [
    {
     "data": {
      "text/plain": [
       "array([5.81745208e-06, 1.32637907e-05, 2.16409217e-05, 3.23450335e-05,\n",
       "       5.30551629e-05, 8.37713099e-05, 1.32637907e-04, 2.16641915e-04,\n",
       "       3.50908709e-04, 5.46607797e-04, 8.77504471e-04, 1.42085450e-03,\n",
       "       2.23320350e-03, 3.67290654e-03, 5.77207595e-03, 9.31211189e-03,\n",
       "       1.50825590e-02, 2.40160711e-02, 4.23282467e-02, 1.23964784e-01,\n",
       "       7.73621066e-02, 1.03437556e-01, 1.23381876e-01, 1.29876247e-01,\n",
       "       1.26462566e-01, 9.93027435e-02, 5.20608440e-02, 2.49203358e-02,\n",
       "       1.34169061e-02, 7.70812400e-03, 4.56530369e-03, 2.77539004e-03,\n",
       "       1.70125569e-03, 1.07809022e-03, 6.90415212e-04, 4.25372096e-04,\n",
       "       2.44332987e-04, 1.69869601e-04, 1.06110326e-04, 6.30611805e-05,\n",
       "       4.46780320e-05, 2.37352045e-05, 1.72196581e-05, 1.07041118e-05,\n",
       "       8.37713099e-06, 3.72316933e-06, 9.30792332e-07, 2.55967891e-06,\n",
       "       6.98094249e-07, 9.30792332e-07, 4.65396166e-07, 4.65396166e-07,\n",
       "       0.00000000e+00, 0.00000000e+00, 0.00000000e+00, 0.00000000e+00,\n",
       "       0.00000000e+00, 0.00000000e+00, 0.00000000e+00])"
      ]
     },
     "execution_count": 116,
     "metadata": {},
     "output_type": "execute_result"
    }
   ],
   "source": [
    "hst[0]/4297414."
   ]
  },
  {
   "cell_type": "code",
   "execution_count": 131,
   "metadata": {
    "collapsed": false
   },
   "outputs": [
    {
     "data": {
      "image/png": "[encoded data removed]",
      "text/plain": [
       "<matplotlib.figure.Figure at 0x7ff78c276b10>"
      ]
     },
     "metadata": {},
     "output_type": "display_data"
    }
   ],
   "source": [
    "fig = plt.figure(figsize=(7,5))\n",
    "ax = fig.add_axes([0.12, 0.105, 0.85, 0.88])\n",
    "\n",
    "bins = np.logspace(-6, 6, num=60)\n",
    "\n",
    "#ax.hist(rel_error, bins=bins, histtype=\"step\", color=\"red\", range=[1.0e-6,1.0e6], normed=False, )\n",
    "ax.plot(hst[1][0:len(hst[0])]*100., hst[0]/4297414., \"-r\", linestyle=\"steps\")\n",
    "\n",
    "#ax.set_yscale(\"log\")\n",
    "ax.set_xscale(\"log\")\n",
    "\n",
    "ax.set_xlim(0.1, 200)\n",
    "#ax.set_xlim(1, 20)\n",
    "\n",
    "ax.tick_params(axis='both', which='major', length=10, width=2,  labelsize=15, direction=\"in\")\n",
    "ax.tick_params(axis='both', which='minor', length=5, width=1.5, labelsize=15, direction=\"in\")\n",
    "\n",
    "#ax.set_xlabel(\"$a_{400}$ $(G\\\\sqrt{T} / n_{e})^{0.58}$ - $a_{57}$\", fontsize=15)\n",
    "ax.set_xlabel(\"error [%]\", fontsize=15)\n",
    "ax.set_ylabel(\"PDF\", fontsize=15)\n",
    "\n",
    "fig.show()\n",
    "\n",
    "fig.savefig(\"/home/jcibanezm/Dropbox/Projects/Papers/In_Progress/ChargeDist_Dust/Figures/Apendix/Completeness_error.pdf\", format=\"pdf\")"
   ]
  },
  {
   "cell_type": "code",
   "execution_count": 127,
   "metadata": {
    "collapsed": false
   },
   "outputs": [
    {
     "data": {
      "text/plain": [
       "-5035.0"
      ]
     },
     "execution_count": 127,
     "metadata": {},
     "output_type": "execute_result"
    }
   ],
   "source": [
    "fz.get_Zmin(1000., \"silicate\")"
   ]
  },
  {
   "cell_type": "code",
   "execution_count": 128,
   "metadata": {
    "collapsed": false
   },
   "outputs": [
    {
     "data": {
      "text/plain": [
       "389.0"
      ]
     },
     "execution_count": 128,
     "metadata": {},
     "output_type": "execute_result"
    }
   ],
   "source": [
    "fz.get_Zmax(1000., \"silicate\")"
   ]
  }
 ],
 "metadata": {
  "kernelspec": {
   "display_name": "Python [default]",
   "language": "python",
   "name": "python2"
  },
  "language_info": {
   "codemirror_mode": {
    "name": "ipython",
    "version": 2
   },
   "file_extension": ".py",
   "mimetype": "text/x-python",
   "name": "python",
   "nbconvert_exporter": "python",
   "pygments_lexer": "ipython2",
   "version": "2.7.13"
  }
 },
 "nbformat": 4,
 "nbformat_minor": 2
}
