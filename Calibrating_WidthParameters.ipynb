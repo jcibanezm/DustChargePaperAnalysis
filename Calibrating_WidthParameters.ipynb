{
 "cells": [
  {
   "cell_type": "code",
   "execution_count": 1,
   "metadata": {
    "collapsed": false
   },
   "outputs": [
    {
     "name": "stdout",
     "output_type": "stream",
     "text": [
      "Loading the library to compute the charge distribution of dust grains.\n"
     ]
    }
   ],
   "source": [
    "import pickle\n",
    "import numpy as np\n",
    "import matplotlib.pyplot as plt\n",
    "from matplotlib.colors import LogNorm\n",
    "from scipy.optimize import curve_fit\n",
    "import compute_charge_dist as fz\n",
    "\n",
    "import time\n",
    "\n",
    "%matplotlib inline"
   ]
  },
  {
   "cell_type": "code",
   "execution_count": 2,
   "metadata": {
    "collapsed": true
   },
   "outputs": [],
   "source": [
    "def function_sigma_pos(x, aa, bb, hh):\n",
    "    sigma_par = aa*(1. - np.exp(-x[:]/hh)) + bb\n",
    "    return sigma_par\n",
    "\n",
    "def function_sigma_neg(x, aa, bb, hh):\n",
    "    sigma_par = aa*(1. - np.exp(x[:]/hh)) + bb\n",
    "    return sigma_par"
   ]
  },
  {
   "cell_type": "code",
   "execution_count": 153,
   "metadata": {
    "collapsed": false
   },
   "outputs": [
    {
     "name": "stdout",
     "output_type": "stream",
     "text": [
      "nan\n"
     ]
    }
   ],
   "source": [
    "grain_type = \"carbonaceous\"\n",
    "#grain_type = \"silicate\"\n",
    "\n",
    "grain_size = 1000\n",
    "pcent      = 0.1\n",
    "\n",
    "# Desktop\n",
    "save_dir = \"/home/jcibanezm/Dropbox/codes/run/ChargeStatisticsAnalysis/Daikaiju\"\n",
    "filename = \"fz_%.4iAA_%s_CR_True_%i_pcent.pkl\"%(grain_size, grain_type, pcent) \n",
    "pkl_file    = open(\"%s/%s\"%(save_dir, filename), \"rb\")\n",
    "cdist = pickle.load(pkl_file)\n",
    "pkl_file.close\n",
    "\n",
    "too_high = np.where(cdist[\"nH\"] > 2.0e4)\n",
    "\n",
    "ii = 0\n",
    "for key in cdist.keys():\n",
    "    if key!=\"Qabs_mean\" and key!=\"grain_size\" and key!=\"grain_type\" and key!=\"MPI\" and key!=\"fdist\" and key!=\"info\" and key!=\"zminmax\" and key!=\"ZZ\":\n",
    "        cdist[key] = np.delete(cdist[key], too_high)\n",
    "\n",
    "cdist_pos = cdist.copy()\n",
    "cdist_neg = cdist.copy()\n",
    "\n",
    "positive = np.where(cdist_pos[\"zmean\"] >= 0.0)\n",
    "negative = np.where(cdist_neg[\"zmean\"] <  0.0)\n",
    "\n",
    "ii = 0\n",
    "for key in cdist.keys():\n",
    "    if key!=\"Qabs_mean\" and key!=\"grain_size\" and key!=\"grain_type\" and key!=\"MPI\" and key!=\"fdist\" and key!=\"info\" and key!=\"zminmax\":\n",
    "        cdist_neg[key] = np.delete(cdist_neg[key], positive)\n",
    "        cdist_pos[key] = np.delete(cdist_pos[key], negative)\n",
    "\n",
    "largeZ  = np.where(abs(cdist_pos[\"zmean\"]) > 1.0e-5)\n",
    "Zstd_smallGTn = np.delete(cdist_pos[\"zstd\"], largeZ)\n",
    "Zstd_avg_GTnsmall = np.mean(Zstd_smallGTn)\n",
    "\n",
    "print(Zstd_avg_GTnsmall)"
   ]
  },
  {
   "cell_type": "code",
   "execution_count": 157,
   "metadata": {
    "collapsed": false
   },
   "outputs": [
    {
     "name": "stdout",
     "output_type": "stream",
     "text": [
      "0.908584587255\n"
     ]
    }
   ],
   "source": [
    "largeZ  = np.where(abs(cdist_pos[\"zmean\"]) > 1.0e-3)\n",
    "Zstd_smallGTn = np.delete(cdist_pos[\"zstd\"], largeZ)\n",
    "Zstd_avg_GTnsmall = np.mean(Zstd_smallGTn)\n",
    "\n",
    "print(Zstd_avg_GTnsmall)"
   ]
  },
  {
   "cell_type": "code",
   "execution_count": 158,
   "metadata": {
    "collapsed": false
   },
   "outputs": [],
   "source": [
    "popt_zstd_pos, pcov_zstd_pos = curve_fit(function_sigma_pos, cdist_pos[\"zmean\"], cdist_pos[\"zstd\"], p0=[0.3, Zstd_avg_GTnsmall, 0.3], bounds=([-np.inf, Zstd_avg_GTnsmall*0.999, -np.inf], [np.inf, Zstd_avg_GTnsmall*1.001, np.inf])) \n",
    "popt_zstd_neg, pcov_zstd_neg = curve_fit(function_sigma_neg, cdist_neg[\"zmean\"], cdist_neg[\"zstd\"], p0=[0.3, popt_zstd_pos[1], 0.3], bounds=([-np.inf, popt_zstd_pos[1]*0.999, -np.inf], [np.inf, popt_zstd_pos[1]*1.001, np.inf])) "
   ]
  },
  {
   "cell_type": "code",
   "execution_count": 84,
   "metadata": {
    "collapsed": true
   },
   "outputs": [],
   "source": [
    "#popt_zstd_pos, pcov_zstd_pos = curve_fit(function_sigma_pos, cdist_pos[\"zmean\"], cdist_pos[\"zstd\"], p0=[0.3, Zstd_avg_GTnsmall, 0.3], bounds=([-np.inf, Zstd_avg_GTnsmall*0.999, -np.inf], [np.inf, Zstd_avg_GTnsmall*1.001, np.inf]))\n",
    "#popt_zstd_neg, pcov_zstd_neg = curve_fit(function_sigma_neg, cdist_neg[\"zmean\"], cdist_neg[\"zstd\"], bounds=([0.0, popt_zstd_pos[1]*0.999, 0.0], [10.0, popt_zstd_pos[1]*1.001, 1.0]),p0=[0.0, popt_zstd_pos[1], 0.5])"
   ]
  },
  {
   "cell_type": "code",
   "execution_count": 159,
   "metadata": {
    "collapsed": false
   },
   "outputs": [
    {
     "name": "stdout",
     "output_type": "stream",
     "text": [
      "\t a \t b \t h\n",
      "[  8.70032149   0.90949317  36.10147476]\n",
      "[ -2.60095052e+03   9.10402665e-01   4.70296490e+03]\n"
     ]
    }
   ],
   "source": [
    "print(\"\\t a \\t b \\t h\")\n",
    "print(popt_zstd_pos)\n",
    "print(popt_zstd_neg)"
   ]
  },
  {
   "cell_type": "code",
   "execution_count": 161,
   "metadata": {
    "collapsed": false
   },
   "outputs": [
    {
     "data": {
      "image/png": "[encoded data removed]",
      "text/plain": [
       "<matplotlib.figure.Figure at 0x7f8795037350>"
      ]
     },
     "metadata": {},
     "output_type": "display_data"
    }
   ],
   "source": [
    "xsize = 8\n",
    "ysize = 8\n",
    "\n",
    "nfigs_x = 1\n",
    "nfigs_y = 1\n",
    "\n",
    "fig = plt.figure(figsize=(xsize, ysize))\n",
    "\n",
    "hpad = 0.09\n",
    "wpad = 0.11\n",
    "\n",
    "xs_panel = 0.88 / nfigs_x \n",
    "ys_panel = 0.89 / nfigs_y \n",
    "\n",
    "############################################################################################################\n",
    "############################               XX Angstroms             #######################################\n",
    "############################################################################################################\n",
    "\n",
    "ii = 0\n",
    "jj = 0\n",
    "\n",
    "ax = fig.add_axes([wpad + ii*xs_panel+ii*wpad, hpad + jj*ys_panel, xs_panel, ys_panel])\n",
    "\n",
    "ax.hist2d(cdist[\"zmean\"], cdist[\"zstd\"], bins=100, norm=LogNorm(), normed=True, cmap=\"magma\")\n",
    "#ax.hist2d(cdist[\"zmean\"], cdist[\"zstd\"], bins=100, norm=LogNorm(), normed=True, cmap=\"magma\", range=[[-1.0, 0.01],[0.4, 0.7]])\n",
    "\n",
    "\n",
    "zmean_arr_pos = np.linspace(np.min(cdist_pos[\"zmean\"]), np.max(cdist_pos[\"zmean\"]))\n",
    "NewPar        = function_sigma_pos(zmean_arr_pos, *popt_zstd_pos)\n",
    "ax.plot(zmean_arr_pos, NewPar, \"-r\", linewidth=4)\n",
    "\n",
    "zmean_arr_neg = np.linspace(np.min(cdist_neg[\"zmean\"]), np.max(cdist_neg[\"zmean\"]))\n",
    "NewPar_neg        = function_sigma_neg(zmean_arr_neg, *popt_zstd_neg)\n",
    "#NewPar_neg     = function_sigma_neg(zmean_arr_neg, 0.2890, popt_zstd_pos[1], 1.6241)\n",
    "ax.plot(zmean_arr_neg, NewPar_neg, \"--r\", linewidth=4)\n",
    "\n",
    "ax.tick_params(axis='both', which='major', length=10, width=2,  labelsize=15, direction=\"in\")\n",
    "ax.tick_params(axis='both', which='minor', length=5, width=1.5, labelsize=15, direction=\"in\")\n",
    "\n",
    "ax.set_ylabel(\"$\\\\sigma_{Z}$\", fontsize=18)\n",
    "ax.set_xlabel(\"$\\\\langle Z \\\\rangle$\", fontsize=18)\n",
    "\n",
    "ax.grid(\"on\")\n",
    "\n",
    "#ax.set_ylim(0.98*np.min(cdist[\"zstd\"]), 1.02*np.max(cdist[\"zstd\"]))\n",
    "#ax.set_ylim(0.5, 0.6)\n",
    "#ax.set_xlim(-0.5, 0.0)\n",
    "\n",
    "fig.show()"
   ]
  },
  {
   "cell_type": "code",
   "execution_count": null,
   "metadata": {
    "collapsed": true
   },
   "outputs": [],
   "source": []
  }
 ],
 "metadata": {
  "kernelspec": {
   "display_name": "Python [conda root]",
   "language": "python",
   "name": "conda-root-py"
  },
  "language_info": {
   "codemirror_mode": {
    "name": "ipython",
    "version": 2
   },
   "file_extension": ".py",
   "mimetype": "text/x-python",
   "name": "python",
   "nbconvert_exporter": "python",
   "pygments_lexer": "ipython2",
   "version": "2.7.15"
  }
 },
 "nbformat": 4,
 "nbformat_minor": 2
}
