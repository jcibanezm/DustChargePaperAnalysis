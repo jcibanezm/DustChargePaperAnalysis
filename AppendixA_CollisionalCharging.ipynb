{
 "cells": [
  {
   "cell_type": "code",
   "execution_count": 1,
   "metadata": {
    "collapsed": true
   },
   "outputs": [],
   "source": [
    "#from memory_profiler import profile\n",
    "import fzMPI\n",
    "\n",
    "import matplotlib.pyplot as plt\n",
    "from matplotlib.colors import LogNorm\n",
    "\n",
    "import numpy as np\n",
    "\n",
    "import compute_charge_dist as fz\n",
    "\n",
    "%matplotlib inline"
   ]
  },
  {
   "cell_type": "code",
   "execution_count": 2,
   "metadata": {
    "collapsed": false
   },
   "outputs": [
    {
     "name": "stdout",
     "output_type": "stream",
     "text": [
      "I'm looking for a grain size smaller than 10 Angstrom. Outside the tabulated data!!!\n",
      "Extrapolating is kinda not working so taking the Qabs, a=10 AA \n"
     ]
    }
   ],
   "source": [
    "grain_type = \"carbonaceous\"\n",
    "#grain_type = \"silicate\"\n",
    "grain_size = [5, 100, 1000]\n",
    "#grain_size = [5, 100, 200]\n",
    "G0         = 1.68\n",
    "\n",
    "#Qabs5    = fz.get_QabsTable(grain_type, 5, dirtables=\"/Users/juan/codes/dustanalysis/Charge/Tables\")\n",
    "#Qabs100  = fz.get_QabsTable(grain_type, 100, dirtables=\"/Users/juan/codes/dustanalysis/Charge/Tables\")\n",
    "#Qabs1000 = fz.get_QabsTable(grain_type, 1000, dirtables=\"/Users/juan/codes/dustanalysis/Charge/Tables\")\n",
    "Qabs5    = fz.get_QabsTable(grain_type, 5)\n",
    "Qabs100  = fz.get_QabsTable(grain_type, 100)\n",
    "Qabs1000 = fz.get_QabsTable(grain_type, 1000)\n",
    "#Qabs1000 = fz.get_QabsTable(grain_type, 200)\n",
    "\n",
    "Qabs = [Qabs5, Qabs100, Qabs1000]"
   ]
  },
  {
   "cell_type": "code",
   "execution_count": 3,
   "metadata": {
    "collapsed": true
   },
   "outputs": [],
   "source": [
    "kb = 1.38e-16   # erg K-1\n",
    "mp = 1.672e-24  # g\n",
    "mH = 1.6733e-24 # g \n",
    "me = 9.109e-28  # g\n",
    "echarge = 4.8032e-10 # esu [cm3/2 g1/2 s-1]"
   ]
  },
  {
   "cell_type": "code",
   "execution_count": 4,
   "metadata": {
    "collapsed": false
   },
   "outputs": [
    {
     "name": "stdout",
     "output_type": "stream",
     "text": [
      "0.0999999999775\n"
     ]
    }
   ],
   "source": [
    "#CMM conditions\n",
    "\n",
    "grain_size = 167.1792046\n",
    "\n",
    "nH    = 1.0         # in cm-3\n",
    "nC    = nH * 1.0e-4 \n",
    "T     = 100.        # in Kelvin\n",
    "xHp   = 1.0       #1.0e-3     # electron fraction.\n",
    "xCp   = 0.0\n",
    "Ndust = 0.0\n",
    "Av    = 0.0\n",
    "fH2shield = 0.0\n",
    "GG    = 0.0\n",
    "xH2   = 0.0\n",
    "\n",
    "grain_type = \"silicate\"\n",
    "\n",
    "mu = 1.0    # mean mass per particle, un units of proton masses.\n",
    "mm = mu * mp  # particle mass\n",
    "\n",
    "tau = grain_size*fz.AAtocm*kb*T / echarge**2\n",
    "print(tau)"
   ]
  },
  {
   "cell_type": "code",
   "execution_count": 5,
   "metadata": {
    "collapsed": false
   },
   "outputs": [],
   "source": [
    "Qabs = fz.get_QabsTable(grain_type, grain_size)\n",
    "\n",
    "zeta = 0.0\n",
    "\n",
    "Jpe, Je, Jh, Jc, ZZall = fz.compute_currents([nH, nC], [xHp, xCp], xH2, T, zeta, grain_size, Av, grain_type, Qabs, G0=GG)\n",
    "JCRe, JCRpe, ZZnew     = fz.compute_CR_currents(nH, fH2shield, zeta, grain_size, grain_type, Qabs)\n",
    "\n",
    "zeq                    = fz.get_zeq_vec     (Jpe, Je, Jh, Jc, JCRe, JCRpe, ZZall, grain_size, grain_type)\n",
    "new_zmin, new_zmax     = fz.get_new_zmin_zmax([nH, nC], [xHp, xCp], xH2, T, zeta, grain_size, Av, grain_type, Qabs, fH2shield, zeq=zeq, includeCR=False)\n",
    "ffz, ffzlog, ZZ        = fz.vector_fz(Jpe, Je, Jh, Jc,JCRe,JCRpe, ZZall, new_zmin, new_zmax, includeCR=False)\n",
    "\n",
    "Zm     = fz.get_Zmode(ZZ, ffz)\n",
    "zmode  = Zm\n",
    "\n",
    "avg, std  = fz.weighted_avg_and_std(ZZ, ffz)\n",
    "zmean     = avg\n",
    "zstd      = std\n",
    "\n",
    "ffz = np.concatenate([[0.0],ffz,[0.0]])\n",
    "ZZ = np.concatenate([[ZZ[0]-1], ZZ, [ZZ[-1]+1]]) "
   ]
  },
  {
   "cell_type": "code",
   "execution_count": 22,
   "metadata": {
    "collapsed": true
   },
   "outputs": [],
   "source": [
    "ZZ_DS = np.array([-4, -3, -2, -1, -0, 1, 2])\n",
    "fz_tau01 = np.array([1.0e-9, 2.5e-7, 0.02, 0.88, 0.1, 5.0e-4, 1.0e-9])"
   ]
  },
  {
   "cell_type": "code",
   "execution_count": 30,
   "metadata": {
    "collapsed": false
   },
   "outputs": [
    {
     "data": {
      "image/png": "[encoded data removed]",
      "text/plain": [
       "<matplotlib.figure.Figure at 0x7ff209ffd450>"
      ]
     },
     "metadata": {},
     "output_type": "display_data"
    }
   ],
   "source": [
    "fig = plt.figure(figsize=(12,8.2))\n",
    "\n",
    "ax = fig.add_subplot(111)\n",
    "\n",
    "ax.plot(ZZ_DS+0.5, fz_tau01, \"-k\", linewidth=2, drawstyle='steps')\n",
    "#ax.plot(ZZ+0.5, ffz, \"-r\", linewidth=2, drawstyle='steps')\n",
    "\n",
    "ax.set_ylim(1.0e-8, 1.0e0)\n",
    "\n",
    "ax.set_xlim(-4, 2)\n",
    "\n",
    "ax.set_xlabel(\"charge\", fontsize=25)\n",
    "ax.set_ylabel(\"$f(z)$\", fontsize=25)\n",
    "\n",
    "ax.set_yscale(\"log\")\n",
    "\n",
    "fig.show()\n",
    "\n",
    "fig.savefig(\"/home/jcibanezm/Dropbox/Projects/Papers/In_Progress/ChargeDist_Dust/Figures/Apendix/tau01_Draine.pdf\", format=\"pdf\", transparent=True)"
   ]
  },
  {
   "cell_type": "code",
   "execution_count": 32,
   "metadata": {
    "collapsed": true
   },
   "outputs": [],
   "source": [
    "ZZ_DS = np.array([-10,  -9, -8, -7, -6, -5, -4, -3, -2, -1, -0, 1, 2, 3,])\n",
    "fz_tau1 = np.array([1.0e-9, 1.5e-6, 1.0e-4, 4.0e-3, 0.04, 0.2, 0.4, 0.27, 0.07, 0.007, 2.0e-4, 4.0e-6, 2.0e-8, 1.0e-9])"
   ]
  },
  {
   "cell_type": "code",
   "execution_count": 36,
   "metadata": {
    "collapsed": false
   },
   "outputs": [
    {
     "data": {
      "image/png": "[encoded data removed]",
      "text/plain": [
       "<matplotlib.figure.Figure at 0x7ff20a121dd0>"
      ]
     },
     "metadata": {},
     "output_type": "display_data"
    }
   ],
   "source": [
    "fig = plt.figure(figsize=(12,8.2))\n",
    "\n",
    "ax = fig.add_subplot(111)\n",
    "\n",
    "ax.plot(ZZ_DS+0.5, fz_tau1, \"-k\", linewidth=2, drawstyle='steps')\n",
    "#ax.plot(ZZ+0.5, ffz, \"-r\", linewidth=2, drawstyle='steps')\n",
    "\n",
    "ax.set_ylim(1.0e-8, 1.0e0)\n",
    "\n",
    "ax.set_xlim(-12, 6)\n",
    "\n",
    "ax.set_xlabel(\"charge\", fontsize=25)\n",
    "ax.set_ylabel(\"$f(z)$\", fontsize=25)\n",
    "\n",
    "ax.set_yscale(\"log\")\n",
    "\n",
    "fig.show()\n",
    "\n",
    "fig.savefig(\"/home/jcibanezm/Dropbox/Projects/Papers/In_Progress/ChargeDist_Dust/Figures/Apendix/tau1_Draine.pdf\", format=\"pdf\", transparent=True)"
   ]
  },
  {
   "cell_type": "code",
   "execution_count": 97,
   "metadata": {
    "collapsed": true
   },
   "outputs": [],
   "source": [
    "ZZ_DS = np.linspace(-50, -9, num=41)"
   ]
  },
  {
   "cell_type": "code",
   "execution_count": 104,
   "metadata": {
    "collapsed": false
   },
   "outputs": [],
   "source": [
    "a  = 0.137\n",
    "b = -1./(1.+np.sqrt(1.39e-3/10.))-2.504*10. -4\n",
    "c = np.sqrt((1+2.504)/((2+2.504)*(2.504)))*np.sqrt(-1.0*b)\n",
    "fz_tau10  = a* np.exp(-(ZZ_DS - b)**2/(2.* c**2))"
   ]
  },
  {
   "cell_type": "code",
   "execution_count": 105,
   "metadata": {
    "collapsed": false
   },
   "outputs": [
    {
     "name": "stdout",
     "output_type": "stream",
     "text": [
      "-30.0283475542\n"
     ]
    }
   ],
   "source": [
    "print(b)"
   ]
  },
  {
   "cell_type": "code",
   "execution_count": 106,
   "metadata": {
    "collapsed": false
   },
   "outputs": [
    {
     "data": {
      "image/png": "[encoded data removed]",
      "text/plain": [
       "<matplotlib.figure.Figure at 0x7ff20a0bb510>"
      ]
     },
     "metadata": {},
     "output_type": "display_data"
    }
   ],
   "source": [
    "fig = plt.figure(figsize=(12,8.2))\n",
    "\n",
    "ax = fig.add_subplot(111)\n",
    "\n",
    "ax.plot(ZZ_DS+0.5, fz_tau10, \"-k\", linewidth=2, drawstyle='steps')\n",
    "#ax.plot(ZZ+0.5, ffz, \"-r\", linewidth=2, drawstyle='steps')\n",
    "\n",
    "ax.set_ylim(1.0e-8, 1.0e0)\n",
    "\n",
    "ax.set_xlim(-50, -9)\n",
    "\n",
    "ax.set_xlabel(\"charge\", fontsize=25)\n",
    "ax.set_ylabel(\"$f(z)$\", fontsize=25)\n",
    "\n",
    "ax.set_yscale(\"log\")\n",
    "\n",
    "fig.show()\n",
    "\n",
    "fig.savefig(\"/home/jcibanezm/Dropbox/Projects/Papers/In_Progress/ChargeDist_Dust/Figures/Apendix/tau10_Draine.pdf\", format=\"pdf\", transparent=True)"
   ]
  },
  {
   "cell_type": "code",
   "execution_count": null,
   "metadata": {
    "collapsed": true
   },
   "outputs": [],
   "source": []
  }
 ],
 "metadata": {
  "anaconda-cloud": {},
  "kernelspec": {
   "display_name": "Python [default]",
   "language": "python",
   "name": "python2"
  },
  "language_info": {
   "codemirror_mode": {
    "name": "ipython",
    "version": 2
   },
   "file_extension": ".py",
   "mimetype": "text/x-python",
   "name": "python",
   "nbconvert_exporter": "python",
   "pygments_lexer": "ipython2",
   "version": "2.7.13"
  }
 },
 "nbformat": 4,
 "nbformat_minor": 2
}
