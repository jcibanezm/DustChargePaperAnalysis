{
 "cells": [
  {
   "cell_type": "code",
   "execution_count": 1,
   "metadata": {
    "collapsed": false
   },
   "outputs": [
    {
     "name": "stdout",
     "output_type": "stream",
     "text": [
      "Loading the library to compute the charge distribution of dust grains.\n"
     ]
    }
   ],
   "source": [
    "#from memory_profiler import profile\n",
    "import fzMPI\n",
    "from mpi4py import MPI\n",
    "\n",
    "import yt\n",
    "from yt.units import pc, kpc, second, Kelvin, gram, erg, cm\n",
    "\n",
    "import matplotlib.pyplot as plt\n",
    "from matplotlib.colors import LogNorm\n",
    "\n",
    "import numpy as np\n",
    "\n",
    "import compute_charge_dist as fz\n",
    "\n",
    "%matplotlib inline"
   ]
  },
  {
   "cell_type": "code",
   "execution_count": 2,
   "metadata": {
    "collapsed": false
   },
   "outputs": [
    {
     "name": "stderr",
     "output_type": "stream",
     "text": [
      "/home/jcibanezm/codes/libs/miniconda3/lib/python2.7/site-packages/yt/fields/local_fields.py:46: UserWarning: Because 'sampling_type' not specified, yt will assume a cell 'sampling_type'\n",
      "  warnings.warn(\"Because 'sampling_type' not specified, yt will \"\n"
     ]
    }
   ],
   "source": [
    "# Define some constant parameters to be used.\n",
    "mp      = 1.6726e-24  * gram # g\n",
    "mH      = 1.6733e-24  * gram\n",
    "mC      = 12.011*mH\n",
    "#mu      = 1.2924\n",
    "kb      = 1.3806e-16  *erg / Kelvin # erg K-1\n",
    "GNewton = 6.6743e-8   * cm**3 / (gram * second**2 )# cm3 g-1 s-2\n",
    "Msun    = 1.9884e33   * gram\n",
    "#mm      = mu*mp\n",
    "\n",
    "ppc = 3.0856776e18\n",
    "\n",
    "# -------------------------------------------------------------\n",
    "#              Create a lot of new derived fields\n",
    "# -------------------------------------------------------------\n",
    "\n",
    "# -------------------------------------------------------------\n",
    "#              Create a lot of new derived fields\n",
    "# -------------------------------------------------------------\n",
    "\n",
    "# Create a derived field.\n",
    "# Hydrogen number density\n",
    "def numdensH(field, data): \n",
    "    nH = data[\"dens\"]*(data[\"ihp \"]+data[\"iha \"]+data[\"ih2 \"])/(1.4*mH)\n",
    "    return nH\n",
    "\n",
    "# Molecular Hydrogen number density\n",
    "def numdensH2(field, data): \n",
    "    nH2 = data[\"dens\"]*(data[\"ih2 \"])/(1.4*mH)\n",
    "    return nH2\n",
    "\n",
    "# Carbon number density\n",
    "def numdensC(field, data): \n",
    "    nC = data[\"dens\"]*(data[\"icp \"]+data[\"ico \"])/(1.4*mC)\n",
    "    return nC\n",
    "\n",
    "# electron number density\n",
    "def numdense(field, data): \n",
    "    ne = data[\"dens\"]*(data[\"ihp \"]/(1.4*mH) + data[\"icp \"]/(1.4*mC))\n",
    "    return ne\n",
    "\n",
    "# Ionized hydrogen fraction\n",
    "def xHp(field, data): \n",
    "    nH  = data[\"dens\"]*(data[\"ihp \"]+data[\"iha \"]+data[\"ih2 \"])/(1.4*mH)\n",
    "    xHp = data[\"dens\"]*data[\"ihp \"]/(1.4*mH)\n",
    "    xHp = xHp / nH\n",
    "    return xHp\n",
    "\n",
    "# Molecular hydrogen fraction\n",
    "def xH2(field, data): \n",
    "    nH  = data[\"dens\"]*(data[\"ihp \"]+data[\"iha \"]+data[\"ih2 \"])/(1.4*mH)\n",
    "    xH2 = data[\"dens\"]*data[\"ih2 \"]/(1.4*mH)\n",
    "    xH2 = xH2 / nH\n",
    "    return xH2\n",
    "\n",
    "# Ionized carbon fraction\n",
    "def xCp(field, data): \n",
    "    nC  = data[\"dens\"]*(data[\"icp \"]+data[\"ico \"])/(1.4*mC)\n",
    "    xCp = data[\"dens\"]*data[\"icp \"]/(1.4*mC) / nC\n",
    "    return xCp\n",
    "\n",
    "# electron fraction\n",
    "def xe(field, data): \n",
    "    nH = data[\"dens\"]*(data[\"ihp \"]+data[\"iha \"]+data[\"ih2 \"])/(1.4*mH)\n",
    "    nC = data[\"dens\"]*(data[\"icp \"]+data[\"ico \"])/(1.4*mC)\n",
    "    ne = data[\"dens\"]*(data[\"ihp \"]/(1.4*mH) + data[\"icp \"]/(1.4*mC))\n",
    "    xe = ne / (nH + nC)\n",
    "    return xe\n",
    "\n",
    "# electron fraction\n",
    "#def GG(field, data): \n",
    "#    G = fz.get_G(data[\"cdto\"], 1.68)\n",
    "#    return G\n",
    "\n",
    "\n",
    "yt.add_field('nH', function=numdensH,  units=\"1/cm**3\", force_override=True)\n",
    "yt.add_field('nH2',function=numdensH2, units=\"1/cm**3\", force_override=True)\n",
    "yt.add_field('nC', function=numdensC,  units=\"1/cm**3\", force_override=True)\n",
    "yt.add_field('ne', function=numdense,  units=\"1/cm**3\", force_override=True)\n",
    "yt.add_field('xHp', function=xHp,      units=\"dimensionless\", force_override=True)\n",
    "yt.add_field('xH2', function=xH2,      units=\"dimensionless\", force_override=True)\n",
    "yt.add_field('xCp', function=xCp,      units=\"dimensionless\", force_override=True)\n",
    "yt.add_field('xe', function=xe,        units=\"dimensionless\", force_override=True)\n",
    "#yt.add_field('G',  function=GG,        units=\"dimensionless\", force_override=True)"
   ]
  },
  {
   "cell_type": "code",
   "execution_count": 3,
   "metadata": {
    "collapsed": false
   },
   "outputs": [
    {
     "name": "stderr",
     "output_type": "stream",
     "text": [
      "yt : [INFO     ] 2018-11-13 18:14:03,486 Particle file found: NL99_R8_cf_hdf5_chk_0028\n",
      "yt : [INFO     ] 2018-11-13 18:14:03,494 integer runtime parameter checkpointfilenumber overwrites a simulation scalar of the same name\n",
      "yt : [INFO     ] 2018-11-13 18:14:03,495 integer runtime parameter forcedplotfilenumber overwrites a simulation scalar of the same name\n",
      "yt : [INFO     ] 2018-11-13 18:14:03,496 integer runtime parameter nbegin overwrites a simulation scalar of the same name\n",
      "yt : [INFO     ] 2018-11-13 18:14:03,497 integer runtime parameter plotfilenumber overwrites a simulation scalar of the same name\n",
      "yt : [INFO     ] 2018-11-13 18:14:03,523 Parameters: current_time              = 5.68049127342e+14\n",
      "yt : [INFO     ] 2018-11-13 18:14:03,523 Parameters: domain_dimensions         = [32  8  8]\n",
      "yt : [INFO     ] 2018-11-13 18:14:03,524 Parameters: domain_left_edge          = [ -1.97478400e+20  -4.93696000e+19  -4.93696000e+19]\n",
      "yt : [INFO     ] 2018-11-13 18:14:03,525 Parameters: domain_right_edge         = [  1.97478400e+20   4.93696000e+19   4.93696000e+19]\n",
      "yt : [INFO     ] 2018-11-13 18:14:03,526 Parameters: cosmological_simulation   = 0.0\n"
     ]
    },
    {
     "name": "stdout",
     "output_type": "stream",
     "text": [
      "Initializing clock.\n"
     ]
    }
   ],
   "source": [
    "fzMPI.print_to_logfile(\"Initializing clock.\")\n",
    "\n",
    "# Input variables.\n",
    "data_dir   = \"/home/jcibanezm/codes/run/Silcc/CF_Prabesh\"\n",
    "filename   = data_dir + \"/NL99_R8_cf_hdf5_chk_0028\"\n",
    "\n",
    "pf = yt.load(\"%s\"%(filename))"
   ]
  },
  {
   "cell_type": "code",
   "execution_count": 4,
   "metadata": {
    "collapsed": true
   },
   "outputs": [],
   "source": [
    "c  = [0,0,0]\n",
    "le = [-4.93696000e+19, -4.93696000e+19, -4.93696000e+19]\n",
    "re = [ 4.93696000e+19,  4.93696000e+19,  4.93696000e+19]\n",
    "\n",
    "box = pf.box(le, re)"
   ]
  },
  {
   "cell_type": "code",
   "execution_count": 5,
   "metadata": {
    "collapsed": false
   },
   "outputs": [],
   "source": [
    "ncells = len(box[\"nH\"])\n",
    "\n",
    "num_cells     = np.int(1.0e4)"
   ]
  },
  {
   "cell_type": "code",
   "execution_count": 6,
   "metadata": {
    "collapsed": true
   },
   "outputs": [],
   "source": [
    "min_dens = np.min(box[\"density\"])\n",
    "max_dens = np.max(box[\"density\"])\n",
    "\n",
    "min_nh   = np.min(box[\"nH\"])\n",
    "max_nh   = np.max(box[\"nH\"])\n",
    "\n",
    "min_temp = np.min(box[\"temperature\"])\n",
    "max_temp = np.max(box[\"temperature\"])\n",
    "\n",
    "min_ne = np.min(box[\"ne\"])\n",
    "max_ne = np.max(box[\"ne\"])\n",
    "\n",
    "min_xe = np.min(box[\"xe\"])\n",
    "max_xe = np.max(box[\"xe\"])\n",
    "\n",
    "min_Av = np.min(box[\"cdto\"])\n",
    "max_Av = np.max(box[\"cdto\"])"
   ]
  },
  {
   "cell_type": "code",
   "execution_count": 7,
   "metadata": {
    "collapsed": true
   },
   "outputs": [],
   "source": [
    "np.random.seed(1)\n",
    "#np.random.seed(2)\n",
    "\n",
    "ncells = len(box[\"nH\"])\n",
    "n1     = np.int(ncells * 0.01)\n",
    "#n5 = int(1.0e3)\n",
    "rand_index = np.random.randint(0, ncells, n1)\n",
    "\n",
    "# In[24]:\n",
    "temp1= np.array(box[\"temp\"][rand_index])\n",
    "dd1  = np.array(box[\"dens\"][rand_index])\n",
    "nH1  = np.array(box[\"nH\"]  [rand_index])\n",
    "nH21 = np.array(box[\"nH2\"] [rand_index])\n",
    "nC1  = np.array(box[\"nC\"]  [rand_index])\n",
    "ne1  = np.array(box[\"ne\"]  [rand_index])\n",
    "xe1  = np.array(box[\"xe\"]  [rand_index])\n",
    "xHp1 = np.array(box[\"xHp\"] [rand_index])\n",
    "xH21 = np.array(box[\"xH2\"] [rand_index])\n",
    "xCp1 = np.array(box[\"xCp\"] [rand_index])\n",
    "Av1  = np.array(box[\"cdto\"][rand_index])\n",
    "fH2shield1 = np.array(box[\"cdh2\"][rand_index])\n"
   ]
  },
  {
   "cell_type": "code",
   "execution_count": 8,
   "metadata": {
    "collapsed": true
   },
   "outputs": [],
   "source": [
    "np.random.seed(1)\n",
    "#np.random.seed(2)\n",
    "\n",
    "ncells = len(box[\"nH\"])\n",
    "n50     = np.int(ncells * 0.5)\n",
    "#n5 = int(1.0e3)\n",
    "rand_index50 = np.random.randint(0, ncells, n50)\n",
    "\n",
    "# In[24]:\n",
    "temp50= np.array(box[\"temp\"][rand_index50])\n",
    "dd50  = np.array(box[\"dens\"][rand_index50])\n",
    "nH50  = np.array(box[\"nH\"]  [rand_index50])\n",
    "nH250 = np.array(box[\"nH2\"] [rand_index50])\n",
    "nC50  = np.array(box[\"nC\"]  [rand_index50])\n",
    "ne50  = np.array(box[\"ne\"]  [rand_index50])\n",
    "xe50  = np.array(box[\"xe\"]  [rand_index50])\n",
    "xHp50 = np.array(box[\"xHp\"] [rand_index50])\n",
    "xH250 = np.array(box[\"xH2\"] [rand_index50])\n",
    "xCp50 = np.array(box[\"xCp\"] [rand_index50])\n",
    "Av50  = np.array(box[\"cdto\"][rand_index50])\n",
    "fH2shield50 = np.array(box[\"cdh2\"][rand_index50])\n"
   ]
  },
  {
   "cell_type": "code",
   "execution_count": 9,
   "metadata": {
    "collapsed": false
   },
   "outputs": [],
   "source": [
    "import pickle\n",
    "outfile = open('/home/jcibanezm/codes/DustAnalysis/Charge/PaperFigures_DustCharge/new_xe.pkl', 'rb')\n",
    "new_xe = pickle.load(outfile)\n",
    "#pickle.dump(xe_new1000, outfile)\n",
    "outfile.close()"
   ]
  },
  {
   "cell_type": "code",
   "execution_count": 15,
   "metadata": {
    "collapsed": false
   },
   "outputs": [
    {
     "data": {
      "image/png": "[encoded data removed]",
      "text/plain": [
       "<matplotlib.figure.Figure at 0x7fb26510c850>"
      ]
     },
     "metadata": {},
     "output_type": "display_data"
    }
   ],
   "source": [
    "xsize = 12\n",
    "ysize = 10\n",
    "\n",
    "nfigs_x = 2\n",
    "nfigs_y = 2\n",
    "\n",
    "fig = plt.figure(figsize=(xsize, ysize))\n",
    "\n",
    "hpad = 0.205\n",
    "wpad = 0.115\n",
    "w0   = 0.11\n",
    "\n",
    "xs_panel = 0.76 / nfigs_x \n",
    "ys_panel = 0.76 / nfigs_y \n",
    "\n",
    "# Formatting tick labels in log scale.\n",
    "def format_func(value, tick_number):\n",
    "    return \"10$^{%.1f}$\"%value\n",
    "\n",
    "# Formatting tick labels in log scale.\n",
    "def format_func2(value, tick_number):\n",
    "    return \"10$^{%i}$\"%value\n",
    "############################################################################################################\n",
    "############################               5 Angstroms             #######################################\n",
    "############################################################################################################\n",
    "\n",
    "ax = fig.add_axes([0, 0, 1, 1])\n",
    "\n",
    "#ax.plot([0,1], [0,1], visible=False)\n",
    "ax.set_xlim(0,1)\n",
    "ax.set_ylim(0,1)\n",
    "\n",
    "#ax.text(0.18, 0.955, \"title?\", fontsize=20, horizontalalignment='center')\n",
    "\n",
    "plt.axis('off')\n",
    "\n",
    "total_mass = np.sum(box[\"cell_mass\"].in_units(\"Msun\").value)\n",
    "\n",
    "#------------------------------------------------------------------------------------------------\n",
    "# From bottom left, to upper right.\n",
    "ii = 0\n",
    "jj = 0\n",
    "\n",
    "\n",
    "ax = fig.add_axes([w0 + ii*xs_panel+ii*wpad, hpad + jj*ys_panel, xs_panel, ys_panel])\n",
    "\n",
    "#H, xc, yc = np.histogram2d(np.log10(box[\"nH\"]), np.log10(box[\"temp\"]), weights=box[\"cell_mass\"].in_units(\"Msun\"), bins=50)\n",
    "#H_norm = H / np.sum(box[\"cell_mass\"].in_units(\"Msun\").value)\n",
    "\n",
    "cax = ax.hist2d(np.log10(box[\"nH\"]), np.log10(box[\"nH\"]*box[\"xe\"]), bins=50, norm=LogNorm(), weights=box[\"cell_mass\"].in_units(\"Msun\")/total_mass, cmap=\"magma\", range=([[np.log10(min_nh), np.log10(max_nh)],[np.log10(min_ne), np.log10(max_ne)]]), vmin=1.0e-7, vmax=0.1)\n",
    "\n",
    "ax.tick_params(axis='both', which='major', length=10, width=2,  labelsize=20, direction=\"in\")\n",
    "ax.tick_params(axis='both', which='minor', length=5, width=1.5, labelsize=20, direction=\"in\")\n",
    "\n",
    "ax.grid(\"on\")\n",
    "\n",
    "ax.set_xlabel(\"n$_{\\\\mathrm{tot}}$ [cm$^{-3}$]\", fontsize=25)\n",
    "ax.set_ylabel(\"n$_{\\\\mathrm{e}}$ [cm$^{-3}$]\", fontsize=25)\n",
    "\n",
    "ax.tick_params(axis='both', which='major', length=4, width=2, labelsize=20)\n",
    "\n",
    "ax.set_ylim(-4.5, -0.2)\n",
    "\n",
    "ax.xaxis.set_major_formatter(plt.FuncFormatter(format_func2))\n",
    "ax.yaxis.set_major_formatter(plt.FuncFormatter(format_func))\n",
    "\n",
    "#------------------------------------------------------------------------------------------------\n",
    "# From bottom left, to upper right.\n",
    "ii = 1\n",
    "jj = 0\n",
    "\n",
    "\n",
    "ax = fig.add_axes([wpad + ii*xs_panel+ii*wpad, hpad + jj*ys_panel, xs_panel, ys_panel])\n",
    "\n",
    "ax.hist2d(np.log10(box[\"nH\"]), np.log10(box[\"nH\"]*new_xe), bins=50, norm=LogNorm(), weights=box[\"cell_mass\"].in_units(\"Msun\")/total_mass, cmap=\"magma\", range=([[np.log10(min_nh), np.log10(max_nh)],[np.log10(min_ne), np.log10(max_ne)]]), vmin=1.0e-7, vmax=0.1)\n",
    "\n",
    "ax.tick_params(axis='both', which='major', length=10, width=2,  labelsize=20, direction=\"in\")\n",
    "ax.tick_params(axis='both', which='minor', length=5, width=1.5, labelsize=20, direction=\"in\")\n",
    "\n",
    "ax.grid(\"on\")\n",
    "\n",
    "ax.set_xlabel(\"n$_{\\\\mathrm{tot}}$ [cm$^{-3}$]\", fontsize=25)\n",
    "ax.set_ylabel(\"n$_{\\\\mathrm{e}}$ [cm$^{-3}$]\", fontsize=25)\n",
    "\n",
    "ax.tick_params(axis='both', which='major', length=4, width=2, labelsize=20)\n",
    "\n",
    "ax.set_ylim(-4.5, -0.2)\n",
    "\n",
    "ax.xaxis.set_major_formatter(plt.FuncFormatter(format_func2))\n",
    "ax.yaxis.set_major_formatter(plt.FuncFormatter(format_func))\n",
    "\n",
    "\n",
    "#------------------------------------------------------------------------------------------------\n",
    "# From bottom left, to upper right.\n",
    "ii = 0\n",
    "jj = 1\n",
    "\n",
    "\n",
    "ax = fig.add_axes([w0 + ii*xs_panel+ii*wpad, hpad + jj*ys_panel, xs_panel, ys_panel])\n",
    "\n",
    "ax.hist2d(np.log10(box[\"nH\"]), np.log10(box[\"xe\"]), bins=50, norm=LogNorm(), weights=box[\"cell_mass\"].in_units(\"Msun\")/total_mass, cmap=\"magma\", range=([[np.log10(min_nh), np.log10(max_nh)],[np.log10(min_xe), np.log10(max_xe)]]), vmin=1.0e-7, vmax=0.1)\n",
    "\n",
    "ax.tick_params(axis='both', which='major', length=10, width=2,  labelsize=20, direction=\"in\")\n",
    "ax.tick_params(axis='both', which='minor', length=5, width=1.5, labelsize=20, direction=\"in\")\n",
    "\n",
    "ax.grid(\"on\")\n",
    "\n",
    "ax.set_xlabel(\"log$_{10}$(n$_{\\\\mathrm{tot}}$) [cm$^{-3}$]\", fontsize=0)\n",
    "ax.set_ylabel(\"$\\\\chi_{\\\\mathrm{e}}$\", fontsize=25)\n",
    "\n",
    "ax.tick_params(axis='both', which='major', length=4, width=2, labelsize=15)\n",
    "ax.tick_params(axis='x', labelbottom='off')\n",
    "\n",
    "#ax.set_ylim(-11, -0.2)\n",
    "ax.xaxis.set_major_formatter(plt.FuncFormatter(format_func2))\n",
    "ax.yaxis.set_major_formatter(plt.FuncFormatter(format_func2))\n",
    "\n",
    "#------------------------------------------------------------------------------------------------\n",
    "# From bottom left, to upper right.\n",
    "ii = 1\n",
    "jj = 1\n",
    "\n",
    "\n",
    "ax = fig.add_axes([wpad + ii*xs_panel+ii*wpad, hpad + jj*ys_panel, xs_panel, ys_panel])\n",
    "\n",
    "ax.hist2d(np.log10(box[\"nH\"]), np.log10(new_xe), bins=50, norm=LogNorm(), weights=box[\"cell_mass\"].in_units(\"Msun\")/total_mass, cmap=\"magma\", range=([[np.log10(min_nh), np.log10(max_nh)],[np.log10(min_xe), np.log10(max_xe)]]), vmin=1.0e-7, vmax=0.1)\n",
    "\n",
    "ax.tick_params(axis='both', which='major', length=10, width=2,  labelsize=20, direction=\"in\")\n",
    "ax.tick_params(axis='both', which='minor', length=5, width=1.5, labelsize=20, direction=\"in\")\n",
    "\n",
    "ax.grid(\"on\")\n",
    "\n",
    "ax.set_xlabel(\"log$_{10}$(n$_{\\\\mathrm{tot}}$) [cm$^{-3}$]\", fontsize=00)\n",
    "ax.set_ylabel(\"$\\\\chi_{\\\\mathrm{e}}$\", fontsize=25)\n",
    "\n",
    "ax.tick_params(axis='both', which='major', length=4, width=2, labelsize=15)\n",
    "ax.tick_params(axis='x', labelbottom='off')\n",
    "\n",
    "ax.xaxis.set_major_formatter(plt.FuncFormatter(format_func2))\n",
    "ax.yaxis.set_major_formatter(plt.FuncFormatter(format_func2))\n",
    "\n",
    "# Add colorbar.\n",
    "\n",
    "#cax[3] = cax[3]/np.sum(box[\"cell_mass\"].in_units(\"Msun\").value)\n",
    "\n",
    "cbar_ax = fig.add_axes([0.051, 0.08, 0.92, 0.035])\n",
    "cbar    = fig.colorbar(cax[3], cax=cbar_ax, orientation=\"horizontal\")\n",
    "#cbar    = fig.colorbar(cax, cax=cbar_ax, orientation=\"horizontal\")\n",
    "\n",
    "cbar.set_label(\"$M/M_{\\mathrm{tot}}$\", fontsize=25, labelpad=1)\n",
    "cbar.ax.tick_params(labelsize=20)\n",
    "\n",
    "fig.show()\n",
    "\n",
    "fig.savefig(\"/home/jcibanezm/Dropbox/Projects/Papers/In_Progress/ChargeDist_Dust/Figures/Apendix/IonizationFraction_Comp.pdf\", format=\"pdf\")\n",
    "#fig.savefig(\"/home/jcibanezm/Dropbox/Projects/Papers/In_Progress/ChargeDist_Dust/Figures/Apendix/newionfrac.pdf\", format=\"pdf\")"
   ]
  }
 ],
 "metadata": {
  "anaconda-cloud": {},
  "kernelspec": {
   "display_name": "Python [conda root]",
   "language": "python",
   "name": "conda-root-py"
  },
  "language_info": {
   "codemirror_mode": {
    "name": "ipython",
    "version": 2
   },
   "file_extension": ".py",
   "mimetype": "text/x-python",
   "name": "python",
   "nbconvert_exporter": "python",
   "pygments_lexer": "ipython2",
   "version": "2.7.15"
  }
 },
 "nbformat": 4,
 "nbformat_minor": 2
}
