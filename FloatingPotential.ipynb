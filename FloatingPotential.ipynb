{
 "cells": [
  {
   "cell_type": "code",
   "execution_count": 2,
   "metadata": {
    "collapsed": false
   },
   "outputs": [
    {
     "name": "stdout",
     "output_type": "stream",
     "text": [
      "Loading the charge distribution for 500 and 1000 Angstrom grains\n"
     ]
    }
   ],
   "source": [
    "import pickle\n",
    "import numpy as np\n",
    "import matplotlib.pyplot as plt\n",
    "from   matplotlib.colors import LogNorm\n",
    "\n",
    "import compute_charge_dist as fz\n",
    "\n",
    "from scipy.optimize import curve_fit\n",
    "\n",
    "import time\n",
    "\n",
    "%matplotlib inline\n",
    "\n",
    "\n",
    "#grain_type = \"silicate\"\n",
    "grain_type = \"carbonaceous\"\n",
    "pcent      = 1\n",
    "\n",
    "include_500_1000 = True\n",
    "\n",
    "########################################################################################\n",
    "\n",
    "grain_size = 3\n",
    "\n",
    "save_dir = \"/home/jcibanezm/codes/run/ChargeStatisticsAnalysis/Daikaiju\"\n",
    "filename = \"fz_%.4iAA_%s_CR_True_%i_pcent.pkl\"%(grain_size, grain_type, pcent) \n",
    "\n",
    "pkl_file    = open(\"%s/%s\"%(save_dir, filename), \"rb\")\n",
    "cdist_3AA = pickle.load(pkl_file)\n",
    "pkl_file.close\n",
    "\n",
    "########################################################################################\n",
    "\n",
    "grain_size = 5\n",
    "\n",
    "save_dir = \"/home/jcibanezm/codes/run/ChargeStatisticsAnalysis/Daikaiju\"\n",
    "filename = \"fz_%.4iAA_%s_CR_True_%i_pcent.pkl\"%(grain_size, grain_type, pcent) \n",
    "\n",
    "pkl_file    = open(\"%s/%s\"%(save_dir, filename), \"rb\")\n",
    "cdist_5AA = pickle.load(pkl_file)\n",
    "pkl_file.close\n",
    "\n",
    "########################################################################################\n",
    "\n",
    "grain_size = 10\n",
    "\n",
    "save_dir = \"/home/jcibanezm/codes/run/ChargeStatisticsAnalysis/Daikaiju\"\n",
    "filename = \"fz_%.4iAA_%s_CR_True_%i_pcent.pkl\"%(grain_size, grain_type, pcent) \n",
    "\n",
    "pkl_file    = open(\"%s/%s\"%(save_dir, filename), \"rb\")\n",
    "cdist_10AA = pickle.load(pkl_file)\n",
    "pkl_file.close\n",
    "\n",
    "########################################################################################\n",
    "\n",
    "grain_size = 50\n",
    "\n",
    "save_dir = \"/home/jcibanezm/codes/run/ChargeStatisticsAnalysis/Daikaiju\"\n",
    "filename = \"fz_%.4iAA_%s_CR_True_%i_pcent.pkl\"%(grain_size, grain_type, pcent) \n",
    "\n",
    "pkl_file    = open(\"%s/%s\"%(save_dir, filename), \"rb\")\n",
    "cdist_50AA = pickle.load(pkl_file)\n",
    "pkl_file.close\n",
    "\n",
    "########################################################################################\n",
    "\n",
    "grain_size = 100\n",
    "\n",
    "save_dir = \"/home/jcibanezm/codes/run/ChargeStatisticsAnalysis/Daikaiju\"\n",
    "filename = \"fz_%.4iAA_%s_CR_True_%i_pcent.pkl\"%(grain_size, grain_type, pcent) \n",
    "\n",
    "pkl_file    = open(\"%s/%s\"%(save_dir, filename), \"rb\")\n",
    "cdist_100AA = pickle.load(pkl_file)\n",
    "pkl_file.close\n",
    "\n",
    "########################################################################################\n",
    "\n",
    "if include_500_1000 == True:\n",
    "    print(\"Loading the charge distribution for 500 and 1000 Angstrom grains\")\n",
    "    grain_size = 500\n",
    "    pcent      = 0.1\n",
    "\n",
    "    save_dir = \"/home/jcibanezm/codes/run/ChargeStatisticsAnalysis/Daikaiju\"\n",
    "    filename = \"fz_%.4iAA_%s_CR_True_%i_pcent.pkl\"%(grain_size, grain_type, pcent) \n",
    "\n",
    "    pkl_file    = open(\"%s/%s\"%(save_dir, filename), \"rb\")\n",
    "    cdist_500AA = pickle.load(pkl_file)\n",
    "    pkl_file.close\n",
    "\n",
    "    ########################################################################################\n",
    "\n",
    "    grain_size = 1000\n",
    "\n",
    "    save_dir = \"/home/jcibanezm/codes/run/ChargeStatisticsAnalysis/Daikaiju\"\n",
    "    filename = \"fz_%.4iAA_%s_CR_True_%i_pcent.pkl\"%(grain_size, grain_type, pcent) \n",
    "\n",
    "    pkl_file    = open(\"%s/%s\"%(save_dir, filename), \"rb\")\n",
    "    cdist_1000AA = pickle.load(pkl_file)\n",
    "    pkl_file.close\n"
   ]
  },
  {
   "cell_type": "code",
   "execution_count": 5,
   "metadata": {
    "collapsed": false
   },
   "outputs": [],
   "source": [
    "too_high = np.where(cdist_3AA[\"nH\"] > 2.0e4)\n",
    "if include_500_1000 == True:\n",
    "    too_high_500_1000 = np.where(cdist_500AA[\"nH\"] > 2.0e4)\n",
    "    \n",
    "ii = 0\n",
    "for key in cdist_3AA.keys():\n",
    "    #arrs.append(0)\n",
    "    if key!=\"Qabs_mean\" and key!=\"grain_size\" and key!=\"grain_type\" and key!=\"MPI\" and key!=\"fdist\" and key!=\"info\" and key!=\"zminmax\":\n",
    "        #print(key)\n",
    "        cdist_3AA[key]    = np.delete(cdist_3AA[key],    too_high)\n",
    "        cdist_5AA[key]    = np.delete(cdist_5AA[key],    too_high)\n",
    "        cdist_10AA[key]   = np.delete(cdist_10AA[key],   too_high)\n",
    "        cdist_50AA[key]   = np.delete(cdist_50AA[key],   too_high)\n",
    "        cdist_100AA[key]  = np.delete(cdist_100AA[key],  too_high)\n",
    "        if include_500_1000 == True:\n",
    "            cdist_500AA[key]  = np.delete(cdist_500AA[key],  too_high_500_1000)\n",
    "            cdist_1000AA[key] = np.delete(cdist_1000AA[key], too_high_500_1000)\n",
    "    #ii +=1"
   ]
  },
  {
   "cell_type": "code",
   "execution_count": 6,
   "metadata": {
    "collapsed": false
   },
   "outputs": [],
   "source": [
    "G_CR = np.zeros_like(cdist_3AA[\"G\"])\n",
    "\n",
    "for i in range(len(G_CR)):\n",
    "    G_CR[i] = fz.get_G_CR(cdist_3AA[\"fH2shield\"][i])\n",
    "    \n",
    "# Run only if I have a 500 and 1000 AA grain size.\n",
    "\n",
    "if include_500_1000 == True:\n",
    "\n",
    "    G_CR_500 = np.zeros_like(cdist_500AA[\"G\"])\n",
    "\n",
    "    for i in range(len(G_CR_500)):\n",
    "        G_CR_500[i] = fz.get_G_CR(cdist_500AA[\"fH2shield\"][i])"
   ]
  },
  {
   "cell_type": "code",
   "execution_count": 7,
   "metadata": {
    "collapsed": false
   },
   "outputs": [],
   "source": [
    "GTn_3AA    = (cdist_3AA[\"G\"]   +G_CR) * np.sqrt(cdist_3AA[\"temp\"])   / cdist_3AA[\"ne\"] \n",
    "GTn_5AA    = (cdist_5AA[\"G\"]   +G_CR) * np.sqrt(cdist_5AA[\"temp\"])   / cdist_5AA[\"ne\"] \n",
    "GTn_10AA   = (cdist_10AA[\"G\"]  +G_CR) * np.sqrt(cdist_10AA[\"temp\"])  / cdist_10AA[\"ne\"] \n",
    "GTn_50AA   = (cdist_50AA[\"G\"]  +G_CR) * np.sqrt(cdist_50AA[\"temp\"])  / cdist_50AA[\"ne\"] \n",
    "GTn_100AA  = (cdist_100AA[\"G\"] +G_CR) * np.sqrt(cdist_100AA[\"temp\"]) / cdist_100AA[\"ne\"] \n",
    "\n",
    "if include_500_1000 == True:\n",
    "    GTn_500AA  = (cdist_500AA[\"G\"] +G_CR_500) * np.sqrt(cdist_500AA[\"temp\"])  / cdist_500AA[\"ne\"] \n",
    "    GTn_1000AA = (cdist_1000AA[\"G\"][0:8579]+G_CR_500) * np.sqrt(cdist_1000AA[\"temp\"][0:8579]) / cdist_1000AA[\"ne\"][0:8579] "
   ]
  },
  {
   "cell_type": "code",
   "execution_count": 8,
   "metadata": {
    "collapsed": false
   },
   "outputs": [],
   "source": [
    "from scipy.stats import gaussian_kde\n",
    "\n",
    "kernel      = gaussian_kde(GTn_3AA)\n",
    "GTn_density = kernel(GTn_3AA)\n",
    "sigma       = 1./GTn_density\n",
    "\n",
    "if include_500_1000 == True:\n",
    "    kernel_500      = gaussian_kde(GTn_500AA)\n",
    "    GTn_density_500 = kernel(GTn_500AA)\n",
    "    sigma_500       = 1./GTn_density_500"
   ]
  },
  {
   "cell_type": "code",
   "execution_count": 15,
   "metadata": {
    "collapsed": true
   },
   "outputs": [],
   "source": [
    "largeGTn_3AA  = np.where(GTn_3AA > 50)\n",
    "\n",
    "Z_smallGTn_3AA   = np.delete(cdist_3AA[\"zmean\"], largeGTn_3AA)\n",
    "Z_smallGTn_5AA   = np.delete(cdist_5AA[\"zmean\"], largeGTn_3AA)\n",
    "Z_smallGTn_10AA  = np.delete(cdist_10AA[\"zmean\"], largeGTn_3AA)\n",
    "Z_smallGTn_50AA  = np.delete(cdist_50AA[\"zmean\"], largeGTn_3AA)\n",
    "Z_smallGTn_100AA = np.delete(cdist_100AA[\"zmean\"], largeGTn_3AA)\n",
    "\n",
    "Zavg_GTnsmall_3AA   = np.mean(Z_smallGTn_3AA)/3.0\n",
    "Zavg_GTnsmall_5AA   = np.mean(Z_smallGTn_5AA)/5.0\n",
    "Zavg_GTnsmall_10AA  = np.mean(Z_smallGTn_10AA)/10.0\n",
    "Zavg_GTnsmall_50AA  = np.mean(Z_smallGTn_50AA)/50.0\n",
    "Zavg_GTnsmall_100AA = np.mean(Z_smallGTn_100AA)/100.0\n",
    "\n",
    "if include_500_1000 == True:\n",
    "    largeGTn_500AA  = np.where(GTn_500AA > 50)\n",
    "    largeGTn_1000AA  = np.where(GTn_1000AA > 50)\n",
    "\n",
    "    Z_smallGTn_500AA   = np.delete(cdist_500AA[\"zmean\"], largeGTn_500AA)\n",
    "    Z_smallGTn_1000AA   = np.delete(cdist_1000AA[\"zmean\"], largeGTn_1000AA)\n",
    "    \n",
    "    Zavg_GTnsmall_500AA = np.mean(Z_smallGTn_500AA)/500.0\n",
    "    Zavg_GTnsmall_1000AA = np.mean(Z_smallGTn_1000AA)/1000.0"
   ]
  },
  {
   "cell_type": "code",
   "execution_count": 16,
   "metadata": {
    "collapsed": true
   },
   "outputs": [],
   "source": [
    "# New function including powers between -3, 3\n",
    "# def function(x,alpha1, beta1, gamma1, alpha2, beta2, gamma2):\n",
    "#def function(x, alpha1, aa, bb):\n",
    "\n",
    "#    GTn0 = aa*x[:]**(alpha1) + bb\n",
    "    \n",
    "#    return GTn0"
   ]
  },
  {
   "cell_type": "code",
   "execution_count": 17,
   "metadata": {
    "collapsed": false
   },
   "outputs": [],
   "source": [
    "#popt_3AA,   pcov_3AA    = curve_fit(function, GTn_3AA,   cdist_3AA[\"zmean\"],    p0=[0.5, 0.01, -0.1], sigma=sigma, absolute_sigma=True)\n",
    "#popt_5AA,   pcov_5AA    = curve_fit(function, GTn_5AA,   cdist_5AA[\"zmean\"],    p0=[0.4, 0.03, -0.3], sigma=sigma, absolute_sigma=True)\n",
    "#popt_10AA,  pcov_10AA   = curve_fit(function, GTn_10AA,  cdist_10AA[\"zmean\"],   p0=[0.4, 0.04, -0.5], sigma=sigma, absolute_sigma=True)\n",
    "#popt_50AA,  pcov_50AA   = curve_fit(function, GTn_50AA,  cdist_50AA[\"zmean\"],   p0=[0.4, 0.02, -2.5], sigma=sigma, absolute_sigma=True)\n",
    "#popt_100AA, pcov_100AA  = curve_fit(function, GTn_100AA, cdist_100AA[\"zmean\"],  p0=[0.3, 2.0,  -10.], sigma=sigma, absolute_sigma=True)\n",
    "\n",
    "#if include_500_1000 == True:\n",
    "#    popt_500AA, pcov_500AA  = curve_fit(function, GTn_500AA, cdist_500AA[\"zmean\"],  p0=[0.3, 10.,  -30.], sigma=sigma_500, absolute_sigma=True)\n",
    "#    popt_1000AA,pcov_1000AA = curve_fit(function, GTn_1000AA,cdist_1000AA[\"zmean\"][0:8579], p0=[0.5, 5.7, -50],   sigma=sigma_500, absolute_sigma=True)"
   ]
  },
  {
   "cell_type": "code",
   "execution_count": 18,
   "metadata": {
    "collapsed": true
   },
   "outputs": [],
   "source": [
    "# New function like a press schechter like, combining a power law and an exponential growth.\n",
    "\n",
    "# New function including powers between -3, 3\n",
    "# def function(x,alpha1, beta1, gamma1, alpha2, beta2, gamma2):\n",
    "def function(x, alpha, aa, bb, hh):\n",
    "\n",
    "    Zcent = aa * (x[:])**alpha * (1.0 - np.exp(-x[:]/hh)) + bb\n",
    "    \n",
    "    return Zcent"
   ]
  },
  {
   "cell_type": "code",
   "execution_count": 20,
   "metadata": {
    "collapsed": false
   },
   "outputs": [],
   "source": [
    "# Put some boundries to the slopes and the parameters.\n",
    "\n",
    "popt_3AA,   pcov_3AA    = curve_fit(function, GTn_3AA,   cdist_3AA[\"zmean\"]/3.0,  sigma=sigma, bounds=([-np.inf, -np.inf, Zavg_GTnsmall_3AA-np.abs(Zavg_GTnsmall_3AA*0.1), -np.inf], [np.inf, np.inf, Zavg_GTnsmall_3AA+np.abs(Zavg_GTnsmall_3AA*0.1), np.inf]))\n",
    "popt_5AA,   pcov_5AA    = curve_fit(function, GTn_5AA,   cdist_5AA[\"zmean\"]/5.0,  sigma=sigma, bounds=([-np.inf, -np.inf, Zavg_GTnsmall_5AA-np.abs(Zavg_GTnsmall_5AA*0.1), -np.inf], [np.inf, np.inf, Zavg_GTnsmall_5AA+np.abs(Zavg_GTnsmall_5AA*0.1), np.inf]))\n",
    "popt_10AA,  pcov_10AA   = curve_fit(function, GTn_10AA,  cdist_10AA[\"zmean\"]/10.0, sigma=sigma, bounds=([-np.inf, -np.inf, Zavg_GTnsmall_10AA-np.abs(Zavg_GTnsmall_10AA*0.1), -np.inf], [np.inf, np.inf, Zavg_GTnsmall_10AA+np.abs(Zavg_GTnsmall_10AA*0.1), np.inf]))\n",
    "popt_50AA,  pcov_50AA   = curve_fit(function, GTn_50AA,  cdist_50AA[\"zmean\"]/50.0, sigma=sigma, bounds=([-np.inf, -np.inf, Zavg_GTnsmall_50AA-np.abs(Zavg_GTnsmall_50AA*0.1), -np.inf], [np.inf, np.inf, Zavg_GTnsmall_50AA+np.abs(Zavg_GTnsmall_50AA*0.1), np.inf]))\n",
    "popt_100AA, pcov_100AA  = curve_fit(function, GTn_100AA, cdist_100AA[\"zmean\"]/100.0,sigma=sigma, bounds=([-np.inf, -np.inf, Zavg_GTnsmall_100AA-np.abs(Zavg_GTnsmall_100AA*0.1), -np.inf], [np.inf, np.inf, Zavg_GTnsmall_100AA+np.abs(Zavg_GTnsmall_100AA*0.1), np.inf]))\n",
    "\n",
    "if include_500_1000 == True:\n",
    "    popt_500AA, pcov_500AA  = curve_fit(function, GTn_500AA, cdist_500AA[\"zmean\"]/500.0, sigma=sigma_500, bounds=([-np.inf, -np.inf, Zavg_GTnsmall_500AA-np.abs(Zavg_GTnsmall_500AA*0.1), -np.inf], [np.inf, np.inf, Zavg_GTnsmall_500AA+np.abs(Zavg_GTnsmall_500AA*0.1), np.inf]))\n",
    "    popt_1000AA,pcov_1000AA = curve_fit(function, GTn_1000AA,cdist_1000AA[\"zmean\"][0:8579]/1000.0, sigma=sigma_500, bounds=([-np.inf, -np.inf, Zavg_GTnsmall_1000AA-np.abs(Zavg_GTnsmall_1000AA*0.1), -np.inf], [np.inf, np.inf, Zavg_GTnsmall_1000AA+np.abs(Zavg_GTnsmall_1000AA*0.1), np.inf]))"
   ]
  },
  {
   "cell_type": "markdown",
   "metadata": {},
   "source": [
    "I am parameterizing the Charging parameter with the following equation:\n",
    "\n",
    "## $aa \\left( \\frac{G^{tot} T^{0.5}}{n_{e}} \\right)^{\\alpha} + bb$\n",
    "\n",
    "## $aa \\left( \\frac{G^{tot} T^{0.5}}{n_{e}} \\right)^{\\alpha}*(1- exp(GT^{0.5}/n_{e} / h)) + bb$"
   ]
  },
  {
   "cell_type": "markdown",
   "metadata": {
    "collapsed": true
   },
   "source": [
    "---"
   ]
  },
  {
   "cell_type": "markdown",
   "metadata": {},
   "source": [
    "---\n",
    "\n",
    "## Now for the charge width"
   ]
  },
  {
   "cell_type": "code",
   "execution_count": 21,
   "metadata": {
    "collapsed": false
   },
   "outputs": [],
   "source": [
    "cdist_pos_3AA = cdist_3AA.copy()\n",
    "cdist_neg_3AA = cdist_3AA.copy()\n",
    "\n",
    "positive_3AA = np.where(cdist_pos_3AA[\"zmean\"] >= 0.0)\n",
    "negative_3AA = np.where(cdist_neg_3AA[\"zmean\"] <  0.0)\n",
    "\n",
    "cdist_pos_5AA = cdist_5AA.copy()\n",
    "cdist_neg_5AA = cdist_5AA.copy()\n",
    "\n",
    "positive_5AA = np.where(cdist_pos_5AA[\"zmean\"] >= 0.0)\n",
    "negative_5AA = np.where(cdist_neg_5AA[\"zmean\"] <  0.0)\n",
    "\n",
    "cdist_pos_10AA = cdist_10AA.copy()\n",
    "cdist_neg_10AA = cdist_10AA.copy()\n",
    "\n",
    "positive_10AA = np.where(cdist_pos_10AA[\"zmean\"] >= 0.0)\n",
    "negative_10AA = np.where(cdist_neg_10AA[\"zmean\"] <  0.0)\n",
    "\n",
    "cdist_pos_50AA = cdist_50AA.copy()\n",
    "cdist_neg_50AA = cdist_50AA.copy()\n",
    "\n",
    "positive_50AA = np.where(cdist_pos_50AA[\"zmean\"] >= 0.0)\n",
    "negative_50AA = np.where(cdist_neg_50AA[\"zmean\"] <  0.0)\n",
    "\n",
    "cdist_pos_100AA = cdist_100AA.copy()\n",
    "cdist_neg_100AA = cdist_100AA.copy()\n",
    "\n",
    "positive_100AA = np.where(cdist_pos_100AA[\"zmean\"] >= 0.0)\n",
    "negative_100AA = np.where(cdist_neg_100AA[\"zmean\"] <  0.0)\n",
    "\n",
    "if include_500_1000 == True:\n",
    "    cdist_pos_500AA = cdist_500AA.copy()\n",
    "    cdist_neg_500AA = cdist_500AA.copy()\n",
    "\n",
    "    positive_500AA = np.where(cdist_pos_500AA[\"zmean\"] >= 0.0)\n",
    "    negative_500AA = np.where(cdist_neg_500AA[\"zmean\"] <  0.0)\n",
    "\n",
    "    cdist_pos_1000AA = cdist_1000AA.copy()\n",
    "    cdist_neg_1000AA = cdist_1000AA.copy()\n",
    "\n",
    "    positive_1000AA = np.where(cdist_pos_1000AA[\"zmean\"] >= 0.0)\n",
    "    negative_1000AA = np.where(cdist_neg_1000AA[\"zmean\"] <  0.0)\n",
    "\n",
    "\n",
    "ii = 0\n",
    "for key in cdist_3AA.keys():\n",
    "    #arrs.append(0)\n",
    "    if key!=\"Qabs_mean\" and key!=\"grain_size\" and key!=\"grain_type\" and key!=\"MPI\" and key!=\"fdist\" and key!=\"info\" and key!=\"zminmax\":\n",
    "        #print(key)\n",
    "        cdist_neg_3AA[key] = np.delete(cdist_neg_3AA[key], positive_3AA)\n",
    "        cdist_pos_3AA[key] = np.delete(cdist_pos_3AA[key], negative_3AA)\n",
    "\n",
    "        cdist_neg_5AA[key] = np.delete(cdist_neg_5AA[key], positive_5AA)\n",
    "        cdist_pos_5AA[key] = np.delete(cdist_pos_5AA[key], negative_5AA)\n",
    "\n",
    "        cdist_neg_10AA[key] = np.delete(cdist_neg_10AA[key], positive_10AA)\n",
    "        cdist_pos_10AA[key] = np.delete(cdist_pos_10AA[key], negative_10AA)\n",
    "\n",
    "        cdist_neg_50AA[key] = np.delete(cdist_neg_50AA[key], positive_50AA)\n",
    "        cdist_pos_50AA[key] = np.delete(cdist_pos_50AA[key], negative_50AA)\n",
    "\n",
    "        cdist_neg_100AA[key] = np.delete(cdist_neg_100AA[key], positive_100AA)\n",
    "        cdist_pos_100AA[key] = np.delete(cdist_pos_100AA[key], negative_100AA)\n",
    "\n",
    "        if include_500_1000 == True:\n",
    "            cdist_neg_500AA[key] = np.delete(cdist_neg_500AA[key], positive_500AA)\n",
    "            cdist_pos_500AA[key] = np.delete(cdist_pos_500AA[key], negative_500AA)\n",
    "\n",
    "            cdist_neg_1000AA[key] = np.delete(cdist_neg_1000AA[key], positive_1000AA)\n",
    "            cdist_pos_1000AA[key] = np.delete(cdist_pos_1000AA[key], negative_1000AA)\n",
    "\n"
   ]
  },
  {
   "cell_type": "code",
   "execution_count": 22,
   "metadata": {
    "collapsed": true
   },
   "outputs": [],
   "source": [
    "# New function including powers between -3, 3\n",
    "# def function(x,alpha1, beta1, gamma1, alpha2, beta2, gamma2):\n",
    "def function_sigma_pos(x, aa, bb, hh):\n",
    "\n",
    "    #sigma_par = aa*(1. - np.exp(-np.abs(x[:])/hh)) + bb\n",
    "    sigma_par = aa*(1. - np.exp(-x[:]/hh)) + bb\n",
    "    \n",
    "    return sigma_par\n",
    "\n",
    "# New function including powers between -3, 3\n",
    "# def function(x,alpha1, beta1, gamma1, alpha2, beta2, gamma2):\n",
    "def function_sigma_neg(x, aa, bb, hh):\n",
    "\n",
    "    #sigma_par = aa*(1. - np.exp(-np.abs(x[:])/hh)) + bb\n",
    "    sigma_par = aa*(1. - np.exp(-np.abs(x[:])/hh)) + bb\n",
    "    \n",
    "    return sigma_par"
   ]
  },
  {
   "cell_type": "code",
   "execution_count": 23,
   "metadata": {
    "collapsed": false
   },
   "outputs": [
    {
     "name": "stderr",
     "output_type": "stream",
     "text": [
      "/home/jcibanezm/codes/libs/miniconda3/lib/python2.7/site-packages/ipykernel/__main__.py:15: RuntimeWarning: overflow encountered in exp\n"
     ]
    }
   ],
   "source": [
    "popt_zstd_pos_3AA, pcov_zstd_pos_3AA = curve_fit(function_sigma_pos, cdist_pos_3AA[\"zmean\"], cdist_pos_3AA[\"zstd\"], p0=[0.3, 0.25, 0.8])\n",
    "popt_zstd_neg_3AA, pcov_zstd_neg_3AA = curve_fit(function_sigma_neg, cdist_neg_3AA[\"zmean\"], cdist_neg_3AA[\"zstd\"], bounds=([-np.inf, popt_zstd_pos_3AA[1]*0.999, -np.inf], [np.inf, popt_zstd_pos_3AA[1]*1.001, np.inf]), p0=[-0.1, popt_zstd_pos_3AA[1], 0.1])\n",
    "\n",
    "popt_zstd_pos_5AA, pcov_zstd_pos_5AA = curve_fit(function_sigma_pos, cdist_pos_5AA[\"zmean\"], cdist_pos_5AA[\"zstd\"], p0=[0.3, 0.25, 0.8])\n",
    "popt_zstd_neg_5AA, pcov_zstd_neg_5AA = curve_fit(function_sigma_neg, cdist_neg_5AA[\"zmean\"], cdist_neg_5AA[\"zstd\"], bounds=([-np.inf, popt_zstd_pos_5AA[1]*0.999, -np.inf], [np.inf, popt_zstd_pos_5AA[1]*1.001, np.inf]), p0=[0.1, popt_zstd_pos_5AA[1], 1.0])\n",
    "\n",
    "popt_zstd_pos_10AA, pcov_zstd_pos_10AA = curve_fit(function_sigma_pos, cdist_pos_10AA[\"zmean\"], cdist_pos_10AA[\"zstd\"])\n",
    "popt_zstd_neg_10AA, pcov_zstd_neg_10AA = curve_fit(function_sigma_neg, cdist_neg_10AA[\"zmean\"], cdist_neg_10AA[\"zstd\"], bounds=([-np.inf, popt_zstd_pos_10AA[1]*0.999, -np.inf], [np.inf, popt_zstd_pos_10AA[1]*1.001, np.inf]))\n",
    "\n",
    "popt_zstd_pos_50AA, pcov_zstd_pos_50AA = curve_fit(function_sigma_pos, cdist_pos_50AA[\"zmean\"], cdist_pos_50AA[\"zstd\"])\n",
    "popt_zstd_neg_50AA, pcov_zstd_neg_50AA = curve_fit(function_sigma_neg, cdist_neg_50AA[\"zmean\"], cdist_neg_50AA[\"zstd\"], bounds=([-np.inf, popt_zstd_pos_50AA[1]*0.999, -np.inf], [np.inf, popt_zstd_pos_50AA[1]*1.001, np.inf]))\n"
   ]
  },
  {
   "cell_type": "code",
   "execution_count": 24,
   "metadata": {
    "collapsed": false
   },
   "outputs": [
    {
     "name": "stderr",
     "output_type": "stream",
     "text": [
      "/home/jcibanezm/codes/libs/miniconda3/lib/python2.7/site-packages/ipykernel/__main__.py:15: RuntimeWarning: overflow encountered in exp\n"
     ]
    }
   ],
   "source": [
    "popt_zstd_pos_100AA, pcov_zstd_pos_100AA = curve_fit(function_sigma_pos, cdist_pos_100AA[\"zmean\"], cdist_pos_100AA[\"zstd\"])\n",
    "popt_zstd_neg_100AA, pcov_zstd_neg_100AA = curve_fit(function_sigma_neg, cdist_neg_100AA[\"zmean\"], cdist_neg_100AA[\"zstd\"], bounds=([-np.inf, popt_zstd_pos_100AA[1]*0.999, -np.inf], [np.inf, popt_zstd_pos_100AA[1]*1.001, np.inf]), p0=[-1.0, popt_zstd_pos_100AA[1], 1.0])"
   ]
  },
  {
   "cell_type": "code",
   "execution_count": 25,
   "metadata": {
    "collapsed": false
   },
   "outputs": [
    {
     "name": "stderr",
     "output_type": "stream",
     "text": [
      "/home/jcibanezm/codes/libs/miniconda3/lib/python2.7/site-packages/ipykernel/__main__.py:15: RuntimeWarning: overflow encountered in exp\n",
      "/home/jcibanezm/codes/libs/miniconda3/lib/python2.7/site-packages/scipy/optimize/minpack.py:779: OptimizeWarning: Covariance of the parameters could not be estimated\n",
      "  category=OptimizeWarning)\n"
     ]
    }
   ],
   "source": [
    "\n",
    "#popt_zstd_pos_100AA, pcov_zstd_pos_100AA = curve_fit(function_sigma_pos, cdist_pos_100AA[\"zmean\"], cdist_pos_100AA[\"zstd\"])\n",
    "#popt_zstd_neg_100AA, pcov_zstd_neg_100AA = curve_fit(function_sigma_neg, cdist_neg_100AA[\"zmean\"], cdist_neg_100AA[\"zstd\"], bounds=([-np.inf, popt_zstd_pos_100AA[1]*0.999, -np.inf], [np.inf, popt_zstd_pos_100AA[1]*1.001, np.inf]), p0=[-1.0, popt_zstd_pos_100AA[1], 1.0])\n",
    "\n",
    "if include_500_1000 == True:\n",
    "    popt_zstd_pos_500AA, pcov_zstd_pos_500AA = curve_fit(function_sigma_pos, cdist_pos_500AA[\"zmean\"], cdist_pos_500AA[\"zstd\"])\n",
    "    if len(cdist_neg_500AA[\"zmean\"] > 0):\n",
    "        popt_zstd_neg_500AA, pcov_zstd_neg_500AA = curve_fit(function_sigma_neg, cdist_neg_500AA[\"zmean\"], cdist_neg_500AA[\"zstd\"], bounds=([-np.inf, popt_zstd_pos_500AA[1]*0.999, -np.inf], [np.inf, popt_zstd_pos_500AA[1]*1.001, np.inf]), p0=[-2.0, popt_zstd_pos_500AA[1], 1.0])\n",
    "    else:\n",
    "        popt_zstd_neg_500AA = [0,0,0]\n",
    "        \n",
    "    popt_zstd_pos_1000AA, pcov_zstd_pos_1000AA = curve_fit(function_sigma_pos, cdist_pos_1000AA[\"zmean\"], cdist_pos_1000AA[\"zstd\"])\n",
    "    if len(cdist_neg_1000AA[\"zmean\"] > 0):\n",
    "        popt_zstd_neg_1000AA, pcov_zstd_neg_1000AA = curve_fit(function_sigma_neg, cdist_neg_1000AA[\"zmean\"], cdist_neg_1000AA[\"zstd\"], bounds=([-np.inf, popt_zstd_pos_1000AA[1]*0.999, -np.inf], [np.inf, popt_zstd_pos_1000AA[1]*1.001, np.inf]), p0=[-2.0, popt_zstd_pos_1000AA[1], 1.0])\n",
    "    else:\n",
    "        popt_zstd_neg_1000AA = [0,0,0]\n"
   ]
  },
  {
   "cell_type": "code",
   "execution_count": 27,
   "metadata": {
    "collapsed": false
   },
   "outputs": [
    {
     "name": "stdout",
     "output_type": "stream",
     "text": [
      "                Carbonaceous \n",
      "===============================================\n",
      "Values of the charging parameter equation\n",
      "size \t alpha \t    a \t     b \t    h \t      c+ \t  h+ \t d \t   c- \t     h- \n",
      "3.5 &\t 0.5270 & 0.0015 & -0.0265 & 95.3525 & 0.3308 & 0.2270 & 0.2216 & 0.1532 & 0.1642\n",
      "5.0 &\t 0.4642 & 0.0028 & -0.0498 & 155.3324 & 0.3987 & 0.5453 & 0.3827 & 1818.3685 & 7950.9227\n",
      "10.0 &\t 0.5507 & 0.0012 & -0.0433 & 7.1876 & 0.6954 & 1.0163 & 0.4901 & 0.0107 & 0.0000\n",
      "50.0 &\t 0.4614 & 0.0037 & -0.0054 & 837.9910 & 1.7705 & 2.4686 & 0.5573 & 0.0266 & 0.0000\n",
      "100.0 &\t 0.2937 & 0.0213 & -0.0005 & 1232.9442 & 2.5930 & 4.1751 & 0.5848 \n",
      "500.0 &\t 0.3422 & 0.0114 & 0.0011 & 1132.5943 & 5.7972 & 19.5302 & 1.0066 \n",
      "1000 &\t 0.6789 & 0.0004 & 0.0011 & 13.7664 & 8.2829 & 40.5363 & 1.3812 \n"
     ]
    }
   ],
   "source": [
    "print(\"                Carbonaceous \")\n",
    "print(\"===============================================\")\n",
    "print(\"Values of the charging parameter equation\")\n",
    "print(\"size \\t alpha \\t    a \\t     b \\t    h \\t      c+ \\t  h+ \\t d \\t   c- \\t     h- \")\n",
    "print(\"%.1f &\\t %.4f & %.4f & %.4f & %.4f & %.4f & %.4f & %.4f & %.4f & %.4f\"%(3.5, popt_3AA[0], popt_3AA[1], popt_3AA[2], popt_3AA[3], popt_zstd_pos_3AA[0], popt_zstd_pos_3AA[2], popt_zstd_pos_3AA[1], popt_zstd_neg_3AA[0], popt_zstd_neg_3AA[2]))\n",
    "print(\"%.1f &\\t %.4f & %.4f & %.4f & %.4f & %.4f & %.4f & %.4f & %.4f & %.4f\"% (5,   popt_5AA[0], popt_5AA[1], popt_5AA[2], popt_5AA[3], popt_zstd_pos_5AA[0], popt_zstd_pos_5AA[2], popt_zstd_pos_5AA[1], popt_zstd_neg_5AA[0], popt_zstd_neg_5AA[2]))\n",
    "print(\"%.1f &\\t %.4f & %.4f & %.4f & %.4f & %.4f & %.4f & %.4f & %.4f & %.4f\"% (10, popt_10AA[0], popt_10AA[1], popt_10AA[2], popt_10AA[3], popt_zstd_pos_10AA[0], popt_zstd_pos_10AA[2], popt_zstd_pos_10AA[1], popt_zstd_neg_10AA[0], popt_zstd_neg_10AA[2]))\n",
    "print(\"%.1f &\\t %.4f & %.4f & %.4f & %.4f & %.4f & %.4f & %.4f & %.4f & %.4f\"% (50, popt_50AA[0], popt_50AA[1], popt_50AA[2], popt_50AA[3], popt_zstd_pos_50AA[0], popt_zstd_pos_50AA[2], popt_zstd_pos_50AA[1], popt_zstd_neg_50AA[0], popt_zstd_neg_50AA[2]))\n",
    "#print(\"%.1f &\\t %.4f & %.4f & %.4f & %.4f & %.4f & %.4f & %.4f & %.4f & %.4f\"% (100, popt_100AA[0], popt_100AA[1], popt_100AA[2], popt_zstd_pos_100AA[0], popt_zstd_pos_100AA[2], popt_zstd_pos_100AA[1], popt_zstd_neg_100AA[0], popt_zstd_neg_100AA[2]))\n",
    "print(\"%.1f &\\t %.4f & %.4f & %.4f & %.4f & %.4f & %.4f & %.4f \"% (100, popt_100AA[0], popt_100AA[1], popt_100AA[2],popt_100AA[3], popt_zstd_pos_100AA[0], popt_zstd_pos_100AA[2], popt_zstd_pos_100AA[1]))\n",
    "print(\"%.1f &\\t %.4f & %.4f & %.4f & %.4f & %.4f & %.4f & %.4f \"% (500, popt_500AA[0], popt_500AA[1], popt_500AA[2],popt_500AA[3], popt_zstd_pos_500AA[0], popt_zstd_pos_500AA[2], popt_zstd_pos_500AA[1]))\n",
    "print(\"%.0f &\\t %.4f & %.4f & %.4f & %.4f & %.4f & %.4f & %.4f \"% (1000, popt_1000AA[0], popt_1000AA[1], popt_1000AA[2],popt_1000AA[3], popt_zstd_pos_1000AA[0], popt_zstd_pos_1000AA[2], popt_zstd_pos_1000AA[1]))"
   ]
  },
  {
   "cell_type": "code",
   "execution_count": 28,
   "metadata": {
    "collapsed": false
   },
   "outputs": [
    {
     "name": "stdout",
     "output_type": "stream",
     "text": [
      "                SILICATE \n",
      "===============================================\n",
      "Values of the charging parameter equation\n",
      "size \t alpha \t    a \t     b \t    h \t      c+ \t  h+ \t d \t   c- \t     h- \n",
      "3.5 &\t 0.4318 & 0.0050 & -0.0839 & 71.3309 & 0.4246 & 0.2308 & 0.1669 & 8015.2912 & 5994.2053\n",
      "5.0 &\t 0.3573 & 0.0219 & -0.2390 & 117.0360 & 0.3237 & 0.3386 & 0.2961 & 3465.5479 & 6277.8289\n",
      "10.0 &\t 0.3857 & 0.0328 & -0.3906 & 109.7962 & 0.4746 & 0.7528 & 0.4085 & 1137.6225 & 5113.9870\n",
      "50.0 &\t 0.4083 & 0.1676 & -0.1709 & 490.5372 & 1.1309 & 1.6041 & 0.5086 \n",
      "100.0 &\t 0.3210 & 0.8650 & 0.0745 & 571.8164 & 1.7014 & 2.6212 & 0.5385 \n",
      "500.0 &\t 0.3390 & 3.2283 & 0.9703 & 438.5132 & 3.7183 & 12.9426 & 1.0217 \n",
      "1000 &\t 0.3635 & 4.6588 & 1.6579 & 485.8777 & 5.3094 & 26.6146 & 1.4119 \n"
     ]
    }
   ],
   "source": [
    "print(\"                SILICATE \")\n",
    "print(\"===============================================\")\n",
    "print(\"Values of the charging parameter equation\")\n",
    "print(\"size \\t alpha \\t    a \\t     b \\t    h \\t      c+ \\t  h+ \\t d \\t   c- \\t     h- \")\n",
    "print(\"%.1f &\\t %.4f & %.4f & %.4f & %.4f & %.4f & %.4f & %.4f & %.4f & %.4f\"%(3.5, popt_3AA[0], popt_3AA[1], popt_3AA[2], popt_3AA[3], popt_zstd_pos_3AA[0], popt_zstd_pos_3AA[2], popt_zstd_pos_3AA[1], popt_zstd_neg_3AA[0], popt_zstd_neg_3AA[2]))\n",
    "print(\"%.1f &\\t %.4f & %.4f & %.4f & %.4f & %.4f & %.4f & %.4f & %.4f & %.4f\"% (5,   popt_5AA[0], popt_5AA[1], popt_5AA[2], popt_5AA[3], popt_zstd_pos_5AA[0], popt_zstd_pos_5AA[2], popt_zstd_pos_5AA[1], popt_zstd_neg_5AA[0], popt_zstd_neg_5AA[2]))\n",
    "print(\"%.1f &\\t %.4f & %.4f & %.4f & %.4f & %.4f & %.4f & %.4f & %.4f & %.4f\"% (10, popt_10AA[0], popt_10AA[1], popt_10AA[2], popt_10AA[3], popt_zstd_pos_10AA[0], popt_zstd_pos_10AA[2], popt_zstd_pos_10AA[1], popt_zstd_neg_10AA[0], popt_zstd_neg_10AA[2]))\n",
    "print(\"%.1f &\\t %.4f & %.4f & %.4f & %.4f & %.4f & %.4f & %.4f \"% (50, popt_50AA[0], popt_50AA[1], popt_50AA[2], popt_50AA[3], popt_zstd_pos_50AA[0], popt_zstd_pos_50AA[2], popt_zstd_pos_50AA[1]))\n",
    "#print(\"%.1f &\\t %.4f & %.4f & %.4f & %.4f & %.4f & %.4f & %.4f & %.4f\"% (100, popt_100AA[0], popt_100AA[1], popt_100AA[2], popt_zstd_pos_100AA[0], popt_zstd_pos_100AA[2], popt_zstd_pos_100AA[1], popt_zstd_neg_100AA[0], popt_zstd_neg_100AA[2]))\n",
    "print(\"%.1f &\\t %.4f & %.4f & %.4f & %.4f & %.4f & %.4f & %.4f \"% (100, popt_100AA[0], popt_100AA[1], popt_100AA[2],popt_100AA[3], popt_zstd_pos_100AA[0], popt_zstd_pos_100AA[2], popt_zstd_pos_100AA[1]))\n",
    "print(\"%.1f &\\t %.4f & %.4f & %.4f & %.4f & %.4f & %.4f & %.4f \"% (500, popt_500AA[0], popt_500AA[1], popt_500AA[2],popt_500AA[3], popt_zstd_pos_500AA[0], popt_zstd_pos_500AA[2], popt_zstd_pos_500AA[1]))\n",
    "print(\"%.0f &\\t %.4f & %.4f & %.4f & %.4f & %.4f & %.4f & %.4f \"% (1000, popt_1000AA[0], popt_1000AA[1], popt_1000AA[2],popt_1000AA[3], popt_zstd_pos_1000AA[0], popt_zstd_pos_1000AA[2], popt_zstd_pos_1000AA[1]))\n",
    "#print(popt3)"
   ]
  },
  {
   "cell_type": "markdown",
   "metadata": {},
   "source": [
    "---"
   ]
  },
  {
   "cell_type": "code",
   "execution_count": 40,
   "metadata": {
    "collapsed": false
   },
   "outputs": [
    {
     "data": {
      "image/png": "[encoded data removed]",
      "text/plain": [
       "<matplotlib.figure.Figure at 0x7f2fada47790>"
      ]
     },
     "metadata": {},
     "output_type": "display_data"
    }
   ],
   "source": [
    "xsize = 8\n",
    "ysize = 8\n",
    "\n",
    "nfigs_x = 1\n",
    "nfigs_y = 1\n",
    "\n",
    "fig = plt.figure(figsize=(xsize, ysize))\n",
    "\n",
    "hpad = 0.205\n",
    "wpad = 0.09\n",
    "w0   = 0.085\n",
    "\n",
    "xs_panel = 0.80 / nfigs_x \n",
    "ys_panel = 0.76 / nfigs_y \n",
    "\n",
    "############################################################################################################\n",
    "############################               5 Angstroms             #######################################\n",
    "############################################################################################################\n",
    "\n",
    "ax = fig.add_axes([0, 0, 1, 1])\n",
    "\n",
    "#ax.plot([0,1], [0,1], visible=False)\n",
    "ax.set_xlim(0,1)\n",
    "ax.set_ylim(0,1)\n",
    "\n",
    "#ax.text(0.18, 0.955, \"title?\", fontsize=20, horizontalalignment='center')\n",
    "\n",
    "plt.axis('off')\n",
    "\n",
    "#------------------------------------------------------------------------------------------------\n",
    "# From bottom left, to upper right.\n",
    "ii = 0\n",
    "jj = 0\n",
    "\n",
    "\n",
    "ax = fig.add_axes([w0 + ii*xs_panel+ii*wpad, hpad + jj*ys_panel, xs_panel, ys_panel])\n",
    "\n",
    "#H, xc, yc = np.histogram2d(np.log10(box[\"nH\"]), np.log10(box[\"temp\"]), weights=box[\"cell_mass\"].in_units(\"Msun\"), bins=50)\n",
    "#H_norm = H / np.sum(box[\"cell_mass\"].in_units(\"Msun\").value)\n",
    "\n",
    "floating_pot = cdist_10AA[\"zmean\"]*fz.echarge**2 / (10.0*fz.AAtocm) / (fz.kb * cdist_10AA[\"temp\"])\n",
    "\n",
    "cax = ax.hist2d(np.log10(GTn_10AA), floating_pot, bins=50, norm=LogNorm(), cmap=\"magma\")\n",
    "\n",
    "ax.tick_params(axis='both', which='major', length=10, width=2,  labelsize=15, direction=\"in\")\n",
    "ax.tick_params(axis='both', which='minor', length=5, width=1.5, labelsize=15, direction=\"in\")\n",
    "\n",
    "ax.grid(\"on\")\n",
    "\n",
    "ax.set_xlabel(\"log$_{10}\\\\left(\\\\frac{G\\\\sqrt{T}}{n_{e}}\\\\right)$\", fontsize=20)\n",
    "ax.set_ylabel(\"$\\\\frac{\\\\langle Z \\\\rangle e^{2} / a}{k_{B} T}$\", fontsize=22)\n",
    "\n",
    "ax.tick_params(axis='both', which='major', length=4, width=2, labelsize=15)\n",
    "\n",
    "#ax.set_ylim(-4.5, -0.2)\n",
    "\n",
    "fig.show()"
   ]
  },
  {
   "cell_type": "code",
   "execution_count": 28,
   "metadata": {
    "collapsed": false
   },
   "outputs": [
    {
     "data": {
      "text/plain": [
       "['nH',\n",
       " 'zmean',\n",
       " 'zstd',\n",
       " 'nC',\n",
       " 'xe',\n",
       " 'xHp',\n",
       " 'zmode',\n",
       " 'zminmax',\n",
       " 'fdist',\n",
       " 'ne',\n",
       " 'Qabs_mean',\n",
       " 'xCp',\n",
       " 'nH2',\n",
       " 'G',\n",
       " 'xH2',\n",
       " 'grain_size',\n",
       " 'info',\n",
       " 'temp',\n",
       " 'dens',\n",
       " 'grain_type',\n",
       " 'MPI',\n",
       " 'Av',\n",
       " 'tauz',\n",
       " 'fH2shield']"
      ]
     },
     "execution_count": 28,
     "metadata": {},
     "output_type": "execute_result"
    }
   ],
   "source": [
    "cdist_10AA.keys()"
   ]
  }
 ],
 "metadata": {
  "anaconda-cloud": {},
  "kernelspec": {
   "display_name": "Python [conda root]",
   "language": "python",
   "name": "conda-root-py"
  },
  "language_info": {
   "codemirror_mode": {
    "name": "ipython",
    "version": 2
   },
   "file_extension": ".py",
   "mimetype": "text/x-python",
   "name": "python",
   "nbconvert_exporter": "python",
   "pygments_lexer": "ipython2",
   "version": "2.7.13"
  }
 },
 "nbformat": 4,
 "nbformat_minor": 2
}
