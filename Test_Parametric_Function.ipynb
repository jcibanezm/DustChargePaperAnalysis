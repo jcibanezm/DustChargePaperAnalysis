{
 "cells": [
  {
   "cell_type": "code",
   "execution_count": 1,
   "metadata": {
    "collapsed": false
   },
   "outputs": [
    {
     "name": "stdout",
     "output_type": "stream",
     "text": [
      "Loading the library to compute the charge distribution of dust grains.\n"
     ]
    }
   ],
   "source": [
    "import parametric_fz as pfz\n",
    "import matplotlib.pyplot as plt\n",
    "import numpy as np\n",
    "import compute_charge_dist as fz\n",
    "\n",
    "%matplotlib inline"
   ]
  },
  {
   "cell_type": "markdown",
   "metadata": {},
   "source": [
    "nH   = [ 0.9,           36,       2.995e+04]\n",
    "T    = [    7e+03,      7e+01 ,   14.4]\n",
    "G    = [    1.52  ,     0.60  ,   0.00071]\n",
    "xe   = [   0.012  ,     0.00018 , 9.9e-8]\n",
    "ne   = [   0.011 ,      0.0063  , 0.00296637]\n",
    "xH2  = [  4.6e-05  ,    0.15 ,    0.9941]\n",
    "Av   = [   0.046  ,     0.42  ,   6.603]\n",
    "Ntot = [  8.5e+19  ,    7.8e+20,  1.235e+22]"
   ]
  },
  {
   "cell_type": "code",
   "execution_count": 2,
   "metadata": {
    "collapsed": false
   },
   "outputs": [],
   "source": [
    "grain_type = \"silicate\"\n",
    "grain_size = 250\n",
    "\n",
    "nH   = 0.9\n",
    "temp = 7e+03\n",
    "G    = 1.52\n",
    "xe   = 0.012\n",
    "ne   = 0.011\n",
    "xH2  = 4.6e-05\n",
    "Av   = 0.046 \n",
    "Ntot = 8.5e+19\n",
    "fH2  = 0.11\n",
    "NH2 = fz.get_NH2(fH2, temp)"
   ]
  },
  {
   "cell_type": "code",
   "execution_count": 3,
   "metadata": {
    "collapsed": false
   },
   "outputs": [
    {
     "name": "stdout",
     "output_type": "stream",
     "text": [
      "7.92e+15\n"
     ]
    }
   ],
   "source": [
    "print(\"%.3g\"%NH2)"
   ]
  },
  {
   "cell_type": "code",
   "execution_count": 4,
   "metadata": {
    "collapsed": false
   },
   "outputs": [],
   "source": [
    "ZZpar, fzpar = pfz.get_fz(ntot=nH, T=temp, xe=xe, Ntot=Ntot, NH2=NH2, grain_type=grain_type, grain_size=grain_size, xH2=xH2, G0=1.7, correct_edens=True)\n",
    "zcent, zwidth = pfz.get_fz(ntot=nH, T=temp, xe=xe, Ntot=Ntot, NH2=NH2, grain_type=grain_type, grain_size=grain_size, xH2=xH2, G0=1.7, correct_edens=True, output=\"zcent\")"
   ]
  },
  {
   "cell_type": "code",
   "execution_count": 5,
   "metadata": {
    "collapsed": false
   },
   "outputs": [],
   "source": [
    "zeta = fz.get_zeta(Ntot)\n",
    "\n",
    "Qabs = fz.get_QabsTable(grain_type, grain_size)\n",
    "\n",
    "Jpe, Je, Jh, Jc, ZZall = fz.compute_currents([nH, 0], [xe, 0], xH2, temp, zeta, grain_size, Ntot, grain_type, Qabs, G0=1.7)\n",
    "JCRe, JCRpe, ZZnew     = fz.compute_CR_currents(nH, zeta, grain_size, grain_type, Qabs)\n",
    "\n",
    "zeq                    = fz.get_zeq_vec     (Jpe, Je, Jh, Jc, ZZall, grain_size, grain_type)\n",
    "new_zmin, new_zmax     = fz.get_new_zmin_zmax([nH, 0], [xe, 0], temp, grain_size, Ntot, grain_type, Qabs, zeta, zeq=zeq, includeCR=True, G0=1.7)\n",
    "\n",
    "ffz, ZZ        = fz.vector_fz(Jpe, Je, Jh, Jc, JCRe, JCRpe, ZZall, new_zmin, new_zmax, includeCR=True)\n",
    "\n",
    "Zm     = fz.get_Zmode(ZZ, ffz)\n",
    "zmode  = Zm\n",
    "\n",
    "avg, std  = fz.weighted_avg_and_std(ZZ, ffz)\n",
    "zmean     = avg\n",
    "zstd      = std"
   ]
  },
  {
   "cell_type": "code",
   "execution_count": 6,
   "metadata": {
    "collapsed": false
   },
   "outputs": [
    {
     "name": "stderr",
     "output_type": "stream",
     "text": [
      "/home/jcibanezm/codes/libs/miniconda3/lib/python2.7/site-packages/matplotlib/figure.py:403: UserWarning: matplotlib is currently using a non-GUI backend, so cannot show the figure\n",
      "  \"matplotlib is currently using a non-GUI backend, \"\n"
     ]
    },
    {
     "data": {
      "image/png": "[encoded data removed]",
      "text/plain": [
       "<matplotlib.figure.Figure at 0x7f3877dc0810>"
      ]
     },
     "metadata": {},
     "output_type": "display_data"
    }
   ],
   "source": [
    "fig = plt.figure(figsize=(6, 5))\n",
    "ax = fig.add_axes([0.05, 0.05, 0.85, 0.85])\n",
    "\n",
    "ax.plot(ZZ+0.5, ffz, \"-r\", linewidth=2, drawstyle='steps', alpha=1.0)\n",
    "ax.plot(ZZpar+0.5, fzpar, \"--k\", linewidth=2, drawstyle='steps', alpha=1.0)\n",
    "\n",
    "ax.set_ylabel(\"f(z)\", fontsize=18)\n",
    "ax.set_xlabel(\"Z\", fontsize=16)\n",
    "\n",
    "ax.tick_params(axis='both', which='major', length=4, width=2, labelsize=12)\n",
    "\n",
    "ax.text(0.75*ZZ[-1], 0.9*np.max(ffz), \"$\\\\langle Z \\\\rangle = $%.1f\"%zmean, color=\"red\", fontsize=18)\n",
    "ax.text(0.75*ZZ[-1], 0.75*np.max(ffz), \"$\\\\langle Z \\\\rangle = $%.1f\"%zcent, color=\"k\", fontsize=18)\n",
    "\n",
    "fig.show()"
   ]
  },
  {
   "cell_type": "code",
   "execution_count": 33,
   "metadata": {
    "collapsed": false
   },
   "outputs": [
    {
     "name": "stdout",
     "output_type": "stream",
     "text": [
      "()\n"
     ]
    }
   ],
   "source": [
    "print()"
   ]
  },
  {
   "cell_type": "code",
   "execution_count": null,
   "metadata": {
    "collapsed": true
   },
   "outputs": [],
   "source": []
  }
 ],
 "metadata": {
  "kernelspec": {
   "display_name": "Python [default]",
   "language": "python",
   "name": "python2"
  },
  "language_info": {
   "codemirror_mode": {
    "name": "ipython",
    "version": 2
   },
   "file_extension": ".py",
   "mimetype": "text/x-python",
   "name": "python",
   "nbconvert_exporter": "python",
   "pygments_lexer": "ipython2",
   "version": "2.7.15"
  }
 },
 "nbformat": 4,
 "nbformat_minor": 2
}
