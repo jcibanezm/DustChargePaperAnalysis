{
 "cells": [
  {
   "cell_type": "code",
   "execution_count": 1,
   "metadata": {
    "collapsed": true
   },
   "outputs": [],
   "source": [
    "import numpy as np\n",
    "import matplotlib.pyplot as plt\n",
    "from scipy.interpolate import interp1d\n",
    "\n",
    "%matplotlib inline"
   ]
  },
  {
   "cell_type": "code",
   "execution_count": 2,
   "metadata": {
    "collapsed": false
   },
   "outputs": [],
   "source": [
    "size, alpha, a, b, h, cp, hp, d, cm, hm = np.loadtxt(\"Silicate_Table.txt\", unpack=True)"
   ]
  },
  {
   "cell_type": "code",
   "execution_count": 3,
   "metadata": {
    "collapsed": true
   },
   "outputs": [],
   "source": [
    "# New function like a press schechter like, combining a power law and an exponential growth.\n",
    "\n",
    "# New function including powers between -3, 3\n",
    "# def function(x,alpha1, beta1, gamma1, alpha2, beta2, gamma2):\n",
    "def Zcent_func(x, alpha, aa, bb, hh):\n",
    "\n",
    "    Zcent = aa[:] * (x)**alpha[:] * (1.0 - np.exp(-x/hh[:])) + bb[:]\n",
    "    \n",
    "    return Zcent"
   ]
  },
  {
   "cell_type": "code",
   "execution_count": 4,
   "metadata": {
    "collapsed": true
   },
   "outputs": [],
   "source": [
    "# New function including powers between -3, 3\n",
    "# def function(x,alpha1, beta1, gamma1, alpha2, beta2, gamma2):\n",
    "def function_sigma(x, aa, bb, hh):\n",
    "\n",
    "    #sigma_par = aa*(1. - np.exp(-np.abs(x[:])/hh)) + bb\n",
    "    sigma_par = aa[:]*(1. - np.exp(-x/hh[:])) + bb[:]\n",
    "    \n",
    "    return sigma_par"
   ]
  },
  {
   "cell_type": "code",
   "execution_count": 5,
   "metadata": {
    "collapsed": true
   },
   "outputs": [],
   "source": [
    "G = 1.0e3\n",
    "T = 1.0e3\n",
    "ne = 1.0\n",
    "GTn = G*np.sqrt(T) / ne"
   ]
  },
  {
   "cell_type": "code",
   "execution_count": 6,
   "metadata": {
    "collapsed": true
   },
   "outputs": [],
   "source": [
    "Zcent_PDR = Zcent_func(GTn, alpha, a, b, h)"
   ]
  },
  {
   "cell_type": "code",
   "execution_count": 7,
   "metadata": {
    "collapsed": true
   },
   "outputs": [],
   "source": [
    "Zwidth_PDR = function_sigma(GTn, cp, d, hp)"
   ]
  },
  {
   "cell_type": "code",
   "execution_count": 8,
   "metadata": {
    "collapsed": false
   },
   "outputs": [
    {
     "name": "stdout",
     "output_type": "stream",
     "text": [
      "[    3.5     5.     10.     50.    100.    500.   1000. ]\n",
      "[   0.31686269    0.65951336    1.43870486   13.95319359   25.25660814\n",
      "  115.07957131  214.32006646]\n",
      "[ 0.5915  0.6198  0.8831  1.6395  2.2399  4.74    6.7213]\n"
     ]
    }
   ],
   "source": [
    "print(size)\n",
    "print(Zcent_PDR)\n",
    "print(Zwidth_PDR)"
   ]
  },
  {
   "cell_type": "code",
   "execution_count": 9,
   "metadata": {
    "collapsed": true
   },
   "outputs": [],
   "source": [
    "error_Zcent = np.abs([(Zcent_PDR[1] - 0.7) / 0.7, (Zcent_PDR[4] - 23.0)/23., (Zcent_PDR[6] - 195.7) / 195.7 ])\n",
    "error_Zwidth = np.abs([(Zwidth_PDR[1] - 0.5) / 0.62, (Zwidth_PDR[4] - 2.0)/2., (Zwidth_PDR[6] - 6.5) / 6.5 ])\n"
   ]
  },
  {
   "cell_type": "code",
   "execution_count": 17,
   "metadata": {
    "collapsed": false
   },
   "outputs": [
    {
     "name": "stdout",
     "output_type": "stream",
     "text": [
      "[  9.07260103   5.9660841   13.46725736]\n",
      "[ 12.24285714  24.82692308  10.45632184]\n"
     ]
    }
   ],
   "source": [
    "print(error_Zcent*100)\n",
    "print(error_Zwidth*100)"
   ]
  },
  {
   "cell_type": "code",
   "execution_count": 19,
   "metadata": {
    "collapsed": false
   },
   "outputs": [
    {
     "name": "stdout",
     "output_type": "stream",
     "text": [
      "[ 0.07320426  0.0498573   0.03751397]\n",
      "[ 0.19322581  0.11995     0.03404615]\n"
     ]
    }
   ],
   "source": [
    "print(error_Zcent)\n",
    "print(error_Zwidth)"
   ]
  },
  {
   "cell_type": "markdown",
   "metadata": {},
   "source": [
    "---"
   ]
  },
  {
   "cell_type": "code",
   "execution_count": 28,
   "metadata": {
    "collapsed": false
   },
   "outputs": [],
   "source": [
    "size, alpha, a, b, h, cp, hp, d, cm, hm = np.loadtxt(\"Carbonaceous_Table.txt\", unpack=True)"
   ]
  },
  {
   "cell_type": "code",
   "execution_count": 29,
   "metadata": {
    "collapsed": true
   },
   "outputs": [],
   "source": [
    "Zcent_PDR = Zcent_func(GTn, alpha, a, b, h)"
   ]
  },
  {
   "cell_type": "code",
   "execution_count": 30,
   "metadata": {
    "collapsed": true
   },
   "outputs": [],
   "source": [
    "Zwidth_PDR = function_sigma(GTn, cp, d, hp)"
   ]
  },
  {
   "cell_type": "code",
   "execution_count": 31,
   "metadata": {
    "collapsed": false
   },
   "outputs": [
    {
     "name": "stdout",
     "output_type": "stream",
     "text": [
      "[    3.5     5.     10.     50.    100.    500.   1000. ]\n",
      "[   0.99034461    1.52701641    3.02094377   26.0484757    44.82365357\n",
      "  199.90099939  384.12610523]\n",
      "[ 0.5654  0.7857  1.1786  2.3207  3.2455  6.7832  9.6097]\n"
     ]
    }
   ],
   "source": [
    "print(size)\n",
    "print(Zcent_PDR)\n",
    "print(Zwidth_PDR)"
   ]
  },
  {
   "cell_type": "code",
   "execution_count": 32,
   "metadata": {
    "collapsed": true
   },
   "outputs": [],
   "source": [
    "error_Zcent = np.abs([(Zcent_PDR[1] - 1.4) / 1.4, (Zcent_PDR[4] - 42.3)/42.3, (Zcent_PDR[6] - 348.9) / 348.9 ])\n",
    "error_Zwidth = np.abs([(Zwidth_PDR[1] - 0.7) / 0.7, (Zwidth_PDR[4] - 2.6)/2.6, (Zwidth_PDR[6] - 8.7) / 8.7 ])"
   ]
  },
  {
   "cell_type": "code",
   "execution_count": 33,
   "metadata": {
    "collapsed": false
   },
   "outputs": [
    {
     "name": "stdout",
     "output_type": "stream",
     "text": [
      "[  9.07260103   5.9660841   10.09633283]\n",
      "[ 12.24285714  24.82692308  10.45632184]\n"
     ]
    }
   ],
   "source": [
    "print(error_Zcent*100)\n",
    "print(error_Zwidth*100)"
   ]
  },
  {
   "cell_type": "code",
   "execution_count": 26,
   "metadata": {
    "collapsed": false
   },
   "outputs": [
    {
     "name": "stdout",
     "output_type": "stream",
     "text": [
      "[ 0.04053409  0.05255967  0.06431825]\n",
      "[ 0.11628571  0.22223077  0.11081609]\n"
     ]
    }
   ],
   "source": [
    "print(error_Zcent)\n",
    "print(error_Zwidth)"
   ]
  },
  {
   "cell_type": "code",
   "execution_count": null,
   "metadata": {
    "collapsed": true
   },
   "outputs": [],
   "source": []
  }
 ],
 "metadata": {
  "anaconda-cloud": {},
  "kernelspec": {
   "display_name": "Python [conda env:py35]",
   "language": "python",
   "name": "conda-env-py35-py"
  },
  "language_info": {
   "codemirror_mode": {
    "name": "ipython",
    "version": 3
   },
   "file_extension": ".py",
   "mimetype": "text/x-python",
   "name": "python",
   "nbconvert_exporter": "python",
   "pygments_lexer": "ipython3",
   "version": "3.5.2"
  }
 },
 "nbformat": 4,
 "nbformat_minor": 2
}
