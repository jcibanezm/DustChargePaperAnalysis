{
 "cells": [
  {
   "cell_type": "code",
   "execution_count": 1,
   "metadata": {
    "collapsed": true
   },
   "outputs": [],
   "source": [
    "import numpy as np\n",
    "import matplotlib.pyplot as plt\n",
    "from scipy.interpolate import interp1d\n",
    "\n",
    "%matplotlib inline"
   ]
  },
  {
   "cell_type": "code",
   "execution_count": 66,
   "metadata": {
    "collapsed": false
   },
   "outputs": [],
   "source": [
    "size, alpha, a, b, h, cp, hp, d, cm, hm = np.loadtxt(\"Silicate_Table.txt\", unpack=True)"
   ]
  },
  {
   "cell_type": "code",
   "execution_count": 68,
   "metadata": {
    "collapsed": false
   },
   "outputs": [
    {
     "name": "stdout",
     "output_type": "stream",
     "text": [
      "[    3.5     5.     10.     50.    100.    500.   1000. ]\n"
     ]
    }
   ],
   "source": [
    "print(size)"
   ]
  },
  {
   "cell_type": "code",
   "execution_count": 117,
   "metadata": {
    "collapsed": true
   },
   "outputs": [],
   "source": [
    "f1d_alpha = interp1d(size, alpha, fill_value=\"extrapolate\", kind=\"linear\")\n",
    "f1d_a     = interp1d(size, a, fill_value=\"extrapolate\", kind=\"linear\")\n",
    "f1d_b     = interp1d(size, b, fill_value=\"extrapolate\", kind=\"linear\")\n",
    "f1d_h     = interp1d(size, h, fill_value=\"extrapolate\", kind=\"linear\")"
   ]
  },
  {
   "cell_type": "code",
   "execution_count": 118,
   "metadata": {
    "collapsed": true
   },
   "outputs": [],
   "source": [
    "Test_sizes = [7.5, 25, 75, 250, 750, 2500]"
   ]
  },
  {
   "cell_type": "code",
   "execution_count": 119,
   "metadata": {
    "collapsed": true
   },
   "outputs": [],
   "source": [
    "alpha_test = f1d_alpha(Test_sizes)\n",
    "a_test     = f1d_a(Test_sizes)\n",
    "b_test     = f1d_b(Test_sizes)\n",
    "h_test     = f1d_h(Test_sizes)"
   ]
  },
  {
   "cell_type": "markdown",
   "metadata": {},
   "source": [
    "## Parametric centroid equation:\n",
    "$$ \\langle Z \\rangle = a (\\frac{G\\sqrt{T}}{n_{e}})^{\\alpha} (1 - exp (\\frac{GT^{0.5} n_{e}^{-1}}{ h}) ) + b $$"
   ]
  },
  {
   "cell_type": "code",
   "execution_count": 72,
   "metadata": {
    "collapsed": true
   },
   "outputs": [],
   "source": [
    "# New function like a press schechter like, combining a power law and an exponential growth.\n",
    "\n",
    "# New function including powers between -3, 3\n",
    "# def function(x,alpha1, beta1, gamma1, alpha2, beta2, gamma2):\n",
    "def function(x, alpha, aa, bb, hh):\n",
    "\n",
    "    Zcent = aa[:] * (x)**alpha[:] * (1.0 - np.exp(-x/hh[:])) + bb[:]\n",
    "    \n",
    "    return Zcent"
   ]
  },
  {
   "cell_type": "code",
   "execution_count": 120,
   "metadata": {
    "collapsed": true
   },
   "outputs": [],
   "source": [
    "G = 1.52\n",
    "T = 7000.\n",
    "ne = 0.9*0.012\n",
    "GTn = G*np.sqrt(T) / ne"
   ]
  },
  {
   "cell_type": "code",
   "execution_count": 121,
   "metadata": {
    "collapsed": true
   },
   "outputs": [],
   "source": [
    "Zcent_WNM =  function(GTn, alpha_test, a_test, b_test, h_test)"
   ]
  },
  {
   "cell_type": "code",
   "execution_count": 122,
   "metadata": {
    "collapsed": true
   },
   "outputs": [],
   "source": [
    "G = 0.6\n",
    "T = 70.\n",
    "ne = 36.*1.8e-4\n",
    "GTn = G*np.sqrt(T) / ne"
   ]
  },
  {
   "cell_type": "code",
   "execution_count": 123,
   "metadata": {
    "collapsed": false
   },
   "outputs": [],
   "source": [
    "Zcent_CNM = function(GTn, alpha_test, a_test, b_test, h_test)"
   ]
  },
  {
   "cell_type": "code",
   "execution_count": 126,
   "metadata": {
    "collapsed": true
   },
   "outputs": [],
   "source": [
    "G = 7.9e-4\n",
    "T = 14.4\n",
    "ne = 3.0e4*9.038e-8\n",
    "GTn = G*np.sqrt(T) / ne"
   ]
  },
  {
   "cell_type": "code",
   "execution_count": 128,
   "metadata": {
    "collapsed": true
   },
   "outputs": [],
   "source": [
    "Zcent_CMM = function(GTn, alpha_test, a_test, b_test, h_test)"
   ]
  },
  {
   "cell_type": "code",
   "execution_count": 129,
   "metadata": {
    "collapsed": false
   },
   "outputs": [
    {
     "name": "stdout",
     "output_type": "stream",
     "text": [
      "[-0.39478159 -0.45726619 -0.28603527  0.09690444  0.69033987  1.80766728]\n",
      "[  3.48935940e-03   4.41627114e-01   5.90604909e+00   1.32652015e+01\n",
      "   3.51258071e+01   1.33905178e+02]\n",
      "[   0.59401229    2.30851156   20.67397829   39.75670312  109.73022082\n",
      "  593.88001878]\n"
     ]
    }
   ],
   "source": [
    "print(Zcent_CMM)\n",
    "print(Zcent_CNM)\n",
    "print(Zcent_WNM)"
   ]
  },
  {
   "cell_type": "code",
   "execution_count": 161,
   "metadata": {
    "collapsed": true
   },
   "outputs": [],
   "source": [
    "G = 1.0e3\n",
    "T = 1.0e3\n",
    "ne = 1.0\n",
    "GTn = G*np.sqrt(T) / ne"
   ]
  },
  {
   "cell_type": "code",
   "execution_count": 162,
   "metadata": {
    "collapsed": true
   },
   "outputs": [],
   "source": [
    "Zcent_PDR = function(GTn, alpha, a, b, h)"
   ]
  },
  {
   "cell_type": "code",
   "execution_count": 163,
   "metadata": {
    "collapsed": false
   },
   "outputs": [
    {
     "name": "stdout",
     "output_type": "stream",
     "text": [
      "(5.0, 100.0, 1000.0)\n",
      "(0.6595133552429282, 25.256608139034501, 214.32006645766609)\n"
     ]
    }
   ],
   "source": [
    "print(size[1], size[4], size[6])\n",
    "print(Zcent_PDR[1], Zcent_PDR[4], Zcent_PDR[6])"
   ]
  },
  {
   "cell_type": "code",
   "execution_count": 83,
   "metadata": {
    "collapsed": false
   },
   "outputs": [
    {
     "data": {
      "image/png": "[encoded data removed]",
      "text/plain": [
       "<matplotlib.figure.Figure at 0x7faae8f58610>"
      ]
     },
     "metadata": {},
     "output_type": "display_data"
    }
   ],
   "source": [
    "fig = plt.figure(figsize=(7,5))\n",
    "\n",
    "ax = fig.add_axes([0.5, 0.5, 0.9, 0.9])\n",
    "ax.scatter(Test_sizes, Zcent_CNM, c=\"b\", marker=\"o\", linewidths=2)\n",
    "ax.scatter(Test_sizes, Zcent_WNM, c=\"r\", marker=\"o\", linewidths=2)\n",
    "ax.scatter(Test_sizes, abs(Zcent_CMM), c=\"k\", marker=\"*\", linewidths=2)\n",
    "\n",
    "\n",
    "ax.set_xscale(\"log\")\n",
    "ax.set_yscale(\"log\")\n",
    "\n",
    "ax.tick_params(axis='both', which='major', length=10, width=2,  labelsize=15, direction=\"in\")\n",
    "ax.tick_params(axis='both', which='minor', length=5, width=1.5, labelsize=15, direction=\"in\")\n",
    "\n",
    "#ax.set_xlabel(\"$a_{400}$ $(G\\\\sqrt{T} / n_{e})^{0.58}$ - $a_{57}$\", fontsize=15)\n",
    "ax.set_xlabel(\"Size [$\\\\AA$]\", fontsize=15)\n",
    "ax.set_ylabel(\"$\\\\langle Z \\\\rangle$\", fontsize=15)\n",
    "\n",
    "#ax.set_yscale(np.min(abs(Zcent_CMM)), np.max(Zcent_WNM))\n",
    "ax.set_ylim(1.0e-2, 1200)\n",
    "\n",
    "fig.show()"
   ]
  },
  {
   "cell_type": "code",
   "execution_count": 84,
   "metadata": {
    "collapsed": true
   },
   "outputs": [],
   "source": [
    "# PDR\n",
    "G = 1.0e3\n",
    "T = 1000.\n",
    "ne = 1.0\n",
    "GTn = G*np.sqrt(T) / ne\n",
    "\n",
    "Zcent_PDR = function(GTn, alpha, a, b, h)"
   ]
  },
  {
   "cell_type": "code",
   "execution_count": 85,
   "metadata": {
    "collapsed": false
   },
   "outputs": [
    {
     "name": "stdout",
     "output_type": "stream",
     "text": [
      "[    3.5     5.     10.     50.    100.    500.   1000. ]\n",
      "[ 0.3263  0.3141  0.3535  0.5115  0.3525  0.3643  0.3927]\n"
     ]
    }
   ],
   "source": [
    "print(size)\n",
    "print(alpha)"
   ]
  },
  {
   "cell_type": "code",
   "execution_count": 86,
   "metadata": {
    "collapsed": false
   },
   "outputs": [
    {
     "name": "stdout",
     "output_type": "stream",
     "text": [
      "[    3.5     5.     10.     50.    100.    500.   1000. ]\n",
      "[   0.31686269    0.65951336    1.43870486   13.95319359   25.25660814\n",
      "  115.07957131  214.32006646]\n"
     ]
    }
   ],
   "source": [
    "print(size)\n",
    "print(Zcent_PDR)"
   ]
  },
  {
   "cell_type": "markdown",
   "metadata": {},
   "source": [
    "---"
   ]
  },
  {
   "cell_type": "code",
   "execution_count": 47,
   "metadata": {
    "collapsed": false
   },
   "outputs": [],
   "source": [
    "# Calculate charge distribution: Same sizes and environments.\n",
    "\n",
    "import fzMPI\n",
    "import yt\n",
    "from yt.units import pc, kpc, second, Kelvin, gram, erg, cm\n",
    "import compute_charge_dist as fz"
   ]
  },
  {
   "cell_type": "code",
   "execution_count": 48,
   "metadata": {
    "collapsed": false
   },
   "outputs": [
    {
     "name": "stderr",
     "output_type": "stream",
     "text": [
      "yt : [INFO     ] 2018-11-08 16:33:33,177 Particle file found: NL99_R8_cf_hdf5_chk_0028\n",
      "yt : [INFO     ] 2018-11-08 16:33:33,183 integer runtime parameter checkpointfilenumber overwrites a simulation scalar of the same name\n",
      "yt : [INFO     ] 2018-11-08 16:33:33,183 integer runtime parameter forcedplotfilenumber overwrites a simulation scalar of the same name\n",
      "yt : [INFO     ] 2018-11-08 16:33:33,184 integer runtime parameter nbegin overwrites a simulation scalar of the same name\n",
      "yt : [INFO     ] 2018-11-08 16:33:33,184 integer runtime parameter plotfilenumber overwrites a simulation scalar of the same name\n",
      "yt : [INFO     ] 2018-11-08 16:33:33,199 Parameters: current_time              = 5.68049127342e+14\n",
      "yt : [INFO     ] 2018-11-08 16:33:33,200 Parameters: domain_dimensions         = [32  8  8]\n",
      "yt : [INFO     ] 2018-11-08 16:33:33,201 Parameters: domain_left_edge          = [ -1.97478400e+20  -4.93696000e+19  -4.93696000e+19]\n",
      "yt : [INFO     ] 2018-11-08 16:33:33,202 Parameters: domain_right_edge         = [  1.97478400e+20   4.93696000e+19   4.93696000e+19]\n",
      "yt : [INFO     ] 2018-11-08 16:33:33,202 Parameters: cosmological_simulation   = 0.0\n"
     ]
    },
    {
     "name": "stdout",
     "output_type": "stream",
     "text": [
      "Initializing clock.\n"
     ]
    }
   ],
   "source": [
    "# Define some constant parameters to be used.\n",
    "mp      = 1.6726e-24  * gram # g\n",
    "mH      = 1.6733e-24  * gram\n",
    "mC      = 12.011*mH\n",
    "#mu      = 1.2924\n",
    "kb      = 1.3806e-16  *erg / Kelvin # erg K-1\n",
    "GNewton = 6.6743e-8   * cm**3 / (gram * second**2 )# cm3 g-1 s-2\n",
    "Msun    = 1.9884e33   * gram\n",
    "#mm      = mu*mp\n",
    "\n",
    "ppc = 3.0856776e18\n",
    "\n",
    "# -------------------------------------------------------------\n",
    "#              Create a lot of new derived fields\n",
    "# -------------------------------------------------------------\n",
    "\n",
    "# Create a derived field.\n",
    "# Hydrogen number density\n",
    "def numdensH(field, data): \n",
    "    nH = data[\"dens\"]*(data[\"ihp \"]+data[\"iha \"]+data[\"ih2 \"])/(1.4*mH)\n",
    "    return nH\n",
    "\n",
    "# Molecular Hydrogen number density\n",
    "def numdensH2(field, data): \n",
    "    nH2 = data[\"dens\"]*(data[\"ih2 \"])/(1.4*mH)\n",
    "    return nH2\n",
    "\n",
    "# Carbon number density\n",
    "def numdensC(field, data): \n",
    "    nC = data[\"dens\"]*(data[\"icp \"]+data[\"ico \"])/(1.4*mC)\n",
    "    return nC\n",
    "\n",
    "# electron number density\n",
    "def numdense(field, data): \n",
    "    ne = data[\"dens\"]*(data[\"ihp \"]/(1.4*mH) + data[\"icp \"]/(1.4*mC))\n",
    "    return ne\n",
    "\n",
    "# Ionized hydrogen fraction\n",
    "def xHp(field, data): \n",
    "    nH  = data[\"dens\"]*(data[\"ihp \"]+data[\"iha \"]+data[\"ih2 \"])/(1.4*mH)\n",
    "    xHp = data[\"dens\"]*data[\"ihp \"]/(1.4*mH)\n",
    "    xHp = xHp / nH\n",
    "    return xHp\n",
    "\n",
    "# Molecular hydrogen fraction\n",
    "def xH2(field, data): \n",
    "    nH  = data[\"dens\"]*(data[\"ihp \"]+data[\"iha \"]+data[\"ih2 \"])/(1.4*mH)\n",
    "    xH2 = data[\"dens\"]*data[\"ih2 \"]/(1.4*mH)\n",
    "    xH2 = xH2 / nH\n",
    "    return xH2\n",
    "\n",
    "# Ionized carbon fraction\n",
    "def xCp(field, data): \n",
    "    nC  = data[\"dens\"]*(data[\"icp \"]+data[\"ico \"])/(1.4*mC)\n",
    "    xCp = data[\"dens\"]*data[\"icp \"]/(1.4*mC) / nC\n",
    "    return xCp\n",
    "\n",
    "# electron fraction\n",
    "def xe(field, data): \n",
    "    nH = data[\"dens\"]*(data[\"ihp \"]+data[\"iha \"]+data[\"ih2 \"])/(1.4*mH)\n",
    "    nC = data[\"dens\"]*(data[\"icp \"]+data[\"ico \"])/(1.4*mC)\n",
    "    ne = data[\"dens\"]*(data[\"ihp \"]/(1.4*mH) + data[\"icp \"]/(1.4*mC))\n",
    "    xe = ne / (nH + nC)\n",
    "    return xe\n",
    "\n",
    "# electron fraction\n",
    "#def GG(field, data): \n",
    "#    G = fz.get_G(data[\"cdto\"], 1.68)\n",
    "#    return G\n",
    "\n",
    "\n",
    "yt.add_field('nH', function=numdensH,  units=\"1/cm**3\", force_override=True)\n",
    "yt.add_field('nH2',function=numdensH2, units=\"1/cm**3\", force_override=True)\n",
    "yt.add_field('nC', function=numdensC,  units=\"1/cm**3\", force_override=True)\n",
    "yt.add_field('ne', function=numdense,  units=\"1/cm**3\", force_override=True)\n",
    "yt.add_field('xHp', function=xHp,      units=\"dimensionless\", force_override=True)\n",
    "yt.add_field('xH2', function=xH2,      units=\"dimensionless\", force_override=True)\n",
    "yt.add_field('xCp', function=xCp,      units=\"dimensionless\", force_override=True)\n",
    "yt.add_field('xe', function=xe,        units=\"dimensionless\", force_override=True)\n",
    "#yt.add_field('G',  function=GG,        units=\"dimensionless\", force_override=True)\n",
    "\n",
    "fzMPI.print_to_logfile(\"Initializing clock.\")\n",
    "\n",
    "# Input variables.\n",
    "data_dir   = \"/home/jcibanezm/codes/run/Silcc/CF_Prabesh\"\n",
    "#data_dir   = \"/Users/juan/codes/run/Silcc/CF_Prabesh\"\n",
    "filename   = data_dir + \"/NL99_R8_cf_hdf5_chk_0028\"\n",
    "\n",
    "pf = yt.load(\"%s\"%(filename))\n",
    "\n",
    "c  = [0,0,0]\n",
    "le = [-4.93696000e+19, -4.93696000e+19, -4.93696000e+19]\n",
    "re = [ 4.93696000e+19,  4.93696000e+19,  4.93696000e+19]\n",
    "\n",
    "box = pf.box(le, re)\n",
    "\n",
    "min_dens = np.min(box[\"density\"])\n",
    "max_dens = np.max(box[\"density\"])\n",
    "\n",
    "min_nh   = np.min(box[\"nH\"])\n",
    "max_nh   = np.max(box[\"nH\"])\n",
    "\n",
    "min_temp = np.min(box[\"temperature\"])\n",
    "max_temp = np.max(box[\"temperature\"])\n",
    "\n",
    "min_ne = np.min(box[\"ne\"])\n",
    "max_ne = np.max(box[\"ne\"])\n",
    "\n",
    "min_xe = np.min(box[\"xe\"])\n",
    "max_xe = np.max(box[\"xe\"])\n",
    "\n",
    "min_Av = np.min(box[\"cdto\"])\n",
    "max_Av = np.max(box[\"cdto\"])"
   ]
  },
  {
   "cell_type": "code",
   "execution_count": 49,
   "metadata": {
    "collapsed": false
   },
   "outputs": [
    {
     "name": "stdout",
     "output_type": "stream",
     "text": [
      "I'm looking for a grain size smaller than 10 Angstrom. Outside the tabulated data!!!\n",
      "Using the absorption efficiency for a 10 AA grain\n"
     ]
    }
   ],
   "source": [
    "wnm = ((box[\"temperature\"].in_units(\"K\") > 6.0e3)&(box[\"temperature\"].in_units(\"K\") < 1.0e4)&(box[\"iha \"] > 0.6)&(box[\"nH\"] >= 0.75))\n",
    "cnm = ((box[\"temperature\"].in_units(\"K\") > 50)   &(box[\"temperature\"].in_units(\"K\") < 70)   &(box[\"iha \"] > 0.6))\n",
    "cmm = ((box[\"temperature\"].in_units(\"K\") < 50)   &(box[\"ih2 \"] > 0.6) &(box[\"nH\"] <1.0e5))\n",
    "\n",
    "wnmtrue = np.argwhere(wnm==True)\n",
    "cnmtrue = np.argwhere(cnm==True)\n",
    "cmmtrue = np.argwhere(cmm==True)\n",
    "\n",
    "wnmindex = wnmtrue[0]\n",
    "#wnmindex = [3626974]\n",
    "cnmindex = cnmtrue[0]\n",
    "#cmmindex = cmmtrue[3626974]\n",
    "cmmindex = [3479445]\n",
    "\n",
    "#grain_type = \"carbonaceous\"\n",
    "grain_type = \"silicate\"\n",
    "grain_size = [7.5, 25, 75, 250, 750, 2500]\n",
    "#grain_size = [25, 75, 25, 75, 20]\n",
    "\n",
    "G0         = 1.7\n",
    "\n",
    "Qabs7    = fz.get_QabsTable(grain_type, 7.5 )\n",
    "Qabs25    = fz.get_QabsTable(grain_type, 25 )\n",
    "Qabs75    = fz.get_QabsTable(grain_type, 75)\n",
    "Qabs250   = fz.get_QabsTable(grain_type, 250)\n",
    "Qabs750   = fz.get_QabsTable(grain_type, 750 )\n",
    "Qabs2500  = fz.get_QabsTable(grain_type, 2500)\n",
    "\n",
    "Qabs = [Qabs7, Qabs25,Qabs75,Qabs250,Qabs750,Qabs2500]"
   ]
  },
  {
   "cell_type": "code",
   "execution_count": 54,
   "metadata": {
    "collapsed": true
   },
   "outputs": [],
   "source": [
    "indexarr = np.array([wnmindex, cnmindex, cmmindex])\n",
    "\n",
    "temp= np.array( box[\"temp\"][indexarr])\n",
    "dd  = np.array( box[\"dens\"][indexarr])\n",
    "nH  = np.array( box[\"nH\"]  [indexarr])\n",
    "nH2 = np.array( box[\"nH2\"]  [indexarr])\n",
    "nC  = np.array( box[\"nC\"]  [indexarr])\n",
    "ne  = np.array( box[\"ne\"]  [indexarr])\n",
    "xe  = np.array( box[\"xe\"]  [indexarr])\n",
    "xHp = np.array( box[\"xHp\"]  [indexarr])\n",
    "xH2 = np.array( box[\"xH2\"]  [indexarr])\n",
    "xCp = np.array( box[\"xCp\"]  [indexarr])\n",
    "Av  = np.array( box[\"cdto\"][indexarr])\n",
    "fH2shield  = np.array( box[\"cdh2\"][indexarr])\n",
    "\n",
    "Ntot =  Av * 1.87e21"
   ]
  },
  {
   "cell_type": "code",
   "execution_count": 52,
   "metadata": {
    "collapsed": true
   },
   "outputs": [],
   "source": [
    "NH2 = np.zeros(3)\n",
    "for i in range(3):\n",
    "    NH2[i] = fz.get_NH2(fH2shield[i], temp[i])"
   ]
  },
  {
   "cell_type": "code",
   "execution_count": 57,
   "metadata": {
    "collapsed": false,
    "scrolled": true
   },
   "outputs": [
    {
     "name": "stdout",
     "output_type": "stream",
     "text": [
      "Running grain size 7, phase WNM\n",
      "('Charge centroid = ', 0.60018887181599601)\n",
      "('Charge width    = ', 0.66644946599267)\n",
      "Running grain size 7, phase CNM\n",
      "('Charge centroid = ', 0.02058097385170659)\n",
      "('Charge width    = ', 0.40626666470760137)\n",
      "Running grain size 7, phase CMM\n",
      "('Charge centroid = ', -0.19252508628067949)\n",
      "('Charge width    = ', 0.43315354051015464)\n",
      "Running grain size 25, phase WNM\n",
      "('Charge centroid = ', 3.172147109875576)\n",
      "('Charge width    = ', 1.2199230161824517)\n",
      "Running grain size 25, phase CNM\n",
      "('Charge centroid = ', 0.55909205837676046)\n",
      "('Charge width    = ', 0.773358740324529)\n",
      "Running grain size 25, phase CMM\n",
      "('Charge centroid = ', -0.097105092565408571)\n",
      "('Charge width    = ', 0.5016503069911178)\n",
      "Running grain size 75, phase WNM\n",
      "('Charge centroid = ', 13.041066171376723)\n",
      "('Charge width    = ', 1.9892589645871612)\n",
      "Running grain size 75, phase CNM\n",
      "('Charge centroid = ', 3.6897044188573433)\n",
      "('Charge width    = ', 1.7278322615626327)\n",
      "Running grain size 75, phase CMM\n",
      "('Charge centroid = ', 0.44306091044940116)\n",
      "('Charge width    = ', 0.7988572738534073)\n",
      "Running grain size 250, phase WNM\n",
      "('Charge centroid = ', 44.429672529614024)\n",
      "('Charge width    = ', 3.443643703999592)\n",
      "Running grain size 250, phase CNM\n",
      "('Charge centroid = ', 16.147767626082768)\n",
      "('Charge width    = ', 3.164880688886954)\n",
      "Running grain size 250, phase CMM\n",
      "('Charge centroid = ', 1.7748049664216254)\n",
      "('Charge width    = ', 1.457636693199164)\n",
      "Running grain size 750, phase WNM\n",
      "('Charge centroid = ', 113.88553047694144)\n",
      "('Charge width    = ', 6.048695235416231)\n",
      "Running grain size 750, phase CNM\n",
      "('Charge centroid = ', 36.186868303559606)\n",
      "('Charge width    = ', 4.994332729540524)\n",
      "Running grain size 750, phase CMM\n",
      "('Charge centroid = ', 3.1208783922951508)\n",
      "('Charge width    = ', 1.937203409131089)\n",
      "Running grain size 2500, phase WNM\n",
      "('Charge centroid = ', 331.10690606651451)\n",
      "('Charge width    = ', 11.155454493014112)\n",
      "Running grain size 2500, phase CNM\n",
      "('Charge centroid = ', 92.345986381177852)\n",
      "('Charge width    = ', 8.35967285792959)\n",
      "Running grain size 2500, phase CMM\n",
      "('Charge centroid = ', 7.5540196768559529)\n",
      "('Charge width    = ', 2.9816589571732237)\n"
     ]
    }
   ],
   "source": [
    "#zmean, zmode, zstd  =  np.zeros(15), np.zeros(15), np.zeros(15)\n",
    "zmean, zmode, zstd  =  np.zeros((3,6)), np.zeros((3,6)), np.zeros((3,6))\n",
    "zminmax = np.array(np.zeros(2*18))\n",
    "fdist   = []\n",
    "fdistCR   = []\n",
    "phase = [\"WNM\", \"CNM\", \"CMM\"]\n",
    "\n",
    "# loop over grain sizes\n",
    "for kk in range(6):\n",
    "    # loop over ISM phases.\n",
    "    for ii in range(3):\n",
    "        \n",
    "        print(\"Running grain size %i, phase %s\"%(grain_size[kk], phase[ii]))\n",
    "        \n",
    "        zeta = fz.get_zeta(NH2[ii])\n",
    "\n",
    "        ############################################################################################\n",
    "        # Run the charge distribution calculation!!!\n",
    "        Jpe, Je, Jh, Jc, ZZall = fz.compute_currents ([nH[ii], nC[ii]], [xHp[ii], xCp[ii]], xH2[ii], temp[ii], zeta, grain_size[kk], Ntot[ii], grain_type, Qabs[kk], G0=G0)\n",
    "        JCRe, JCRpe, ZZnew     = fz.compute_CR_currents(nH[ii], zeta, grain_size[kk], grain_type, Qabs[kk])\n",
    "\n",
    "        zeq                    = fz.get_zeq_vec      (Jpe, Je, Jh, Jc, ZZall, grain_size[kk], grain_type)\n",
    "        new_zmin, new_zmax     = fz.get_new_zmin_zmax([nH[ii], nC[ii]], [xHp[ii], xCp[ii]], temp[ii], grain_size[kk], Ntot[ii], grain_type, Qabs[kk], zeta, zeq=zeq, G0=G0, includeCR=True)    \n",
    "        #new_zmin, new_zmax     = int(fz.get_Zmin(grain_size[ii], grain_type[ii])), int(fz.get_Zmax(grain_size[ii], grain_type[ii]))       \n",
    "        \n",
    "        #fz, ZZ                = fz.vector_fz        (Jpe, Je, Jh, Jc, JCRe, JCRpe, ZZall, new_zmin, new_zmax, includeCR=False)\n",
    "        ffz, ZZ              = fz.vector_fz        (Jpe, Je, Jh, Jc, JCRe, JCRpe, ZZall, new_zmin, new_zmax, includeCR=True)\n",
    "        #ffz, ZZ                = fz.vector_fz        (Jpe, Je, Jh, Jc, ZZall, new_zmin, new_zmax)\n",
    "\n",
    "        avg, std  = fz.weighted_avg_and_std(ZZ, ffz)\n",
    "    \n",
    "        print(\"Charge centroid = \", avg)\n",
    "        print(\"Charge width    = \", std)\n",
    "\n",
    "        #zmean[ii+kk*3] = avg\n",
    "        #zstd[ii+kk*3]  = std\n",
    "        zmean[ii, kk] =  avg\n",
    "        zstd[ii, kk]  =  std\n",
    "\n",
    "        #print(\"Zmin index = %i\"%(ii*2+  2*kk*3))\n",
    "        #print(\"zmin = %i\"%(new_zmin))\n",
    "        #print(\"Zmax index = %i\"%(ii*2+1+2*kk*3))\n",
    "        #print(\"zmax = %i\"%(new_zmax))\n",
    "\n",
    "\n",
    "        zminmax[ii*2+  2*kk*3]  = new_zmin\n",
    "        zminmax[ii*2+1+2*kk*3]  = new_zmax\n",
    "        \n",
    "        #print(zminmax)\n",
    "\n",
    "        #fdist[ii]   = offset + ii\n",
    "        for jj in range(len(ffz)):\n",
    "            fdist.append(ffz[jj])\n",
    "\n",
    "            \n",
    "        #print(ffz)\n",
    "        #print(ZZ)"
   ]
  },
  {
   "cell_type": "code",
   "execution_count": 58,
   "metadata": {
    "collapsed": false
   },
   "outputs": [
    {
     "name": "stdout",
     "output_type": "stream",
     "text": [
      "25 AA, warm, cold, molecular, 75 AA WNM, CNM, CMM\n",
      "[   0.60018887    3.17214711   13.04106617   44.42967253  113.88553048\n",
      "  331.10690607]\n"
     ]
    }
   ],
   "source": [
    "print(\"25 AA, warm, cold, molecular, 75 AA WNM, CNM, CMM\")\n",
    "print(zmean[0,:])"
   ]
  },
  {
   "cell_type": "code",
   "execution_count": 87,
   "metadata": {
    "collapsed": true
   },
   "outputs": [],
   "source": [
    "Zdiff_CMM = zmean[2,:] - Zcent_CMM\n",
    "Zdiff_CNM = zmean[1,:] - Zcent_CNM\n",
    "Zdiff_WNM = zmean[0,:] - Zcent_WNM"
   ]
  },
  {
   "cell_type": "code",
   "execution_count": 88,
   "metadata": {
    "collapsed": false
   },
   "outputs": [
    {
     "name": "stdout",
     "output_type": "stream",
     "text": [
      "[ 0.2022565   0.36016109  0.72909618  1.67790052  2.43053853  5.7463524 ]\n"
     ]
    }
   ],
   "source": [
    "print(Zdiff_CMM)"
   ]
  },
  {
   "cell_type": "code",
   "execution_count": 90,
   "metadata": {
    "collapsed": false
   },
   "outputs": [
    {
     "name": "stdout",
     "output_type": "stream",
     "text": [
      "[  1.70916145e-02   1.17464945e-01  -2.21634467e+00   2.88256611e+00\n",
      "   1.06106122e+00  -4.15591918e+01]\n"
     ]
    }
   ],
   "source": [
    "print(Zdiff_CNM)"
   ]
  },
  {
   "cell_type": "code",
   "execution_count": 89,
   "metadata": {
    "collapsed": false
   },
   "outputs": [
    {
     "name": "stdout",
     "output_type": "stream",
     "text": [
      "[  6.17658489e-03   8.63635554e-01  -7.63291212e+00   4.67296941e+00\n",
      "   4.15530965e+00  -2.62773113e+02]\n"
     ]
    }
   ],
   "source": [
    "print(Zdiff_WNM)"
   ]
  },
  {
   "cell_type": "code",
   "execution_count": 62,
   "metadata": {
    "collapsed": false
   },
   "outputs": [
    {
     "name": "stdout",
     "output_type": "stream",
     "text": [
      "[   0.60018887    3.17214711   13.04106617   44.42967253  113.88553048\n",
      "  331.10690607]\n"
     ]
    }
   ],
   "source": [
    "print(zmean[0,:])"
   ]
  },
  {
   "cell_type": "code",
   "execution_count": 91,
   "metadata": {
    "collapsed": false
   },
   "outputs": [
    {
     "data": {
      "image/png": "[encoded data removed]",
      "text/plain": [
       "<matplotlib.figure.Figure at 0x7faae8a8ac90>"
      ]
     },
     "metadata": {},
     "output_type": "display_data"
    }
   ],
   "source": [
    "fig = plt.figure(figsize=(7,5))\n",
    "\n",
    "ax = fig.add_axes([0.5, 0.5, 0.9, 0.9])\n",
    "\n",
    "ax.scatter(Test_sizes, np.abs(Zdiff_CMM), c='k')\n",
    "ax.scatter(Test_sizes, np.abs(Zdiff_CNM), c='b')\n",
    "ax.scatter(Test_sizes, np.abs(Zdiff_WNM), c='r')\n",
    "\n",
    "\n",
    "#ax.scatter(Test_sizes, Zcent_CNM, c=\"b\", marker=\"o\", linewidths=2)\n",
    "#ax.scatter(Test_sizes, Zcent_WNM, c=\"r\", marker=\"o\", linewidths=2)\n",
    "#ax.scatter(Test_sizes, abs(Zcent_CMM), c=\"k\", marker=\"*\", linewidths=2)\n",
    "\n",
    "ax.set_xscale(\"log\")\n",
    "ax.set_yscale(\"log\")\n",
    "\n",
    "ax.tick_params(axis='both', which='major', length=10, width=2,  labelsize=15, direction=\"in\")\n",
    "ax.tick_params(axis='both', which='minor', length=5, width=1.5, labelsize=15, direction=\"in\")\n",
    "\n",
    "#ax.set_xlabel(\"$a_{400}$ $(G\\\\sqrt{T} / n_{e})^{0.58}$ - $a_{57}$\", fontsize=15)\n",
    "ax.set_xlabel(\"size [$\\\\AA$]\", fontsize=15)\n",
    "ax.set_ylabel(\"$\\\\Delta \\\\langle Z \\\\rangle$\", fontsize=15)\n",
    "\n",
    "#ax.set_yscale(np.min(abs(Zcent_CMM)), np.max(Zcent_WNM))\n",
    "#ax.set_ylim(0.4, 800)\n",
    "\n",
    "fig.show()"
   ]
  },
  {
   "cell_type": "code",
   "execution_count": 131,
   "metadata": {
    "collapsed": false
   },
   "outputs": [
    {
     "name": "stdout",
     "output_type": "stream",
     "text": [
      "[  3.48935940e-03   4.41627114e-01   5.90604909e+00   1.32652015e+01\n",
      "   3.51258071e+01   1.33905178e+02]\n"
     ]
    }
   ],
   "source": [
    "print(Zcent_CNM)"
   ]
  },
  {
   "cell_type": "code",
   "execution_count": 133,
   "metadata": {
    "collapsed": false
   },
   "outputs": [
    {
     "name": "stdout",
     "output_type": "stream",
     "text": [
      "[  2.05809739e-02   5.59092058e-01   3.68970442e+00   1.61477676e+01\n",
      "   3.61868683e+01   9.23459864e+01]\n"
     ]
    }
   ],
   "source": [
    "print(zmean[1,:])"
   ]
  },
  {
   "cell_type": "code",
   "execution_count": 93,
   "metadata": {
    "collapsed": false
   },
   "outputs": [
    {
     "name": "stdout",
     "output_type": "stream",
     "text": [
      "[7.5, 25, 75, 250, 750, 2500]\n"
     ]
    }
   ],
   "source": [
    "print(Test_sizes)"
   ]
  },
  {
   "cell_type": "code",
   "execution_count": 173,
   "metadata": {
    "collapsed": false
   },
   "outputs": [
    {
     "data": {
      "image/png": "[encoded data removed]",
      "text/plain": [
       "<matplotlib.figure.Figure at 0x7faae8832690>"
      ]
     },
     "metadata": {},
     "output_type": "display_data"
    }
   ],
   "source": [
    "import matplotlib.patches as patches\n",
    "\n",
    "fig = plt.figure(figsize=(7,5))\n",
    "\n",
    "ax = fig.add_axes([0.17, 0.17, 0.82, 0.82])\n",
    "\n",
    "ax.plot(np.arange(-1, 750), np.arange(-1, 750), \"grey\", linestyle='dashed')\n",
    "\n",
    "markers = [\"^\", \"+\", \"x\", \"*\", \"o\", \"p\"]\n",
    "\n",
    "for i in range(len(markers)):\n",
    "    ax.scatter(np.abs(Zcent_CMM[i]), np.abs(zmean[2,i]), c='k', marker=markers[i], s=100)\n",
    "    ax.scatter(np.abs(Zcent_CNM[i]), np.abs(zmean[1,i]), c='b', marker=markers[i], s=100)\n",
    "    ax.scatter(np.abs(Zcent_WNM[i]), np.abs(zmean[0,i]), c='r', marker=markers[i], s=100)\n",
    "\n",
    "\n",
    "#ax.scatter(Test_sizes, Zcent_CNM, c=\"b\", marker=\"o\", linewidths=2)\n",
    "#ax.scatter(Test_sizes, Zcent_WNM, c=\"r\", marker=\"o\", linewidths=2)\n",
    "#ax.scatter(Test_sizes, abs(Zcent_CMM), c=\"k\", marker=\"*\", linewidths=2)\n",
    "\n",
    "ax.set_xscale(\"log\")\n",
    "ax.set_yscale(\"log\")\n",
    "\n",
    "ax.tick_params(axis='both', which='major', length=10, width=2,  labelsize=20, direction=\"in\")\n",
    "ax.tick_params(axis='both', which='minor', length=5, width=1.5, labelsize=20, direction=\"in\")\n",
    "\n",
    "#ax.set_xlabel(\"$a_{400}$ $(G\\\\sqrt{T} / n_{e})^{0.58}$ - $a_{57}$\", fontsize=15)\n",
    "ax.set_xlabel(\"$\\\\langle Z \\\\rangle_{\\mathrm{par}}$\", fontsize=25)\n",
    "ax.set_ylabel(\"$\\\\langle Z \\\\rangle_{\\mathrm{full}}$\", fontsize=25)\n",
    "\n",
    "marky = np.logspace(2.5, 1.0, 6, endpoint=True)\n",
    "phasey = np.logspace(2.5,1.8, 3, endpoint=True)\n",
    "\n",
    "for i in range(len(markers)):\n",
    "    ax.scatter(0.01, marky[i], c='grey', marker=markers[i], s=50)\n",
    "    if i ==0 :\n",
    "        ax.text   (0.012, marky[i]*0.85, \"%.1f $\\\\AA$\"%(Test_sizes[i]), fontsize=15)\n",
    "    else:\n",
    "        ax.text   (0.012, marky[i]*0.85, \"%.0f $\\\\AA$\"%(Test_sizes[i]), fontsize=15)\n",
    "        \n",
    "colors = [\"black\", \"blue\", \"red\"]\n",
    "phases = [\"CMM\", \"CNM\", \"WNM\"]\n",
    "\n",
    "for i in range(len(phasey)):\n",
    "    ax.scatter(0.06, phasey[i], s=50, c=colors[i])\n",
    "    ax.text(0.070, phasey[i]*0.8, phases[i], fontsize=15)\n",
    "\n",
    "rect = patches.Rectangle((0.008, 7), 0.22, 500, linewidth=1, edgecolor='k', facecolor='none')\n",
    "\n",
    "ax.add_patch(rect)\n",
    "\n",
    "#ax.set_yscale(np.min(abs(Zcent_CMM)), np.max(Zcent_WNM))\n",
    "ax.set_ylim(0.002, 900)\n",
    "ax.set_xlim(0.002, 900)\n",
    "\n",
    "fig.show()\n",
    "\n",
    "fig.savefig(\"/home/jcibanezm/Dropbox/Projects/Papers/In_Progress/ChargeDist_Dust/Figures/Figure8_Test.pdf\", format=\"pdf\")"
   ]
  }
 ],
 "metadata": {
  "anaconda-cloud": {},
  "kernelspec": {
   "display_name": "Python [conda root]",
   "language": "python",
   "name": "conda-root-py"
  },
  "language_info": {
   "codemirror_mode": {
    "name": "ipython",
    "version": 2
   },
   "file_extension": ".py",
   "mimetype": "text/x-python",
   "name": "python",
   "nbconvert_exporter": "python",
   "pygments_lexer": "ipython2",
   "version": "2.7.15"
  }
 },
 "nbformat": 4,
 "nbformat_minor": 2
}
