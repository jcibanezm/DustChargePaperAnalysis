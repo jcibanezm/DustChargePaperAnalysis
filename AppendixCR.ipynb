{
 "cells": [
  {
   "cell_type": "code",
   "execution_count": 1,
   "metadata": {
    "collapsed": false
   },
   "outputs": [
    {
     "name": "stdout",
     "output_type": "stream",
     "text": [
      "Loading the library to compute the charge distribution of dust grains.\n"
     ]
    }
   ],
   "source": [
    "#from memory_profiler import profile\n",
    "import fzMPI\n",
    "from mpi4py import MPI\n",
    "\n",
    "import yt\n",
    "from yt.units import pc, kpc, second, Kelvin, gram, erg, cm\n",
    "\n",
    "import matplotlib.pyplot as plt\n",
    "from matplotlib.colors import LogNorm\n",
    "\n",
    "import numpy as np\n",
    "\n",
    "import compute_charge_dist as fz\n",
    "\n",
    "%matplotlib inline"
   ]
  },
  {
   "cell_type": "code",
   "execution_count": 2,
   "metadata": {
    "collapsed": false,
    "scrolled": false
   },
   "outputs": [
    {
     "name": "stderr",
     "output_type": "stream",
     "text": [
      "/home/jcibanezm/codes/libs/miniconda3/lib/python2.7/site-packages/matplotlib/figure.py:397: UserWarning: matplotlib is currently using a non-GUI backend, so cannot show the figure\n",
      "  \"matplotlib is currently using a non-GUI backend, \"\n"
     ]
    },
    {
     "data": {
      "image/png": "[encoded data removed]",
      "text/plain": [
       "<matplotlib.figure.Figure at 0x7f5bb1a93210>"
      ]
     },
     "metadata": {},
     "output_type": "display_data"
    }
   ],
   "source": [
    "gtype = \"carbonaceous\"\n",
    "asize = 500.\n",
    "\n",
    "\n",
    "Energies = np.logspace(3, 12)\n",
    "Jee = np.zeros_like(Energies)\n",
    "for i in range(len(Energies)):\n",
    "    Jee[i] = fz.CRparticles_spectra(Energies[i], particle=\"electron\")\n",
    "    \n",
    "stick = np.zeros_like(Energies)\n",
    "for i in range(len(Energies)):\n",
    "    stick[i] = fz.stick_CR(Energies[i], gtype, asize)\n",
    "    \n",
    "fig = plt.figure(figsize=(12,4))\n",
    "ax = fig.add_subplot(121)\n",
    "ax.plot(Energies, Jee)\n",
    "ax.set_xscale(\"log\")\n",
    "ax.set_yscale(\"log\")\n",
    "\n",
    "ax = fig.add_subplot(122)\n",
    "ax.plot(Energies, stick)\n",
    "#ax.set_xscale(\"log\")\n",
    "#ax.set_yscale(\"log\")\n",
    "fig.show()"
   ]
  },
  {
   "cell_type": "code",
   "execution_count": 3,
   "metadata": {
    "collapsed": false
   },
   "outputs": [
    {
     "name": "stderr",
     "output_type": "stream",
     "text": [
      "/home/jcibanezm/codes/libs/miniconda3/lib/python2.7/site-packages/yt/fields/local_fields.py:46: UserWarning: Because 'sampling_type' not specified, yt will assume a cell 'sampling_type'\n",
      "  warnings.warn(\"Because 'sampling_type' not specified, yt will \"\n"
     ]
    }
   ],
   "source": [
    "# Define some constant parameters to be used.\n",
    "mp      = 1.6726e-24  * gram # g\n",
    "mH      = 1.6733e-24  * gram\n",
    "mC      = 12.011*mH\n",
    "#mu      = 1.2924\n",
    "kb      = 1.3806e-16  *erg / Kelvin # erg K-1\n",
    "GNewton = 6.6743e-8   * cm**3 / (gram * second**2 )# cm3 g-1 s-2\n",
    "Msun    = 1.9884e33   * gram\n",
    "#mm      = mu*mp\n",
    "\n",
    "ppc = 3.0856776e18\n",
    "\n",
    "# -------------------------------------------------------------\n",
    "#              Create a lot of new derived fields\n",
    "# -------------------------------------------------------------\n",
    "\n",
    "# Create a derived field.\n",
    "# Hydrogen number density\n",
    "def numdensH(field, data): \n",
    "    nH = data[\"dens\"]*(data[\"ihp \"]+data[\"iha \"]+data[\"ih2 \"])/(1.4*mH)\n",
    "    return nH\n",
    "\n",
    "# Molecular Hydrogen number density\n",
    "def numdensH2(field, data): \n",
    "    nH2 = data[\"dens\"]*(data[\"ih2 \"])/(1.4*mH)\n",
    "    return nH2\n",
    "\n",
    "# Carbon number density\n",
    "def numdensC(field, data): \n",
    "    nC = data[\"dens\"]*(data[\"icp \"]+data[\"ico \"])/(1.4*mC)\n",
    "    return nC\n",
    "\n",
    "# electron number density\n",
    "def numdense(field, data): \n",
    "    ne = data[\"dens\"]*(data[\"ihp \"]/(1.4*mH) + data[\"icp \"]/(1.4*mC))\n",
    "    return ne\n",
    "\n",
    "# Ionized hydrogen fraction\n",
    "def xHp(field, data): \n",
    "    nH  = data[\"dens\"]*(data[\"ihp \"]+data[\"iha \"]+data[\"ih2 \"])/(1.4*mH)\n",
    "    xHp = data[\"dens\"]*data[\"ihp \"]/(1.4*mH)\n",
    "    xHp = xHp / nH\n",
    "    return xHp\n",
    "\n",
    "# Molecular hydrogen fraction\n",
    "def xH2(field, data): \n",
    "    nH  = data[\"dens\"]*(data[\"ihp \"]+data[\"iha \"]+data[\"ih2 \"])/(1.4*mH)\n",
    "    xH2 = data[\"dens\"]*data[\"ih2 \"]/(1.4*mH)\n",
    "    xH2 = xH2 / nH\n",
    "    return xH2\n",
    "\n",
    "# Ionized carbon fraction\n",
    "def xCp(field, data): \n",
    "    nC  = data[\"dens\"]*(data[\"icp \"]+data[\"ico \"])/(1.4*mC)\n",
    "    xCp = data[\"dens\"]*data[\"icp \"]/(1.4*mC) / nC\n",
    "    return xCp\n",
    "\n",
    "# electron fraction\n",
    "def xe(field, data): \n",
    "    nH = data[\"dens\"]*(data[\"ihp \"]+data[\"iha \"]+data[\"ih2 \"])/(1.4*mH)\n",
    "    nC = data[\"dens\"]*(data[\"icp \"]+data[\"ico \"])/(1.4*mC)\n",
    "    ne = data[\"dens\"]*(data[\"ihp \"]/(1.4*mH) + data[\"icp \"]/(1.4*mC))\n",
    "    xe = ne / (nH + nC)\n",
    "    return xe\n",
    "\n",
    "# electron fraction\n",
    "#def GG(field, data): \n",
    "#    G = fz.get_G(data[\"cdto\"], 1.68)\n",
    "#    return G\n",
    "\n",
    "\n",
    "yt.add_field('nH', function=numdensH,  units=\"1/cm**3\", force_override=True)\n",
    "yt.add_field('nH2',function=numdensH2, units=\"1/cm**3\", force_override=True)\n",
    "yt.add_field('nC', function=numdensC,  units=\"1/cm**3\", force_override=True)\n",
    "yt.add_field('ne', function=numdense,  units=\"1/cm**3\", force_override=True)\n",
    "yt.add_field('xHp', function=xHp,      units=\"dimensionless\", force_override=True)\n",
    "yt.add_field('xH2', function=xH2,      units=\"dimensionless\", force_override=True)\n",
    "yt.add_field('xCp', function=xCp,      units=\"dimensionless\", force_override=True)\n",
    "yt.add_field('xe', function=xe,        units=\"dimensionless\", force_override=True)\n",
    "#yt.add_field('G',  function=GG,        units=\"dimensionless\", force_override=True)"
   ]
  },
  {
   "cell_type": "code",
   "execution_count": 4,
   "metadata": {
    "collapsed": false
   },
   "outputs": [
    {
     "name": "stderr",
     "output_type": "stream",
     "text": [
      "yt : [INFO     ] 2018-11-13 17:25:31,483 Particle file found: NL99_R8_cf_hdf5_chk_0028\n",
      "yt : [INFO     ] 2018-11-13 17:25:31,526 integer runtime parameter checkpointfilenumber overwrites a simulation scalar of the same name\n",
      "yt : [INFO     ] 2018-11-13 17:25:31,530 integer runtime parameter forcedplotfilenumber overwrites a simulation scalar of the same name\n",
      "yt : [INFO     ] 2018-11-13 17:25:31,533 integer runtime parameter nbegin overwrites a simulation scalar of the same name\n",
      "yt : [INFO     ] 2018-11-13 17:25:31,537 integer runtime parameter plotfilenumber overwrites a simulation scalar of the same name\n"
     ]
    },
    {
     "name": "stdout",
     "output_type": "stream",
     "text": [
      "Initializing clock.\n"
     ]
    },
    {
     "name": "stderr",
     "output_type": "stream",
     "text": [
      "yt : [INFO     ] 2018-11-13 17:25:31,580 Parameters: current_time              = 5.68049127342e+14\n",
      "yt : [INFO     ] 2018-11-13 17:25:31,581 Parameters: domain_dimensions         = [32  8  8]\n",
      "yt : [INFO     ] 2018-11-13 17:25:31,582 Parameters: domain_left_edge          = [ -1.97478400e+20  -4.93696000e+19  -4.93696000e+19]\n",
      "yt : [INFO     ] 2018-11-13 17:25:31,584 Parameters: domain_right_edge         = [  1.97478400e+20   4.93696000e+19   4.93696000e+19]\n",
      "yt : [INFO     ] 2018-11-13 17:25:31,585 Parameters: cosmological_simulation   = 0.0\n"
     ]
    }
   ],
   "source": [
    "fzMPI.print_to_logfile(\"Initializing clock.\")\n",
    "\n",
    "# Input variables.\n",
    "data_dir   = \"/home/jcibanezm/codes/run/Silcc/CF_Prabesh\"\n",
    "#data_dir   = \"/Users/juan/codes/run/Silcc/CF_Prabesh\"\n",
    "filename   = data_dir + \"/NL99_R8_cf_hdf5_chk_0028\"\n",
    "\n",
    "pf = yt.load(\"%s\"%(filename))"
   ]
  },
  {
   "cell_type": "code",
   "execution_count": 5,
   "metadata": {
    "collapsed": true
   },
   "outputs": [],
   "source": [
    "c  = [0,0,0]\n",
    "le = [-4.93696000e+19, -4.93696000e+19, -4.93696000e+19]\n",
    "re = [ 4.93696000e+19,  4.93696000e+19,  4.93696000e+19]\n",
    "\n",
    "box = pf.box(le, re)"
   ]
  },
  {
   "cell_type": "code",
   "execution_count": 6,
   "metadata": {
    "collapsed": false
   },
   "outputs": [],
   "source": [
    "min_dens = np.min(box[\"density\"])\n",
    "max_dens = np.max(box[\"density\"])\n",
    "\n",
    "min_nh   = np.min(box[\"nH\"])\n",
    "max_nh   = np.max(box[\"nH\"])\n",
    "\n",
    "min_temp = np.min(box[\"temperature\"])\n",
    "max_temp = np.max(box[\"temperature\"])\n",
    "\n",
    "min_ne = np.min(box[\"ne\"])\n",
    "max_ne = np.max(box[\"ne\"])\n",
    "\n",
    "min_xe = np.min(box[\"xe\"])\n",
    "max_xe = np.max(box[\"xe\"])\n",
    "\n",
    "min_Av = np.min(box[\"cdto\"])\n",
    "max_Av = np.max(box[\"cdto\"])"
   ]
  },
  {
   "cell_type": "code",
   "execution_count": 7,
   "metadata": {
    "collapsed": false
   },
   "outputs": [
    {
     "name": "stdout",
     "output_type": "stream",
     "text": [
      "4.27507078198e-05 dimensionless\n",
      "0.712009898113 dimensionless\n"
     ]
    }
   ],
   "source": [
    "print(np.min(box[\"iha \"]))\n",
    "print(np.max(box[\"iha \"]))"
   ]
  },
  {
   "cell_type": "code",
   "execution_count": 8,
   "metadata": {
    "collapsed": false
   },
   "outputs": [],
   "source": [
    "cmm = ((box[\"temperature\"].in_units(\"K\") < 50)   &(box[\"ih2 \"] > 0.6) &(box[\"nH\"] <1.0e5))"
   ]
  },
  {
   "cell_type": "code",
   "execution_count": 9,
   "metadata": {
    "collapsed": true
   },
   "outputs": [],
   "source": [
    "cmmtrue = np.argwhere(cmm==True)"
   ]
  },
  {
   "cell_type": "code",
   "execution_count": 10,
   "metadata": {
    "collapsed": false
   },
   "outputs": [],
   "source": [
    "cmmindex = [7526814]"
   ]
  },
  {
   "cell_type": "code",
   "execution_count": 11,
   "metadata": {
    "collapsed": false
   },
   "outputs": [],
   "source": [
    "indexarr = np.array([cmmindex])\n",
    "\n",
    "temp= np.array( box[\"temp\"][indexarr])\n",
    "dd  = np.array( box[\"dens\"][indexarr])\n",
    "nH  = np.array( box[\"nH\"]  [indexarr])\n",
    "nH2 = np.array( box[\"nH2\"]  [indexarr])\n",
    "nC  = np.array( box[\"nC\"]  [indexarr])\n",
    "ne  = np.array( box[\"ne\"]  [indexarr])\n",
    "xe  = np.array( box[\"xe\"]  [indexarr])\n",
    "xHp = np.array( box[\"xHp\"]  [indexarr])\n",
    "xH2 = np.array( box[\"xH2\"]  [indexarr])\n",
    "xCp = np.array( box[\"xCp\"]  [indexarr])\n",
    "Av  = np.array( box[\"cdto\"][indexarr])\n",
    "fH2shield  = np.array( box[\"cdh2\"][indexarr])"
   ]
  },
  {
   "cell_type": "code",
   "execution_count": 17,
   "metadata": {
    "collapsed": false
   },
   "outputs": [
    {
     "name": "stdout",
     "output_type": "stream",
     "text": [
      "9.55236328335\n"
     ]
    }
   ],
   "source": [
    "print(temp[0][0])"
   ]
  },
  {
   "cell_type": "code",
   "execution_count": 18,
   "metadata": {
    "collapsed": false
   },
   "outputs": [],
   "source": [
    "GG = [fz.get_G(Av[0], G0=1.7)]\n",
    "NH2 = fz.get_NH2(fH2shield[0][0], temp[0][0])"
   ]
  },
  {
   "cell_type": "code",
   "execution_count": 19,
   "metadata": {
    "collapsed": false
   },
   "outputs": [
    {
     "name": "stdout",
     "output_type": "stream",
     "text": [
      "('Xe in the CMM', array([  4.24770430e-08]))\n",
      "('ne cmm', array([ 0.00422942]))\n",
      "('old xe', array([  4.23311710e-10]))\n",
      "('old ne', array([  4.21626352e-05]))\n"
     ]
    }
   ],
   "source": [
    "Ntot =  Av * 1.87e21\n",
    "zeta_cmm = fz.get_zeta(NH2)\n",
    "xe_cmm    = fz.CR_xe(nH[0], xH2[0], zeta=zeta_cmm)\n",
    "print(\"Xe in the CMM\", xe_cmm)\n",
    "print(\"ne cmm\", nH[0]*xe_cmm)\n",
    "print(\"old xe\", xe[0])\n",
    "print(\"old ne\", ne[0])"
   ]
  },
  {
   "cell_type": "code",
   "execution_count": 20,
   "metadata": {
    "collapsed": false
   },
   "outputs": [
    {
     "name": "stdout",
     "output_type": "stream",
     "text": [
      "(array([ 99569.61232378]), array([ 32.25134]), array([  4.31247468e-11]), array([  1.17417511e-06]), array([ 0.99859108]), array([  7.25826803e-08]), array([ 9.55236328]), array([ 10.4784014]))\n",
      "2.83116416488e-15\n"
     ]
    }
   ],
   "source": [
    "print(nH[-1], nC[-1], xHp[-1], xCp[-1], xH2[-1], fH2shield[-1], temp[-1], Av[-1])\n",
    "print(fz.get_zeta(fH2shield[-1]))"
   ]
  },
  {
   "cell_type": "code",
   "execution_count": 21,
   "metadata": {
    "collapsed": false
   },
   "outputs": [
    {
     "name": "stdout",
     "output_type": "stream",
     "text": [
      "[[ 99569.61232378]]\n"
     ]
    }
   ],
   "source": [
    "print(nH)"
   ]
  },
  {
   "cell_type": "code",
   "execution_count": 27,
   "metadata": {
    "collapsed": true
   },
   "outputs": [],
   "source": [
    "grain_type = \"carbonaceous\"\n",
    "grain_size = 1000.\n",
    "\n",
    "ii = 0\n",
    "\n",
    "zeta = fz.get_zeta(Ntot[ii])\n",
    "\n",
    "############################################################################################\n",
    "# Run the charge distribution calculation!!!\n",
    "Jpe, Je, Jh, Jc, ZZall = fz.compute_currents ([nH[ii], nC[ii]], [xHp[ii], xCp[ii]], xH2[ii], temp[ii], zeta, grain_size[kk], Ntot[ii], grain_type, Qabs[kk], G0=G0)\n",
    "JCRe, JCRpe, ZZnew     = fz.compute_CR_currents(nH[ii], zeta, grain_size[kk], grain_type, Qabs[kk])\n",
    "\n",
    "zeq                    = fz.get_zeq_vec      (Jpe, Je, Jh, Jc, ZZall, grain_size[kk], grain_type)\n",
    "new_zmin, new_zmax     = fz.get_new_zmin_zmax([nH[ii], nC[ii]], [xHp[ii], xCp[ii]], temp[ii], grain_size[kk], Ntot[ii], grain_type, Qabs[kk], zeta, zeq=zeq, G0=G0, includeCR=True)    \n",
    "#new_zmin, new_zmax     = int(fz.get_Zmin(grain_size[ii], grain_type[ii])), int(fz.get_Zmax(grain_size[ii], grain_type[ii]))       \n",
    "        \n",
    "#fz, ZZ                = fz.vector_fz        (Jpe, Je, Jh, Jc, JCRe, JCRpe, ZZall, new_zmin, new_zmax, includeCR=False)\n",
    "ffzCR, ZZ              = fz.vector_fz        (Jpe, Je, Jh, Jc, JCRe, JCRpe, ZZall, new_zmin, new_zmax, includeCR=True)\n",
    "#ffz, ZZ                = fz.vector_fz        (Jpe, Je, Jh, Jc, ZZall, new_zmin, new_zmax)\n",
    "\n",
    "\n",
    "\n",
    "\n",
    "ffz, ZZ        = fz.vector_fz(Jpe, Je, Jh, Jc, JCRe, JCRpe, ZZall, new_zmin, new_zmax, includeCR=True)\n",
    "\n",
    "JCRe_zeros = np.zeros_like(JCRe)\n",
    "ffzNoCRe, ZZ   = fz.vector_fz(Jpe, Je, Jh, Jc, JCRe_zeros, JCRpe, ZZall, new_zmin, new_zmax, includeCR=True)\n",
    "\n",
    "Zm     = fz.get_Zmode(ZZ, ffz)\n",
    "zmode  = Zm\n",
    "\n",
    "avg, std  = fz.weighted_avg_and_std(ZZ, ffz)\n",
    "zmean     = avg\n",
    "zstd      = std"
   ]
  },
  {
   "cell_type": "code",
   "execution_count": 28,
   "metadata": {
    "collapsed": false
   },
   "outputs": [
    {
     "name": "stdout",
     "output_type": "stream",
     "text": [
      "[-3.28731061e-152 -3.28731061e-152 -3.28731061e-152 ... -3.28731061e-152\n",
      " -3.28731061e-152 -3.28731061e-152]\n"
     ]
    }
   ],
   "source": [
    "print(JCRe)"
   ]
  },
  {
   "cell_type": "code",
   "execution_count": 29,
   "metadata": {
    "collapsed": false
   },
   "outputs": [
    {
     "data": {
      "image/png": "[encoded data removed]",
      "text/plain": [
       "<matplotlib.figure.Figure at 0x7f3a796f3850>"
      ]
     },
     "metadata": {},
     "output_type": "display_data"
    }
   ],
   "source": [
    "fig = plt.figure(figsize=(6, 5))\n",
    "ax = fig.add_axes([0.05, 0.05, 0.85, 0.85])\n",
    "\n",
    "ax.plot(ZZall, Jpe, \"-r\", linewidth=2, alpha=1.0)\n",
    "ax.plot(ZZall, Je, \"-g\", linewidth=2, alpha=1.0)\n",
    "ax.plot(ZZall, Jh, \"-k\", linewidth=2, alpha=1.0)\n",
    "\n",
    "ax.plot(ZZnew, JCRpe, \"-b\", linewidth=2, alpha=1.0)\n",
    "ax.plot(ZZnew, JCRe, \"--b\", linewidth=2, alpha=1.0)\n",
    "\n",
    "\n",
    "ax.set_yscale(\"log\")\n",
    "\n",
    "#ax.set_ylim(1.0e-15, 1.0e-6)\n",
    "\n",
    "fig.show()"
   ]
  },
  {
   "cell_type": "code",
   "execution_count": 30,
   "metadata": {
    "collapsed": false
   },
   "outputs": [
    {
     "name": "stdout",
     "output_type": "stream",
     "text": [
      "[[99569.61232378]]\n"
     ]
    }
   ],
   "source": [
    "print(nH)"
   ]
  },
  {
   "cell_type": "code",
   "execution_count": 34,
   "metadata": {
    "collapsed": false
   },
   "outputs": [
    {
     "data": {
      "image/png": "[encoded data removed]",
      "text/plain": [
       "<matplotlib.figure.Figure at 0x7f3a7943d3d0>"
      ]
     },
     "metadata": {},
     "output_type": "display_data"
    }
   ],
   "source": [
    "fig = plt.figure(figsize=(6, 5))\n",
    "ax = fig.add_axes([0.05, 0.05, 0.85, 0.85])\n",
    "\n",
    "#zmin, zmax = new_zmin-1, new_zmax+1\n",
    "#ffz = np.concatenate([[0.0],ffz,[0.0]])\n",
    "#ffzNoCR = np.concatenate([[0.0],ffzNoCRe,[0.0]])\n",
    "#ZZ = np.arange(zmin, zmax+1)\n",
    "\n",
    "ax.plot(ZZ+0.5, ffz, \"-r\", linewidth=2, drawstyle='steps', alpha=1.0)\n",
    "ax.plot(ZZ+0.5, ffzNoCR, \"--b\", linewidth=2, drawstyle='steps', alpha=1.0)\n",
    "\n",
    "ax.set_ylabel(\"f(z)\", fontsize=18)\n",
    "ax.set_xlabel(\"Z\", fontsize=16)\n",
    "\n",
    "fig.show()"
   ]
  },
  {
   "cell_type": "markdown",
   "metadata": {},
   "source": [
    "---"
   ]
  },
  {
   "cell_type": "markdown",
   "metadata": {},
   "source": [
    "---"
   ]
  },
  {
   "cell_type": "code",
   "execution_count": 24,
   "metadata": {
    "collapsed": false,
    "scrolled": true
   },
   "outputs": [
    {
     "name": "stdout",
     "output_type": "stream",
     "text": [
      "I'm looking for a grain size smaller than 10 Angstrom. Outside the tabulated data!!!\n",
      "Using the absorption efficiency for a 10 AA grain\n",
      "Running grain size 5, phase 0\n",
      "Zmin index = 0\n",
      "zmin = -1\n",
      "Zmax index = 1\n",
      "zmax = 3\n",
      "[-1.  3.  0.  0.  0.  0.]\n",
      "[  2.00359512e-01   7.99273242e-01   3.67245873e-04   5.61654694e-15\n",
      "   1.92534738e-27]\n",
      "[-1  0  1  2  3]\n",
      "Running grain size 100, phase 0\n",
      "Zmin index = 0\n",
      "zmin = -7\n",
      "Zmax index = 1\n",
      "zmax = 64\n",
      "[ -1.   3.  -7.  64.   0.   0.]\n",
      "[  0.00000000e+000   0.00000000e+000   0.00000000e+000   6.37748707e-275\n",
      "   2.31118159e-129   1.82249826e-039   7.47736046e-001   2.52051747e-001\n",
      "   2.12206286e-004   4.16695114e-013   5.88141309e-022   6.50880620e-031\n",
      "   5.92668986e-040   4.57358837e-049   3.05229545e-058   1.78479715e-067\n",
      "   9.24733722e-077   4.28225432e-086   1.78490132e-095   6.72991188e-105\n",
      "   2.30791316e-114   7.20778323e-124   2.05396809e-133   5.36309291e-143\n",
      "   1.28423943e-152   2.82429746e-162   5.69779993e-172   1.05505375e-181\n",
      "   1.79361882e-191   2.79866815e-201   4.00729475e-211   5.26744529e-221\n",
      "   6.35072249e-231   7.01541149e-241   7.08059167e-251   6.52071213e-261\n",
      "   5.47024540e-271   4.17691351e-281   2.89971222e-291   1.82165895e-301\n",
      "   1.03240920e-311   5.28650241e-322   0.00000000e+000   0.00000000e+000\n",
      "   0.00000000e+000   0.00000000e+000   0.00000000e+000   0.00000000e+000\n",
      "   0.00000000e+000   0.00000000e+000   0.00000000e+000   0.00000000e+000\n",
      "   0.00000000e+000   0.00000000e+000   0.00000000e+000   0.00000000e+000\n",
      "   0.00000000e+000   0.00000000e+000   0.00000000e+000   0.00000000e+000\n",
      "   0.00000000e+000   0.00000000e+000   0.00000000e+000   0.00000000e+000\n",
      "   0.00000000e+000   0.00000000e+000   0.00000000e+000   0.00000000e+000\n",
      "   0.00000000e+000   0.00000000e+000   0.00000000e+000   0.00000000e+000]\n",
      "[-7 -6 -5 -4 -3 -2 -1  0  1  2  3  4  5  6  7  8  9 10 11 12 13 14 15 16 17\n",
      " 18 19 20 21 22 23 24 25 26 27 28 29 30 31 32 33 34 35 36 37 38 39 40 41 42\n",
      " 43 44 45 46 47 48 49 50 51 52 53 54 55 56 57 58 59 60 61 62 63 64]\n",
      "Running grain size 1000, phase 0\n",
      "Zmin index = 0\n",
      "zmin = -7\n",
      "Zmax index = 1\n",
      "zmax = 94\n",
      "[ -1.   3.  -7.  64.  -7.  94.]\n",
      "[  6.28520657e-107   2.86133330e-074   8.29023576e-048   2.00627388e-027\n",
      "   5.81600899e-013   3.37927588e-004   9.09257117e-001   9.01469324e-002\n",
      "   2.58022890e-004   2.97012300e-011   2.08405625e-019   1.15790631e-027\n",
      "   5.34724751e-036   2.11803834e-044   7.35677446e-053   2.27784887e-061\n",
      "   6.36736778e-070   1.62324753e-078   3.80524208e-087   8.25908557e-096\n",
      "   1.66936333e-104   3.15786786e-113   5.61475314e-122   9.41873228e-131\n",
      "   1.49558183e-139   2.25456024e-148   3.23511930e-157   4.42919152e-166\n",
      "   5.79822190e-175   7.27187016e-184   8.75284276e-193   1.01276822e-201\n",
      "   1.12817937e-210   1.21158058e-219   1.25599137e-228   1.25829418e-237\n",
      "   1.21959107e-246   1.14479804e-255   1.04170071e-264   9.19701539e-274\n",
      "   7.88509819e-283   6.57003961e-292   5.32419498e-301   4.19924295e-310\n",
      "   3.22694036e-319   0.00000000e+000   0.00000000e+000   0.00000000e+000\n",
      "   0.00000000e+000   0.00000000e+000   0.00000000e+000   0.00000000e+000\n",
      "   0.00000000e+000   0.00000000e+000   0.00000000e+000   0.00000000e+000\n",
      "   0.00000000e+000   0.00000000e+000   0.00000000e+000   0.00000000e+000\n",
      "   0.00000000e+000   0.00000000e+000   0.00000000e+000   0.00000000e+000\n",
      "   0.00000000e+000   0.00000000e+000   0.00000000e+000   0.00000000e+000\n",
      "   0.00000000e+000   0.00000000e+000   0.00000000e+000   0.00000000e+000\n",
      "   0.00000000e+000   0.00000000e+000   0.00000000e+000   0.00000000e+000\n",
      "   0.00000000e+000   0.00000000e+000   0.00000000e+000   0.00000000e+000\n",
      "   0.00000000e+000   0.00000000e+000   0.00000000e+000   0.00000000e+000\n",
      "   0.00000000e+000   0.00000000e+000   0.00000000e+000   0.00000000e+000\n",
      "   0.00000000e+000   0.00000000e+000   0.00000000e+000   0.00000000e+000\n",
      "   0.00000000e+000   0.00000000e+000   0.00000000e+000   0.00000000e+000\n",
      "   0.00000000e+000   0.00000000e+000   0.00000000e+000   0.00000000e+000\n",
      "   0.00000000e+000   0.00000000e+000]\n",
      "[-7 -6 -5 -4 -3 -2 -1  0  1  2  3  4  5  6  7  8  9 10 11 12 13 14 15 16 17\n",
      " 18 19 20 21 22 23 24 25 26 27 28 29 30 31 32 33 34 35 36 37 38 39 40 41 42\n",
      " 43 44 45 46 47 48 49 50 51 52 53 54 55 56 57 58 59 60 61 62 63 64 65 66 67\n",
      " 68 69 70 71 72 73 74 75 76 77 78 79 80 81 82 83 84 85 86 87 88 89 90 91 92\n",
      " 93 94]\n"
     ]
    }
   ],
   "source": [
    "grain_type = \"carbonaceous\"\n",
    "grain_size = [5, 100, 1000]\n",
    "G0         = 1.7\n",
    "\n",
    "Qabs5    = fz.get_QabsTable(grain_type, 5)\n",
    "Qabs100  = fz.get_QabsTable(grain_type, 100)\n",
    "Qabs1000 = fz.get_QabsTable(grain_type, 1000)\n",
    "\n",
    "Qabs = [Qabs5, Qabs100, Qabs1000]\n",
    "\n",
    "zmean, zmode, zstd  =  np.zeros(3), np.zeros(3), np.zeros(3)\n",
    "zminmax = np.array(np.zeros(2*3))\n",
    "\n",
    "zmeanCR, zmodeCR, zstdCR  =  np.zeros(3), np.zeros(3), np.zeros(3)\n",
    "\n",
    "fdist   = []\n",
    "fdistCR   = []\n",
    "\n",
    "# loop over grain sizes\n",
    "for kk in range(3):\n",
    "    # loop over ISM phases.\n",
    "    for ii in range(1):\n",
    "        \n",
    "        print(\"Running grain size %i, phase %i\"%(grain_size[kk], ii))\n",
    "        \n",
    "        NH2 = fz.get_NH2(fH2shield[ii], temp[ii])\n",
    "        zeta = fz.get_zeta(NH2)\n",
    "\n",
    "        ############################################################################################\n",
    "        # Run the charge distribution calculation!!!\n",
    "        Jpe, Je, Jh, Jc, ZZall = fz.compute_currents ([nH[ii], nC[ii]], [xHp[ii], xCp[ii]], xH2[ii], temp[ii], zeta, grain_size[kk], Ntot[ii], grain_type, Qabs[kk], G0=G0)\n",
    "        JCRe, JCRpe, ZZnew     = fz.compute_CR_currents(nH[ii], zeta, grain_size[kk], grain_type, Qabs[kk])\n",
    "\n",
    "        zeq                    = fz.get_zeq_vec      (Jpe, Je, Jh, Jc, ZZall, grain_size[kk], grain_type)\n",
    "        new_zmin, new_zmax     = fz.get_new_zmin_zmax([nH[ii], nC[ii]], [xHp[ii], xCp[ii]], temp[ii], grain_size[kk], Ntot[ii], grain_type, Qabs[kk], zeta, zeq=zeq, G0=G0, includeCR=True)    \n",
    "        \n",
    "        ffz,  ZZ             = fz.vector_fz        (Jpe, Je, Jh, Jc, JCRe, JCRpe, ZZall, new_zmin, new_zmax, includeCR=False)\n",
    "        ffzCR, ZZ            = fz.vector_fz        (Jpe, Je, Jh, Jc, JCRe, JCRpe, ZZall, new_zmin, new_zmax, includeCR=True)\n",
    "\n",
    "        Zm        = fz.get_Zmode(ZZ, ffz)\n",
    "        zmode[ii+kk] = Zm\n",
    "\n",
    "        avg, std  = fz.weighted_avg_and_std(ZZ, ffz)\n",
    "        zmean[ii+kk] = avg\n",
    "        zstd[ii+kk]  = std\n",
    "        \n",
    "        Zm        = fz.get_Zmode(ZZ, ffzCR)\n",
    "        zmodeCR[ii+kk] = Zm\n",
    "\n",
    "        avg, std  = fz.weighted_avg_and_std(ZZ, ffzCR)\n",
    "        zmeanCR[ii+kk] = avg\n",
    "        zstdCR[ii+kk]  = std\n",
    "\n",
    "        print(\"Zmin index = %i\"%(ii*2))\n",
    "        print(\"zmin = %i\"%(new_zmin))\n",
    "        \n",
    "        print(\"Zmax index = %i\"%(ii*2+1))\n",
    "        print(\"zmax = %i\"%(new_zmax))\n",
    "\n",
    "\n",
    "        zminmax[kk*2+0]  = new_zmin\n",
    "        zminmax[kk*2+1]  = new_zmax\n",
    "        \n",
    "        print(zminmax)\n",
    "\n",
    "        #fdist[ii]   = offset + ii\n",
    "        for jj in range(len(ffz)):\n",
    "            fdist.append(ffz[jj])\n",
    "\n",
    "        for jj in range(len(ffz)):\n",
    "            fdistCR.append(ffzCR[jj])\n",
    "\n",
    "            \n",
    "        print(ffz)\n",
    "        print(ZZ)"
   ]
  },
  {
   "cell_type": "code",
   "execution_count": 47,
   "metadata": {
    "collapsed": true
   },
   "outputs": [],
   "source": [
    "zminmax = [-1, 2, -7, 14, -17, 24]"
   ]
  },
  {
   "cell_type": "code",
   "execution_count": 25,
   "metadata": {
    "collapsed": false,
    "scrolled": true
   },
   "outputs": [
    {
     "name": "stdout",
     "output_type": "stream",
     "text": [
      "Running grain size 5, phase 0\n",
      "Zmin index = 0\n",
      "zmin = -1\n",
      "Zmax index = 1\n",
      "zmax = 2\n",
      "[ -1.   3.  -7.  64.  -7.  94.]\n",
      "[  2.00359509e-01   7.99273245e-01   3.67245831e-04   6.10489669e-17]\n",
      "[-1  0  1  2]\n",
      "Running grain size 100, phase 0\n",
      "Zmin index = 0\n",
      "zmin = -6\n",
      "Zmax index = 1\n",
      "zmax = 35\n",
      "[ -1.   3.  -7.  64.  -7.  94.]\n",
      "[  0.00000000e+000   0.00000000e+000   6.37748049e-275   2.31117973e-129\n",
      "   1.82249730e-039   7.47735931e-001   2.52051862e-001   2.12206283e-004\n",
      "   3.57248716e-013   4.15548917e-022   3.62933298e-031   2.48535279e-040\n",
      "   1.37112329e-049   6.19835818e-059   2.32305162e-068   7.27393216e-078\n",
      "   1.91337833e-087   4.23694164e-097   7.91087321e-107   1.24398852e-116\n",
      "   1.64892677e-126   1.83495014e-136   1.71024312e-146   1.32993073e-156\n",
      "   8.58674406e-167   4.57757926e-177   2.00169456e-187   7.12416083e-198\n",
      "   2.04709028e-208   4.70462015e-219   8.55613944e-230   1.21612278e-240\n",
      "   1.33148530e-251   1.10463619e-262   6.81042473e-274   3.04698062e-285\n",
      "   9.62078011e-297   2.06955467e-308   2.90312973e-320   0.00000000e+000\n",
      "   0.00000000e+000   0.00000000e+000]\n",
      "[-6 -5 -4 -3 -2 -1  0  1  2  3  4  5  6  7  8  9 10 11 12 13 14 15 16 17 18\n",
      " 19 20 21 22 23 24 25 26 27 28 29 30 31 32 33 34 35]\n",
      "Running grain size 1000, phase 0\n"
     ]
    },
    {
     "name": "stderr",
     "output_type": "stream",
     "text": [
      "/home/jcibanezm/codes/libs/miniconda3/lib/python2.7/site-packages/scipy/integrate/quadpack.py:385: IntegrationWarning: The integral is probably divergent, or slowly convergent.\n",
      "  warnings.warn(msg, IntegrationWarning)\n"
     ]
    },
    {
     "name": "stdout",
     "output_type": "stream",
     "text": [
      "Zmin index = 0\n",
      "zmin = -6\n",
      "Zmax index = 1\n",
      "zmax = 65\n",
      "[ -1.   3.  -7.  64.  -7.  94.]\n",
      "[  2.86128766e-074   8.29012020e-048   2.00625057e-027   5.81595747e-013\n",
      "   3.37925762e-004   9.09256480e-001   9.01475690e-002   2.58025259e-004\n",
      "   3.06314036e-011   2.94745057e-019   2.23812659e-027   1.40598897e-035\n",
      "   7.53666007e-044   3.52279057e-052   1.45894325e-060   5.42004680e-069\n",
      "   1.82408056e-077   5.60567647e-086   1.58354018e-094   4.13493054e-103\n",
      "   1.00279821e-111   2.26803929e-120   4.80105052e-129   9.54211764e-138\n",
      "   1.78563465e-146   3.15518993e-155   5.27431633e-164   8.35781413e-173\n",
      "   1.25777108e-181   1.80061999e-190   2.45652786e-199   3.19702418e-208\n",
      "   3.97426708e-217   4.72462140e-226   5.37707384e-235   5.86458754e-244\n",
      "   6.13559335e-253   6.16301191e-262   5.95160319e-271   5.52685156e-280\n",
      "   4.93907479e-289   4.24828969e-298   3.52100322e-307   2.81367342e-316\n",
      "   0.00000000e+000   0.00000000e+000   0.00000000e+000   0.00000000e+000\n",
      "   0.00000000e+000   0.00000000e+000   0.00000000e+000   0.00000000e+000\n",
      "   0.00000000e+000   0.00000000e+000   0.00000000e+000   0.00000000e+000\n",
      "   0.00000000e+000   0.00000000e+000   0.00000000e+000   0.00000000e+000\n",
      "   0.00000000e+000   0.00000000e+000   0.00000000e+000   0.00000000e+000\n",
      "   0.00000000e+000   0.00000000e+000   0.00000000e+000   0.00000000e+000\n",
      "   0.00000000e+000   0.00000000e+000   0.00000000e+000   0.00000000e+000]\n",
      "[-6 -5 -4 -3 -2 -1  0  1  2  3  4  5  6  7  8  9 10 11 12 13 14 15 16 17 18\n",
      " 19 20 21 22 23 24 25 26 27 28 29 30 31 32 33 34 35 36 37 38 39 40 41 42 43\n",
      " 44 45 46 47 48 49 50 51 52 53 54 55 56 57 58 59 60 61 62 63 64 65]\n"
     ]
    }
   ],
   "source": [
    "grain_type = \"silicate\"\n",
    "\n",
    "zmean_sil, zmode_sil, zstd_sil  =  np.zeros(3), np.zeros(3), np.zeros(3)\n",
    "zminmax_sil   = np.array(np.zeros(2*3))\n",
    "fdist_sil     = []\n",
    "fdistCR_sil   = []\n",
    "\n",
    "zmean_silCR, zmode_silCR, zstd_silCR  =  np.zeros(3), np.zeros(3), np.zeros(3)\n",
    "\n",
    "\n",
    "# loop over grain sizes\n",
    "for kk in range(3):\n",
    "    # loop over ISM phases.\n",
    "    for ii in range(1):\n",
    "        \n",
    "        print(\"Running grain size %i, phase %i\"%(grain_size[kk], ii))\n",
    "        \n",
    "        NH2 = fz.get_NH2(fH2shield[ii], temp[ii])\n",
    "        zeta = fz.get_zeta(NH2)\n",
    "\n",
    "        ############################################################################################\n",
    "        # Run the charge distribution calculation!!!\n",
    "        Jpe, Je, Jh, Jc, ZZall = fz.compute_currents ([nH[ii], nC[ii]], [xHp[ii], xCp[ii]], xH2[ii], temp[ii], zeta, grain_size[kk], Ntot[ii], grain_type, Qabs[kk], G0=G0)\n",
    "        JCRe, JCRpe, ZZnew     = fz.compute_CR_currents(nH[ii], zeta, grain_size[kk], grain_type, Qabs[kk])\n",
    "\n",
    "        zeq                    = fz.get_zeq_vec      (Jpe, Je, Jh, Jc, ZZall, grain_size[kk], grain_type)\n",
    "        new_zmin, new_zmax     = fz.get_new_zmin_zmax([nH[ii], nC[ii]], [xHp[ii], xCp[ii]], temp[ii], grain_size[kk], Ntot[ii], grain_type, Qabs[kk], zeta, zeq=zeq, G0=G0, includeCR=True)    \n",
    "        \n",
    "        ffz,  ZZ             = fz.vector_fz        (Jpe, Je, Jh, Jc, JCRe, JCRpe, ZZall, new_zmin, new_zmax, includeCR=False)\n",
    "        ffzCR, ZZ            = fz.vector_fz        (Jpe, Je, Jh, Jc, JCRe, JCRpe, ZZall, new_zmin, new_zmax, includeCR=True)\n",
    "\n",
    "        Zm                 = fz.get_Zmode(ZZ, ffzCR)\n",
    "        zmode_sil[ii] = Zm\n",
    "\n",
    "        avg, std           = fz.weighted_avg_and_std(ZZ, ffz)\n",
    "        zmean_sil[ii+kk] = avg\n",
    "        zstd_sil[ii+kk]  = std\n",
    "\n",
    "        avg, std           = fz.weighted_avg_and_std(ZZ, ffzCR)\n",
    "        zmean_silCR[ii+kk] = avg\n",
    "        zstd_silCR[ii+kk]  = std\n",
    "\n",
    "        \n",
    "        print(\"Zmin index = %i\"%(ii*2+  0))\n",
    "        print(\"zmin = %i\"%(new_zmin))\n",
    "        \n",
    "        print(\"Zmax index = %i\"%(ii*2+1))\n",
    "        print(\"zmax = %i\"%(new_zmax))\n",
    "\n",
    "\n",
    "        zminmax_sil[kk*2]  = new_zmin\n",
    "        zminmax_sil[kk*2+1]  = new_zmax\n",
    "        \n",
    "        print(zminmax)\n",
    "\n",
    "        #fdist[ii]   = offset + ii\n",
    "        for jj in range(len(ffz)):\n",
    "            fdist_sil.append(ffz[jj])\n",
    "\n",
    "        for jj in range(len(ffz)):\n",
    "            fdistCR_sil.append(ffzCR[jj])\n",
    "\n",
    "            \n",
    "        print(ffz)\n",
    "        print(ZZ)"
   ]
  },
  {
   "cell_type": "code",
   "execution_count": 49,
   "metadata": {
    "collapsed": true
   },
   "outputs": [],
   "source": [
    "zminmax_sil = [-1, 2, -6, 15, -16, 25]"
   ]
  },
  {
   "cell_type": "code",
   "execution_count": 21,
   "metadata": {
    "collapsed": true
   },
   "outputs": [],
   "source": [
    "#ffz = np.insert(ffz, 0, 0, axis=0)\n",
    "#ffz = np.concatenate([[0.0],ffz,[0.0]])\n",
    "#print(ffz)"
   ]
  },
  {
   "cell_type": "code",
   "execution_count": 46,
   "metadata": {
    "collapsed": false
   },
   "outputs": [
    {
     "name": "stdout",
     "output_type": "stream",
     "text": [
      "[-17.  24.   0.   0.   0.   0.]\n"
     ]
    }
   ],
   "source": [
    "print(zminmax)"
   ]
  },
  {
   "cell_type": "code",
   "execution_count": 54,
   "metadata": {
    "collapsed": false
   },
   "outputs": [
    {
     "data": {
      "image/png": "[encoded data removed]",
      "text/plain": [
       "<matplotlib.figure.Figure at 0x7f5b631c48d0>"
      ]
     },
     "metadata": {},
     "output_type": "display_data"
    }
   ],
   "source": [
    "xsize = 14\n",
    "ysize = 9\n",
    "\n",
    "nfigs_x = 3\n",
    "nfigs_y = 2\n",
    "\n",
    "fig = plt.figure(figsize=(xsize, ysize))\n",
    "\n",
    "hpad = 0.075\n",
    "wpad = 0.054\n",
    "\n",
    "xs_panel = 0.82 / nfigs_x \n",
    "ys_panel = 0.77 / nfigs_y \n",
    "\n",
    "ax = fig.add_axes([0, 0, 1, 1])\n",
    "\n",
    "#ax.plot([0,1], [0,1], visible=False)\n",
    "ax.set_xlim(0,1)\n",
    "ax.set_ylim(0,1)\n",
    "\n",
    "ax.text(0.18, 0.94, \"5 $\\\\AA$\", fontsize=20, horizontalalignment='center')\n",
    "ax.text(0.48, 0.94, \"100 $\\\\AA$\", fontsize=20, horizontalalignment='center')\n",
    "ax.text(0.74, 0.94,\"1000 $\\\\AA$\", fontsize=20, horizontalalignment='center')\n",
    "\n",
    "ax.text(0.94, 0.25, \"without CR\\n charging\", fontsize=20, horizontalalignment='center')\n",
    "ax.text(0.94, 0.75, \"with CR\\n charging\", fontsize=20, horizontalalignment='center')\n",
    "\n",
    "plt.axis('off')\n",
    "\n",
    "############################################################################################################\n",
    "############################               5 Angstroms             #######################################\n",
    "############################################################################################################\n",
    "\n",
    "#------------------------------------------------------------------------------------------------\n",
    "# From bottom left, to upper right.\n",
    "ii = 0\n",
    "jj = 0\n",
    "\n",
    "# Start the cumulative count.\n",
    "cum = 0\n",
    "cum_sil = 0\n",
    "\n",
    "##############################\n",
    "zmin = zminmax[0 + 2*ii]\n",
    "zmax = zminmax[1 + 2*ii]\n",
    "charges = int(zmax-zmin)\n",
    "ffz = np.array(fdist[cum:cum+charges+1])\n",
    "zmin, zmax = zmin-1, zmax+1\n",
    "ffz = np.concatenate([[0.0],ffz,[0.0]])\n",
    "ZZ = np.arange(zmin, zmax+1) \n",
    "\n",
    "zmin = zminmax_sil[0 + 2*ii]\n",
    "zmax = zminmax_sil[1 + 2*ii]\n",
    "charges_sil = int(zmax-zmin)\n",
    "ffz_sil = np.array(fdist_sil[cum_sil:cum_sil+charges_sil+1])\n",
    "zmin, zmax = zmin-1, zmax+1\n",
    "ffz_sil = np.concatenate([[0.0],ffz_sil,[0.0]])\n",
    "ZZ_sil = np.arange(zmin, zmax+1) \n",
    "\n",
    "cum    += int(charges)+1\n",
    "cum_sil+= int(charges_sil)+1\n",
    "##############################\n",
    "\n",
    "\n",
    "ax = fig.add_axes([wpad + ii*xs_panel, hpad + jj*ys_panel, xs_panel, ys_panel])\n",
    "\n",
    "#ax.plot(ZZ+0.5, ffz, \"-r\", linewidth=2, drawstyle='steps', alpha=1.0)\n",
    "\n",
    "\n",
    "#carbon\n",
    "ax.plot(ZZ[0:6]+0.5, ffz[0:6]/np.sum(ffz[0:6]), \"--r\", linewidth=2, drawstyle='steps', alpha=1.0)\n",
    "\n",
    "ax.plot(ZZ_sil[0:5]+0.5, ffz_sil[0:5]/np.sum(ffz_sil[0:5]), \"-k\", linewidth=2, drawstyle='steps', alpha=1.0)\n",
    "\n",
    "\n",
    "zmin = min(ZZ[0], ZZ_sil[0])\n",
    "\n",
    "newzmean     = np.sum(ZZ[0:6]*(ffz[0:6]/np.sum(ffz[0:6])))\n",
    "newstd       = np.sqrt(np.sum(ffz[0:6]/np.sum(ffz[0:6])*(ZZ[0:6] - newzmean)**2))\n",
    "                          \n",
    "newzmean_sil = np.sum(ZZ_sil[0:5]*ffz_sil[0:5]/np.sum(ffz_sil[0:5]))\n",
    "newstd_sil   = np.sqrt(np.sum(ffz_sil[0:5]/np.sum(ffz_sil[0:5])*(ZZ_sil[0:5] - newzmean_sil)**2))\n",
    "                          \n",
    "\n",
    "ax.text(1, 0.8, \"$\\\\langle$Z$\\\\rangle =%.2f$\"%newzmean, fontsize=14, color='red')\n",
    "ax.text(1, 0.7, \"$\\\\sigma_{Z}\\'=%.2f$\"%newstd, fontsize=14, color='red')\n",
    "\n",
    "ax.text(1, 0.5, \"$\\\\langle$Z$\\\\rangle =%.2f$\"%newzmean_sil, fontsize=14)\n",
    "ax.text(1, 0.4, \"$\\\\sigma_{Z}\\'=%.2f$\"%newstd_sil, fontsize=14)\n",
    "\n",
    "\n",
    "ax.set_ylim(0, 0.99)\n",
    "ax.set_xlim(-2,3.9)\n",
    "\n",
    "\n",
    "ax.tick_params(\n",
    "    axis='x',          # changes apply to the x-axis\n",
    "    which='both',      # both major and minor ticks are affected\n",
    "    bottom='on',      # ticks along the bottom edge are off\n",
    "    top='off',         # ticks along the top edge are off\n",
    "    labelbottom='on') # labels along the bottom edge are off\n",
    "\n",
    "ax.set_ylabel(\"$f(Z)$\", fontsize=20)\n",
    "ax.set_xlabel(\"Z\", fontsize=16)\n",
    "\n",
    "ax.tick_params(axis='both', which='major', length=4, width=2, labelsize=12)\n",
    "\n",
    "\n",
    "############################################################################################################\n",
    "############################               5 Angstroms             #######################################\n",
    "############################################################################################################\n",
    "\n",
    "#------------------------------------------------------------------------------------------------\n",
    "# From bottom left, to upper right.\n",
    "ii = 0\n",
    "jj = 1\n",
    "\n",
    "# Start the cumulative count.\n",
    "cumCR = 0\n",
    "cum_silCR = 0\n",
    "\n",
    "########## 5AA WNM\n",
    "\n",
    "##############################\n",
    "zmin = zminmax[0 + 2*ii]\n",
    "zmax = zminmax[1 + 2*ii]\n",
    "charges = int(zmax-zmin)\n",
    "ffzCR = np.array(fdistCR[cumCR:cumCR+charges+1])\n",
    "zmin, zmax = zmin-1, zmax+1\n",
    "ffzCR = np.concatenate([[0.0],ffzCR,[0.0]])\n",
    "ZZ = np.arange(zmin, zmax+1) \n",
    "\n",
    "zmin = zminmax_sil[0 + 2*ii]\n",
    "zmax = zminmax_sil[1 + 2*ii]\n",
    "charges_sil = int(zmax-zmin)\n",
    "ffz_silCR = np.array(fdistCR_sil[cum_silCR:cum_silCR+charges_sil+1])\n",
    "zmin, zmax = zmin-1, zmax+1\n",
    "ffz_silCR = np.concatenate([[0.0],ffz_silCR,[0.0]])\n",
    "ZZ_sil = np.arange(zmin, zmax+1) \n",
    "\n",
    "cumCR    += int(charges)+1\n",
    "cum_silCR+= int(charges_sil)+1\n",
    "##############################\n",
    "\n",
    "\n",
    "ax = fig.add_axes([wpad + ii*xs_panel, 2*hpad + jj*ys_panel, xs_panel, ys_panel])\n",
    "\n",
    "\n",
    "#carbon\n",
    "ax.plot(ZZ+0.5, ffzCR, \"--r\", linewidth=2, drawstyle='steps', alpha=1.0)\n",
    "\n",
    "ax.plot(ZZ_sil+0.5, ffz_silCR, \"-k\", linewidth=2, drawstyle='steps', alpha=1.0)\n",
    "\n",
    "\n",
    "zmin = min(ZZ[0], ZZ_sil[0])\n",
    "\n",
    "                          \n",
    "\n",
    "ax.text(1, 0.68, \"$\\\\langle$Z$\\\\rangle =%.2f$\"%zmeanCR[0], fontsize=14, color='red')\n",
    "ax.text(1, 0.58, \"$\\\\sigma_{Z}\\'=%.2f$\"%zstdCR[0], fontsize=14, color='red')\n",
    "\n",
    "ax.text(1, 0.88, \"$\\\\langle$Z$\\\\rangle =%.2f$\"%zmean_silCR[0], fontsize=14)\n",
    "ax.text(1, 0.78, \"$\\\\sigma_{Z}\\'=%.2f$\"%zstd_silCR[0], fontsize=14)\n",
    "\n",
    "\n",
    "ax.set_ylim(0, 0.99)\n",
    "ax.set_xlim(-2,3.9)\n",
    "\n",
    "\n",
    "ax.tick_params(\n",
    "    axis='x',          # changes apply to the x-axis\n",
    "    which='both',      # both major and minor ticks are affected\n",
    "    bottom='on',      # ticks along the bottom edge are off\n",
    "    top='off',         # ticks along the top edge are off\n",
    "    labelbottom='on') # labels along the bottom edge are off\n",
    "\n",
    "ax.set_ylabel(\"$f(Z)$\", fontsize=20)\n",
    "ax.set_xlabel(\"Z\", fontsize=16)\n",
    "\n",
    "ax.tick_params(axis='both', which='major', length=4, width=2, labelsize=12)\n",
    "\n",
    "\n",
    "############################################################################################################\n",
    "############################                100 Angstroms            #######################################\n",
    "############################################################################################################\n",
    "\n",
    "#------------------------------------------------------------------------------------------------\n",
    "# From bottom left, to upper right.\n",
    "ii = 1\n",
    "jj = 0\n",
    "\n",
    "########## 100AA WNM\n",
    "\n",
    "##############################\n",
    "zmin = zminmax[0 + 2*ii]\n",
    "zmax = zminmax[1 + 2*ii]\n",
    "charges = int(zmax-zmin)\n",
    "ffz = np.array(fdist[cum:cum+charges+1])\n",
    "zmin, zmax = zmin-1, zmax+1\n",
    "ffz = np.concatenate([[0.0],ffz,[0.0]])\n",
    "ZZ = np.arange(zmin, zmax+1) \n",
    "\n",
    "zmin = zminmax_sil[0 + 2*ii]\n",
    "zmax = zminmax_sil[1 + 2*ii]\n",
    "charges_sil = int(zmax-zmin)\n",
    "ffz_sil = np.array(fdist_sil[cum_sil:cum_sil+charges_sil+1])\n",
    "zmin, zmax = zmin-1, zmax+1\n",
    "ffz_sil = np.concatenate([[0.0],ffz_sil,[0.0]])\n",
    "ZZ_sil = np.arange(zmin, zmax+1) \n",
    "\n",
    "cum    += int(charges)+1\n",
    "cum_sil+= int(charges_sil)+1\n",
    "##############################\n",
    "\n",
    "\n",
    "ax = fig.add_axes([wpad + ii*xs_panel, hpad + jj*ys_panel, xs_panel, ys_panel])\n",
    "\n",
    "ax.plot(ZZ+0.5, ffz, \"--r\", linewidth=3, drawstyle='steps', alpha=1.0)\n",
    "ax.plot(ZZ_sil+0.5, ffz_sil, \"-k\", linewidth=2, drawstyle='steps', alpha=1.0)\n",
    "\n",
    "\n",
    "zmin = min(ZZ[0], ZZ_sil[0])\n",
    "\n",
    "ax.text(1, 0.8, \"$\\\\langle$Z$\\\\rangle =%.2f$\"%zmean[ii], fontsize=14, color='red')\n",
    "ax.text(1, 0.7, \"$\\\\sigma_{Z}\\'=%.2f$\"%zstd[ii], fontsize=14, color='red')\n",
    "#ax.text(1.1*charges + zmin, 0.68, \"fz$\\\\times$5\", fontsize=14, color='red')\n",
    "\n",
    "ax.text(1, 0.5, \"$\\\\langle$Z$\\\\rangle =%.2f$\"%zmean_sil[ii], fontsize=14, color='black')\n",
    "ax.text(1, 0.4, \"$\\\\sigma_{Z}\\'=%.2f$\"%zstd_sil[ii], fontsize=14, color='black')\n",
    "#ax.text(0.45*charges + zmin, 0.68, \"fz$\\\\times$5\", fontsize=14, color='black')\n",
    "\n",
    "\n",
    "#ax.set_xlim(np.min(Z_a_3_100)+0.1, np.max(Z_a_3_100)-0.1)\n",
    "ax.set_ylim(0, 0.99)\n",
    "#ax.set_xlim(min(ZZ[0], ZZ_sil[0])-5, max(ZZ[-1], ZZ_sil[-1])+10)\n",
    "ax.set_xlim(-2.2, 3.5)\n",
    "\n",
    "ax.tick_params(\n",
    "    axis='both',          # changes apply to the x-axis\n",
    "    which='both',      # both major and minor ticks are affected\n",
    "    bottom='on',      # ticks along the bottom edge are off\n",
    "    top='off',         # ticks along the top edge are off\n",
    "    labelbottom='on', labelleft='off') # labels along the bottom edge are off\n",
    "\n",
    "\n",
    "ax.set_xlabel(\"Z\", fontsize=18)\n",
    "\n",
    "ax.tick_params(axis='both', which='major', length=4, width=2, labelsize=12)\n",
    "\n",
    "\n",
    "#------------------------------------------------------------------------------------------------\n",
    "# From bottom left, to upper right.\n",
    "ii = 1\n",
    "jj = 1\n",
    "\n",
    "########## 100AA WNM\n",
    "\n",
    "##############################\n",
    "zmin = zminmax[0 + 2*ii]\n",
    "zmax = zminmax[1 + 2*ii]\n",
    "charges = int(zmax-zmin)\n",
    "ffzCR = np.array(fdistCR[cumCR:cumCR+charges+1])\n",
    "zmin, zmax = zmin-1, zmax+1\n",
    "ffzCR = np.concatenate([[0.0],ffzCR,[0.0]])\n",
    "ZZ = np.arange(zmin, zmax+1) \n",
    "\n",
    "zmin = zminmax_sil[0 + 2*ii]\n",
    "zmax = zminmax_sil[1 + 2*ii]\n",
    "charges_sil = int(zmax-zmin)\n",
    "ffz_silCR = np.array(fdistCR_sil[cum_silCR:cum_silCR+charges_sil+1])\n",
    "zmin, zmax = zmin-1, zmax+1\n",
    "ffz_silCR = np.concatenate([[0.0],ffz_silCR,[0.0]])\n",
    "ZZ_sil = np.arange(zmin, zmax+1) \n",
    "\n",
    "cumCR    += int(charges)+1\n",
    "cum_silCR+= int(charges_sil)+1\n",
    "##############################\n",
    "\n",
    "\n",
    "ax = fig.add_axes([wpad + ii*xs_panel, 2*hpad + jj*ys_panel, xs_panel, ys_panel])\n",
    "\n",
    "ax.plot(ZZ+0.5, ffzCR*2, \"--r\", linewidth=2, drawstyle='steps', alpha=1.0)\n",
    "ax.plot(ZZ_sil+0.5, ffz_silCR*2, \"-k\", linewidth=2, drawstyle='steps', alpha=1.0)\n",
    "\n",
    "\n",
    "zmin = min(ZZ[0], ZZ_sil[0])\n",
    "\n",
    "ax.text(0, 0.88, \"$\\\\langle$Z$\\\\rangle =%.2f$\"%zmeanCR[ii], fontsize=14, color='red')\n",
    "ax.text(0, 0.78, \"$\\\\sigma_{Z}\\'=%.2f$\"%zstdCR[ii], fontsize=14, color='red')\n",
    "ax.text(0, 0.68, \"$f(Z) \\\\times 2$\", fontsize=14, color='red')\n",
    "\n",
    "\n",
    "ax.text(10, 0.88, \"$\\\\langle$Z$\\\\rangle =%.2f$\"%zmean_silCR[ii], fontsize=14, color='black')\n",
    "ax.text(10, 0.78, \"$\\\\sigma_{Z}\\'=%.2f$\"%zstd_silCR[ii], fontsize=14, color='black')\n",
    "ax.text(10, 0.68, \"$f(Z) \\\\times 2$\", fontsize=14, color='black')\n",
    "\n",
    "\n",
    "#ax.set_xlim(np.min(Z_a_3_100)+0.1, np.max(Z_a_3_100)-0.1)\n",
    "ax.set_ylim(0, 0.99)\n",
    "#ax.set_xlim(min(ZZ[0], ZZ_sil[0])-5, max(ZZ[-1], ZZ_sil[-1])+10)\n",
    "ax.set_xlim(-5, 24)\n",
    "\n",
    "ax.tick_params(\n",
    "    axis='both',          # changes apply to the x-axis\n",
    "    which='both',      # both major and minor ticks are affected\n",
    "    bottom='on',      # ticks along the bottom edge are off\n",
    "    top='off',         # ticks along the top edge are off\n",
    "    labelbottom='on', labelleft='off') # labels along the bottom edge are off\n",
    "\n",
    "\n",
    "ax.set_xlabel(\"Z\", fontsize=18)\n",
    "\n",
    "ax.tick_params(axis='both', which='major', length=4, width=2, labelsize=12)\n",
    "\n",
    "\n",
    "\n",
    "############################################################################################################\n",
    "############################               1000 Angstroms            #######################################\n",
    "############################################################################################################\n",
    "\n",
    "#------------------------------------------------------------------------------------------------\n",
    "# From bottom left, to upper right.\n",
    "ii = 2\n",
    "jj = 0\n",
    "\n",
    "##############################\n",
    "zmin = zminmax[0 + 2*ii]\n",
    "zmax = zminmax[1 + 2*ii]\n",
    "charges = int(zmax-zmin)\n",
    "ffz = np.array(fdist[cum:cum+charges+1])\n",
    "zmin, zmax = zmin-1, zmax+1\n",
    "ffz = np.concatenate([[0.0],ffz,[0.0]])\n",
    "ZZ = np.arange(zmin, zmax+1)\n",
    "\n",
    "zmin = zminmax_sil[0 + 2*ii]\n",
    "zmax = zminmax_sil[1 + 2*ii]\n",
    "charges_sil = int(zmax-zmin)\n",
    "ffz_sil = np.array(fdist_sil[cum_sil:cum_sil+charges_sil+1])\n",
    "zmin, zmax = zmin-1, zmax+1\n",
    "ffz_sil = np.concatenate([[0.0],ffz_sil,[0.0]])\n",
    "ZZ_sil = np.arange(zmin, zmax+1) \n",
    "\n",
    "cum    += int(charges)+1\n",
    "cum_sil+= int(charges_sil)+1\n",
    "##############################\n",
    "\n",
    "\n",
    "ax = fig.add_axes([wpad + ii*xs_panel, hpad + jj*ys_panel, xs_panel, ys_panel])\n",
    "\n",
    "\n",
    "ax.plot(ZZ+0.5, ffz, \"--r\", linewidth=3, drawstyle='steps', alpha=1.0)\n",
    "ax.plot(ZZ_sil+0.5, ffz_sil, \"-k\", linewidth=2, drawstyle='steps', alpha=1.0)\n",
    "\n",
    "\n",
    "zmin = min(ZZ[0], ZZ_sil[0])\n",
    "\n",
    "ax.text(1.2, 0.8, \"$\\\\langle$Z$\\\\rangle =%.2f$\"%zmean[ii], fontsize=14, color='red')\n",
    "ax.text(1.2, 0.7, \"$\\\\sigma_{Z}\\'=%.2f$\"%zstd[ii], fontsize=14, color='red')\n",
    "#ax.text(1.6*charges + zmin, 0.6, \"fz$\\\\times$5\", fontsize=14, color='red')\n",
    "\n",
    "\n",
    "ax.text(1.2, 0.5, \"$\\\\langle$Z$\\\\rangle =%.2f$\"%zmean_sil[ii], fontsize=14, color='black')\n",
    "ax.text(1.2, 0.4, \"$\\\\sigma_{Z}\\'=%.2f$\"%zstd_sil[ii], fontsize=14, color='black')\n",
    "#ax.text(0.6*charges + zmin, 0.6, \"fz$\\\\times$5\", fontsize=14, color='black')\n",
    "\n",
    "\n",
    "ax.set_ylim(0, 0.99)\n",
    "#ax.set_xlim(min(ZZ[0], ZZ_sil[0]), max(ZZ[-1], ZZ_sil[-1])+20)\n",
    "ax.set_xlim(-2.9, 3.5)\n",
    "\n",
    "ax.tick_params(\n",
    "    axis='both',          # changes apply to the x-axis\n",
    "    which='both',      # both major and minor ticks are affected\n",
    "    bottom='on',      # ticks along the bottom edge are off\n",
    "    top='off',         # ticks along the top edge are off\n",
    "    labelbottom='on', labelleft='off') # labels along the bottom edge are off\n",
    "\n",
    "\n",
    "ax.set_xlabel(\"Z\", fontsize=16)\n",
    "\n",
    "ax.tick_params(axis='both', which='major', length=4, width=2, labelsize=12)\n",
    "\n",
    "\n",
    "#------------------------------------------------------------------------------------------------\n",
    "# From bottom left, to upper right.\n",
    "ii = 2\n",
    "jj = 1\n",
    "\n",
    "##############################\n",
    "zmin = zminmax[0 + 2*ii]\n",
    "zmax = zminmax[1 + 2*ii]\n",
    "charges = int(zmax-zmin)\n",
    "ffzCR = np.array(fdistCR[cumCR:cumCR+charges+1])\n",
    "zmin, zmax = zmin-1, zmax+1\n",
    "ffzCR = np.concatenate([[0.0],ffzCR,[0.0]])\n",
    "ZZ = np.arange(zmin, zmax+1)\n",
    "\n",
    "zmin = zminmax_sil[0 + 2*ii]\n",
    "zmax = zminmax_sil[1 + 2*ii]\n",
    "charges_sil = int(zmax-zmin)\n",
    "ffz_silCR = np.array(fdistCR_sil[cum_silCR:cum_silCR+charges_sil+1])\n",
    "zmin, zmax = zmin-1, zmax+1\n",
    "ffz_silCR = np.concatenate([[0.0],ffz_silCR,[0.0]])\n",
    "ZZ_sil = np.arange(zmin, zmax+1) \n",
    "\n",
    "cum    += int(charges)+1\n",
    "cum_sil+= int(charges_sil)+1\n",
    "##############################\n",
    "\n",
    "\n",
    "ax = fig.add_axes([wpad + ii*xs_panel, 2*hpad + jj*ys_panel, xs_panel, ys_panel])\n",
    "\n",
    "\n",
    "ax.plot(ZZ+0.5, ffzCR*5, \"--r\", linewidth=2, drawstyle='steps', alpha=1.0)\n",
    "ax.plot(ZZ_sil+0.5, ffz_silCR*5, \"-k\", linewidth=2, drawstyle='steps', alpha=1.0)\n",
    "\n",
    "\n",
    "zmin = min(ZZ[0], ZZ_sil[0])\n",
    "\n",
    "ax.text(1, 0.88, \"$\\\\langle$Z$\\\\rangle =%.2f$\"%zmeanCR[ii], fontsize=14, color='red')\n",
    "ax.text(1, 0.78, \"$\\\\sigma_{Z}\\'=%.2f$\"%zstdCR[ii], fontsize=14, color='red')\n",
    "ax.text(1, 0.68, \"$f(Z) \\\\times 5$\", fontsize=14, color='red')\n",
    "\n",
    "\n",
    "ax.text(20, 0.88, \"$\\\\langle$Z$\\\\rangle =%.2f$\"%zmean_silCR[ii], fontsize=14, color='black')\n",
    "ax.text(20, 0.78, \"$\\\\sigma_{Z}\\'=%.2f$\"%zstd_silCR[ii], fontsize=14, color='black')\n",
    "ax.text(20, 0.68, \"$f(Z) \\\\times 5$\", fontsize=14, color='black')\n",
    "\n",
    "\n",
    "ax.set_ylim(0, 0.99)\n",
    "#ax.set_xlim(min(ZZ[0], ZZ_sil[0]), max(ZZ[-1], ZZ_sil[-1])+20)\n",
    "ax.set_xlim(min(ZZ[0], ZZ_sil[0]), 40)\n",
    "\n",
    "ax.tick_params(\n",
    "    axis='both',          # changes apply to the x-axis\n",
    "    which='both',      # both major and minor ticks are affected\n",
    "    bottom='on',      # ticks along the bottom edge are off\n",
    "    top='off',         # ticks along the top edge are off\n",
    "    labelbottom='on', labelleft='off') # labels along the bottom edge are off\n",
    "\n",
    "\n",
    "ax.set_xlabel(\"Z\", fontsize=16)\n",
    "\n",
    "ax.tick_params(axis='both', which='major', length=4, width=2, labelsize=12)\n",
    "\n",
    "\n",
    "fig.show()\n",
    "\n",
    "fig.savefig(\"/home/jcibanezm/Dropbox/Projects/Papers/In_Progress/ChargeDist_Dust/Figures/Apendix/CR_Test.pdf\", format=\"pdf\")"
   ]
  },
  {
   "cell_type": "code",
   "execution_count": null,
   "metadata": {
    "collapsed": true
   },
   "outputs": [],
   "source": []
  }
 ],
 "metadata": {
  "anaconda-cloud": {},
  "kernelspec": {
   "display_name": "Python [default]",
   "language": "python",
   "name": "python2"
  },
  "language_info": {
   "codemirror_mode": {
    "name": "ipython",
    "version": 2
   },
   "file_extension": ".py",
   "mimetype": "text/x-python",
   "name": "python",
   "nbconvert_exporter": "python",
   "pygments_lexer": "ipython2",
   "version": "2.7.15"
  }
 },
 "nbformat": 4,
 "nbformat_minor": 2
}
