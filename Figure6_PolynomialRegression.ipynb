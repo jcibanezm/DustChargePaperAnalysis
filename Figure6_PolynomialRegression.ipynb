{
 "cells": [
  {
   "cell_type": "code",
   "execution_count": 87,
   "metadata": {
    "collapsed": false
   },
   "outputs": [
    {
     "data": {
      "text/plain": [
       "<function close>"
      ]
     },
     "execution_count": 87,
     "metadata": {},
     "output_type": "execute_result"
    }
   ],
   "source": [
    "import pickle\n",
    "import numpy as np\n",
    "import matplotlib.pyplot as plt\n",
    "from matplotlib.colors import LogNorm\n",
    "\n",
    "import compute_charge_dist as fz\n",
    "\n",
    "import time\n",
    "\n",
    "%matplotlib inline\n",
    "\n",
    "\n",
    "#grain_type = \"carbonaceous\"\n",
    "grain_type = \"silicate\"\n",
    "\n",
    "grain_size = 5\n",
    "pcent      = 1\n",
    "\n",
    "# Desktop\n",
    "#save_dir = \"/home/jcibanezm/codes/run/Silcc/CF_Prabesh/ChargeDist\"\n",
    "#save_dir = \"/home/jcibanezm/codes/run/ChargeStatisticsAnalysis/CR\"\n",
    "save_dir = \"/home/jcibanezm/Dropbox/codes/run/ChargeStatisticsAnalysis/Daikaiju\"\n",
    "\n",
    "# Laptop\n",
    "#save_dir = \"/Users/juan/codes/run/Silcc/CF_Prabesh/ChargeDist\"\n",
    "\n",
    "#filename = \"ChargeDist_CF_%sgrains_%iAA_.pkl\"%(grain_type, grain_size)\n",
    "#filename = \"fz_%.3iAA_%s_CR_True.pkl\"%(grain_size, grain_type) \n",
    "filename = \"fz_%.4iAA_%s_CR_True_%i_pcent.pkl\"%(grain_size, grain_type, pcent) \n",
    "\n",
    "# Read a pickle file.\n",
    "\n",
    "pkl_file    = open(\"%s/%s\"%(save_dir, filename), \"rb\")\n",
    "cdist = pickle.load(pkl_file)\n",
    "pkl_file.close"
   ]
  },
  {
   "cell_type": "code",
   "execution_count": 88,
   "metadata": {
    "collapsed": false
   },
   "outputs": [],
   "source": [
    "too_high = np.where(cdist[\"nH\"] > 2.0e4)\n",
    "\n",
    "ii = 0\n",
    "for key in cdist.keys():\n",
    "    #arrs.append(0)\n",
    "    if key!=\"Qabs_mean\" and key!=\"grain_size\" and key!=\"grain_type\" and key!=\"MPI\" and key!=\"fdist\" and key!=\"info\" and key!=\"zminmax\" and key!=\"ZZ\":\n",
    "        #print(key)\n",
    "        cdist[key] = np.delete(cdist[key], too_high)\n",
    "    #ii +=1"
   ]
  },
  {
   "cell_type": "markdown",
   "metadata": {},
   "source": [
    "---"
   ]
  },
  {
   "cell_type": "code",
   "execution_count": 89,
   "metadata": {
    "collapsed": true
   },
   "outputs": [],
   "source": [
    "from scipy.optimize import curve_fit"
   ]
  },
  {
   "cell_type": "code",
   "execution_count": 47,
   "metadata": {
    "collapsed": true
   },
   "outputs": [],
   "source": [
    "# New function including powers between -3, 3\n",
    "# def function(x,alpha1, beta1, gamma1, alpha2, beta2, gamma2):\n",
    "def function(x, alpha, aa, bb):\n",
    "\n",
    "    Zcent = aa*x[:]**(alpha) + bb\n",
    "    \n",
    "    return Zcent"
   ]
  },
  {
   "cell_type": "code",
   "execution_count": 48,
   "metadata": {
    "collapsed": true
   },
   "outputs": [],
   "source": [
    "# New function including powers between -3, 3\n",
    "# def function(x,alpha1, beta1, gamma1, alpha2, beta2, gamma2):\n",
    "def function_new(x, alpha, aa, bb):\n",
    "\n",
    "    Zcent = aa*(1.0 - np.exp(-x[:]/alpha)) + bb\n",
    "    \n",
    "    return Zcent"
   ]
  },
  {
   "cell_type": "code",
   "execution_count": 90,
   "metadata": {
    "collapsed": true
   },
   "outputs": [],
   "source": [
    "# New function including powers between -3, 3\n",
    "# def function(x,alpha1, beta1, gamma1, alpha2, beta2, gamma2):\n",
    "def function_schechter(x, alpha, aa, bb, hh):\n",
    "\n",
    "    Zcent = aa * (x[:])**alpha * (1.0 - np.exp(-x[:]/hh)) + bb\n",
    "    \n",
    "    return Zcent"
   ]
  },
  {
   "cell_type": "code",
   "execution_count": 91,
   "metadata": {
    "collapsed": false
   },
   "outputs": [
    {
     "name": "stdout",
     "output_type": "stream",
     "text": [
      "I'm looking for a grain size smaller than 10 Angstrom. Outside the tabulated data!!!\n",
      "Using the absorption efficiency for a 10 AA grain\n"
     ]
    }
   ],
   "source": [
    "G0         = 1.7\n",
    "Qabs       = fz.get_QabsTable(grain_type, grain_size)\n",
    "Qabs_mean  = fz.get_avgQabs(Qabs, G0)\n",
    "\n",
    "GTnpar =  (cdist[\"G\"]+cdist[\"G_CR\"])*np.sqrt(cdist[\"temp\"])/cdist[\"new_ne\"]"
   ]
  },
  {
   "cell_type": "markdown",
   "metadata": {},
   "source": [
    "---"
   ]
  },
  {
   "cell_type": "code",
   "execution_count": 80,
   "metadata": {
    "collapsed": false
   },
   "outputs": [],
   "source": [
    "from scipy.stats import gaussian_kde"
   ]
  },
  {
   "cell_type": "code",
   "execution_count": 16,
   "metadata": {
    "collapsed": true
   },
   "outputs": [],
   "source": [
    "#GTn_density = kernel(GTnpar)\n",
    "#sigma = 1./GTn_density"
   ]
  },
  {
   "cell_type": "markdown",
   "metadata": {},
   "source": [
    "---"
   ]
  },
  {
   "cell_type": "code",
   "execution_count": 92,
   "metadata": {
    "collapsed": true
   },
   "outputs": [],
   "source": [
    "largeGTn  = np.where(GTnpar > 50)\n",
    "Z_smallGTn = np.delete(cdist[\"zmean\"], largeGTn)\n",
    "Zavg_GTnsmall = np.mean(Z_smallGTn)"
   ]
  },
  {
   "cell_type": "code",
   "execution_count": 93,
   "metadata": {
    "collapsed": false
   },
   "outputs": [
    {
     "name": "stdout",
     "output_type": "stream",
     "text": [
      "-0.256953848366\n",
      "-0.288359318722\n"
     ]
    }
   ],
   "source": [
    "print(Zavg_GTnsmall*0.9)\n",
    "print(Zavg_GTnsmall*1.01)"
   ]
  },
  {
   "cell_type": "code",
   "execution_count": 94,
   "metadata": {
    "collapsed": false
   },
   "outputs": [
    {
     "name": "stdout",
     "output_type": "stream",
     "text": [
      "-0.285504275963\n"
     ]
    }
   ],
   "source": [
    "print(Zavg_GTnsmall)"
   ]
  },
  {
   "cell_type": "code",
   "execution_count": 114,
   "metadata": {
    "collapsed": false,
    "scrolled": true
   },
   "outputs": [],
   "source": [
    "#popt_zmean,   pcov_zmean   = curve_fit(function, GTnpar, cdist[\"zmean\"],   p0=[0.5, 0.1, -0.5], sigma=GTn_density, absolute_sigma=True)\n",
    "#popt_zmean,   pcov_zmean   = curve_fit(function, GTnpar, cdist[\"zmean\"],   p0=[0.5, 0.1, -0.5], sigma=sigma, absolute_sigma=True)\n",
    "#popt_zmean,   pcov_zmean   = curve_fit(function, GTnpar, cdist[\"zmean\"], sigma=sigma, absolute_sigma=True, p0=[0.5, 0.1, Zavg_GTnsmall], bounds=([-np.inf, -np.inf, Zavg_GTnsmall*0.9], [np.inf, np.inf, Zavg_GTnsmall*2.0]))\n",
    "\n",
    "#popt_zmean,   pcov_zmean   = curve_fit(function, GTnpar, cdist[\"zmean\"], p0=[0.43684375,  0.50177194, Zavg_GTnsmall], bounds=([-np.inf, -np.inf, Zavg_GTnsmall*0.9], [np.inf, np.inf, Zavg_GTnsmall*2.0]))\n",
    "#popt_zmean,pcov_zmean = curve_fit(function, GTnpar, cdist[\"zmean\"], sigma=sigma, p0=[0.43684375,  0.50177194, Zavg_GTnsmall], bounds=([-np.inf, -np.inf, Zavg_GTnsmall-np.abs(Zavg_GTnsmall*0.1)], [np.inf, np.inf, Zavg_GTnsmall+np.abs(Zavg_GTnsmall*0.1)]))\n",
    "#popt_exp,pcov_exp = curve_fit(function_new, GTnpar, cdist[\"zmean\"], sigma=sigma, p0=[20.,  0.50177194, Zavg_GTnsmall], bounds=([-np.inf, -np.inf, Zavg_GTnsmall-np.abs(Zavg_GTnsmall*0.1)], [np.inf, np.inf, Zavg_GTnsmall+np.abs(Zavg_GTnsmall*0.1)]))"
   ]
  },
  {
   "cell_type": "code",
   "execution_count": 95,
   "metadata": {
    "collapsed": false
   },
   "outputs": [],
   "source": [
    "#popt_sch,pcov_sch = curve_fit(function_schechter, GTnpar, cdist[\"zmean\"], sigma=sigma, p0=[0.51 , 0.07 ,  Zavg_GTnsmall , 100] ,bounds=([-np.inf, -np.inf, Zavg_GTnsmall-np.abs(Zavg_GTnsmall*0.1), -np.inf], [np.inf, np.inf, Zavg_GTnsmall+np.abs(Zavg_GTnsmall*0.1), np.inf]))\n",
    "popt_sch,pcov_sch = curve_fit(function_schechter, GTnpar, cdist[\"zmean\"], p0=[0.51 , 0.07 ,  Zavg_GTnsmall , 100] ,bounds=([-np.inf, -np.inf, Zavg_GTnsmall-np.abs(Zavg_GTnsmall*0.1), -np.inf], [np.inf, np.inf, Zavg_GTnsmall+np.abs(Zavg_GTnsmall*0.1), np.inf]))"
   ]
  },
  {
   "cell_type": "code",
   "execution_count": 28,
   "metadata": {
    "collapsed": false
   },
   "outputs": [
    {
     "name": "stdout",
     "output_type": "stream",
     "text": [
      "Grain size 3\n",
      "Grain type silicate\n",
      "[  3.26292717e-01   1.48805703e-02  -1.21161669e-01   5.71965071e+01]\n"
     ]
    }
   ],
   "source": [
    "print(\"Grain size %i\"%cdist[\"grain_size\"])\n",
    "print(\"Grain type %s\"%cdist[\"grain_type\"])\n",
    "#print(popt_zmean)\n",
    "#print(popt_exp)\n",
    "print(popt_sch)"
   ]
  },
  {
   "cell_type": "code",
   "execution_count": 96,
   "metadata": {
    "collapsed": false
   },
   "outputs": [
    {
     "name": "stdout",
     "output_type": "stream",
     "text": [
      "('size', 5)\n",
      "[  3.24434539e-01   3.40634572e-02  -3.03715954e-01   7.95050181e+01]\n"
     ]
    }
   ],
   "source": [
    "print(\"size\", cdist[\"grain_size\"])\n",
    "print(popt_sch)"
   ]
  },
  {
   "cell_type": "code",
   "execution_count": 56,
   "metadata": {
    "collapsed": false
   },
   "outputs": [
    {
     "name": "stdout",
     "output_type": "stream",
     "text": [
      "('size', 10)\n",
      "[  3.53520854e-01   4.94292088e-02  -4.86479257e-01   7.27792698e+01]\n"
     ]
    }
   ],
   "source": [
    "print(\"size\", cdist[\"grain_size\"])\n",
    "print(popt_sch)"
   ]
  },
  {
   "cell_type": "code",
   "execution_count": 85,
   "metadata": {
    "collapsed": false
   },
   "outputs": [
    {
     "name": "stdout",
     "output_type": "stream",
     "text": [
      "('size', 50)\n",
      "[  3.49959507e-01   3.14680509e-01  -3.35953877e-01   6.37957784e+02]\n"
     ]
    }
   ],
   "source": [
    "print(\"size\", cdist[\"grain_size\"])\n",
    "print(popt_sch)"
   ]
  },
  {
   "cell_type": "code",
   "execution_count": 76,
   "metadata": {
    "collapsed": false
   },
   "outputs": [
    {
     "name": "stdout",
     "output_type": "stream",
     "text": [
      "('size', 100)\n",
      "[  2.88641830e-01   1.24494490e+00  -1.34919127e-01   6.56732059e+02]\n"
     ]
    }
   ],
   "source": [
    "print(\"size\", cdist[\"grain_size\"])\n",
    "print(popt_sch)"
   ]
  },
  {
   "cell_type": "code",
   "execution_count": 43,
   "metadata": {
    "collapsed": false
   },
   "outputs": [
    {
     "data": {
      "image/png": "[encoded data removed]",
      "text/plain": [
       "<matplotlib.figure.Figure at 0x7f73cc3452d0>"
      ]
     },
     "metadata": {},
     "output_type": "display_data"
    }
   ],
   "source": [
    "xsize = 8\n",
    "ysize = 8.4\n",
    "\n",
    "nfigs_x = 1\n",
    "nfigs_y = 1\n",
    "\n",
    "fig = plt.figure(figsize=(xsize, ysize))\n",
    "\n",
    "hpad = 0.09\n",
    "wpad = 0.13\n",
    "\n",
    "xs_panel = 0.86 / nfigs_x \n",
    "ys_panel = 0.85 / nfigs_y \n",
    "\n",
    "############################################################################################################\n",
    "############################               5 Angstroms             #######################################\n",
    "############################################################################################################\n",
    "\n",
    "ii = 0\n",
    "jj = 0\n",
    "\n",
    "ax = fig.add_axes([wpad + ii*xs_panel+ii*wpad, hpad + jj*ys_panel, xs_panel, ys_panel])\n",
    "\n",
    "ax.hist2d(np.log10(GTnpar), cdist[\"zmean\"], bins=50, norm=LogNorm(), normed=True, cmap=\"magma\")\n",
    "#ax.hist2d(np.log10(GTnpar), cdist[\"zmean\"], bins=100, norm=LogNorm(), normed=True, cmap=\"magma\")\n",
    "\n",
    "GTn_arr = np.logspace(np.log10(np.min(GTnpar)), np.log10(np.max(GTnpar)))\n",
    "#NewPar  = function(GTn_arr, *popt_zmean)\n",
    "#NewPar2  = function_new(GTn_arr, *popt_exp)\n",
    "NewPar3  = function_schechter(GTn_arr, *popt_sch)\n",
    "\n",
    "\n",
    "#NewPar = [0.05* np.min(GTnpar)**0.34 - 0.46, 0.05* np.max(GTnpar)**0.34 - 0.46]\n",
    "#GTn_arr = np.logspace(np.min(GTnpar), np.max(GTnpar))\n",
    "#NewPar  = popt_zmean[1]* GTn_arr**popt_zmean[0] + popt_zmean[2]\n",
    "#DrainPar = GTn_arr* (np.max(cdist[\"zmean\"]) - np.min(cdist[\"zmean\"])) / (GTn_arr[-1] - GTn_arr[0]) \n",
    "\n",
    "#ax.plot(GTn_arr, NewPar, \"-k\", linewidth=2)\n",
    "#ax.plot(GTn_arr, NewPar2, \"-b\", linewidth=2)\n",
    "ax.plot(np.log10(GTn_arr), NewPar3, \"-r\", linewidth=2)\n",
    "#ax.plot(np.log10(GTn_arr), DrainPar, \"-b\", linewidth=2)\n",
    "\n",
    "#ax.scatter(GTnpar, cdist[\"zmean\"])\n",
    "\n",
    "\n",
    "ax.tick_params(axis='both', which='major', length=10, width=2,  labelsize=15, direction=\"in\")\n",
    "ax.tick_params(axis='both', which='minor', length=5, width=1.5, labelsize=15, direction=\"in\")\n",
    "\n",
    "#ax.set_xlabel(\"$a_{400}$ $(G\\\\sqrt{T} / n_{e})^{0.58}$ - $a_{57}$\", fontsize=15)\n",
    "ax.set_xlabel(\"$G\\\\sqrt{T} / n_{e}$\", fontsize=20)\n",
    "ax.set_ylabel(\"$\\\\langle Z \\\\rangle$\", fontsize=20)\n",
    "\n",
    "ax.grid(\"on\")\n",
    "\n",
    "if grain_size == 3.5:\n",
    "    ax.set_title(\"%.1F $\\\\AA$\"%grain_size, fontsize=25)\n",
    "else:\n",
    "    ax.set_title(\"%i $\\\\AA$\"%grain_size, fontsize=25)\n",
    "    \n",
    "#ax.set_ylim(-6, 50.0)\n",
    "\n",
    "#ax.set_xscale(\"log\")\n",
    "#ax.set_yscale(\"log\")\n",
    "\n",
    "fig.show()\n",
    "\n",
    "#fig.savefig(\"/home/jcibanezm/Dropbox/Projects/Papers/In_Progress/ChargeDist_Dust/Figures/New_Parameters_%iAA_%s.pdf\"%(grain_size, grain_type), format=\"pdf\")"
   ]
  },
  {
   "cell_type": "code",
   "execution_count": 118,
   "metadata": {
    "collapsed": false
   },
   "outputs": [],
   "source": [
    "Zparam = function(GTnpar,  *popt_zmean)\n",
    "Zparam_exp = function_new(GTnpar,  *popt_exp)\n",
    "Zparam_sch = function_schechter(GTnpar,  *popt_sch)"
   ]
  },
  {
   "cell_type": "code",
   "execution_count": 119,
   "metadata": {
    "collapsed": true
   },
   "outputs": [],
   "source": [
    "rel_error     = abs(Zparam - cdist[\"zmean\"])/abs(cdist[\"zmean\"])\n",
    "rel_error_exp = abs(Zparam_exp - cdist[\"zmean\"])/abs(cdist[\"zmean\"])\n",
    "rel_error_sch = abs(Zparam_sch - cdist[\"zmean\"])/abs(cdist[\"zmean\"])"
   ]
  },
  {
   "cell_type": "code",
   "execution_count": 120,
   "metadata": {
    "collapsed": false
   },
   "outputs": [
    {
     "name": "stdout",
     "output_type": "stream",
     "text": [
      "0.188502167942\n",
      "0.363312127699\n",
      "0.0412170852041\n"
     ]
    }
   ],
   "source": [
    "print(np.median(rel_error))\n",
    "print(np.median(rel_error_exp))\n",
    "print(np.median(rel_error_sch))"
   ]
  },
  {
   "cell_type": "code",
   "execution_count": 121,
   "metadata": {
    "collapsed": false
   },
   "outputs": [
    {
     "name": "stdout",
     "output_type": "stream",
     "text": [
      "[ 0.07119976  0.18850217  0.25404285]\n",
      "[ 0.18763281  0.36331213  0.68411464]\n",
      "[ 0.01182695  0.04121709  0.1049728 ]\n"
     ]
    }
   ],
   "source": [
    "print(np.percentile(rel_error, [25, 50, 75]))\n",
    "print(np.percentile(rel_error_exp, [25, 50, 75]))\n",
    "print(np.percentile(rel_error_sch, [25, 50, 75]))"
   ]
  },
  {
   "cell_type": "code",
   "execution_count": null,
   "metadata": {
    "collapsed": true
   },
   "outputs": [],
   "source": []
  },
  {
   "cell_type": "code",
   "execution_count": 124,
   "metadata": {
    "collapsed": false
   },
   "outputs": [
    {
     "data": {
      "image/png": "[encoded data removed]",
      "text/plain": [
       "<matplotlib.figure.Figure at 0x7f1db2635fd0>"
      ]
     },
     "metadata": {},
     "output_type": "display_data"
    }
   ],
   "source": [
    "fig = plt.figure()\n",
    "ax = fig.add_subplot(111)\n",
    "\n",
    "#ax.scatter(cdist[\"zmean\"], Zparam)\n",
    "#ax.hist(np.log10(rel_error))\n",
    "#ax.hist(np.log10(rel_error_exp), color='red')\n",
    "ax.hist(np.log10(rel_error_sch), color='green')\n",
    "\n",
    "#ax.set_xscale(\"log\")\n",
    "#ax.set_yscale(\"log\")\n",
    "\n",
    "fig.show()"
   ]
  },
  {
   "cell_type": "markdown",
   "metadata": {},
   "source": [
    "---\n",
    "\n",
    "### Now for the size width"
   ]
  },
  {
   "cell_type": "code",
   "execution_count": 125,
   "metadata": {
    "collapsed": true
   },
   "outputs": [],
   "source": [
    "cdist_pos = cdist.copy()\n",
    "cdist_neg = cdist.copy()"
   ]
  },
  {
   "cell_type": "code",
   "execution_count": 126,
   "metadata": {
    "collapsed": false
   },
   "outputs": [],
   "source": [
    "#cdist_pos = cdist.copy()\n",
    "#cdist_neg = cdist.copy()\n",
    "\n",
    "positive = np.where(cdist_pos[\"zmean\"] >= 0.0)\n",
    "negative = np.where(cdist_neg[\"zmean\"] <  0.0)\n",
    "\n",
    "ii = 0\n",
    "for key in cdist.keys():\n",
    "    #arrs.append(0)\n",
    "    if key!=\"Qabs_mean\" and key!=\"grain_size\" and key!=\"grain_type\" and key!=\"MPI\" and key!=\"fdist\" and key!=\"info\" and key!=\"zminmax\":\n",
    "        #print(key)\n",
    "        cdist_neg[key] = np.delete(cdist_neg[key], positive)\n",
    "        cdist_pos[key] = np.delete(cdist_pos[key], negative)\n",
    "        #ii +=1"
   ]
  },
  {
   "cell_type": "code",
   "execution_count": 127,
   "metadata": {
    "collapsed": true
   },
   "outputs": [],
   "source": [
    "# New function including powers between -3, 3\n",
    "# def function(x,alpha1, beta1, gamma1, alpha2, beta2, gamma2):\n",
    "def function_sigma_pos(x, aa, bb, hh):\n",
    "\n",
    "    #sigma_par = aa*(1. - np.exp(-np.abs(x[:])/hh)) + bb\n",
    "    sigma_par = aa*(1. - np.exp(-x[:]/hh)) + bb\n",
    "    \n",
    "    return sigma_par\n",
    "\n",
    "# New function including powers between -3, 3\n",
    "# def function(x,alpha1, beta1, gamma1, alpha2, beta2, gamma2):\n",
    "def function_sigma_neg(x, aa, bb, hh):\n",
    "\n",
    "    #sigma_par = aa*(1. - np.exp(-np.abs(x[:])/hh)) + bb\n",
    "    sigma_par = aa*(1. - np.exp(x[:]/hh)) + bb\n",
    "    \n",
    "    return sigma_par"
   ]
  },
  {
   "cell_type": "code",
   "execution_count": 137,
   "metadata": {
    "collapsed": false
   },
   "outputs": [
    {
     "data": {
      "text/plain": [
       "0.32426433757442957"
      ]
     },
     "execution_count": 137,
     "metadata": {},
     "output_type": "execute_result"
    }
   ],
   "source": [
    "popt_zstd_pos[1]"
   ]
  },
  {
   "cell_type": "code",
   "execution_count": 155,
   "metadata": {
    "collapsed": false
   },
   "outputs": [],
   "source": [
    "largeZ  = np.where(abs(cdist[\"zmean\"]) > 0.01)\n",
    "Zstd_smallGTn = np.delete(cdist[\"zstd\"], largeZ)\n",
    "Zstd_avg_GTnsmall = np.mean(Zstd_smallGTn)"
   ]
  },
  {
   "cell_type": "code",
   "execution_count": 156,
   "metadata": {
    "collapsed": false
   },
   "outputs": [
    {
     "name": "stdout",
     "output_type": "stream",
     "text": [
      "0.31250662617\n"
     ]
    }
   ],
   "source": [
    "print(Zstd_avg_GTnsmall)"
   ]
  },
  {
   "cell_type": "code",
   "execution_count": 167,
   "metadata": {
    "collapsed": false
   },
   "outputs": [],
   "source": [
    "#popt_zstd_pos, pcov_zstd_pos = curve_fit(function_sigma_pos, cdist_pos[\"zmean\"], cdist_pos[\"zstd\"], p0=[0.3, 0.25, 0.8])\n",
    "#popt_zstd_neg, pcov_zstd_neg = curve_fit(function_sigma_neg, cdist_neg[\"zmean\"], cdist_neg[\"zstd\"], bounds=([-np.inf, popt_zstd_pos[1]*0.999, -np.inf], [np.inf, popt_zstd_pos[1]*1.001, np.inf]), p0=[0.1, popt_zstd_pos[1], 1.0])\n",
    "\n",
    "#popt_zstd_pos, pcov_zstd_pos = curve_fit(function_sigma_pos, cdist_pos[\"zmean\"], cdist_pos[\"zstd\"])\n",
    "#popt_zstd_neg, pcov_zstd_neg = curve_fit(function_sigma_neg, cdist_neg[\"zmean\"], cdist_neg[\"zstd\"], bounds=([-np.inf, popt_zstd_pos[1]*0.999, -np.inf], [np.inf, popt_zstd_pos[1]*1.001, np.inf]),p0=[-1.0, popt_zstd_pos[1], 1.0])\n",
    "\n",
    "popt_zstd_pos, pcov_zstd_pos = curve_fit(function_sigma_pos, cdist_pos[\"zmean\"], cdist_pos[\"zstd\"], p0=[0.3, Zstd_avg_GTnsmall, 0.3], bounds=([0.0, Zstd_avg_GTnsmall*0.999, 0.0], [0.5, Zstd_avg_GTnsmall*1.001, 0.50]))\n",
    "popt_zstd_neg, pcov_zstd_neg = curve_fit(function_sigma_neg, cdist_neg[\"zmean\"], cdist_neg[\"zstd\"], bounds=([0.0, popt_zstd_pos[1]*0.999, 0.0], [10.0, popt_zstd_pos[1]*1.001, 1.0]),p0=[0.0, popt_zstd_pos[1], 0.5])"
   ]
  },
  {
   "cell_type": "code",
   "execution_count": 168,
   "metadata": {
    "collapsed": false
   },
   "outputs": [
    {
     "name": "stdout",
     "output_type": "stream",
     "text": [
      "[ 0.36497086  0.31219412  0.48144953]\n",
      "[ 0.48863462  0.31188193  1.        ]\n"
     ]
    }
   ],
   "source": [
    "print(popt_zstd_pos)\n",
    "print(popt_zstd_neg)"
   ]
  },
  {
   "cell_type": "code",
   "execution_count": 169,
   "metadata": {
    "collapsed": false
   },
   "outputs": [],
   "source": [
    "#0.4246 & 0.2308 & 0.1669 & 8015.2912 & 5994.2053"
   ]
  },
  {
   "cell_type": "code",
   "execution_count": 170,
   "metadata": {
    "collapsed": false
   },
   "outputs": [
    {
     "data": {
      "image/png": "[encoded data removed]",
      "text/plain": [
       "<matplotlib.figure.Figure at 0x7f1db25ae750>"
      ]
     },
     "metadata": {},
     "output_type": "display_data"
    }
   ],
   "source": [
    "xsize = 8\n",
    "ysize = 8\n",
    "\n",
    "nfigs_x = 1\n",
    "nfigs_y = 1\n",
    "\n",
    "fig = plt.figure(figsize=(xsize, ysize))\n",
    "\n",
    "hpad = 0.09\n",
    "wpad = 0.11\n",
    "\n",
    "xs_panel = 0.88 / nfigs_x \n",
    "ys_panel = 0.89 / nfigs_y \n",
    "\n",
    "############################################################################################################\n",
    "############################               XX Angstroms             #######################################\n",
    "############################################################################################################\n",
    "\n",
    "ii = 0\n",
    "jj = 0\n",
    "\n",
    "ax = fig.add_axes([wpad + ii*xs_panel+ii*wpad, hpad + jj*ys_panel, xs_panel, ys_panel])\n",
    "\n",
    "ax.hist2d(cdist[\"zmean\"], cdist[\"zstd\"], bins=50, norm=LogNorm(), normed=True, cmap=\"magma\")\n",
    "\n",
    "\n",
    "zmean_arr_pos = np.linspace(np.min(cdist_pos[\"zmean\"]), np.max(cdist_pos[\"zmean\"]))\n",
    "NewPar        = function_sigma_pos(zmean_arr_pos, *popt_zstd_pos)\n",
    "#NewPar        = function_sigma_pos(zmean_arr_pos,  0.33073526,  0.2401,  0.2995276641)\n",
    "ax.plot(zmean_arr_pos, NewPar, \"-k\", linewidth=2)\n",
    "\n",
    "zmean_arr_neg = np.linspace(np.min(cdist_neg[\"zmean\"]), np.max(cdist_neg[\"zmean\"]))\n",
    "NewPar_neg        = function_sigma_neg(zmean_arr_neg, *popt_zstd_neg)\n",
    "#NewPar_neg     = function_sigma_neg(zmean_arr_neg, 0.139583, 0.2401, 0.1803)\n",
    "ax.plot(zmean_arr_neg, NewPar_neg, \"--k\", linewidth=2)\n",
    "\n",
    "\n",
    "#NewPar_neg        = function_sigma_neg(zmean_arr_neg, -0.1, 0.56, 1.0)\n",
    "#ax.plot(zmean_arr_neg, NewPar_neg, \"--k\", linewidth=2)\n",
    "\n",
    "\n",
    "ax.tick_params(axis='both', which='major', length=10, width=2,  labelsize=15, direction=\"in\")\n",
    "ax.tick_params(axis='both', which='minor', length=5, width=1.5, labelsize=15, direction=\"in\")\n",
    "\n",
    "#ax.set_xlabel(\"$a_{400}$ $(G\\\\sqrt{T} / n_{e})^{0.58}$ - $a_{57}$\", fontsize=15)\n",
    "ax.set_ylabel(\"$\\\\sigma_{Z}$\", fontsize=18)\n",
    "ax.set_xlabel(\"$\\\\langle Z \\\\rangle$\", fontsize=18)\n",
    "\n",
    "ax.grid(\"on\")\n",
    "\n",
    "#ax.set_xlim(-0.25, 0.0)\n",
    "\n",
    "fig.show()\n",
    "\n",
    "#ax.set_xscale(\"log\")\n",
    "\n",
    "#fig.savefig(\"/home/jcibanezm/Dropbox/Projects/Papers/In_Progress/ChargeDist_Dust/Figures/Sigma_%iAA_%s.pdf\"%(grain_size, grain_type), format=\"pdf\")"
   ]
  }
 ],
 "metadata": {
  "anaconda-cloud": {},
  "kernelspec": {
   "display_name": "Python [conda root]",
   "language": "python",
   "name": "conda-root-py"
  },
  "language_info": {
   "codemirror_mode": {
    "name": "ipython",
    "version": 2
   },
   "file_extension": ".py",
   "mimetype": "text/x-python",
   "name": "python",
   "nbconvert_exporter": "python",
   "pygments_lexer": "ipython2",
   "version": "2.7.15"
  }
 },
 "nbformat": 4,
 "nbformat_minor": 2
}
