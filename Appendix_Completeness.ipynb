{
 "cells": [
  {
   "cell_type": "code",
   "execution_count": 1,
   "metadata": {
    "collapsed": false
   },
   "outputs": [
    {
     "name": "stdout",
     "output_type": "stream",
     "text": [
      "Loading the library to compute the charge distribution of dust grains.\n"
     ]
    },
    {
     "data": {
      "text/plain": [
       "<function close>"
      ]
     },
     "execution_count": 1,
     "metadata": {},
     "output_type": "execute_result"
    }
   ],
   "source": [
    "import pickle\n",
    "import numpy as np\n",
    "import matplotlib.pyplot as plt\n",
    "from   matplotlib.colors import LogNorm\n",
    "\n",
    "import compute_charge_dist as fz\n",
    "\n",
    "from scipy.optimize import curve_fit\n",
    "\n",
    "import time\n",
    "\n",
    "%matplotlib inline\n",
    "\n",
    "\n",
    "grain_type = \"silicate\"\n",
    "#grain_type = \"carbonaceous\"\n",
    "pcent      = 50\n",
    "\n",
    "########################################################################################\n",
    "\n",
    "grain_size = 5\n",
    "\n",
    "save_dir = \"/home/jcibanezm/codes/run/ChargeStatisticsAnalysis/Daikaiju\"\n",
    "#filename = \"fz_%.4iAA_%s_CR_True_%i_pcent.pkl\"%(grain_size, grain_type, pcent) \n",
    "filename = \"CompletenessCopy_0005AA_sil_CR.pkl\"\n",
    "\n",
    "pkl_file    = open(\"%s/%s\"%(save_dir, filename), \"rb\")\n",
    "cdist = pickle.load(pkl_file)\n",
    "pkl_file.close"
   ]
  },
  {
   "cell_type": "code",
   "execution_count": 2,
   "metadata": {
    "collapsed": false
   },
   "outputs": [
    {
     "ename": "ValueError",
     "evalue": "insecure string pickle",
     "output_type": "error",
     "traceback": [
      "\u001b[0;31m---------------------------------------------------------------------------\u001b[0m",
      "\u001b[0;31mValueError\u001b[0m                                Traceback (most recent call last)",
      "\u001b[0;32m<ipython-input-2-4d8f2bc0ce89>\u001b[0m in \u001b[0;36m<module>\u001b[0;34m()\u001b[0m\n\u001b[1;32m      1\u001b[0m \u001b[0mpkl_file\u001b[0m    \u001b[0;34m=\u001b[0m \u001b[0mopen\u001b[0m\u001b[0;34m(\u001b[0m\u001b[0;34m\"%s/FixedCompleteness.pkl\"\u001b[0m\u001b[0;34m%\u001b[0m\u001b[0;34m(\u001b[0m\u001b[0msave_dir\u001b[0m\u001b[0;34m)\u001b[0m\u001b[0;34m,\u001b[0m \u001b[0;34m\"rb\"\u001b[0m\u001b[0;34m)\u001b[0m\u001b[0;34m\u001b[0m\u001b[0m\n\u001b[0;32m----> 2\u001b[0;31m \u001b[0mccdist\u001b[0m \u001b[0;34m=\u001b[0m \u001b[0mpickle\u001b[0m\u001b[0;34m.\u001b[0m\u001b[0mload\u001b[0m\u001b[0;34m(\u001b[0m\u001b[0mpkl_file\u001b[0m\u001b[0;34m)\u001b[0m\u001b[0;34m\u001b[0m\u001b[0m\n\u001b[0m\u001b[1;32m      3\u001b[0m \u001b[0mpkl_file\u001b[0m\u001b[0;34m.\u001b[0m\u001b[0mclose\u001b[0m\u001b[0;34m\u001b[0m\u001b[0m\n",
      "\u001b[0;32m/home/jcibanezm/codes/libs/miniconda3/lib/python2.7/pickle.pyc\u001b[0m in \u001b[0;36mload\u001b[0;34m(file)\u001b[0m\n\u001b[1;32m   1382\u001b[0m \u001b[0;34m\u001b[0m\u001b[0m\n\u001b[1;32m   1383\u001b[0m \u001b[0;32mdef\u001b[0m \u001b[0mload\u001b[0m\u001b[0;34m(\u001b[0m\u001b[0mfile\u001b[0m\u001b[0;34m)\u001b[0m\u001b[0;34m:\u001b[0m\u001b[0;34m\u001b[0m\u001b[0m\n\u001b[0;32m-> 1384\u001b[0;31m     \u001b[0;32mreturn\u001b[0m \u001b[0mUnpickler\u001b[0m\u001b[0;34m(\u001b[0m\u001b[0mfile\u001b[0m\u001b[0;34m)\u001b[0m\u001b[0;34m.\u001b[0m\u001b[0mload\u001b[0m\u001b[0;34m(\u001b[0m\u001b[0;34m)\u001b[0m\u001b[0;34m\u001b[0m\u001b[0m\n\u001b[0m\u001b[1;32m   1385\u001b[0m \u001b[0;34m\u001b[0m\u001b[0m\n\u001b[1;32m   1386\u001b[0m \u001b[0;32mdef\u001b[0m \u001b[0mloads\u001b[0m\u001b[0;34m(\u001b[0m\u001b[0mstr\u001b[0m\u001b[0;34m)\u001b[0m\u001b[0;34m:\u001b[0m\u001b[0;34m\u001b[0m\u001b[0m\n",
      "\u001b[0;32m/home/jcibanezm/codes/libs/miniconda3/lib/python2.7/pickle.pyc\u001b[0m in \u001b[0;36mload\u001b[0;34m(self)\u001b[0m\n\u001b[1;32m    862\u001b[0m             \u001b[0;32mwhile\u001b[0m \u001b[0;36m1\u001b[0m\u001b[0;34m:\u001b[0m\u001b[0;34m\u001b[0m\u001b[0m\n\u001b[1;32m    863\u001b[0m                 \u001b[0mkey\u001b[0m \u001b[0;34m=\u001b[0m \u001b[0mread\u001b[0m\u001b[0;34m(\u001b[0m\u001b[0;36m1\u001b[0m\u001b[0;34m)\u001b[0m\u001b[0;34m\u001b[0m\u001b[0m\n\u001b[0;32m--> 864\u001b[0;31m                 \u001b[0mdispatch\u001b[0m\u001b[0;34m[\u001b[0m\u001b[0mkey\u001b[0m\u001b[0;34m]\u001b[0m\u001b[0;34m(\u001b[0m\u001b[0mself\u001b[0m\u001b[0;34m)\u001b[0m\u001b[0;34m\u001b[0m\u001b[0m\n\u001b[0m\u001b[1;32m    865\u001b[0m         \u001b[0;32mexcept\u001b[0m \u001b[0m_Stop\u001b[0m\u001b[0;34m,\u001b[0m \u001b[0mstopinst\u001b[0m\u001b[0;34m:\u001b[0m\u001b[0;34m\u001b[0m\u001b[0m\n\u001b[1;32m    866\u001b[0m             \u001b[0;32mreturn\u001b[0m \u001b[0mstopinst\u001b[0m\u001b[0;34m.\u001b[0m\u001b[0mvalue\u001b[0m\u001b[0;34m\u001b[0m\u001b[0m\n",
      "\u001b[0;32m/home/jcibanezm/codes/libs/miniconda3/lib/python2.7/pickle.pyc\u001b[0m in \u001b[0;36mload_string\u001b[0;34m(self)\u001b[0m\n\u001b[1;32m    970\u001b[0m             \u001b[0;32mif\u001b[0m \u001b[0mrep\u001b[0m\u001b[0;34m.\u001b[0m\u001b[0mstartswith\u001b[0m\u001b[0;34m(\u001b[0m\u001b[0mq\u001b[0m\u001b[0;34m)\u001b[0m\u001b[0;34m:\u001b[0m\u001b[0;34m\u001b[0m\u001b[0m\n\u001b[1;32m    971\u001b[0m                 \u001b[0;32mif\u001b[0m \u001b[0mlen\u001b[0m\u001b[0;34m(\u001b[0m\u001b[0mrep\u001b[0m\u001b[0;34m)\u001b[0m \u001b[0;34m<\u001b[0m \u001b[0;36m2\u001b[0m \u001b[0;32mor\u001b[0m \u001b[0;32mnot\u001b[0m \u001b[0mrep\u001b[0m\u001b[0;34m.\u001b[0m\u001b[0mendswith\u001b[0m\u001b[0;34m(\u001b[0m\u001b[0mq\u001b[0m\u001b[0;34m)\u001b[0m\u001b[0;34m:\u001b[0m\u001b[0;34m\u001b[0m\u001b[0m\n\u001b[0;32m--> 972\u001b[0;31m                     \u001b[0;32mraise\u001b[0m \u001b[0mValueError\u001b[0m\u001b[0;34m,\u001b[0m \u001b[0;34m\"insecure string pickle\"\u001b[0m\u001b[0;34m\u001b[0m\u001b[0m\n\u001b[0m\u001b[1;32m    973\u001b[0m                 \u001b[0mrep\u001b[0m \u001b[0;34m=\u001b[0m \u001b[0mrep\u001b[0m\u001b[0;34m[\u001b[0m\u001b[0mlen\u001b[0m\u001b[0;34m(\u001b[0m\u001b[0mq\u001b[0m\u001b[0;34m)\u001b[0m\u001b[0;34m:\u001b[0m\u001b[0;34m-\u001b[0m\u001b[0mlen\u001b[0m\u001b[0;34m(\u001b[0m\u001b[0mq\u001b[0m\u001b[0;34m)\u001b[0m\u001b[0;34m]\u001b[0m\u001b[0;34m\u001b[0m\u001b[0m\n\u001b[1;32m    974\u001b[0m                 \u001b[0;32mbreak\u001b[0m\u001b[0;34m\u001b[0m\u001b[0m\n",
      "\u001b[0;31mValueError\u001b[0m: insecure string pickle"
     ]
    }
   ],
   "source": [
    "pkl_file    = open(\"%s/FixedCompleteness.pkl\"%(save_dir), \"rb\")\n",
    "ccdist = pickle.load(pkl_file)\n",
    "pkl_file.close"
   ]
  },
  {
   "cell_type": "code",
   "execution_count": null,
   "metadata": {
    "collapsed": false
   },
   "outputs": [],
   "source": [
    "too_high = np.where(cdist[\"nH\"] > 2.0e4)\n",
    "    \n",
    "ii = 0\n",
    "for key in cdist.keys():\n",
    "    #arrs.append(0)\n",
    "    if key!=\"Qabs_mean\" and key!=\"grain_size\" and key!=\"grain_type\" and key!=\"MPI\" and key!=\"fdist\" and key!=\"info\" and key!=\"zminmax\":\n",
    "        #print(key)\n",
    "        cdist[key]    = np.delete(cdist[key],    too_high)"
   ]
  },
  {
   "cell_type": "code",
   "execution_count": null,
   "metadata": {
    "collapsed": true
   },
   "outputs": [],
   "source": [
    "G_CR = np.zeros_like(cdist[\"G\"])\n",
    "\n",
    "for i in range(len(G_CR)):\n",
    "    G_CR[i] = fz.get_G_CR(cdist[\"fH2shield\"][i])"
   ]
  },
  {
   "cell_type": "code",
   "execution_count": null,
   "metadata": {
    "collapsed": true
   },
   "outputs": [],
   "source": [
    "#GTn_3AA    = (cdist_3AA[\"G\"]   +G_CR) * np.sqrt(cdist_3AA[\"temp\"])   / cdist_3AA[\"ne\"] \n",
    "GTn   = (cdist[\"G\"]) * np.sqrt(cdist[\"temp\"]) / cdist[\"ne\"] "
   ]
  },
  {
   "cell_type": "code",
   "execution_count": null,
   "metadata": {
    "collapsed": true
   },
   "outputs": [],
   "source": [
    "# Run through all the cells and get the new distributions, centroids and widths."
   ]
  },
  {
   "cell_type": "code",
   "execution_count": null,
   "metadata": {
    "collapsed": true
   },
   "outputs": [],
   "source": []
  },
  {
   "cell_type": "code",
   "execution_count": null,
   "metadata": {
    "collapsed": false
   },
   "outputs": [],
   "source": [
    "xsize = 8\n",
    "ysize = 8.4\n",
    "\n",
    "nfigs_x = 1\n",
    "nfigs_y = 1\n",
    "\n",
    "fig = plt.figure(figsize=(xsize, ysize))\n",
    "\n",
    "hpad = 0.09\n",
    "wpad = 0.13\n",
    "\n",
    "xs_panel = 0.86 / nfigs_x \n",
    "ys_panel = 0.85 / nfigs_y \n",
    "\n",
    "############################################################################################################\n",
    "############################               5 Angstroms             #######################################\n",
    "############################################################################################################\n",
    "\n",
    "ii = 0\n",
    "jj = 0\n",
    "\n",
    "ax = fig.add_axes([wpad + ii*xs_panel+ii*wpad, hpad + jj*ys_panel, xs_panel, ys_panel])\n",
    "\n",
    "ax.hist2d(np.log10(GTn), cdist[\"zmean\"], bins=50, norm=LogNorm(), normed=True, cmap=\"magma\")\n",
    "\n",
    "GTn_arr = np.logspace(np.log10(np.min(GTn)), np.log10(np.max(GTn)))\n",
    "#NewPar  = function(GTn_arr, )\n",
    "\n",
    "#ax.plot(GTn_arr, NewPar, \"-k\", linewidth=2)\n",
    "\n",
    "ax.tick_params(axis='both', which='major', length=10, width=2,  labelsize=15, direction=\"in\")\n",
    "ax.tick_params(axis='both', which='minor', length=5, width=1.5, labelsize=15, direction=\"in\")\n",
    "\n",
    "ax.set_xlabel(\"$G\\\\sqrt{T} / n_{e}$\", fontsize=20)\n",
    "ax.set_ylabel(\"$\\\\langle Z \\\\rangle$\", fontsize=20)\n",
    "\n",
    "ax.grid(\"on\")\n",
    "\n",
    "ax.set_title(\"%i $\\\\AA$\"%grain_size, fontsize=25)\n",
    "fig.show()\n"
   ]
  },
  {
   "cell_type": "code",
   "execution_count": null,
   "metadata": {
    "collapsed": false
   },
   "outputs": [],
   "source": [
    "xsize = 16\n",
    "ysize = 6.7\n",
    "\n",
    "nfigs_x = 4\n",
    "nfigs_y = 2\n",
    "\n",
    "fig = plt.figure(figsize=(xsize, ysize))\n",
    "\n",
    "hpad = 0.09\n",
    "wpad = 0.055\n",
    "\n",
    "xs_panel = 0.86 / nfigs_x \n",
    "ys_panel = 0.85 / nfigs_y \n",
    "\n",
    "############################################################################################################\n",
    "############################               5 Angstroms             #######################################\n",
    "############################################################################################################\n",
    "\n",
    "ax = fig.add_axes([0, 0, 1, 1])\n",
    "\n",
    "#ax.plot([0,1], [0,1], visible=False)\n",
    "ax.set_xlim(0,1)\n",
    "ax.set_ylim(0,1)\n",
    "\n",
    "#ax.text(0.18, 0.955, \"5 AA\", fontsize=20, horizontalalignment='center')\n",
    "\n",
    "plt.axis('off')\n",
    "\n",
    "#------------------------------------------------------------------------------------------------\n",
    "# From bottom left, to upper right.\n",
    "ii = 0\n",
    "jj = 0\n",
    "\n",
    "\n",
    "ax = fig.add_axes([wpad + ii*xs_panel, hpad + jj*ys_panel, xs_panel, ys_panel])\n",
    "\n",
    "cax = ax.hist2d(np.log10(cdist[\"nH\"]), cdist[\"zstd\"], bins=50, norm=LogNorm(), cmap=\"magma\")\n",
    "ax.tick_params(axis='both', which='major', length=10, width=2,  labelsize=15, direction=\"in\")\n",
    "ax.tick_params(axis='both', which='minor', length=5, width=1.5, labelsize=15, direction=\"in\")\n",
    "\n",
    "ax.grid(\"on\")\n",
    "\n",
    "ax.tick_params(\n",
    "    axis='x',          # changes apply to the x-axis\n",
    "    which='both',      # both major and minor ticks are affected\n",
    "    bottom='on',      # ticks along the bottom edge are off\n",
    "    top='off',         # ticks along the top edge are off\n",
    "    labelbottom='on') # labels along the bottom edge are off\n",
    "\n",
    "ax.set_ylabel(\"$\\\\sigma_{Z}$\", fontsize=20)\n",
    "ax.set_xlabel(\"log$_{10}$(n$_{H}$) [cm$^{-3}$]\", fontsize=16)\n",
    "\n",
    "ax.tick_params(axis='x', which='both', bottom='on', labelbottom='on')\n",
    "ax.tick_params(axis='both', which='major', length=4, width=2, labelsize=15)\n",
    "\n",
    "\n",
    "#------------------------------------------------------------------------------------------------\n",
    "# From bottom left, to upper right.\n",
    "ii = 0\n",
    "jj = 1\n",
    "\n",
    "ax = fig.add_axes([wpad + ii*xs_panel, hpad + jj*ys_panel, xs_panel, ys_panel])\n",
    "\n",
    "ax.hist2d(np.log10(cdist[\"nH\"]), cdist[\"zmean\"], bins=50, norm=LogNorm(), cmap=\"magma\",)\n",
    "ax.tick_params(axis='both', which='major', length=10, width=2,  labelsize=15, direction=\"in\")\n",
    "ax.tick_params(axis='both', which='minor', length=5, width=1.5, labelsize=15, direction=\"in\")\n",
    "\n",
    "ax.grid(\"on\")\n",
    "\n",
    "ax.tick_params(axis='x', which='both', bottom='on', labelbottom='off')\n",
    "ax.tick_params(axis='both', which='major', length=4, width=2, labelsize=15)\n",
    "\n",
    "ax.set_ylabel(\"$\\\\langle$Z$\\\\rangle$\", fontsize=20, labelpad=-1)\n",
    "#ax.set_xlabel(\"log$_{10}$(n$_{H}$) [cm$^{-3}$]\", fontsize=16)\n",
    "\n",
    "\n",
    "\n",
    "\n",
    "############################################################################################################\n",
    "############################                100 Angstroms            #######################################\n",
    "############################################################################################################\n",
    "\n",
    "#------------------------------------------------------------------------------------------------\n",
    "# From bottom left, to upper right.\n",
    "ii = 1\n",
    "jj = 0\n",
    "\n",
    "ax = fig.add_axes([wpad + ii*xs_panel, hpad + jj*ys_panel, xs_panel, ys_panel])\n",
    "\n",
    "ax.hist2d(np.log10(cdist[\"temp\"]), cdist[\"zstd\"], bins=50, norm=LogNorm(), cmap=\"magma\", )\n",
    "ax.tick_params(axis='both', which='major', length=10, width=2,  labelsize=15, direction=\"in\")\n",
    "ax.tick_params(axis='both', which='minor', length=5, width=1.5, labelsize=15, direction=\"in\")\n",
    "\n",
    "ax.grid(\"on\")\n",
    "\n",
    "ax.tick_params(\n",
    "    axis='both',          # changes apply to the x-axis\n",
    "    which='both',      # both major and minor ticks are affected\n",
    "    bottom='on',      # ticks along the bottom edge are off\n",
    "    top='off',         # ticks along the top edge are off\n",
    "    labelbottom='on', labelleft='off') # labels along the bottom edge are off\n",
    "\n",
    "\n",
    "ax.set_xlabel(\"log$_{10}$(T) [K]\", fontsize=16)\n",
    "\n",
    "ax.set_xlim([np.max(np.log10(cdist[\"temp\"])),np.min(np.log10(cdist[\"temp\"]))])\n",
    "\n",
    "ax.tick_params(axis='both', which='major', length=4, width=2, labelsize=15)\n",
    "\n",
    "\n",
    "#------------------------------------------------------------------------------------------------\n",
    "# From bottom left, to upper right.\n",
    "ii = 1\n",
    "jj = 1\n",
    "\n",
    "\n",
    "ax = fig.add_axes([wpad + ii*xs_panel, hpad + jj*ys_panel, xs_panel, ys_panel])\n",
    "\n",
    "ax.hist2d(np.log10(cdist[\"temp\"]), cdist[\"zmean\"], bins=50, norm=LogNorm(), cmap=\"magma\",)\n",
    "ax.tick_params(axis='both', which='major', length=10, width=2,  labelsize=15, direction=\"in\")\n",
    "ax.tick_params(axis='both', which='minor', length=5, width=1.5, labelsize=15, direction=\"in\")\n",
    "\n",
    "ax.grid(\"on\")\n",
    "\n",
    "ax.tick_params(axis='both', which='both', bottom='on', labelbottom='off', labelleft='off')\n",
    "ax.tick_params(axis='both', which='major', length=4, width=2, labelsize=15)\n",
    "\n",
    "ax.set_xlim([np.max(np.log10(cdist[\"temp\"])),np.min(np.log10(cdist[\"temp\"]))])\n",
    "\n",
    "\n",
    "############################################################################################################\n",
    "############################               1000 Angstroms            #######################################\n",
    "############################################################################################################\n",
    "\n",
    "#------------------------------------------------------------------------------------------------\n",
    "# From bottom left, to upper right.\n",
    "ii = 2\n",
    "jj = 0\n",
    "\n",
    "\n",
    "ax = fig.add_axes([wpad + ii*xs_panel, hpad + jj*ys_panel, xs_panel, ys_panel])\n",
    "\n",
    "\n",
    "cax = ax.hist2d(np.log10(cdist[\"G\"]), cdist[\"zstd\"], bins=50, norm=LogNorm(), cmap=\"magma\", )\n",
    "ax.tick_params(axis='both', which='major', length=10, width=2,  labelsize=15, direction=\"in\")\n",
    "ax.tick_params(axis='both', which='minor', length=5, width=1.5, labelsize=15, direction=\"in\")\n",
    "\n",
    "ax.grid(\"on\")\n",
    "\n",
    "\n",
    "ax.tick_params(\n",
    "    axis='both',          # changes apply to the x-axis\n",
    "    which='both',      # both major and minor ticks are affected\n",
    "    bottom='on',      # ticks along the bottom edge are off\n",
    "    top='off',         # ticks along the top edge are off\n",
    "    labelbottom='on', labelleft='off') # labels along the bottom edge are off\n",
    "\n",
    "\n",
    "ax.set_xlabel(\"log$_{10}$ (G$_{\\\\mathrm{tot}}$)\", fontsize=16)\n",
    "\n",
    "ax.set_xlim([np.log10(1.7),np.min(np.log10(cdist[\"G\"]))])\n",
    "\n",
    "ax.tick_params(axis='both', which='major', length=4, width=2, labelsize=15)\n",
    "\n",
    "#------------------------------------------------------------------------------------------------\n",
    "# From bottom left, to upper right.\n",
    "ii = 2\n",
    "jj = 1\n",
    "\n",
    "ax = fig.add_axes([wpad + ii*xs_panel, hpad + jj*ys_panel, xs_panel, ys_panel])\n",
    "\n",
    "\n",
    "ax.hist2d(np.log10(cdist[\"G\"]), cdist[\"zmean\"], bins=50, norm=LogNorm(), cmap=\"magma\", )\n",
    "ax.tick_params(axis='both', which='major', length=10, width=2,  labelsize=15, direction=\"in\")\n",
    "ax.tick_params(axis='both', which='minor', length=5, width=1.5, labelsize=15, direction=\"in\")\n",
    "\n",
    "ax.grid(\"on\")\n",
    "\n",
    "ax.tick_params(axis='both', which='both', bottom='on', labelbottom='off', labelleft='off')\n",
    "ax.tick_params(axis='both', which='major', length=4, width=2, labelsize=15)\n",
    "\n",
    "ax.set_xlim([np.log10(1.7),np.min(np.log10(cdist[\"G\"]))])\n",
    "\n",
    "#------------------------------------------------------------------------------------------------\n",
    "# From bottom left, to upper right.\n",
    "ii = 3\n",
    "jj = 0\n",
    "\n",
    "\n",
    "ax = fig.add_axes([wpad + ii*xs_panel, hpad + jj*ys_panel, xs_panel, ys_panel])\n",
    "\n",
    "cax = ax.hist2d(np.log10(cdist[\"ne\"]), cdist[\"zstd\"], bins=50, norm=LogNorm(), cmap=\"magma\",)\n",
    "ax.tick_params(axis='both', which='major', length=10, width=2,  labelsize=15, direction=\"in\")\n",
    "ax.tick_params(axis='both', which='minor', length=5, width=1.5, labelsize=15, direction=\"in\")\n",
    "\n",
    "ax.grid(\"on\")\n",
    "\n",
    "ax.tick_params(\n",
    "    axis='both',          # changes apply to the x-axis\n",
    "    which='both',      # both major and minor ticks are affected\n",
    "    bottom='on',      # ticks along the bottom edge are off\n",
    "    top='off',         # ticks along the top edge are off\n",
    "    labelbottom='on', labelleft='off') # labels along the bottom edge are off\n",
    "\n",
    "ax.set_xlabel(\"log$_{10}$(n$_{e}$) [cm$^{-3}$]\", fontsize=16)\n",
    "\n",
    "\n",
    "ax.tick_params(axis='both', which='major', length=4, width=2, labelsize=15)\n",
    "\n",
    "#------------------------------------------------------------------------------------------------\n",
    "# From bottom left, to upper right.\n",
    "ii = 3\n",
    "jj = 1\n",
    "\n",
    "ax = fig.add_axes([wpad + ii*xs_panel, hpad + jj*ys_panel, xs_panel, ys_panel])\n",
    "\n",
    "ax.hist2d(np.log10(cdist[\"ne\"]), cdist[\"zmean\"], bins=50, norm=LogNorm(), cmap=\"magma\",)\n",
    "ax.tick_params(axis='both', which='major', length=10, width=2,  labelsize=15, direction=\"in\")\n",
    "ax.tick_params(axis='both', which='minor', length=5, width=1.5, labelsize=15, direction=\"in\")\n",
    "\n",
    "ax.grid(\"on\")\n",
    "\n",
    "ax.tick_params(axis='both', which='both', bottom='on', labelbottom='off', labelleft='off')\n",
    "ax.tick_params(axis='both', which='major', length=4, width=2, labelsize=15)\n",
    "\n",
    "#################################################################################################\n",
    "# Add colorbar.\n",
    "cbar_ax = fig.add_axes([0.91, 0.09, 0.025, 0.85])\n",
    "cbar    = fig.colorbar(cax[3], cax=cbar_ax, orientation=\"vertical\")\n",
    "\n",
    "cbar.set_label(\"$\\\\frac{M}{M_{tot}}$\", fontsize=18, labelpad=-10)\n",
    "#cbar.set_ticks([])\n",
    "cbar.ax.tick_params(labelsize=15)\n",
    "\n",
    "fig.suptitle(\"%i $\\\\AA$\"%(cdist[\"grain_size\"]), fontsize=20, y=0.99)\n",
    "\n",
    "fig.show()\n"
   ]
  },
  {
   "cell_type": "code",
   "execution_count": null,
   "metadata": {
    "collapsed": false
   },
   "outputs": [],
   "source": [
    "np.min(cdist[\"zmean\"])"
   ]
  },
  {
   "cell_type": "code",
   "execution_count": null,
   "metadata": {
    "collapsed": false
   },
   "outputs": [],
   "source": [
    "cdist[\"zmean\"][0]"
   ]
  },
  {
   "cell_type": "code",
   "execution_count": null,
   "metadata": {
    "collapsed": false
   },
   "outputs": [],
   "source": [
    "cdist[\"fdist\"][0:15]"
   ]
  },
  {
   "cell_type": "code",
   "execution_count": null,
   "metadata": {
    "collapsed": false
   },
   "outputs": [],
   "source": [
    "fz.get_Zmax(5, \"silicate\")"
   ]
  },
  {
   "cell_type": "code",
   "execution_count": null,
   "metadata": {
    "collapsed": true
   },
   "outputs": [],
   "source": [
    "ffz = cdist[\"fdist\"][0:4]"
   ]
  },
  {
   "cell_type": "code",
   "execution_count": null,
   "metadata": {
    "collapsed": false
   },
   "outputs": [],
   "source": [
    "print(ffz)"
   ]
  },
  {
   "cell_type": "code",
   "execution_count": null,
   "metadata": {
    "collapsed": false
   },
   "outputs": [],
   "source": [
    "fig = plt.figure()\n",
    "ax = fig.add_subplot(111)\n",
    "\n",
    "ax.plot([-1,0,1,2], ffz, '-r', linestyle=\"steps\")\n",
    "#ax.set_yscale(\"log\")\n",
    "fig.show()"
   ]
  }
 ],
 "metadata": {
  "kernelspec": {
   "display_name": "Python [default]",
   "language": "python",
   "name": "python2"
  },
  "language_info": {
   "codemirror_mode": {
    "name": "ipython",
    "version": 2
   },
   "file_extension": ".py",
   "mimetype": "text/x-python",
   "name": "python",
   "nbconvert_exporter": "python",
   "pygments_lexer": "ipython2",
   "version": "2.7.15"
  }
 },
 "nbformat": 4,
 "nbformat_minor": 2
}
