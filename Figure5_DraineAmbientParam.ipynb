{
 "cells": [
  {
   "cell_type": "code",
   "execution_count": 1,
   "metadata": {
    "collapsed": false
   },
   "outputs": [
    {
     "name": "stdout",
     "output_type": "stream",
     "text": [
      "Loading the library to compute the charge distribution of dust grains.\n"
     ]
    },
    {
     "data": {
      "text/plain": [
       "<function close>"
      ]
     },
     "execution_count": 1,
     "metadata": {},
     "output_type": "execute_result"
    }
   ],
   "source": [
    "import pickle\n",
    "import numpy as np\n",
    "import matplotlib.pyplot as plt\n",
    "from matplotlib.colors import LogNorm\n",
    "\n",
    "import compute_charge_dist as fz\n",
    "\n",
    "import time\n",
    "\n",
    "%matplotlib inline\n",
    "\n",
    "G0 = 1.7\n",
    "\n",
    "#grain_type = \"carbonaceous\"\n",
    "grain_type = \"silicate\"\n",
    "\n",
    "grain_size = 5\n",
    "pcent      = 1\n",
    "\n",
    "# Desktop\n",
    "#save_dir = \"/home/jcibanezm/codes/run/Silcc/CF_Prabesh/ChargeDist\"\n",
    "#save_dir = \"/home/jcibanezm/codes/run/ChargeStatisticsAnalysis/CR\"\n",
    "save_dir = \"/home/jcibanezm/Dropbox/codes/run/ChargeStatisticsAnalysis/Daikaiju\"\n",
    "\n",
    "# Laptop\n",
    "#save_dir = \"/Users/juan/codes/run/Silcc/CF_Prabesh/ChargeDist\"\n",
    "\n",
    "#filename = \"ChargeDist_CF_%sgrains_%iAA_.pkl\"%(grain_type, grain_size)\n",
    "#filename = \"fz_%.3iAA_%s_CR_True.pkl\"%(grain_size, grain_type) \n",
    "filename = \"fz_%.4iAA_%s_CR_True_%i_pcent.pkl\"%(grain_size, grain_type, pcent) \n",
    "\n",
    "# Read a pickle file.\n",
    "\n",
    "pkl_file    = open(\"%s/%s\"%(save_dir, filename), \"rb\")\n",
    "cdist_small = pickle.load(pkl_file)\n",
    "pkl_file.close\n",
    "\n",
    "outfile = open('/home/jcibanezm/codes/DustAnalysis/Charge/PaperFigures_DustCharge/cell_mass_small.pkl', 'rb')\n",
    "cell_mass_small = pickle.load(outfile)\n",
    "outfile.close()\n",
    "\n",
    "########################################################################################\n",
    "grain_size = 100\n",
    "#grain_type = \"carbonaceous\"\n",
    "\n",
    "# Desktop\n",
    "#save_dir = \"/home/jcibanezm/codes/run/Silcc/CF_Prabesh/ChargeDist\"\n",
    "#save_dir = \"/home/jcibanezm/codes/run/ChargeStatisticsAnalysis/CR\"\n",
    "save_dir = \"/home/jcibanezm/Dropbox/codes/run/ChargeStatisticsAnalysis/Daikaiju\"\n",
    "\n",
    "# Laptop\n",
    "#save_dir = \"/Users/juan/codes/run/Silcc/CF_Prabesh/ChargeDist\"\n",
    "\n",
    "#filename = \"ChargeDist_CF_%sgrains_%iAA.pkl\"%(grain_type, grain_size)\n",
    "#filename = \"fz_%.3iAA_%s_CR_True.pkl\"%(grain_size, grain_type) \n",
    "filename = \"fz_%.4iAA_%s_CR_True_%i_pcent.pkl\"%(grain_size, grain_type, pcent) \n",
    "\n",
    "# Read a pickle file.\n",
    "\n",
    "pkl_file   = open(\"%s/%s\"%(save_dir, filename), \"rb\")\n",
    "cdist_int  = pickle.load(pkl_file)\n",
    "pkl_file.close\n",
    "\n",
    "\n",
    "########################################################################################\n",
    "grain_size =  1000\n",
    "#grain_type = \"carbonaceous\"\n",
    "\n",
    "pcent = 0.1\n",
    "\n",
    "# Desktop\n",
    "#save_dir = \"/home/jcibanezm/codes/run/Silcc/CF_Prabesh/ChargeDist\"\n",
    "# Laptop\n",
    "#save_dir = \"/Users/juan/codes/run/Silcc/CF_Prabesh/ChargeDist\"\n",
    "save_dir = \"/home/jcibanezm/Dropbox/codes/run/ChargeStatisticsAnalysis/Daikaiju\"\n",
    "\n",
    "#filename = \"ChargeDist_CF_%sgrains_%iAA.pkl\"%(grain_type, grain_size)\n",
    "filename = \"fz_%.4iAA_%s_CR_True_%i_pcent.pkl\"%(grain_size, grain_type, pcent) \n",
    "\n",
    "# Read a pickle file.\n",
    "\n",
    "pkl_file    = open(\"%s/%s\"%(save_dir, filename), \"rb\")\n",
    "cdist_large = pickle.load(pkl_file)\n",
    "pkl_file.close\n"
   ]
  },
  {
   "cell_type": "code",
   "execution_count": 58,
   "metadata": {
    "collapsed": false
   },
   "outputs": [],
   "source": [
    "#grain_type = \"carbonaceous\"\n",
    "\n",
    "#cist = \"small\"\n",
    "#cdist = cdist_small\n",
    "#grain_size = 5\n",
    "\n",
    "#dist = \"int\"\n",
    "#cdist = cdist_int\n",
    "#grain_size = 100\n",
    "\n",
    "dist = \"large\"\n",
    "cdist = cdist_large\n",
    "grain_size = 1000\n"
   ]
  },
  {
   "cell_type": "code",
   "execution_count": 59,
   "metadata": {
    "collapsed": false
   },
   "outputs": [],
   "source": [
    "too_high = np.where(cdist[\"nH\"] > 2.0e4)\n",
    "\n",
    "ii = 0\n",
    "for key in cdist.keys():\n",
    "    #arrs.append(0)\n",
    "    if key!=\"Qabs_mean\" and key!=\"grain_size\" and key!=\"grain_type\" and key!=\"MPI\" and key!=\"fdist\" and key!=\"info\" and key!=\"zminmax\" and key!=\"ZZ\":\n",
    "        #print(key)\n",
    "        cdist[key] = np.delete(cdist[key], too_high)\n",
    "    #ii +=1\n",
    "    "
   ]
  },
  {
   "cell_type": "code",
   "execution_count": 60,
   "metadata": {
    "collapsed": false
   },
   "outputs": [],
   "source": [
    "Qabs       = fz.get_QabsTable(grain_type, grain_size)\n",
    "Qabs_mean  = fz.get_avgQabs(Qabs, 1.7)\n",
    "\n",
    "Zpar        = (cdist[\"G\"]+cdist[\"G_CR\"]) * np.sqrt(cdist[\"temp\"]) / (cdist[\"new_ne\"])\n",
    "Zpar_arr    = np.linspace(np.min(Zpar), np.max(Zpar), num=100)\n",
    "zpar_max    = np.max(Zpar)\n",
    "Zpar_scaled = Zpar_arr/zpar_max*np.max(cdist[\"zmean\"])\n"
   ]
  },
  {
   "cell_type": "code",
   "execution_count": 62,
   "metadata": {
    "collapsed": false
   },
   "outputs": [
    {
     "name": "stdout",
     "output_type": "stream",
     "text": [
      "0.23\n"
     ]
    },
    {
     "data": {
      "image/png": "[encoded data removed]",
      "text/plain": [
       "<matplotlib.figure.Figure at 0x7f4fd06197d0>"
      ]
     },
     "metadata": {},
     "output_type": "display_data"
    }
   ],
   "source": [
    "xsize = 5\n",
    "ysize = 5\n",
    "\n",
    "nfigs_x = 1\n",
    "nfigs_y = 1\n",
    "\n",
    "fig = plt.figure(figsize=(xsize, ysize))\n",
    "\n",
    "hpad = 0.156\n",
    "#wpad = 0.2\n",
    "\n",
    "if dist == \"small\":\n",
    "    wpad = 0.245\n",
    "elif dist==\"int\":\n",
    "    wpad = 0.2\n",
    "else:\n",
    "    wpad = 0.23\n",
    "    \n",
    "print(wpad)\n",
    "    \n",
    "xs_panel = 0.75 / nfigs_x \n",
    "ys_panel = 0.77 / nfigs_y \n",
    "\n",
    "total_mass = np.sum(cdist[\"cell_mass\"])\n",
    "\n",
    "# Formatting tick labels in log scale.\n",
    "def format_func(value, tick_number):\n",
    "    return \"10$^{%i}$\"%value\n",
    "\n",
    "############################################################################################################\n",
    "############################               5 Angstroms             #######################################\n",
    "############################################################################################################\n",
    "\n",
    "\n",
    "ii = 0\n",
    "jj = 0\n",
    "\n",
    "ax = fig.add_axes([wpad + ii*xs_panel+ii*wpad, hpad + jj*ys_panel, xs_panel, ys_panel])\n",
    "\n",
    "#ax.hist2d(Zpar, cdist[\"zmean\"], bins=50, norm=LogNorm(), cmap=\"magma\", weights=cdist[\"cell_mass\"]/total_mass, vmin=1.0e-6, vmax=0.1)\n",
    "ax.hist2d(np.log10(Zpar), cdist[\"zmean\"], bins=100, norm=LogNorm(), cmap=\"magma\", weights=cdist[\"cell_mass\"]/total_mass, vmin=1.0e-6, vmax=0.1)\n",
    "\n",
    "#ax.plot([np.min(Zpar), np.max(Zpar)], [np.min(Zpar_scaled), np.max(Zpar_scaled)], \"-b\", linewidth=2)\n",
    "ax.plot(np.log10(Zpar_arr), Zpar_scaled, \"-b\", linewidth=2)\n",
    "\n",
    "ax.tick_params(axis='both', which='major', length=10, width=2,  labelsize=20, direction=\"in\")\n",
    "ax.tick_params(axis='both', which='minor', length=5, width=1.5, labelsize=20, direction=\"in\")\n",
    "\n",
    "#ax.set_xlabel(\"$\\\\langle Q_{abs} \\\\rangle $G$_{tot}$T$^{0.5}$ n$_{e}^{-1}$\", fontsize=18)\n",
    "#ax.set_xlabel(\"GT$^{1/2}$ n$_{e}^{-1}$ [K$^{1/2}$ cm$^{3}$]\", fontsize=25)\n",
    "ax.set_xlabel(\"GT$^{1/2}$ n$_{\\\\mathrm{e}}$$^{-1}$ [K$^{1/2}$ cm$^{3}$]\", fontsize=25)\n",
    "ax.set_ylabel(\"$\\\\langle Z \\\\rangle$\", fontsize=25)\n",
    "\n",
    "ax.grid(\"on\")\n",
    "\n",
    "#ax.set_xlim(0.24, 23634.9)\n",
    "ax.set_xlim(np.log10(0.24), np.log10(23634.9))\n",
    "ax.set_ylim(np.min(cdist[\"zmean\"]), np.max(cdist[\"zmean\"]))\n",
    "\n",
    "ax.xaxis.set_major_formatter(plt.FuncFormatter(format_func))\n",
    "\n",
    "fig.suptitle(\"%i $\\\\AA$\"%grain_size, fontsize=25, y=0.988)\n",
    "\n",
    "fig.show()\n",
    "\n",
    "savedir = \"/home/jcibanezm/codes/DustAnalysis/Charge/Figures/ChargingParameter\"\n",
    "fig.savefig(\"/home/jcibanezm/Dropbox/Projects/Papers/In_Progress/ChargeDist_Dust/Figures/Figure_5_%iAA_%s_DraineParameters_logscale.pdf\"%(grain_size, grain_type), format=\"pdf\")\n"
   ]
  },
  {
   "cell_type": "code",
   "execution_count": 42,
   "metadata": {
    "collapsed": false
   },
   "outputs": [
    {
     "data": {
      "image/png": "[encoded data removed]",
      "text/plain": [
       "<matplotlib.figure.Figure at 0x7f3edbc864d0>"
      ]
     },
     "metadata": {},
     "output_type": "display_data"
    }
   ],
   "source": [
    "xsize = 8\n",
    "ysize = 8.4\n",
    "\n",
    "nfigs_x = 1\n",
    "nfigs_y = 1\n",
    "\n",
    "fig = plt.figure(figsize=(xsize, ysize))\n",
    "\n",
    "hpad = 0.10\n",
    "wpad = 0.145\n",
    "\n",
    "xs_panel = 0.85 / nfigs_x \n",
    "ys_panel = 0.84 / nfigs_y \n",
    "\n",
    "total_mass = np.sum(cdist[\"cell_mass\"])\n",
    "\n",
    "# Formatting tick labels in log scale.\n",
    "def format_func(value, tick_number):\n",
    "    return \"10$^{%i}$\"%value\n",
    "\n",
    "############################################################################################################\n",
    "############################               5 Angstroms             #######################################\n",
    "############################################################################################################\n",
    "\n",
    "\n",
    "ii = 0\n",
    "jj = 0\n",
    "\n",
    "ax = fig.add_axes([wpad + ii*xs_panel+ii*wpad, hpad + jj*ys_panel, xs_panel, ys_panel])\n",
    "\n",
    "ax.hist2d(Zpar, cdist[\"zmean\"], bins=50, norm=LogNorm(), cmap=\"magma\", weights=cdist[\"cell_mass\"]/total_mass, vmin=1.0e-6, vmax=0.1)\n",
    "#ax.hist2d(np.log10(Zpar), cdist[\"zmean\"], bins=50, norm=LogNorm(), cmap=\"magma\", weights=cdist[\"cell_mass\"]/total_mass, vmin=1.0e-6, vmax=0.1)\n",
    "\n",
    "ax.plot([np.min(Zpar), np.max(Zpar)], [np.min(Zpar_scaled), np.max(Zpar_scaled)], \"-b\", linewidth=2)\n",
    "#ax.plot(np.log10(Zpar_arr), Zpar_scaled, \"-b\", linewidth=2)\n",
    "\n",
    "ax.tick_params(axis='both', which='major', length=10, width=2,  labelsize=20, direction=\"in\")\n",
    "ax.tick_params(axis='both', which='minor', length=5, width=1.5, labelsize=20, direction=\"in\")\n",
    "\n",
    "#ax.set_xlabel(\"$\\\\langle Q_{abs} \\\\rangle $G$_{tot}$T$^{0.5}$ n$_{e}^{-1}$\", fontsize=18)\n",
    "ax.set_xlabel(\"GT$^{1/2}$ n$_{e}^{-1}$ [K$^{1/2}$ cm$^{3}$]\", fontsize=25)\n",
    "ax.set_ylabel(\"$\\\\langle Z \\\\rangle$\", fontsize=25)\n",
    "\n",
    "ax.grid(\"on\")\n",
    "\n",
    "ax.set_xlim(0.24, 23634.9)\n",
    "#ax.set_xlim(np.log10(0.24), np.log10(23634.9))\n",
    "ax.set_ylim(np.min(cdist[\"zmean\"]), np.max(cdist[\"zmean\"]))\n",
    "\n",
    "#ax.xaxis.set_major_formatter(plt.FuncFormatter(format_func))\n",
    "\n",
    "fig.suptitle(\"%i $\\\\AA$\"%grain_size, fontsize=20, y=0.98)\n",
    "\n",
    "fig.show()\n",
    "\n",
    "savedir = \"/home/jcibanezm/codes/DustAnalysis/Charge/Figures/ChargingParameter\"\n",
    "fig.savefig(\"/home/jcibanezm/Dropbox/Projects/Papers/In_Progress/ChargeDist_Dust/Figures/Figure_5_%iAA_%s_DraineParameters.pdf\"%(grain_size, grain_type), format=\"pdf\")\n"
   ]
  },
  {
   "cell_type": "markdown",
   "metadata": {},
   "source": [
    "---"
   ]
  }
 ],
 "metadata": {
  "anaconda-cloud": {},
  "kernelspec": {
   "display_name": "Python [default]",
   "language": "python",
   "name": "python2"
  },
  "language_info": {
   "codemirror_mode": {
    "name": "ipython",
    "version": 2
   },
   "file_extension": ".py",
   "mimetype": "text/x-python",
   "name": "python",
   "nbconvert_exporter": "python",
   "pygments_lexer": "ipython2",
   "version": "2.7.15"
  }
 },
 "nbformat": 4,
 "nbformat_minor": 2
}
