{
 "cells": [
  {
   "cell_type": "code",
   "execution_count": 1,
   "metadata": {},
   "outputs": [],
   "source": [
    "import numpy as np\n",
    "import matplotlib.pyplot as plt\n",
    "from scipy.interpolate import interp1d\n",
    "\n",
    "%matplotlib inline"
   ]
  },
  {
   "cell_type": "code",
   "execution_count": 2,
   "metadata": {},
   "outputs": [],
   "source": [
    "size, alpha, a, b, h, cp, hp, d, cm, hm = np.loadtxt(\"Carbonaceous_Table.txt\", unpack=True)"
   ]
  },
  {
   "cell_type": "code",
   "execution_count": 3,
   "metadata": {},
   "outputs": [
    {
     "name": "stdout",
     "output_type": "stream",
     "text": [
      "[    3.5     5.     10.     50.    100.    500.   1000. ]\n"
     ]
    }
   ],
   "source": [
    "print(size)"
   ]
  },
  {
   "cell_type": "code",
   "execution_count": 4,
   "metadata": {},
   "outputs": [],
   "source": [
    "f1d_alpha = interp1d(size, alpha, fill_value=\"extrapolate\", kind=\"linear\")\n",
    "f1d_a     = interp1d(size, a, fill_value=\"extrapolate\", kind=\"linear\")\n",
    "f1d_b     = interp1d(size, b, fill_value=\"extrapolate\", kind=\"linear\")\n",
    "f1d_h     = interp1d(size, h, fill_value=\"extrapolate\", kind=\"linear\")"
   ]
  },
  {
   "cell_type": "code",
   "execution_count": 5,
   "metadata": {},
   "outputs": [],
   "source": [
    "Test_sizes = [7.5, 25, 75, 250, 750, 2500]"
   ]
  },
  {
   "cell_type": "code",
   "execution_count": 6,
   "metadata": {},
   "outputs": [],
   "source": [
    "alpha_test = f1d_alpha(Test_sizes)\n",
    "a_test     = f1d_a(Test_sizes)\n",
    "b_test     = f1d_b(Test_sizes)\n",
    "h_test     = f1d_h(Test_sizes)"
   ]
  },
  {
   "cell_type": "markdown",
   "metadata": {},
   "source": [
    "## Parametric centroid equation:\n",
    "$$ \\langle Z \\rangle = a (\\frac{G\\sqrt{T}}{n_{e}})^{\\alpha} (1 - exp (\\frac{GT^{0.5} n_{e}^{-1}}{ h}) ) + b $$"
   ]
  },
  {
   "cell_type": "code",
   "execution_count": 7,
   "metadata": {},
   "outputs": [],
   "source": [
    "# New function like a press schechter like, combining a power law and an exponential growth.\n",
    "\n",
    "# New function including powers between -3, 3\n",
    "# def function(x,alpha1, beta1, gamma1, alpha2, beta2, gamma2):\n",
    "def function(x, alpha, aa, bb, hh):\n",
    "\n",
    "    Zcent = aa[:] * (x)**alpha[:] * (1.0 - np.exp(-x/hh[:])) + bb[:]\n",
    "    \n",
    "    return Zcent"
   ]
  },
  {
   "cell_type": "code",
   "execution_count": 8,
   "metadata": {},
   "outputs": [],
   "source": [
    "G = 1.52\n",
    "T = 7000.\n",
    "ne = 0.9*0.012\n",
    "GTn = G*np.sqrt(T) / ne"
   ]
  },
  {
   "cell_type": "code",
   "execution_count": 9,
   "metadata": {},
   "outputs": [],
   "source": [
    "Zcent_WNM =  function(GTn, alpha_test, a_test, b_test, h_test)"
   ]
  },
  {
   "cell_type": "code",
   "execution_count": 10,
   "metadata": {},
   "outputs": [],
   "source": [
    "G = 0.6\n",
    "T = 70.\n",
    "ne = 36.*1.8e-4\n",
    "GTn = G*np.sqrt(T) / ne"
   ]
  },
  {
   "cell_type": "code",
   "execution_count": 11,
   "metadata": {},
   "outputs": [],
   "source": [
    "Zcent_CNM = function(GTn, alpha_test, a_test, b_test, h_test)"
   ]
  },
  {
   "cell_type": "code",
   "execution_count": 12,
   "metadata": {},
   "outputs": [],
   "source": [
    "G = 7.9e-4\n",
    "T = 14.4\n",
    "ne = 3.0e4*9.038e-8\n",
    "GTn = G*np.sqrt(T) / ne"
   ]
  },
  {
   "cell_type": "code",
   "execution_count": 13,
   "metadata": {},
   "outputs": [],
   "source": [
    "Zcent_CMM = function(GTn, alpha_test, a_test, b_test, h_test)"
   ]
  },
  {
   "cell_type": "code",
   "execution_count": 14,
   "metadata": {},
   "outputs": [
    {
     "data": {
      "text/plain": [
       "1.5055032905994928e+115"
      ]
     },
     "execution_count": 14,
     "metadata": {},
     "output_type": "execute_result"
    }
   ],
   "source": [
    "Zcent_WNM[-1]"
   ]
  },
  {
   "cell_type": "code",
   "execution_count": 15,
   "metadata": {},
   "outputs": [
    {
     "name": "stdout",
     "output_type": "stream",
     "text": [
      "[ 0.4699  0.4386  0.4994  0.6009  0.29    0.34    0.4601]\n"
     ]
    }
   ],
   "source": [
    "print(alpha)"
   ]
  },
  {
   "cell_type": "code",
   "execution_count": 16,
   "metadata": {},
   "outputs": [
    {
     "name": "stdout",
     "output_type": "stream",
     "text": [
      "[ 0.469      0.5374625  0.44545    0.30875    0.40005    0.8204   ]\n"
     ]
    }
   ],
   "source": [
    "print(alpha_test)"
   ]
  },
  {
   "cell_type": "code",
   "execution_count": 43,
   "metadata": {},
   "outputs": [
    {
     "name": "stdout",
     "output_type": "stream",
     "text": [
      "[ 0.469      0.5374625  0.44545    0.30875    0.40005    0.5      ]\n"
     ]
    }
   ],
   "source": [
    "print(alpha_test)"
   ]
  },
  {
   "cell_type": "code",
   "execution_count": 44,
   "metadata": {},
   "outputs": [
    {
     "name": "stdout",
     "output_type": "stream",
     "text": [
      "[-0.40188773 -0.46310211 -0.30559088 -0.06014462  0.30140807  1.16189065]\n",
      "[  4.39271310e-02   6.78111862e-01   1.52025255e+01   1.45858059e+01\n",
      "   3.81497111e+01   8.36900665e+01]\n",
      "[   1.19648979    4.47768391   73.98503456   65.06635944  194.96987399\n",
      "  597.9760585 ]\n"
     ]
    }
   ],
   "source": [
    "print(Zcent_CMM)\n",
    "print(Zcent_CNM)\n",
    "print(Zcent_WNM)"
   ]
  },
  {
   "cell_type": "code",
   "execution_count": 15,
   "metadata": {},
   "outputs": [
    {
     "name": "stdout",
     "output_type": "stream",
     "text": [
      "[-0.39478159 -0.45726619 -0.28603527  0.09690444  0.69033987  1.80766728]\n",
      "[  3.48935940e-03   4.41627114e-01   5.90604909e+00   1.32652015e+01\n",
      "   3.51258071e+01   1.33905178e+02]\n",
      "[   0.59401229    2.30851156   20.67397829   39.75670312  109.73022082\n",
      "  593.88001878]\n"
     ]
    }
   ],
   "source": [
    "print(Zcent_CMM)\n",
    "print(Zcent_CNM)\n",
    "print(Zcent_WNM)"
   ]
  },
  {
   "cell_type": "code",
   "execution_count": 17,
   "metadata": {},
   "outputs": [],
   "source": [
    "G = 1.0e3\n",
    "T = 1.0e3\n",
    "ne = 1.0\n",
    "GTn = G*np.sqrt(T) / ne"
   ]
  },
  {
   "cell_type": "code",
   "execution_count": 18,
   "metadata": {},
   "outputs": [],
   "source": [
    "Zcent_PDR = function(GTn, alpha, a, b, h)"
   ]
  },
  {
   "cell_type": "code",
   "execution_count": 19,
   "metadata": {},
   "outputs": [
    {
     "name": "stderr",
     "output_type": "stream",
     "text": [
      "/Users/juan/anaconda/lib/python2.7/site-packages/matplotlib/figure.py:459: UserWarning: matplotlib is currently using a non-GUI backend, so cannot show the figure\n",
      "  \"matplotlib is currently using a non-GUI backend, \"\n"
     ]
    },
    {
     "data": {
      "image/png": "[encoded data removed]",
      "text/plain": [
       "<Figure size 504x360 with 1 Axes>"
      ]
     },
     "metadata": {},
     "output_type": "display_data"
    }
   ],
   "source": [
    "fig = plt.figure(figsize=(7,5))\n",
    "\n",
    "ax = fig.add_axes([0.5, 0.5, 0.9, 0.9])\n",
    "ax.scatter(Test_sizes, Zcent_CNM, c=\"b\", marker=\"o\", linewidths=2)\n",
    "ax.scatter(Test_sizes, Zcent_WNM, c=\"r\", marker=\"o\", linewidths=2)\n",
    "ax.scatter(Test_sizes, abs(Zcent_CMM), c=\"k\", marker=\"*\", linewidths=2)\n",
    "\n",
    "\n",
    "ax.set_xscale(\"log\")\n",
    "ax.set_yscale(\"log\")\n",
    "\n",
    "ax.tick_params(axis='both', which='major', length=10, width=2,  labelsize=15, direction=\"in\")\n",
    "ax.tick_params(axis='both', which='minor', length=5, width=1.5, labelsize=15, direction=\"in\")\n",
    "\n",
    "#ax.set_xlabel(\"$a_{400}$ $(G\\\\sqrt{T} / n_{e})^{0.58}$ - $a_{57}$\", fontsize=15)\n",
    "ax.set_xlabel(\"Size [$\\\\AA$]\", fontsize=15)\n",
    "ax.set_ylabel(\"$\\\\langle Z \\\\rangle$\", fontsize=15)\n",
    "\n",
    "#ax.set_yscale(np.min(abs(Zcent_CMM)), np.max(Zcent_WNM))\n",
    "ax.set_ylim(1.0e-2, 1200)\n",
    "\n",
    "fig.show()"
   ]
  },
  {
   "cell_type": "code",
   "execution_count": 20,
   "metadata": {},
   "outputs": [],
   "source": [
    "# PDR\n",
    "G = 1.0e3\n",
    "T = 1000.\n",
    "ne = 1.0\n",
    "GTn = G*np.sqrt(T) / ne\n",
    "\n",
    "Zcent_PDR = function(GTn, alpha, a, b, h)"
   ]
  },
  {
   "cell_type": "code",
   "execution_count": 21,
   "metadata": {},
   "outputs": [
    {
     "name": "stdout",
     "output_type": "stream",
     "text": [
      "[    3.5     5.     10.     50.    100.    500.   1000. ]\n",
      "[ 0.4699  0.4386  0.4994  0.6009  0.29    0.34    0.4601]\n"
     ]
    }
   ],
   "source": [
    "print(size)\n",
    "print(alpha)"
   ]
  },
  {
   "cell_type": "code",
   "execution_count": 22,
   "metadata": {},
   "outputs": [
    {
     "name": "stdout",
     "output_type": "stream",
     "text": [
      "[    3.5     5.     10.     50.    100.    500.   1000. ]\n",
      "[   0.99034461    1.52701641    3.02094377   26.0484757    44.82365357\n",
      "  199.90099939  384.12610523]\n"
     ]
    }
   ],
   "source": [
    "print(size)\n",
    "print(Zcent_PDR)"
   ]
  },
  {
   "cell_type": "markdown",
   "metadata": {},
   "source": [
    "---"
   ]
  },
  {
   "cell_type": "code",
   "execution_count": 17,
   "metadata": {},
   "outputs": [
    {
     "name": "stdout",
     "output_type": "stream",
     "text": [
      "Loading the library to compute the charge distribution of dust grains.\n"
     ]
    }
   ],
   "source": [
    "# Calculate charge distribution: Same sizes and environments.\n",
    "\n",
    "import fzMPI\n",
    "import yt\n",
    "from yt.units import pc, kpc, second, Kelvin, gram, erg, cm\n",
    "import compute_charge_dist as fz"
   ]
  },
  {
   "cell_type": "code",
   "execution_count": 18,
   "metadata": {},
   "outputs": [
    {
     "name": "stderr",
     "output_type": "stream",
     "text": [
      "/Users/juan/anaconda/lib/python2.7/site-packages/yt/fields/local_fields.py:46: UserWarning: Because 'sampling_type' not specified, yt will assume a cell 'sampling_type'\n",
      "  warnings.warn(\"Because 'sampling_type' not specified, yt will \"\n"
     ]
    },
    {
     "name": "stdout",
     "output_type": "stream",
     "text": [
      "Initializing clock.\n"
     ]
    },
    {
     "name": "stderr",
     "output_type": "stream",
     "text": [
      "yt : [INFO     ] 2018-12-05 00:06:48,804 Particle file found: NL99_R8_cf_hdf5_chk_0028\n",
      "yt : [INFO     ] 2018-12-05 00:06:48,838 integer runtime parameter checkpointfilenumber overwrites a simulation scalar of the same name\n",
      "yt : [INFO     ] 2018-12-05 00:06:48,840 integer runtime parameter forcedplotfilenumber overwrites a simulation scalar of the same name\n",
      "yt : [INFO     ] 2018-12-05 00:06:48,842 integer runtime parameter nbegin overwrites a simulation scalar of the same name\n",
      "yt : [INFO     ] 2018-12-05 00:06:48,844 integer runtime parameter plotfilenumber overwrites a simulation scalar of the same name\n",
      "yt : [INFO     ] 2018-12-05 00:06:48,906 Parameters: current_time              = 5.68049127342e+14\n",
      "yt : [INFO     ] 2018-12-05 00:06:48,908 Parameters: domain_dimensions         = [32  8  8]\n",
      "yt : [INFO     ] 2018-12-05 00:06:48,913 Parameters: domain_left_edge          = [ -1.97478400e+20  -4.93696000e+19  -4.93696000e+19]\n",
      "yt : [INFO     ] 2018-12-05 00:06:48,916 Parameters: domain_right_edge         = [  1.97478400e+20   4.93696000e+19   4.93696000e+19]\n",
      "yt : [INFO     ] 2018-12-05 00:06:48,919 Parameters: cosmological_simulation   = 0.0\n"
     ]
    }
   ],
   "source": [
    "# Define some constant parameters to be used.\n",
    "mp      = 1.6726e-24  * gram # g\n",
    "mH      = 1.6733e-24  * gram\n",
    "mC      = 12.011*mH\n",
    "#mu      = 1.2924\n",
    "kb      = 1.3806e-16  *erg / Kelvin # erg K-1\n",
    "GNewton = 6.6743e-8   * cm**3 / (gram * second**2 )# cm3 g-1 s-2\n",
    "Msun    = 1.9884e33   * gram\n",
    "#mm      = mu*mp\n",
    "\n",
    "ppc = 3.0856776e18\n",
    "\n",
    "# -------------------------------------------------------------\n",
    "#              Create a lot of new derived fields\n",
    "# -------------------------------------------------------------\n",
    "\n",
    "# Create a derived field.\n",
    "# Hydrogen number density\n",
    "def numdensH(field, data): \n",
    "    nH = data[\"dens\"]*(data[\"ihp \"]+data[\"iha \"]+data[\"ih2 \"])/(1.4*mH)\n",
    "    return nH\n",
    "\n",
    "# Molecular Hydrogen number density\n",
    "def numdensH2(field, data): \n",
    "    nH2 = data[\"dens\"]*(data[\"ih2 \"])/(1.4*mH)\n",
    "    return nH2\n",
    "\n",
    "# Carbon number density\n",
    "def numdensC(field, data): \n",
    "    nC = data[\"dens\"]*(data[\"icp \"]+data[\"ico \"])/(1.4*mC)\n",
    "    return nC\n",
    "\n",
    "# electron number density\n",
    "def numdense(field, data): \n",
    "    ne = data[\"dens\"]*(data[\"ihp \"]/(1.4*mH) + data[\"icp \"]/(1.4*mC))\n",
    "    return ne\n",
    "\n",
    "# Ionized hydrogen fraction\n",
    "def xHp(field, data): \n",
    "    nH  = data[\"dens\"]*(data[\"ihp \"]+data[\"iha \"]+data[\"ih2 \"])/(1.4*mH)\n",
    "    xHp = data[\"dens\"]*data[\"ihp \"]/(1.4*mH)\n",
    "    xHp = xHp / nH\n",
    "    return xHp\n",
    "\n",
    "# Molecular hydrogen fraction\n",
    "def xH2(field, data): \n",
    "    nH  = data[\"dens\"]*(data[\"ihp \"]+data[\"iha \"]+data[\"ih2 \"])/(1.4*mH)\n",
    "    xH2 = data[\"dens\"]*data[\"ih2 \"]/(1.4*mH)\n",
    "    xH2 = xH2 / nH\n",
    "    return xH2\n",
    "\n",
    "# Ionized carbon fraction\n",
    "def xCp(field, data): \n",
    "    nC  = data[\"dens\"]*(data[\"icp \"]+data[\"ico \"])/(1.4*mC)\n",
    "    xCp = data[\"dens\"]*data[\"icp \"]/(1.4*mC) / nC\n",
    "    return xCp\n",
    "\n",
    "# electron fraction\n",
    "def xe(field, data): \n",
    "    nH = data[\"dens\"]*(data[\"ihp \"]+data[\"iha \"]+data[\"ih2 \"])/(1.4*mH)\n",
    "    nC = data[\"dens\"]*(data[\"icp \"]+data[\"ico \"])/(1.4*mC)\n",
    "    ne = data[\"dens\"]*(data[\"ihp \"]/(1.4*mH) + data[\"icp \"]/(1.4*mC))\n",
    "    xe = ne / (nH + nC)\n",
    "    return xe\n",
    "\n",
    "# electron fraction\n",
    "#def GG(field, data): \n",
    "#    G = fz.get_G(data[\"cdto\"], 1.68)\n",
    "#    return G\n",
    "\n",
    "\n",
    "yt.add_field('nH', function=numdensH,  units=\"1/cm**3\", force_override=True)\n",
    "yt.add_field('nH2',function=numdensH2, units=\"1/cm**3\", force_override=True)\n",
    "yt.add_field('nC', function=numdensC,  units=\"1/cm**3\", force_override=True)\n",
    "yt.add_field('ne', function=numdense,  units=\"1/cm**3\", force_override=True)\n",
    "yt.add_field('xHp', function=xHp,      units=\"dimensionless\", force_override=True)\n",
    "yt.add_field('xH2', function=xH2,      units=\"dimensionless\", force_override=True)\n",
    "yt.add_field('xCp', function=xCp,      units=\"dimensionless\", force_override=True)\n",
    "yt.add_field('xe', function=xe,        units=\"dimensionless\", force_override=True)\n",
    "#yt.add_field('G',  function=GG,        units=\"dimensionless\", force_override=True)\n",
    "\n",
    "fzMPI.print_to_logfile(\"Initializing clock.\")\n",
    "\n",
    "# Input variables.\n",
    "#data_dir   = \"/home/jcibanezm/codes/run/Silcc/CF_Prabesh\"\n",
    "data_dir   = \"/Users/juan/codes/run/Silcc/CF_Prabesh\"\n",
    "filename   = data_dir + \"/NL99_R8_cf_hdf5_chk_0028\"\n",
    "\n",
    "pf = yt.load(\"%s\"%(filename))\n",
    "\n",
    "c  = [0,0,0]\n",
    "le = [-4.93696000e+19, -4.93696000e+19, -4.93696000e+19]\n",
    "re = [ 4.93696000e+19,  4.93696000e+19,  4.93696000e+19]\n",
    "\n",
    "box = pf.box(le, re)\n",
    "\n",
    "min_dens = np.min(box[\"density\"])\n",
    "max_dens = np.max(box[\"density\"])\n",
    "\n",
    "min_nh   = np.min(box[\"nH\"])\n",
    "max_nh   = np.max(box[\"nH\"])\n",
    "\n",
    "min_temp = np.min(box[\"temperature\"])\n",
    "max_temp = np.max(box[\"temperature\"])\n",
    "\n",
    "min_ne = np.min(box[\"ne\"])\n",
    "max_ne = np.max(box[\"ne\"])\n",
    "\n",
    "min_xe = np.min(box[\"xe\"])\n",
    "max_xe = np.max(box[\"xe\"])\n",
    "\n",
    "min_Av = np.min(box[\"cdto\"])\n",
    "max_Av = np.max(box[\"cdto\"])"
   ]
  },
  {
   "cell_type": "code",
   "execution_count": 19,
   "metadata": {},
   "outputs": [],
   "source": [
    "wnm = ((box[\"temperature\"].in_units(\"K\") > 6.0e3)&(box[\"temperature\"].in_units(\"K\") < 1.0e4)&(box[\"iha \"] > 0.6)&(box[\"nH\"] >= 0.75))\n",
    "cnm = ((box[\"temperature\"].in_units(\"K\") > 50)   &(box[\"temperature\"].in_units(\"K\") < 70)   &(box[\"iha \"] > 0.6))\n",
    "cmm = ((box[\"temperature\"].in_units(\"K\") < 50)   &(box[\"ih2 \"] > 0.6) &(box[\"nH\"] <1.0e5))\n",
    "\n",
    "wnmtrue = np.argwhere(wnm==True)\n",
    "cnmtrue = np.argwhere(cnm==True)\n",
    "cmmtrue = np.argwhere(cmm==True)\n",
    "\n",
    "wnmindex = wnmtrue[0]\n",
    "#wnmindex = [3626974]\n",
    "cnmindex = cnmtrue[0]\n",
    "#cmmindex = cmmtrue[3626974]\n",
    "cmmindex = [3479445]\n",
    "\n",
    "grain_type = \"carbonaceous\"\n",
    "#grain_type = \"silicate\"\n",
    "#grain_size = [7.5, 25, 75, 250, 750, 2500]\n",
    "grain_size = [2500]\n",
    "\n",
    "G0         = 1.7\n",
    "\n",
    "#Qabs7    = fz.get_QabsTable(grain_type, 7.5 )\n",
    "#Qabs25    = fz.get_QabsTable(grain_type, 25 )\n",
    "#Qabs75    = fz.get_QabsTable(grain_type, 75)\n",
    "#Qabs250   = fz.get_QabsTable(grain_type, 250)\n",
    "#Qabs750   = fz.get_QabsTable(grain_type, 750 )\n",
    "#Qabs2500  = fz.get_QabsTable(grain_type, 2500)\n",
    "\n",
    "#Qabs = [Qabs7, Qabs25,Qabs75,Qabs250,Qabs750,Qabs2500]\n",
    "\n",
    "Qabs  = fz.get_QabsTable(grain_type, 2500, dirtables=\"/Users/juan/codes/dustanalysis/Charge/Tables\")\n"
   ]
  },
  {
   "cell_type": "code",
   "execution_count": 20,
   "metadata": {},
   "outputs": [],
   "source": [
    "indexarr = np.array([wnmindex, cnmindex, cmmindex])\n",
    "\n",
    "temp= np.array( box[\"temp\"][indexarr])\n",
    "dd  = np.array( box[\"dens\"][indexarr])\n",
    "nH  = np.array( box[\"nH\"]  [indexarr])\n",
    "nH2 = np.array( box[\"nH2\"]  [indexarr])\n",
    "nC  = np.array( box[\"nC\"]  [indexarr])\n",
    "ne  = np.array( box[\"ne\"]  [indexarr])\n",
    "xe  = np.array( box[\"xe\"]  [indexarr])\n",
    "xHp = np.array( box[\"xHp\"]  [indexarr])\n",
    "xH2 = np.array( box[\"xH2\"]  [indexarr])\n",
    "xCp = np.array( box[\"xCp\"]  [indexarr])\n",
    "Av  = np.array( box[\"cdto\"][indexarr])\n",
    "fH2shield  = np.array( box[\"cdh2\"][indexarr])\n",
    "\n",
    "Ntot =  Av * 1.87e21"
   ]
  },
  {
   "cell_type": "code",
   "execution_count": 21,
   "metadata": {},
   "outputs": [],
   "source": [
    "NH2 = np.zeros(3)\n",
    "for i in range(3):\n",
    "    NH2[i] = fz.get_NH2(fH2shield[i], temp[i])"
   ]
  },
  {
   "cell_type": "code",
   "execution_count": 22,
   "metadata": {},
   "outputs": [],
   "source": [
    "ii = 0\n",
    "\n",
    "zeta                   = fz.get_zeta(NH2[ii])\n",
    "new_zmin, new_zmax     = fz.get_new_zmin_zmax([nH[ii], nC[ii]], [xHp[ii], xCp[ii]], temp[ii], grain_size[0], Ntot[ii], grain_type, Qabs, zeta, G0=G0, includeCR=True)    "
   ]
  },
  {
   "cell_type": "code",
   "execution_count": 23,
   "metadata": {},
   "outputs": [
    {
     "name": "stdout",
     "output_type": "stream",
     "text": [
      "--------- DONE -----------\n",
      "(499, 679)\n"
     ]
    }
   ],
   "source": [
    "print(\"--------- DONE -----------\")\n",
    "print(new_zmin, new_zmax)"
   ]
  },
  {
   "cell_type": "code",
   "execution_count": 24,
   "metadata": {},
   "outputs": [],
   "source": [
    "ii = 0\n",
    "\n",
    "zeta = fz.get_zeta(NH2[ii])\n",
    "\n",
    "############################################################################################\n",
    "# Run the charge distribution calculation!!!\n",
    "Jpe, Je, Jh, Jc, ZZall = fz.compute_currents ([nH[ii], nC[ii]], [xHp[ii], xCp[ii]], xH2[ii], temp[ii], zeta, grain_size[0], Ntot[ii], grain_type, Qabs, G0=G0, zmin=new_zmin, zmax=new_zmax)\n",
    "JCRe, JCRpe, ZZnew     = fz.compute_CR_currents(nH[ii], zeta, grain_size[0], grain_type, Qabs, zmin=new_zmin, zmax=new_zmax)\n",
    "\n",
    "#zeq                    = fz.get_zeq_vec      (Jpe, Je, Jh, Jc, ZZall, grain_size[kk], grain_type)\n",
    "#new_zmin, new_zmax     = fz.get_new_zmin_zmax([nH[ii], nC[ii]], [xHp[ii], xCp[ii]], temp[ii], grain_size[kk], Ntot[ii], grain_type, Qabs[kk], zeta, zeq=zeq, G0=G0, includeCR=True)    \n",
    "#new_zmin, new_zmax     = int(fz.get_Zmin(grain_size[ii], grain_type[ii])), int(fz.get_Zmax(grain_size[ii], grain_type[ii]))       \n",
    "        \n",
    "#fz, ZZ                = fz.vector_fz        (Jpe, Je, Jh, Jc, JCRe, JCRpe, ZZall, new_zmin, new_zmax, includeCR=False)\n"
   ]
  },
  {
   "cell_type": "code",
   "execution_count": 39,
   "metadata": {},
   "outputs": [
    {
     "name": "stdout",
     "output_type": "stream",
     "text": [
      "0.0\n",
      "0.00422556434822\n"
     ]
    }
   ],
   "source": [
    "print(np.min(Jpe))\n",
    "print(np.max(Jpe))"
   ]
  },
  {
   "cell_type": "code",
   "execution_count": 38,
   "metadata": {},
   "outputs": [
    {
     "name": "stdout",
     "output_type": "stream",
     "text": [
      "[ 0.00422556  0.00421635  0.00420714 ...,  0.          0.          0.        ]\n"
     ]
    }
   ],
   "source": [
    "print(Jpe)"
   ]
  },
  {
   "cell_type": "code",
   "execution_count": 40,
   "metadata": {},
   "outputs": [
    {
     "ename": "IndexError",
     "evalue": "index 0 is out of bounds for axis 0 with size 0",
     "output_type": "error",
     "traceback": [
      "\u001b[0;31m---------------------------------------------------------------------------\u001b[0m",
      "\u001b[0;31mIndexError\u001b[0m                                Traceback (most recent call last)",
      "\u001b[0;32m<ipython-input-40-866cb7418669>\u001b[0m in \u001b[0;36m<module>\u001b[0;34m()\u001b[0m\n\u001b[0;32m----> 1\u001b[0;31m \u001b[0mffz\u001b[0m\u001b[0;34m,\u001b[0m \u001b[0mZZ\u001b[0m              \u001b[0;34m=\u001b[0m \u001b[0mfz\u001b[0m\u001b[0;34m.\u001b[0m\u001b[0mvector_fz\u001b[0m        \u001b[0;34m(\u001b[0m\u001b[0mJpe\u001b[0m\u001b[0;34m,\u001b[0m \u001b[0mJe\u001b[0m\u001b[0;34m,\u001b[0m \u001b[0mJh\u001b[0m\u001b[0;34m,\u001b[0m \u001b[0mJc\u001b[0m\u001b[0;34m,\u001b[0m \u001b[0mJCRe\u001b[0m\u001b[0;34m,\u001b[0m \u001b[0mJCRpe\u001b[0m\u001b[0;34m,\u001b[0m \u001b[0mZZall\u001b[0m\u001b[0;34m,\u001b[0m \u001b[0mnew_zmin\u001b[0m\u001b[0;34m,\u001b[0m \u001b[0mnew_zmax\u001b[0m\u001b[0;34m,\u001b[0m \u001b[0mincludeCR\u001b[0m\u001b[0;34m=\u001b[0m\u001b[0mTrue\u001b[0m\u001b[0;34m)\u001b[0m\u001b[0;34m\u001b[0m\u001b[0m\n\u001b[0m",
      "\u001b[0;32m/Users/juan/codes/DustCharge/compute_charge_dist.py\u001b[0m in \u001b[0;36mvector_fz\u001b[0;34m(Jpe, Je, Jh, Jc, JCRe, JCRpe, ZZ, zmin, zmax, includeCR)\u001b[0m\n\u001b[1;32m   1946\u001b[0m         \u001b[0;31m#zhere     = ZZ[i]\u001b[0m\u001b[0;34m\u001b[0m\u001b[0;34m\u001b[0m\u001b[0m\n\u001b[1;32m   1947\u001b[0m         \u001b[0mzhere\u001b[0m     \u001b[0;34m=\u001b[0m \u001b[0mzmin\u001b[0m \u001b[0;34m+\u001b[0m \u001b[0mi\u001b[0m\u001b[0;34m\u001b[0m\u001b[0m\n\u001b[0;32m-> 1948\u001b[0;31m         \u001b[0mfhere\u001b[0m     \u001b[0;34m=\u001b[0m \u001b[0mfhere_vec\u001b[0m\u001b[0;34m(\u001b[0m\u001b[0mJpe\u001b[0m\u001b[0;34m,\u001b[0m \u001b[0mJe\u001b[0m\u001b[0;34m,\u001b[0m \u001b[0mJh\u001b[0m\u001b[0;34m,\u001b[0m \u001b[0mJc\u001b[0m\u001b[0;34m,\u001b[0m \u001b[0mJCRe\u001b[0m\u001b[0;34m,\u001b[0m \u001b[0mJCRpe\u001b[0m\u001b[0;34m,\u001b[0m \u001b[0mZZ\u001b[0m\u001b[0;34m,\u001b[0m \u001b[0mzhere\u001b[0m\u001b[0;34m,\u001b[0m \u001b[0mincludeCR\u001b[0m\u001b[0;34m=\u001b[0m\u001b[0mincludeCR\u001b[0m\u001b[0;34m)\u001b[0m\u001b[0;34m\u001b[0m\u001b[0m\n\u001b[0m\u001b[1;32m   1949\u001b[0m         \u001b[0mfz\u001b[0m\u001b[0;34m[\u001b[0m\u001b[0mi\u001b[0m\u001b[0;34m]\u001b[0m     \u001b[0;34m=\u001b[0m \u001b[0mfhere\u001b[0m\u001b[0;34m\u001b[0m\u001b[0m\n\u001b[1;32m   1950\u001b[0m         \u001b[0mnewZZ\u001b[0m\u001b[0;34m[\u001b[0m\u001b[0mi\u001b[0m\u001b[0;34m]\u001b[0m  \u001b[0;34m=\u001b[0m \u001b[0mzhere\u001b[0m\u001b[0;34m\u001b[0m\u001b[0m\n",
      "\u001b[0;32m/Users/juan/codes/DustCharge/compute_charge_dist.py\u001b[0m in \u001b[0;36mfhere_vec\u001b[0;34m(Jpe, Je, Jh, Jc, JCRe, JCRpe, ZZ, zhere, includeCR)\u001b[0m\n\u001b[1;32m   1599\u001b[0m         \u001b[0mfz\u001b[0m \u001b[0;34m=\u001b[0m \u001b[0mfz0\u001b[0m\u001b[0;34m\u001b[0m\u001b[0m\n\u001b[1;32m   1600\u001b[0m     \u001b[0;32melif\u001b[0m \u001b[0mzhere\u001b[0m \u001b[0;34m>\u001b[0m \u001b[0;36m0\u001b[0m \u001b[0;32mand\u001b[0m \u001b[0mzhere\u001b[0m \u001b[0;34m<=\u001b[0m \u001b[0mnp\u001b[0m\u001b[0;34m.\u001b[0m\u001b[0mmax\u001b[0m\u001b[0;34m(\u001b[0m\u001b[0mZZ\u001b[0m\u001b[0;34m)\u001b[0m\u001b[0;34m:\u001b[0m\u001b[0;34m\u001b[0m\u001b[0m\n\u001b[0;32m-> 1601\u001b[0;31m         \u001b[0mi00\u001b[0m   \u001b[0;34m=\u001b[0m \u001b[0mnp\u001b[0m\u001b[0;34m.\u001b[0m\u001b[0margwhere\u001b[0m\u001b[0;34m(\u001b[0m\u001b[0mZZ\u001b[0m \u001b[0;34m==\u001b[0m \u001b[0;36m0\u001b[0m\u001b[0;34m)\u001b[0m\u001b[0;34m[\u001b[0m\u001b[0;36m0\u001b[0m\u001b[0;34m]\u001b[0m\u001b[0;34m[\u001b[0m\u001b[0;36m0\u001b[0m\u001b[0;34m]\u001b[0m      \u001b[0;31m# find the index of ZZ == 0\u001b[0m\u001b[0;34m\u001b[0m\u001b[0m\n\u001b[0m\u001b[1;32m   1602\u001b[0m         \u001b[0mihere\u001b[0m \u001b[0;34m=\u001b[0m \u001b[0mnp\u001b[0m\u001b[0;34m.\u001b[0m\u001b[0margwhere\u001b[0m\u001b[0;34m(\u001b[0m\u001b[0mZZ\u001b[0m \u001b[0;34m==\u001b[0m \u001b[0mzhere\u001b[0m\u001b[0;34m)\u001b[0m\u001b[0;34m[\u001b[0m\u001b[0;36m0\u001b[0m\u001b[0;34m]\u001b[0m\u001b[0;34m[\u001b[0m\u001b[0;36m0\u001b[0m\u001b[0;34m]\u001b[0m  \u001b[0;31m# find the index of zhere.\u001b[0m\u001b[0;34m\u001b[0m\u001b[0m\n\u001b[1;32m   1603\u001b[0m \u001b[0;34m\u001b[0m\u001b[0m\n",
      "\u001b[0;31mIndexError\u001b[0m: index 0 is out of bounds for axis 0 with size 0"
     ]
    }
   ],
   "source": [
    "ffz, ZZ              = fz.vector_fz        (Jpe, Je, Jh, Jc, JCRe, JCRpe, ZZall, new_zmin, new_zmax, includeCR=True)"
   ]
  },
  {
   "cell_type": "code",
   "execution_count": 55,
   "metadata": {},
   "outputs": [],
   "source": [
    "def vector_fz(Jpe, Je, Jh, Jc, JCRe, JCRpe, ZZ, zmin, zmax, includeCR=False):\n",
    "    \"\"\"\n",
    "    Compute the distribution function of grain charges given the currents.\n",
    "    \"\"\"\n",
    "    import numpy as np\n",
    "\n",
    "    #zitts = len(ZZ)\n",
    "    zitts = int(zmax - zmin + 1 )\n",
    "    fz     = np.zeros(zitts)\n",
    "    newZZ  = np.zeros(zitts)\n",
    "\n",
    "    # I could do the loop here over the reduced version of zmin and zmax.\n",
    "    # But have the currents and charge array for longer values.\n",
    "\n",
    "    for i in range(zitts):\n",
    "        #zhere     = ZZ[i]\n",
    "        zhere     = int(zmin + i)\n",
    "        #print(Jpe, Je, Jh, Jc, JCRe, JCRpe, ZZ, zhere, includeCR)\n",
    "        fhere     = fhere_vec(Jpe, Je, Jh, Jc, JCRe, JCRpe, ZZ, zhere, includeCR=includeCR)\n",
    "        fz[i]     = fhere\n",
    "        newZZ[i]  = zhere\n",
    "        #f0        = f0 + fhere\n",
    "\n",
    "    f0 = np.sum(fz)\n",
    "    fz = fz/f0\n",
    "\n",
    "    return fz, newZZ\n",
    "\n",
    "def fhere_vec(Jpe, Je, Jh, Jc, JCRe, JCRpe, ZZ, zhere, includeCR=False):\n",
    "    \"\"\"\n",
    "    Compute the distribution function given the currents.\n",
    "    \"\"\"\n",
    "    import math\n",
    "    import numpy as np\n",
    "\n",
    "    fz0 = 1.0\n",
    "\n",
    "    if zhere ==0 or zhere > np.max(ZZ) or zhere < np.min(ZZ):\n",
    "        fz = fz0\n",
    "    elif zhere > 0 and zhere <= np.max(ZZ):\n",
    "        if 0 in ZZ:\n",
    "            i00   = np.argwhere(ZZ == 0)[0][0]      # find the index of ZZ == 0\n",
    "        else:\n",
    "            i00 = 0\n",
    "        ihere = np.argwhere(ZZ == zhere)[0][0]  # find the index of zhere.\n",
    "\n",
    "        nbins = ihere - i00\n",
    "        #print(\"ihere = \", ihere, \"i00 = \", i00)\n",
    "        #print(\"Number of bins = \", nbins)\n",
    "        #print(ZZ)\n",
    "        Jup    = np.zeros(nbins)\n",
    "        Jdown  = np.zeros(nbins)\n",
    "\n",
    "        Jup[:]   = Jpe[i00:ihere-1+1]+Jh[i00:ihere-1+1]+Jc[i00:ihere-1+1]\n",
    "        Jdown[:] = Je[i00+1:ihere+1]\n",
    "\n",
    "        if includeCR == True:\n",
    "            Jup[:]   += JCRpe[i00:ihere-1+1]\n",
    "            Jdown[:] += JCRe[i00+1:ihere+1]\n",
    "\n",
    "        # Is there anywhere in Jdown == 0\n",
    "        if(0.0 in Jdown):\n",
    "            ihere = np.argwhere(Jdown==0)\n",
    "            print (\"!! Warning: Prod Je = 0. Dividing by 0 while computing fhere_vec (Z>0)\")\n",
    "            print (\"zhere = %i, Jdown=0 at index=\"%(zhere, ihere))\n",
    "            #exit()\n",
    "        if(0.0 in Jup):\n",
    "            print (\"!! Warning: Prod Jpe + Jion = 0 while computing f_here (Z>0)\")\n",
    "            ihere = np.argwhere(Jup==0)\n",
    "            print (\"zhere = %i, Jup=0 at index=\"%(zhere, ihere))\n",
    "\n",
    "        Jratio = np.prod(Jup / Jdown)\n",
    "        fz = fz0 * Jratio\n",
    "\n",
    "    elif zhere < 0 and zhere >= np.min(ZZ):\n",
    "        if 0 in ZZ:\n",
    "            i00   = np.argwhere(ZZ == 0)[0][0]      # find the index of ZZ == 0\n",
    "        else:\n",
    "            i00 = np.len(ZZ)-1 \n",
    "        ihere = np.argwhere(ZZ == zhere)[0][0]   # find the index of zhere.\n",
    "\n",
    "        #print(\"ihere and i00\", ihere, i00)\n",
    "        nbins = abs(ihere - i00)\n",
    "        #print(\"Number of bins = \", nbins)\n",
    "        Jup    = np.zeros(nbins)\n",
    "        Jdown  = np.zeros(nbins)\n",
    "\n",
    "        Jup[:]   = Jpe[ihere:i00-1+1]+Jh[ihere:i00-1+1]+Jc[ihere:i00-1+1]\n",
    "        Jdown[:] = Je[ihere+1:i00+1]\n",
    "\n",
    "        if includeCR == True:\n",
    "            Jup[:]   += JCRpe[ihere:i00-1+1]\n",
    "            Jdown[:] += JCRe[ihere+1:i00+1]\n",
    "\n",
    "\n",
    "        if(0.0 in Jup):\n",
    "            print (\"!! Warning: Prod Jpe + Jion = 0. Dividing by 0 while computing fhere_vecv (Z<0)\")\n",
    "            ihere = np.argwhere(Jup==0)\n",
    "            print (\"zhere = %i, Jup=0 at index=\"%(zhere, ihere))\n",
    "\n",
    "        if(0.0 in Jdown):\n",
    "            print (\"!! Warning: prod Je = 0 while computing f_here (Z<0)\")\n",
    "            ihere = np.argwhere(Jdown==0)\n",
    "            print (\"zhere = %i, Jdown=0 at index=\"%(zhere, ihere))\n",
    "\n",
    "        Jratio = np.prod(Jdown / Jup)\n",
    "        fz = fz0 * Jratio\n",
    "        #fz = fz0 * Jdown/Jup\n",
    "\n",
    "    return fz\n"
   ]
  },
  {
   "cell_type": "code",
   "execution_count": 58,
   "metadata": {},
   "outputs": [],
   "source": [
    "ffz, ZZ              = vector_fz        (Jpe, Je, Jh, Jc, JCRe, JCRpe, ZZall, new_zmin, new_zmax, includeCR=True)\n",
    "avg, std  = fz.weighted_avg_and_std(ZZ, ffz)"
   ]
  },
  {
   "cell_type": "code",
   "execution_count": 59,
   "metadata": {},
   "outputs": [
    {
     "name": "stdout",
     "output_type": "stream",
     "text": [
      "(590.82324968109015, 16.38339845510562)\n"
     ]
    }
   ],
   "source": [
    "print(avg, std)"
   ]
  },
  {
   "cell_type": "code",
   "execution_count": null,
   "metadata": {},
   "outputs": [
    {
     "name": "stdout",
     "output_type": "stream",
     "text": [
      "Running grain size 2500, phase CNM\n",
      "('Charge centroid = ', 97.399418503897181)\n",
      "('Charge width    = ', 9.959784563929908)\n",
      "Running grain size 2500, phase CMM\n"
     ]
    }
   ],
   "source": [
    "#zmean, zmode, zstd  =  np.zeros(15), np.zeros(15), np.zeros(15)\n",
    "zmean, zmode, zstd  =  np.zeros((3,6)), np.zeros((3,6)), np.zeros((3,6))\n",
    "zminmax = np.array(np.zeros(2*18))\n",
    "fdist   = []\n",
    "fdistCR   = []\n",
    "phase = [\"WNM\", \"CNM\", \"CMM\"]\n",
    "\n",
    "# loop over grain sizes\n",
    "for kk in range(1):\n",
    "    # loop over ISM phases.\n",
    "    for ii in range(2):\n",
    "        ii +=1\n",
    "        print(\"Running grain size %i, phase %s\"%(grain_size[kk], phase[ii]))\n",
    "        \n",
    "        zeta = fz.get_zeta(NH2[ii])\n",
    "\n",
    "        new_zmin, new_zmax     = fz.get_new_zmin_zmax([nH[ii], nC[ii]], [xHp[ii], xCp[ii]], temp[ii], grain_size[kk], Ntot[ii], grain_type, Qabs, zeta, G0=G0, includeCR=True)    \n",
    "        #new_zmin, new_zmax     = int(fz.get_Zmin(grain_size[ii], grain_type[ii])), int(fz.get_Zmax(grain_size[ii], grain_type[ii]))       \n",
    "\n",
    "        ############################################################################################\n",
    "        # Run the charge distribution calculation!!!\n",
    "        Jpe, Je, Jh, Jc, ZZall = fz.compute_currents ([nH[ii], nC[ii]], [xHp[ii], xCp[ii]], xH2[ii], temp[ii], zeta, grain_size[kk], Ntot[ii], grain_type, Qabs, G0=G0, zmin=new_zmin)\n",
    "        JCRe, JCRpe, ZZnew     = fz.compute_CR_currents(nH[ii], zeta, grain_size[kk], grain_type, Qabs, zmax=new_zmax)\n",
    "\n",
    "\n",
    "        \n",
    "        #fz, ZZ                = fz.vector_fz        (Jpe, Je, Jh, Jc, JCRe, JCRpe, ZZall, new_zmin, new_zmax, includeCR=False)\n",
    "        ffz, ZZ              = vector_fz        (Jpe, Je, Jh, Jc, JCRe, JCRpe, ZZall, new_zmin, new_zmax, includeCR=True)\n",
    "        #ffz, ZZ                = fz.vector_fz        (Jpe, Je, Jh, Jc, ZZall, new_zmin, new_zmax)\n",
    "\n",
    "        avg, std  = fz.weighted_avg_and_std(ZZ, ffz)\n",
    "    \n",
    "        print(\"Charge centroid = \", avg)\n",
    "        print(\"Charge width    = \", std)\n",
    "\n",
    "        #zmean[ii+kk*3] = avg\n",
    "        #zstd[ii+kk*3]  = std\n",
    "        zmean[ii, kk] =  avg\n",
    "        zstd[ii, kk]  =  std\n",
    "\n",
    "        #print(\"Zmin index = %i\"%(ii*2+  2*kk*3))\n",
    "        #print(\"zmin = %i\"%(new_zmin))\n",
    "        #print(\"Zmax index = %i\"%(ii*2+1+2*kk*3))\n",
    "        #print(\"zmax = %i\"%(new_zmax))\n",
    "\n",
    "\n",
    "        zminmax[ii*2+  2*kk*3]  = new_zmin\n",
    "        zminmax[ii*2+1+2*kk*3]  = new_zmax\n",
    "        \n",
    "        #print(zminmax)\n",
    "\n",
    "        #fdist[ii]   = offset + ii\n",
    "        for jj in range(len(ffz)):\n",
    "            fdist.append(ffz[jj])\n",
    "\n",
    "            \n",
    "        #print(ffz)\n",
    "        #print(ZZ)"
   ]
  },
  {
   "cell_type": "code",
   "execution_count": 28,
   "metadata": {
    "scrolled": true
   },
   "outputs": [
    {
     "name": "stdout",
     "output_type": "stream",
     "text": [
      "Running grain size 7, phase WNM\n",
      "('Charge centroid = ', 1.2470735044298003)\n",
      "('Charge width    = ', 0.9369614468804454)\n",
      "Running grain size 7, phase CNM\n",
      "('Charge centroid = ', 0.061710191712555901)\n",
      "('Charge width    = ', 0.5136463244624792)\n",
      "Running grain size 7, phase CMM\n",
      "('Charge centroid = ', -0.15343372406104103)\n",
      "('Charge width    = ', 0.4368645434455347)\n",
      "Running grain size 25, phase WNM\n",
      "('Charge centroid = ', 6.0891892172451358)\n",
      "('Charge width    = ', 1.745214747832063)\n",
      "Running grain size 25, phase CNM\n",
      "('Charge centroid = ', 0.68487962529701885)\n",
      "('Charge width    = ', 0.9325060948851696)\n",
      "Running grain size 25, phase CMM\n",
      "('Charge centroid = ', 0.026922688079715183)\n",
      "('Charge width    = ', 0.5430055518044505)\n",
      "Running grain size 75, phase WNM\n",
      "('Charge centroid = ', 24.706377721661916)\n",
      "('Charge width    = ', 2.735720699141401)\n",
      "Running grain size 75, phase CNM\n",
      "('Charge centroid = ', 4.7948168135984401)\n",
      "('Charge width    = ', 2.2389515688845667)\n",
      "Running grain size 75, phase CMM\n",
      "('Charge centroid = ', 0.8934093415017812)\n",
      "('Charge width    = ', 1.0483656121215983)\n",
      "Running grain size 250, phase WNM\n",
      "('Charge centroid = ', 81.817410891155504)\n",
      "('Charge width    = ', 4.685196301644939)\n",
      "Running grain size 250, phase CNM\n",
      "('Charge centroid = ', 19.787292119873928)\n",
      "('Charge width    = ', 4.309427656948801)\n",
      "Running grain size 250, phase CMM\n",
      "('Charge centroid = ', 2.7157724258620415)\n",
      "('Charge width    = ', 1.793058491488102)\n",
      "Running grain size 750, phase WNM\n"
     ]
    },
    {
     "name": "stderr",
     "output_type": "stream",
     "text": [
      "/home/jcibanezm/codes/libs/miniconda3/lib/python2.7/site-packages/scipy/integrate/quadpack.py:385: IntegrationWarning: The occurrence of roundoff error is detected, which prevents \n",
      "  the requested tolerance from being achieved.  The error may be \n",
      "  underestimated.\n",
      "  warnings.warn(msg, IntegrationWarning)\n"
     ]
    },
    {
     "name": "stdout",
     "output_type": "stream",
     "text": [
      "('Charge centroid = ', 205.07710786724792)\n",
      "('Charge width    = ', 8.45576871249105)\n",
      "Running grain size 750, phase CNM\n",
      "('Charge centroid = ', 38.59079640852471)\n",
      "('Charge width    = ', 6.210008666188962)\n",
      "Running grain size 750, phase CMM\n",
      "('Charge centroid = ', 4.3133945454418923)\n",
      "('Charge width    = ', 2.2611580346983082)\n",
      "Running grain size 2500, phase WNM\n"
     ]
    },
    {
     "ename": "ValueError",
     "evalue": "negative dimensions are not allowed",
     "output_type": "error",
     "traceback": [
      "\u001b[0;31m---------------------------------------------------------------------------\u001b[0m",
      "\u001b[0;31mValueError\u001b[0m                                Traceback (most recent call last)",
      "\u001b[0;32m<ipython-input-28-8abf4944acc6>\u001b[0m in \u001b[0;36m<module>\u001b[0;34m()\u001b[0m\n\u001b[1;32m     25\u001b[0m \u001b[0;34m\u001b[0m\u001b[0m\n\u001b[1;32m     26\u001b[0m         \u001b[0;31m#fz, ZZ                = fz.vector_fz        (Jpe, Je, Jh, Jc, JCRe, JCRpe, ZZall, new_zmin, new_zmax, includeCR=False)\u001b[0m\u001b[0;34m\u001b[0m\u001b[0;34m\u001b[0m\u001b[0m\n\u001b[0;32m---> 27\u001b[0;31m         \u001b[0mffz\u001b[0m\u001b[0;34m,\u001b[0m \u001b[0mZZ\u001b[0m              \u001b[0;34m=\u001b[0m \u001b[0mfz\u001b[0m\u001b[0;34m.\u001b[0m\u001b[0mvector_fz\u001b[0m        \u001b[0;34m(\u001b[0m\u001b[0mJpe\u001b[0m\u001b[0;34m,\u001b[0m \u001b[0mJe\u001b[0m\u001b[0;34m,\u001b[0m \u001b[0mJh\u001b[0m\u001b[0;34m,\u001b[0m \u001b[0mJc\u001b[0m\u001b[0;34m,\u001b[0m \u001b[0mJCRe\u001b[0m\u001b[0;34m,\u001b[0m \u001b[0mJCRpe\u001b[0m\u001b[0;34m,\u001b[0m \u001b[0mZZall\u001b[0m\u001b[0;34m,\u001b[0m \u001b[0mnew_zmin\u001b[0m\u001b[0;34m,\u001b[0m \u001b[0mnew_zmax\u001b[0m\u001b[0;34m,\u001b[0m \u001b[0mincludeCR\u001b[0m\u001b[0;34m=\u001b[0m\u001b[0mTrue\u001b[0m\u001b[0;34m)\u001b[0m\u001b[0;34m\u001b[0m\u001b[0m\n\u001b[0m\u001b[1;32m     28\u001b[0m         \u001b[0;31m#ffz, ZZ                = fz.vector_fz        (Jpe, Je, Jh, Jc, ZZall, new_zmin, new_zmax)\u001b[0m\u001b[0;34m\u001b[0m\u001b[0;34m\u001b[0m\u001b[0m\n\u001b[1;32m     29\u001b[0m \u001b[0;34m\u001b[0m\u001b[0m\n",
      "\u001b[0;32m/home/jcibanezm/codes/DustCharge/compute_charge_dist.pyc\u001b[0m in \u001b[0;36mvector_fz\u001b[0;34m(Jpe, Je, Jh, Jc, JCRe, JCRpe, ZZ, zmin, zmax, includeCR)\u001b[0m\n\u001b[1;32m   1935\u001b[0m     \u001b[0;31m#zitts = len(ZZ)\u001b[0m\u001b[0;34m\u001b[0m\u001b[0;34m\u001b[0m\u001b[0m\n\u001b[1;32m   1936\u001b[0m     \u001b[0mzitts\u001b[0m \u001b[0;34m=\u001b[0m \u001b[0mint\u001b[0m\u001b[0;34m(\u001b[0m\u001b[0mzmax\u001b[0m \u001b[0;34m-\u001b[0m \u001b[0mzmin\u001b[0m \u001b[0;34m+\u001b[0m \u001b[0;36m1\u001b[0m \u001b[0;34m)\u001b[0m\u001b[0;34m\u001b[0m\u001b[0m\n\u001b[0;32m-> 1937\u001b[0;31m     \u001b[0mfz\u001b[0m     \u001b[0;34m=\u001b[0m \u001b[0mnp\u001b[0m\u001b[0;34m.\u001b[0m\u001b[0mzeros\u001b[0m\u001b[0;34m(\u001b[0m\u001b[0mzitts\u001b[0m\u001b[0;34m,\u001b[0m \u001b[0mdtype\u001b[0m\u001b[0;34m=\u001b[0m\u001b[0mnp\u001b[0m\u001b[0;34m.\u001b[0m\u001b[0mfloat\u001b[0m\u001b[0;34m)\u001b[0m\u001b[0;34m\u001b[0m\u001b[0m\n\u001b[0m\u001b[1;32m   1938\u001b[0m     \u001b[0mnewZZ\u001b[0m  \u001b[0;34m=\u001b[0m \u001b[0mnp\u001b[0m\u001b[0;34m.\u001b[0m\u001b[0mzeros\u001b[0m\u001b[0;34m(\u001b[0m\u001b[0mzitts\u001b[0m\u001b[0;34m,\u001b[0m \u001b[0mdtype\u001b[0m\u001b[0;34m=\u001b[0m\u001b[0mnp\u001b[0m\u001b[0;34m.\u001b[0m\u001b[0mint\u001b[0m\u001b[0;34m)\u001b[0m\u001b[0;34m\u001b[0m\u001b[0m\n\u001b[1;32m   1939\u001b[0m \u001b[0;34m\u001b[0m\u001b[0m\n",
      "\u001b[0;31mValueError\u001b[0m: negative dimensions are not allowed"
     ]
    }
   ],
   "source": [
    "#zmean, zmode, zstd  =  np.zeros(15), np.zeros(15), np.zeros(15)\n",
    "zmean, zmode, zstd  =  np.zeros((3,6)), np.zeros((3,6)), np.zeros((3,6))\n",
    "zminmax = np.array(np.zeros(2*18))\n",
    "fdist   = []\n",
    "fdistCR   = []\n",
    "phase = [\"WNM\", \"CNM\", \"CMM\"]\n",
    "\n",
    "# loop over grain sizes\n",
    "for kk in range(6):\n",
    "    # loop over ISM phases.\n",
    "    for ii in range(3):\n",
    "        \n",
    "        print(\"Running grain size %i, phase %s\"%(grain_size[kk], phase[ii]))\n",
    "        \n",
    "        zeta = fz.get_zeta(NH2[ii])\n",
    "\n",
    "        ############################################################################################\n",
    "        # Run the charge distribution calculation!!!\n",
    "        Jpe, Je, Jh, Jc, ZZall = fz.compute_currents ([nH[ii], nC[ii]], [xHp[ii], xCp[ii]], xH2[ii], temp[ii], zeta, grain_size[kk], Ntot[ii], grain_type, Qabs[kk], G0=G0)\n",
    "        JCRe, JCRpe, ZZnew     = fz.compute_CR_currents(nH[ii], zeta, grain_size[kk], grain_type, Qabs[kk])\n",
    "\n",
    "        zeq                    = fz.get_zeq_vec      (Jpe, Je, Jh, Jc, ZZall, grain_size[kk], grain_type)\n",
    "        new_zmin, new_zmax     = fz.get_new_zmin_zmax([nH[ii], nC[ii]], [xHp[ii], xCp[ii]], temp[ii], grain_size[kk], Ntot[ii], grain_type, Qabs[kk], zeta, zeq=zeq, G0=G0, includeCR=True)    \n",
    "        #new_zmin, new_zmax     = int(fz.get_Zmin(grain_size[ii], grain_type[ii])), int(fz.get_Zmax(grain_size[ii], grain_type[ii]))       \n",
    "        \n",
    "        #fz, ZZ                = fz.vector_fz        (Jpe, Je, Jh, Jc, JCRe, JCRpe, ZZall, new_zmin, new_zmax, includeCR=False)\n",
    "        ffz, ZZ              = fz.vector_fz        (Jpe, Je, Jh, Jc, JCRe, JCRpe, ZZall, new_zmin, new_zmax, includeCR=True)\n",
    "        #ffz, ZZ                = fz.vector_fz        (Jpe, Je, Jh, Jc, ZZall, new_zmin, new_zmax)\n",
    "\n",
    "        avg, std  = fz.weighted_avg_and_std(ZZ, ffz)\n",
    "    \n",
    "        print(\"Charge centroid = \", avg)\n",
    "        print(\"Charge width    = \", std)\n",
    "\n",
    "        #zmean[ii+kk*3] = avg\n",
    "        #zstd[ii+kk*3]  = std\n",
    "        zmean[ii, kk] =  avg\n",
    "        zstd[ii, kk]  =  std\n",
    "\n",
    "        #print(\"Zmin index = %i\"%(ii*2+  2*kk*3))\n",
    "        #print(\"zmin = %i\"%(new_zmin))\n",
    "        #print(\"Zmax index = %i\"%(ii*2+1+2*kk*3))\n",
    "        #print(\"zmax = %i\"%(new_zmax))\n",
    "\n",
    "\n",
    "        zminmax[ii*2+  2*kk*3]  = new_zmin\n",
    "        zminmax[ii*2+1+2*kk*3]  = new_zmax\n",
    "        \n",
    "        #print(zminmax)\n",
    "\n",
    "        #fdist[ii]   = offset + ii\n",
    "        for jj in range(len(ffz)):\n",
    "            fdist.append(ffz[jj])\n",
    "\n",
    "            \n",
    "        #print(ffz)\n",
    "        #print(ZZ)"
   ]
  },
  {
   "cell_type": "markdown",
   "metadata": {},
   "source": [
    "Running grain size 7, phase WNM\n",
    "('Charge centroid = ', 1.2470735044298003)\n",
    "('Charge width    = ', 0.9369614468804454)\n",
    "Running grain size 7, phase CNM\n",
    "('Charge centroid = ', 0.061710191712555901)\n",
    "('Charge width    = ', 0.5136463244624792)\n",
    "Running grain size 7, phase CMM\n",
    "('Charge centroid = ', -0.15343372406104103)\n",
    "('Charge width    = ', 0.4368645434455347)\n",
    "Running grain size 25, phase WNM\n",
    "('Charge centroid = ', 6.0891892172451358)\n",
    "('Charge width    = ', 1.745214747832063)\n",
    "Running grain size 25, phase CNM\n",
    "('Charge centroid = ', 0.68487962529701885)\n",
    "('Charge width    = ', 0.9325060948851696)\n",
    "Running grain size 25, phase CMM\n",
    "('Charge centroid = ', 0.026922688079715183)\n",
    "('Charge width    = ', 0.5430055518044505)\n",
    "Running grain size 75, phase WNM\n",
    "('Charge centroid = ', 24.706377721661916)\n",
    "('Charge width    = ', 2.735720699141401)\n",
    "Running grain size 75, phase CNM\n",
    "('Charge centroid = ', 4.7948168135984401)\n",
    "('Charge width    = ', 2.2389515688845667)\n",
    "Running grain size 75, phase CMM\n",
    "('Charge centroid = ', 0.8934093415017812)\n",
    "('Charge width    = ', 1.0483656121215983)\n",
    "Running grain size 250, phase WNM\n",
    "('Charge centroid = ', 81.817410891155504)\n",
    "('Charge width    = ', 4.685196301644939)\n",
    "Running grain size 250, phase CNM\n",
    "('Charge centroid = ', 19.787292119873928)\n",
    "('Charge width    = ', 4.309427656948801)\n",
    "Running grain size 250, phase CMM\n",
    "('Charge centroid = ', 2.7157724258620415)\n",
    "('Charge width    = ', 1.793058491488102)\n",
    "Running grain size 750, phase WNM\n",
    "/home/jcibanezm/codes/libs/miniconda3/lib/python2.7/site-packages/scipy/integrate/quadpack.py:385: IntegrationWarning: The occurrence of roundoff error is detected, which prevents \n",
    "  the requested tolerance from being achieved.  The error may be \n",
    "  underestimated.\n",
    "  warnings.warn(msg, IntegrationWarning)\n",
    "('Charge centroid = ', 205.07710786724792)\n",
    "('Charge width    = ', 8.45576871249105)\n",
    "Running grain size 750, phase CNM\n",
    "('Charge centroid = ', 38.59079640852471)\n",
    "('Charge width    = ', 6.210008666188962)\n",
    "Running grain size 750, phase CMM\n",
    "('Charge centroid = ', 4.3133945454418923)\n",
    "('Charge width    = ', 2.2611580346983082)\n",
    "Grain 2500 in WNM\n",
    "    Centroid         Width\n",
    "(590.82324968109015, 16.38339845510562)"
   ]
  },
  {
   "cell_type": "code",
   "execution_count": null,
   "metadata": {},
   "outputs": [],
   "source": [
    "print(\"25 AA, warm, cold, molecular, 75 AA WNM, CNM, CMM\")\n",
    "print(zmean[0,:])"
   ]
  },
  {
   "cell_type": "code",
   "execution_count": null,
   "metadata": {
    "collapsed": true
   },
   "outputs": [],
   "source": [
    "Zdiff_CMM = zmean[2,:] - Zcent_CMM\n",
    "Zdiff_CNM = zmean[1,:] - Zcent_CNM\n",
    "Zdiff_WNM = zmean[0,:] - Zcent_WNM"
   ]
  },
  {
   "cell_type": "code",
   "execution_count": null,
   "metadata": {},
   "outputs": [],
   "source": [
    "print(Zdiff_CMM)"
   ]
  },
  {
   "cell_type": "code",
   "execution_count": null,
   "metadata": {},
   "outputs": [],
   "source": [
    "print(Zdiff_CNM)"
   ]
  },
  {
   "cell_type": "code",
   "execution_count": null,
   "metadata": {},
   "outputs": [],
   "source": [
    "print(Zdiff_WNM)"
   ]
  },
  {
   "cell_type": "code",
   "execution_count": null,
   "metadata": {},
   "outputs": [],
   "source": [
    "print(zmean[0,:])"
   ]
  },
  {
   "cell_type": "code",
   "execution_count": null,
   "metadata": {},
   "outputs": [],
   "source": [
    "fig = plt.figure(figsize=(7,5))\n",
    "\n",
    "ax = fig.add_axes([0.5, 0.5, 0.9, 0.9])\n",
    "\n",
    "ax.scatter(Test_sizes, np.abs(Zdiff_CMM), c='k')\n",
    "ax.scatter(Test_sizes, np.abs(Zdiff_CNM), c='b')\n",
    "ax.scatter(Test_sizes, np.abs(Zdiff_WNM), c='r')\n",
    "\n",
    "\n",
    "#ax.scatter(Test_sizes, Zcent_CNM, c=\"b\", marker=\"o\", linewidths=2)\n",
    "#ax.scatter(Test_sizes, Zcent_WNM, c=\"r\", marker=\"o\", linewidths=2)\n",
    "#ax.scatter(Test_sizes, abs(Zcent_CMM), c=\"k\", marker=\"*\", linewidths=2)\n",
    "\n",
    "ax.set_xscale(\"log\")\n",
    "ax.set_yscale(\"log\")\n",
    "\n",
    "ax.tick_params(axis='both', which='major', length=10, width=2,  labelsize=15, direction=\"in\")\n",
    "ax.tick_params(axis='both', which='minor', length=5, width=1.5, labelsize=15, direction=\"in\")\n",
    "\n",
    "#ax.set_xlabel(\"$a_{400}$ $(G\\\\sqrt{T} / n_{e})^{0.58}$ - $a_{57}$\", fontsize=15)\n",
    "ax.set_xlabel(\"size [$\\\\AA$]\", fontsize=15)\n",
    "ax.set_ylabel(\"$\\\\Delta \\\\langle Z \\\\rangle$\", fontsize=15)\n",
    "\n",
    "#ax.set_yscale(np.min(abs(Zcent_CMM)), np.max(Zcent_WNM))\n",
    "#ax.set_ylim(0.4, 800)\n",
    "\n",
    "fig.show()"
   ]
  },
  {
   "cell_type": "code",
   "execution_count": 131,
   "metadata": {},
   "outputs": [
    {
     "name": "stdout",
     "output_type": "stream",
     "text": [
      "[  3.48935940e-03   4.41627114e-01   5.90604909e+00   1.32652015e+01\n",
      "   3.51258071e+01   1.33905178e+02]\n"
     ]
    }
   ],
   "source": [
    "print(Zcent_CNM)"
   ]
  },
  {
   "cell_type": "code",
   "execution_count": 133,
   "metadata": {},
   "outputs": [
    {
     "name": "stdout",
     "output_type": "stream",
     "text": [
      "[  2.05809739e-02   5.59092058e-01   3.68970442e+00   1.61477676e+01\n",
      "   3.61868683e+01   9.23459864e+01]\n"
     ]
    }
   ],
   "source": [
    "print(zmean[1,:])"
   ]
  },
  {
   "cell_type": "code",
   "execution_count": 93,
   "metadata": {},
   "outputs": [
    {
     "name": "stdout",
     "output_type": "stream",
     "text": [
      "[7.5, 25, 75, 250, 750, 2500]\n"
     ]
    }
   ],
   "source": [
    "print(Test_sizes)"
   ]
  },
  {
   "cell_type": "code",
   "execution_count": 173,
   "metadata": {},
   "outputs": [
    {
     "data": {
      "image/png": "[encoded data removed]",
      "text/plain": [
       "<matplotlib.figure.Figure at 0x7faae8832690>"
      ]
     },
     "metadata": {},
     "output_type": "display_data"
    }
   ],
   "source": [
    "import matplotlib.patches as patches\n",
    "\n",
    "fig = plt.figure(figsize=(7,5))\n",
    "\n",
    "ax = fig.add_axes([0.17, 0.17, 0.82, 0.82])\n",
    "\n",
    "ax.plot(np.arange(-1, 750), np.arange(-1, 750), \"grey\", linestyle='dashed')\n",
    "\n",
    "markers = [\"^\", \"+\", \"x\", \"*\", \"o\", \"p\"]\n",
    "\n",
    "for i in range(len(markers)):\n",
    "    ax.scatter(np.abs(Zcent_CMM[i]), np.abs(zmean[2,i]), c='k', marker=markers[i], s=100)\n",
    "    ax.scatter(np.abs(Zcent_CNM[i]), np.abs(zmean[1,i]), c='b', marker=markers[i], s=100)\n",
    "    ax.scatter(np.abs(Zcent_WNM[i]), np.abs(zmean[0,i]), c='r', marker=markers[i], s=100)\n",
    "\n",
    "\n",
    "#ax.scatter(Test_sizes, Zcent_CNM, c=\"b\", marker=\"o\", linewidths=2)\n",
    "#ax.scatter(Test_sizes, Zcent_WNM, c=\"r\", marker=\"o\", linewidths=2)\n",
    "#ax.scatter(Test_sizes, abs(Zcent_CMM), c=\"k\", marker=\"*\", linewidths=2)\n",
    "\n",
    "ax.set_xscale(\"log\")\n",
    "ax.set_yscale(\"log\")\n",
    "\n",
    "ax.tick_params(axis='both', which='major', length=10, width=2,  labelsize=20, direction=\"in\")\n",
    "ax.tick_params(axis='both', which='minor', length=5, width=1.5, labelsize=20, direction=\"in\")\n",
    "\n",
    "#ax.set_xlabel(\"$a_{400}$ $(G\\\\sqrt{T} / n_{e})^{0.58}$ - $a_{57}$\", fontsize=15)\n",
    "ax.set_xlabel(\"$\\\\langle Z \\\\rangle_{\\mathrm{par}}$\", fontsize=25)\n",
    "ax.set_ylabel(\"$\\\\langle Z \\\\rangle_{\\mathrm{full}}$\", fontsize=25)\n",
    "\n",
    "marky = np.logspace(2.5, 1.0, 6, endpoint=True)\n",
    "phasey = np.logspace(2.5,1.8, 3, endpoint=True)\n",
    "\n",
    "for i in range(len(markers)):\n",
    "    ax.scatter(0.01, marky[i], c='grey', marker=markers[i], s=50)\n",
    "    if i ==0 :\n",
    "        ax.text   (0.012, marky[i]*0.85, \"%.1f $\\\\AA$\"%(Test_sizes[i]), fontsize=15)\n",
    "    else:\n",
    "        ax.text   (0.012, marky[i]*0.85, \"%.0f $\\\\AA$\"%(Test_sizes[i]), fontsize=15)\n",
    "        \n",
    "colors = [\"black\", \"blue\", \"red\"]\n",
    "phases = [\"CMM\", \"CNM\", \"WNM\"]\n",
    "\n",
    "for i in range(len(phasey)):\n",
    "    ax.scatter(0.06, phasey[i], s=50, c=colors[i])\n",
    "    ax.text(0.070, phasey[i]*0.8, phases[i], fontsize=15)\n",
    "\n",
    "rect = patches.Rectangle((0.008, 7), 0.22, 500, linewidth=1, edgecolor='k', facecolor='none')\n",
    "\n",
    "ax.add_patch(rect)\n",
    "\n",
    "#ax.set_yscale(np.min(abs(Zcent_CMM)), np.max(Zcent_WNM))\n",
    "ax.set_ylim(0.002, 900)\n",
    "ax.set_xlim(0.002, 900)\n",
    "\n",
    "fig.show()\n",
    "\n",
    "fig.savefig(\"/home/jcibanezm/Dropbox/Projects/Papers/In_Progress/ChargeDist_Dust/Figures/Figure8_Carbonaceous.pdf\", format=\"pdf\")"
   ]
  }
 ],
 "metadata": {
  "anaconda-cloud": {},
  "kernelspec": {
   "display_name": "Python 2",
   "language": "python",
   "name": "python2"
  },
  "language_info": {
   "codemirror_mode": {
    "name": "ipython",
    "version": 2
   },
   "file_extension": ".py",
   "mimetype": "text/x-python",
   "name": "python",
   "nbconvert_exporter": "python",
   "pygments_lexer": "ipython2",
   "version": "2.7.15"
  }
 },
 "nbformat": 4,
 "nbformat_minor": 2
}
